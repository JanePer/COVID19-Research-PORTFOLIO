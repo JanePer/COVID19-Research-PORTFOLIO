{
 "cells": [
  {
   "cell_type": "markdown",
   "metadata": {},
   "source": [
    "# Last general COVID-19 stats distributed by countries."
   ]
  },
  {
   "cell_type": "markdown",
   "metadata": {},
   "source": [
    "## Goal."
   ]
  },
  {
   "cell_type": "markdown",
   "metadata": {},
   "source": [
    "To find correlation between confirmed cases, deaths, and testing and other variables of potential interest based on daily-updated dataset from [this public source](https://github.com/owid/covid-19-data/tree/master/public/data)."
   ]
  },
  {
   "cell_type": "markdown",
   "metadata": {},
   "source": [
    "## Conclusions:\n",
    "- there is evident correlation between number of total tests, total cases and total deaths fields that is expectedly, the more are tests done in each country the more are confirmed cases and deaths.\n",
    "- but not all countries have stats about done testing, only 85 among 208 have non-null testing values. Based on the country distribution of available covid tests per million we can see that the most tests are made in Russia and USA that is logically becasue they have high number of poplation. We can say that New Zealand, Australia and Europe have high percent of made tests, when Asian countries number of tests are not enought comparing to their high average population (it may be due to lack of China testing data). Also South America and Africa countries have low number of done tests.\n",
    "- rich countries with high gross domestic product have the most covid testing and confirmed cases, they are mainly rich Europian, North America, Oceania and Asian countries. We can see that some countries with high gdp_per_capita have low tests confirmation density that is rather because of low testing level.\n",
    "- intresting here are Australia, New Zealand, Austria, Malta, Norway, Lithuania, Estonia, Latvia where testing level is above verage but confirmation density is low.\n",
    "- there is no relation between countries population density and covid confirmation level.\n",
    "- generally the higher is share of old population the higher is covid deaths level, but not all countries with old population have high covid death level, generally they are countries with low testing level, no tests - no cases - no deaths related with covid.\n",
    "- there are countries which have share of old population above average and high covid confirmation level but their deaths level is lower then average: Singapore, Belarus, Iceland, Israel, Puerto Rico, Serbia - this may indicate to good medicine level or another unnkown factors.\n",
    "- based on some of European countries with high testing level we can say that high share of female smoking may related with increaseing deaths attributed to COVID-19 but there is no enough testings to get accurate stats (about 65% of all countries with low covid deaths and high share of women who smoke have missing or low covid testing level).\n",
    "- countries with low covid deaths and high share of women who smoke which have high covid testing and confirmation level are the same who has also high share of old population: Belarus, Iceland, Israel, Serbia  - it may be useful to find out about their covid prevention policy.\n",
    "- cardiovascular disease are negatively correlated with total deaths attributed to COVID-19 but one again it can be related with lack or low covid testing level."
   ]
  },
  {
   "cell_type": "markdown",
   "metadata": {},
   "source": [
    "# [ETL] Reading data"
   ]
  },
  {
   "cell_type": "code",
   "execution_count": 1,
   "metadata": {},
   "outputs": [
    {
     "data": {
      "text/html": [
       "        <script type=\"text/javascript\">\n",
       "        window.PlotlyConfig = {MathJaxConfig: 'local'};\n",
       "        if (window.MathJax) {MathJax.Hub.Config({SVG: {font: \"STIX-Web\"}});}\n",
       "        if (typeof require !== 'undefined') {\n",
       "        require.undef(\"plotly\");\n",
       "        requirejs.config({\n",
       "            paths: {\n",
       "                'plotly': ['https://cdn.plot.ly/plotly-latest.min']\n",
       "            }\n",
       "        });\n",
       "        require(['plotly'], function(Plotly) {\n",
       "            window._Plotly = Plotly;\n",
       "        });\n",
       "        }\n",
       "        </script>\n",
       "        "
      ]
     },
     "metadata": {},
     "output_type": "display_data"
    },
    {
     "data": {
      "text/html": [
       "        <script type=\"text/javascript\">\n",
       "        window.PlotlyConfig = {MathJaxConfig: 'local'};\n",
       "        if (window.MathJax) {MathJax.Hub.Config({SVG: {font: \"STIX-Web\"}});}\n",
       "        if (typeof require !== 'undefined') {\n",
       "        require.undef(\"plotly\");\n",
       "        requirejs.config({\n",
       "            paths: {\n",
       "                'plotly': ['https://cdn.plot.ly/plotly-latest.min']\n",
       "            }\n",
       "        });\n",
       "        require(['plotly'], function(Plotly) {\n",
       "            window._Plotly = Plotly;\n",
       "        });\n",
       "        }\n",
       "        </script>\n",
       "        "
      ]
     },
     "metadata": {},
     "output_type": "display_data"
    },
    {
     "data": {
      "text/plain": [
       "(38427, 40)"
      ]
     },
     "execution_count": 1,
     "metadata": {},
     "output_type": "execute_result"
    }
   ],
   "source": [
    "import pandas as pd\n",
    "import numpy as np\n",
    "import matplotlib.pyplot as plt\n",
    "import seaborn as sns\n",
    "import warnings  # used here to surpress FutureWarning\n",
    "import plotly as py  # interactive plotting\n",
    "import plotly.graph_objs as go\n",
    "import cufflinks as cf  # interactive plotting made easy (pandas style)\n",
    "\n",
    "# Using plotly + cufflinks in offline mode\n",
    "from plotly.offline import iplot, init_notebook_mode\n",
    "cf.go_offline(connected=True)\n",
    "init_notebook_mode(connected=True)\n",
    "\n",
    "pd.set_option('display.max_rows', 50000)\n",
    "pd.set_option('display.max_columns', 500)\n",
    "pd.set_option('display.width', 1000)\n",
    "pd.options.display.max_colwidth = 100\n",
    "covid=pd.read_csv(\"owid-covid-data.csv\")\n",
    "covid.shape"
   ]
  },
  {
   "cell_type": "markdown",
   "metadata": {},
   "source": [
    "# [ETL] Condensing dataset to today's stats"
   ]
  },
  {
   "cell_type": "code",
   "execution_count": 2,
   "metadata": {},
   "outputs": [
    {
     "data": {
      "text/plain": [
       "(212, 2)"
      ]
     },
     "execution_count": 2,
     "metadata": {},
     "output_type": "execute_result"
    }
   ],
   "source": [
    "grouped = covid.groupby('location')\n",
    "covid_grouped=grouped[\"total_tests\", \"total_tests_per_thousand\"]\n",
    "covid_test_max=covid_grouped.max()\n",
    "covid_test_max.shape"
   ]
  },
  {
   "cell_type": "code",
   "execution_count": 3,
   "metadata": {},
   "outputs": [
    {
     "data": {
      "text/plain": [
       "(210, 40)"
      ]
     },
     "execution_count": 3,
     "metadata": {},
     "output_type": "execute_result"
    }
   ],
   "source": [
    "covid['date'] = pd.to_datetime(covid['date'])\n",
    "lastday=covid.loc[covid['date']==pd.Timestamp(\"today\").strftime(\"%Y-%m-%d\")]\n",
    "lastday.shape"
   ]
  },
  {
   "cell_type": "code",
   "execution_count": 4,
   "metadata": {},
   "outputs": [
    {
     "name": "stdout",
     "output_type": "stream",
     "text": [
      "<class 'pandas.core.frame.DataFrame'>\n",
      "Int64Index: 209 entries, 0 to 208\n",
      "Data columns (total 32 columns):\n",
      "iso_code                           209 non-null object\n",
      "continent                          208 non-null object\n",
      "location                           209 non-null object\n",
      "date                               209 non-null datetime64[ns]\n",
      "total_cases                        209 non-null float64\n",
      "new_cases                          209 non-null float64\n",
      "new_cases_smoothed                 209 non-null float64\n",
      "total_deaths                       209 non-null float64\n",
      "new_deaths                         209 non-null float64\n",
      "new_deaths_smoothed                209 non-null float64\n",
      "total_cases_per_million            209 non-null float64\n",
      "new_cases_per_million              209 non-null float64\n",
      "new_cases_smoothed_per_million     209 non-null float64\n",
      "total_deaths_per_million           209 non-null float64\n",
      "new_deaths_per_million             209 non-null float64\n",
      "new_deaths_smoothed_per_million    209 non-null float64\n",
      "population                         209 non-null float64\n",
      "population_density                 198 non-null float64\n",
      "median_age                         185 non-null float64\n",
      "aged_65_older                      182 non-null float64\n",
      "aged_70_older                      184 non-null float64\n",
      "gdp_per_capita                     182 non-null float64\n",
      "extreme_poverty                    121 non-null float64\n",
      "cardiovasc_death_rate              185 non-null float64\n",
      "diabetes_prevalence                192 non-null float64\n",
      "female_smokers                     140 non-null float64\n",
      "male_smokers                       138 non-null float64\n",
      "handwashing_facilities             92 non-null float64\n",
      "hospital_beds_per_thousand         164 non-null float64\n",
      "life_expectancy                    206 non-null float64\n",
      "total_tests                        88 non-null float64\n",
      "total_tests_per_thousand           88 non-null float64\n",
      "dtypes: datetime64[ns](1), float64(28), object(3)\n",
      "memory usage: 53.9+ KB\n"
     ]
    }
   ],
   "source": [
    "new_cols=lastday.columns[lastday.notnull().sum() > 30]\n",
    "survey=lastday[new_cols]\n",
    "survey.loc[survey['location']=='Russia', 'continent']='Russia'\n",
    "survey.loc[survey['location']=='United States', 'continent']='USA'\n",
    "survey=survey.drop(survey.index[-1])\n",
    "survey=pd.merge(left=survey, right=covid_test_max, on=\"location\")\n",
    "survey.info()"
   ]
  },
  {
   "cell_type": "markdown",
   "metadata": {},
   "source": [
    "# Find correlations"
   ]
  },
  {
   "cell_type": "code",
   "execution_count": 5,
   "metadata": {},
   "outputs": [],
   "source": [
    "correlations=survey.corr(method='pearson')"
   ]
  },
  {
   "cell_type": "code",
   "execution_count": 6,
   "metadata": {},
   "outputs": [
    {
     "data": {
      "image/png": "[encoded data removed]",
      "text/plain": [
       "<Figure size 1440x1008 with 1 Axes>"
      ]
     },
     "metadata": {
      "needs_background": "light"
     },
     "output_type": "display_data"
    }
   ],
   "source": [
    "def plot_correlations(df):\n",
    "    # create a triangular mask to avoid repeated values and make\n",
    "    # the plot easier to read\n",
    "    df = df.iloc[1:, :-1]\n",
    "    mask = np.triu(np.ones_like(df), k=1)\n",
    "    \n",
    "    # plot a heatmap of the values\n",
    "    plt.figure(figsize=(20,14))\n",
    "    ax = sns.heatmap(df, vmin=-1, vmax=1, cbar=False,\n",
    "                     cmap='RdBu', mask=mask, annot=True)\n",
    "    \n",
    "    # format the text in the plot to make it easier to read\n",
    "    for text in ax.texts:\n",
    "        t = float(text.get_text())\n",
    "        if -0.05 < t < 0.01:\n",
    "            text.set_text('')\n",
    "        else:\n",
    "            text.set_text(round(t, 2))\n",
    "        text.set_fontsize('x-large')\n",
    "    plt.xticks(rotation=90, size='x-large')\n",
    "    plt.yticks(rotation=0, size='x-large')\n",
    "\n",
    "    plt.show()\n",
    "\n",
    "plot_correlations(correlations)"
   ]
  },
  {
   "cell_type": "markdown",
   "metadata": {},
   "source": [
    "Our interesting are dependencies between fields attributed to covid cases, deaths and testing and other country indicator fields with positive correlation more than 0.3 and with negative correlation less than -0.3:\n",
    "- we can see evident correlation between number of total tests, total cases and total deaths fields that is expectedly, the more are tests done in each country the more are confirmed cases and deaths.\n",
    "- also we can notice more potential of rich countries of making more tests: 0.61 between gdp_per_capita and total_tests_per_thousand. The same positive correaltion is between gross domestic product and total_cases_per_million - 0.59. Related to the gross domestic product indicator is here share of the population living in extreme poverty - extreme_poverty, that shows some negative correlation with cases and testing.\n",
    "- some expectations are confirmed by positive correlation between share of the population that is 65-70 years and older and total_deaths_per_million\n",
    "- intresting can be weak positive correlation between share of women who smoke and deaths, as well as negative correlation between death rate from cardiovascular disease and covid deaths"
   ]
  },
  {
   "cell_type": "markdown",
   "metadata": {},
   "source": [
    "# Plotting total and per million people confirmed cases, deaths, and testing distributed by countries."
   ]
  },
  {
   "cell_type": "code",
   "execution_count": 7,
   "metadata": {},
   "outputs": [
    {
     "data": {
      "text/plain": [
       "(52, 3)"
      ]
     },
     "execution_count": 7,
     "metadata": {},
     "output_type": "execute_result"
    }
   ],
   "source": [
    "values=survey[['location', 'total_tests', 'total_cases', 'total_deaths']]\n",
    "values.set_index('location', inplace=True)\n",
    "name=survey['location']\n",
    "totals = pd.DataFrame(data=values,index=name)\n",
    "totals=totals.dropna(axis=0)\n",
    "totals=totals.sort_values(ascending=False, by='total_tests')\n",
    "totals=totals.loc[totals['total_tests']>1000000]\n",
    "totals.shape"
   ]
  },
  {
   "cell_type": "code",
   "execution_count": 8,
   "metadata": {},
   "outputs": [
    {
     "data": {
      "application/vnd.plotly.v1+json": {
       "config": {
        "linkText": "Export to plot.ly",
        "plotlyServerURL": "https://plot.ly",
        "showLink": true
       },
       "data": [
        {
         "marker": {
          "color": "rgba(255, 153, 51, 0.6)",
          "line": {
           "color": "rgba(255, 153, 51, 1.0)",
           "width": 1
          }
         },
         "name": "total_tests",
         "orientation": "v",
         "text": "",
         "type": "bar",
         "x": [
          "United States",
          "Russia",
          "India",
          "United Kingdom",
          "Germany",
          "United Arab Emirates",
          "Turkey",
          "Australia",
          "Canada",
          "Italy",
          "Saudi Arabia",
          "Brazil",
          "South Africa",
          "Iran",
          "Pakistan",
          "Poland",
          "Kazakhstan",
          "Colombia",
          "Chile",
          "Belgium",
          "Israel",
          "Denmark",
          "Indonesia",
          "Philippines",
          "Portugal",
          "South Korea",
          "Morocco",
          "Romania",
          "Japan",
          "Belarus",
          "Ukraine",
          "Iraq",
          "Bangladesh",
          "Netherlands",
          "Malaysia",
          "Mexico",
          "Austria",
          "Bahrain",
          "Switzerland",
          "Argentina",
          "Serbia",
          "Czech Republic",
          "Greece",
          "Ireland",
          "Singapore",
          "New Zealand",
          "Lithuania",
          "Kuwait",
          "Norway",
          "Qatar",
          "Nepal",
          "Finland"
         ],
         "y": [
          68944867,
          33509273,
          32661252,
          12272157,
          10197366,
          6193635,
          5969629,
          5440495,
          4925446,
          4551287,
          4439484,
          4152652,
          3455671,
          2939840,
          2363752,
          2333126,
          2291327,
          2246595,
          2087354,
          2049288,
          2021151,
          1990371,
          1969941,
          1948932,
          1799226,
          1699085,
          1670569,
          1591015,
          1526180,
          1384026,
          1356698,
          1345459,
          1341648,
          1312787,
          1141679,
          1124122,
          1061437,
          1000787,
          910283,
          882176,
          831677,
          812835,
          804282,
          735598,
          731313,
          657506,
          594478,
          573251,
          567646,
          566013,
          554388,
          517645
         ]
        },
        {
         "marker": {
          "color": "rgba(55, 128, 191, 0.6)",
          "line": {
           "color": "rgba(55, 128, 191, 1.0)",
           "width": 1
          }
         },
         "name": "total_cases",
         "orientation": "v",
         "text": "",
         "type": "bar",
         "x": [
          "United States",
          "Russia",
          "India",
          "United Kingdom",
          "Germany",
          "United Arab Emirates",
          "Turkey",
          "Australia",
          "Canada",
          "Italy",
          "Saudi Arabia",
          "Brazil",
          "South Africa",
          "Iran",
          "Pakistan",
          "Poland",
          "Kazakhstan",
          "Colombia",
          "Chile",
          "Belgium",
          "Israel",
          "Denmark",
          "Indonesia",
          "Philippines",
          "Portugal",
          "South Korea",
          "Morocco",
          "Romania",
          "Japan",
          "Belarus",
          "Ukraine",
          "Iraq",
          "Bangladesh",
          "Netherlands",
          "Malaysia",
          "Mexico",
          "Austria",
          "Bahrain",
          "Switzerland",
          "Argentina",
          "Serbia",
          "Czech Republic",
          "Greece",
          "Ireland",
          "Singapore",
          "New Zealand",
          "Lithuania",
          "Kuwait",
          "Norway",
          "Qatar",
          "Nepal",
          "Finland"
         ],
         "y": [
          5529842,
          937321,
          2836925,
          321098,
          228621,
          65341,
          253108,
          23993,
          123490,
          255278,
          302686,
          3456652,
          596060,
          347835,
          290958,
          58611,
          124356,
          502178,
          390037,
          79386,
          97969,
          15940,
          144945,
          173774,
          54701,
          16346,
          46313,
          73617,
          58501,
          69801,
          96403,
          188802,
          285091,
          64463,
          9235,
          537031,
          24300,
          47185,
          38662,
          305953,
          30048,
          20798,
          7684,
          27547,
          56031,
          1304,
          2496,
          78145,
          10111,
          115956,
          28938,
          7776
         ]
        },
        {
         "marker": {
          "color": "rgba(50, 171, 96, 0.6)",
          "line": {
           "color": "rgba(50, 171, 96, 1.0)",
           "width": 1
          }
         },
         "name": "total_deaths",
         "orientation": "v",
         "text": "",
         "type": "bar",
         "x": [
          "United States",
          "Russia",
          "India",
          "United Kingdom",
          "Germany",
          "United Arab Emirates",
          "Turkey",
          "Australia",
          "Canada",
          "Italy",
          "Saudi Arabia",
          "Brazil",
          "South Africa",
          "Iran",
          "Pakistan",
          "Poland",
          "Kazakhstan",
          "Colombia",
          "Chile",
          "Belgium",
          "Israel",
          "Denmark",
          "Indonesia",
          "Philippines",
          "Portugal",
          "South Korea",
          "Morocco",
          "Romania",
          "Japan",
          "Belarus",
          "Ukraine",
          "Iraq",
          "Bangladesh",
          "Netherlands",
          "Malaysia",
          "Mexico",
          "Austria",
          "Bahrain",
          "Switzerland",
          "Argentina",
          "Serbia",
          "Czech Republic",
          "Greece",
          "Ireland",
          "Singapore",
          "New Zealand",
          "Lithuania",
          "Kuwait",
          "Norway",
          "Qatar",
          "Nepal",
          "Finland"
         ],
         "y": [
          173177,
          15989,
          53866,
          41397,
          9253,
          367,
          6039,
          450,
          9049,
          35412,
          3506,
          111100,
          12423,
          19972,
          6209,
          1913,
          1652,
          15979,
          10578,
          9969,
          779,
          621,
          6346,
          2795,
          1786,
          307,
          743,
          3106,
          1144,
          622,
          2144,
          6121,
          3781,
          6172,
          125,
          58481,
          729,
          175,
          1718,
          6114,
          684,
          404,
          235,
          1775,
          27,
          22,
          81,
          507,
          262,
          193,
          120,
          334
         ]
        }
       ],
       "layout": {
        "barmode": "stack",
        "legend": {
         "bgcolor": "#F5F6F9",
         "font": {
          "color": "#4D5663"
         },
         "traceorder": "normal"
        },
        "paper_bgcolor": "#F5F6F9",
        "plot_bgcolor": "#F5F6F9",
        "template": {
         "data": {
          "bar": [
           {
            "error_x": {
             "color": "#2a3f5f"
            },
            "error_y": {
             "color": "#2a3f5f"
            },
            "marker": {
             "line": {
              "color": "#E5ECF6",
              "width": 0.5
             }
            },
            "type": "bar"
           }
          ],
          "barpolar": [
           {
            "marker": {
             "line": {
              "color": "#E5ECF6",
              "width": 0.5
             }
            },
            "type": "barpolar"
           }
          ],
          "carpet": [
           {
            "aaxis": {
             "endlinecolor": "#2a3f5f",
             "gridcolor": "white",
             "linecolor": "white",
             "minorgridcolor": "white",
             "startlinecolor": "#2a3f5f"
            },
            "baxis": {
             "endlinecolor": "#2a3f5f",
             "gridcolor": "white",
             "linecolor": "white",
             "minorgridcolor": "white",
             "startlinecolor": "#2a3f5f"
            },
            "type": "carpet"
           }
          ],
          "choropleth": [
           {
            "colorbar": {
             "outlinewidth": 0,
             "ticks": ""
            },
            "type": "choropleth"
           }
          ],
          "contour": [
           {
            "colorbar": {
             "outlinewidth": 0,
             "ticks": ""
            },
            "colorscale": [
             [
              0,
              "#0d0887"
             ],
             [
              0.1111111111111111,
              "#46039f"
             ],
             [
              0.2222222222222222,
              "#7201a8"
             ],
             [
              0.3333333333333333,
              "#9c179e"
             ],
             [
              0.4444444444444444,
              "#bd3786"
             ],
             [
              0.5555555555555556,
              "#d8576b"
             ],
             [
              0.6666666666666666,
              "#ed7953"
             ],
             [
              0.7777777777777778,
              "#fb9f3a"
             ],
             [
              0.8888888888888888,
              "#fdca26"
             ],
             [
              1,
              "#f0f921"
             ]
            ],
            "type": "contour"
           }
          ],
          "contourcarpet": [
           {
            "colorbar": {
             "outlinewidth": 0,
             "ticks": ""
            },
            "type": "contourcarpet"
           }
          ],
          "heatmap": [
           {
            "colorbar": {
             "outlinewidth": 0,
             "ticks": ""
            },
            "colorscale": [
             [
              0,
              "#0d0887"
             ],
             [
              0.1111111111111111,
              "#46039f"
             ],
             [
              0.2222222222222222,
              "#7201a8"
             ],
             [
              0.3333333333333333,
              "#9c179e"
             ],
             [
              0.4444444444444444,
              "#bd3786"
             ],
             [
              0.5555555555555556,
              "#d8576b"
             ],
             [
              0.6666666666666666,
              "#ed7953"
             ],
             [
              0.7777777777777778,
              "#fb9f3a"
             ],
             [
              0.8888888888888888,
              "#fdca26"
             ],
             [
              1,
              "#f0f921"
             ]
            ],
            "type": "heatmap"
           }
          ],
          "heatmapgl": [
           {
            "colorbar": {
             "outlinewidth": 0,
             "ticks": ""
            },
            "colorscale": [
             [
              0,
              "#0d0887"
             ],
             [
              0.1111111111111111,
              "#46039f"
             ],
             [
              0.2222222222222222,
              "#7201a8"
             ],
             [
              0.3333333333333333,
              "#9c179e"
             ],
             [
              0.4444444444444444,
              "#bd3786"
             ],
             [
              0.5555555555555556,
              "#d8576b"
             ],
             [
              0.6666666666666666,
              "#ed7953"
             ],
             [
              0.7777777777777778,
              "#fb9f3a"
             ],
             [
              0.8888888888888888,
              "#fdca26"
             ],
             [
              1,
              "#f0f921"
             ]
            ],
            "type": "heatmapgl"
           }
          ],
          "histogram": [
           {
            "marker": {
             "colorbar": {
              "outlinewidth": 0,
              "ticks": ""
             }
            },
            "type": "histogram"
           }
          ],
          "histogram2d": [
           {
            "colorbar": {
             "outlinewidth": 0,
             "ticks": ""
            },
            "colorscale": [
             [
              0,
              "#0d0887"
             ],
             [
              0.1111111111111111,
              "#46039f"
             ],
             [
              0.2222222222222222,
              "#7201a8"
             ],
             [
              0.3333333333333333,
              "#9c179e"
             ],
             [
              0.4444444444444444,
              "#bd3786"
             ],
             [
              0.5555555555555556,
              "#d8576b"
             ],
             [
              0.6666666666666666,
              "#ed7953"
             ],
             [
              0.7777777777777778,
              "#fb9f3a"
             ],
             [
              0.8888888888888888,
              "#fdca26"
             ],
             [
              1,
              "#f0f921"
             ]
            ],
            "type": "histogram2d"
           }
          ],
          "histogram2dcontour": [
           {
            "colorbar": {
             "outlinewidth": 0,
             "ticks": ""
            },
            "colorscale": [
             [
              0,
              "#0d0887"
             ],
             [
              0.1111111111111111,
              "#46039f"
             ],
             [
              0.2222222222222222,
              "#7201a8"
             ],
             [
              0.3333333333333333,
              "#9c179e"
             ],
             [
              0.4444444444444444,
              "#bd3786"
             ],
             [
              0.5555555555555556,
              "#d8576b"
             ],
             [
              0.6666666666666666,
              "#ed7953"
             ],
             [
              0.7777777777777778,
              "#fb9f3a"
             ],
             [
              0.8888888888888888,
              "#fdca26"
             ],
             [
              1,
              "#f0f921"
             ]
            ],
            "type": "histogram2dcontour"
           }
          ],
          "mesh3d": [
           {
            "colorbar": {
             "outlinewidth": 0,
             "ticks": ""
            },
            "type": "mesh3d"
           }
          ],
          "parcoords": [
           {
            "line": {
             "colorbar": {
              "outlinewidth": 0,
              "ticks": ""
             }
            },
            "type": "parcoords"
           }
          ],
          "pie": [
           {
            "automargin": true,
            "type": "pie"
           }
          ],
          "scatter": [
           {
            "marker": {
             "colorbar": {
              "outlinewidth": 0,
              "ticks": ""
             }
            },
            "type": "scatter"
           }
          ],
          "scatter3d": [
           {
            "line": {
             "colorbar": {
              "outlinewidth": 0,
              "ticks": ""
             }
            },
            "marker": {
             "colorbar": {
              "outlinewidth": 0,
              "ticks": ""
             }
            },
            "type": "scatter3d"
           }
          ],
          "scattercarpet": [
           {
            "marker": {
             "colorbar": {
              "outlinewidth": 0,
              "ticks": ""
             }
            },
            "type": "scattercarpet"
           }
          ],
          "scattergeo": [
           {
            "marker": {
             "colorbar": {
              "outlinewidth": 0,
              "ticks": ""
             }
            },
            "type": "scattergeo"
           }
          ],
          "scattergl": [
           {
            "marker": {
             "colorbar": {
              "outlinewidth": 0,
              "ticks": ""
             }
            },
            "type": "scattergl"
           }
          ],
          "scattermapbox": [
           {
            "marker": {
             "colorbar": {
              "outlinewidth": 0,
              "ticks": ""
             }
            },
            "type": "scattermapbox"
           }
          ],
          "scatterpolar": [
           {
            "marker": {
             "colorbar": {
              "outlinewidth": 0,
              "ticks": ""
             }
            },
            "type": "scatterpolar"
           }
          ],
          "scatterpolargl": [
           {
            "marker": {
             "colorbar": {
              "outlinewidth": 0,
              "ticks": ""
             }
            },
            "type": "scatterpolargl"
           }
          ],
          "scatterternary": [
           {
            "marker": {
             "colorbar": {
              "outlinewidth": 0,
              "ticks": ""
             }
            },
            "type": "scatterternary"
           }
          ],
          "surface": [
           {
            "colorbar": {
             "outlinewidth": 0,
             "ticks": ""
            },
            "colorscale": [
             [
              0,
              "#0d0887"
             ],
             [
              0.1111111111111111,
              "#46039f"
             ],
             [
              0.2222222222222222,
              "#7201a8"
             ],
             [
              0.3333333333333333,
              "#9c179e"
             ],
             [
              0.4444444444444444,
              "#bd3786"
             ],
             [
              0.5555555555555556,
              "#d8576b"
             ],
             [
              0.6666666666666666,
              "#ed7953"
             ],
             [
              0.7777777777777778,
              "#fb9f3a"
             ],
             [
              0.8888888888888888,
              "#fdca26"
             ],
             [
              1,
              "#f0f921"
             ]
            ],
            "type": "surface"
           }
          ],
          "table": [
           {
            "cells": {
             "fill": {
              "color": "#EBF0F8"
             },
             "line": {
              "color": "white"
             }
            },
            "header": {
             "fill": {
              "color": "#C8D4E3"
             },
             "line": {
              "color": "white"
             }
            },
            "type": "table"
           }
          ]
         },
         "layout": {
          "annotationdefaults": {
           "arrowcolor": "#2a3f5f",
           "arrowhead": 0,
           "arrowwidth": 1
          },
          "coloraxis": {
           "colorbar": {
            "outlinewidth": 0,
            "ticks": ""
           }
          },
          "colorscale": {
           "diverging": [
            [
             0,
             "#8e0152"
            ],
            [
             0.1,
             "#c51b7d"
            ],
            [
             0.2,
             "#de77ae"
            ],
            [
             0.3,
             "#f1b6da"
            ],
            [
             0.4,
             "#fde0ef"
            ],
            [
             0.5,
             "#f7f7f7"
            ],
            [
             0.6,
             "#e6f5d0"
            ],
            [
             0.7,
             "#b8e186"
            ],
            [
             0.8,
             "#7fbc41"
            ],
            [
             0.9,
             "#4d9221"
            ],
            [
             1,
             "#276419"
            ]
           ],
           "sequential": [
            [
             0,
             "#0d0887"
            ],
            [
             0.1111111111111111,
             "#46039f"
            ],
            [
             0.2222222222222222,
             "#7201a8"
            ],
            [
             0.3333333333333333,
             "#9c179e"
            ],
            [
             0.4444444444444444,
             "#bd3786"
            ],
            [
             0.5555555555555556,
             "#d8576b"
            ],
            [
             0.6666666666666666,
             "#ed7953"
            ],
            [
             0.7777777777777778,
             "#fb9f3a"
            ],
            [
             0.8888888888888888,
             "#fdca26"
            ],
            [
             1,
             "#f0f921"
            ]
           ],
           "sequentialminus": [
            [
             0,
             "#0d0887"
            ],
            [
             0.1111111111111111,
             "#46039f"
            ],
            [
             0.2222222222222222,
             "#7201a8"
            ],
            [
             0.3333333333333333,
             "#9c179e"
            ],
            [
             0.4444444444444444,
             "#bd3786"
            ],
            [
             0.5555555555555556,
             "#d8576b"
            ],
            [
             0.6666666666666666,
             "#ed7953"
            ],
            [
             0.7777777777777778,
             "#fb9f3a"
            ],
            [
             0.8888888888888888,
             "#fdca26"
            ],
            [
             1,
             "#f0f921"
            ]
           ]
          },
          "colorway": [
           "#636efa",
           "#EF553B",
           "#00cc96",
           "#ab63fa",
           "#FFA15A",
           "#19d3f3",
           "#FF6692",
           "#B6E880",
           "#FF97FF",
           "#FECB52"
          ],
          "font": {
           "color": "#2a3f5f"
          },
          "geo": {
           "bgcolor": "white",
           "lakecolor": "white",
           "landcolor": "#E5ECF6",
           "showlakes": true,
           "showland": true,
           "subunitcolor": "white"
          },
          "hoverlabel": {
           "align": "left"
          },
          "hovermode": "closest",
          "mapbox": {
           "style": "light"
          },
          "paper_bgcolor": "white",
          "plot_bgcolor": "#E5ECF6",
          "polar": {
           "angularaxis": {
            "gridcolor": "white",
            "linecolor": "white",
            "ticks": ""
           },
           "bgcolor": "#E5ECF6",
           "radialaxis": {
            "gridcolor": "white",
            "linecolor": "white",
            "ticks": ""
           }
          },
          "scene": {
           "xaxis": {
            "backgroundcolor": "#E5ECF6",
            "gridcolor": "white",
            "gridwidth": 2,
            "linecolor": "white",
            "showbackground": true,
            "ticks": "",
            "zerolinecolor": "white"
           },
           "yaxis": {
            "backgroundcolor": "#E5ECF6",
            "gridcolor": "white",
            "gridwidth": 2,
            "linecolor": "white",
            "showbackground": true,
            "ticks": "",
            "zerolinecolor": "white"
           },
           "zaxis": {
            "backgroundcolor": "#E5ECF6",
            "gridcolor": "white",
            "gridwidth": 2,
            "linecolor": "white",
            "showbackground": true,
            "ticks": "",
            "zerolinecolor": "white"
           }
          },
          "shapedefaults": {
           "line": {
            "color": "#2a3f5f"
           }
          },
          "ternary": {
           "aaxis": {
            "gridcolor": "white",
            "linecolor": "white",
            "ticks": ""
           },
           "baxis": {
            "gridcolor": "white",
            "linecolor": "white",
            "ticks": ""
           },
           "bgcolor": "#E5ECF6",
           "caxis": {
            "gridcolor": "white",
            "linecolor": "white",
            "ticks": ""
           }
          },
          "title": {
           "x": 0.05
          },
          "xaxis": {
           "automargin": true,
           "gridcolor": "white",
           "linecolor": "white",
           "ticks": "",
           "title": {
            "standoff": 15
           },
           "zerolinecolor": "white",
           "zerolinewidth": 2
          },
          "yaxis": {
           "automargin": true,
           "gridcolor": "white",
           "linecolor": "white",
           "ticks": "",
           "title": {
            "standoff": 15
           },
           "zerolinecolor": "white",
           "zerolinewidth": 2
          }
         }
        },
        "title": {
         "font": {
          "color": "#4D5663"
         },
         "text": "Total tests, cases and deaths distribution by countries, <br> (Countries with total tests > 500K)"
        },
        "xaxis": {
         "gridcolor": "#E1E5ED",
         "showgrid": true,
         "tickfont": {
          "color": "#4D5663"
         },
         "title": {
          "font": {
           "color": "#4D5663"
          },
          "text": ""
         },
         "zerolinecolor": "#E1E5ED"
        },
        "yaxis": {
         "gridcolor": "#E1E5ED",
         "showgrid": true,
         "tickfont": {
          "color": "#4D5663"
         },
         "title": {
          "font": {
           "color": "#4D5663"
          },
          "text": "Share of total tests, cases and deaths"
         },
         "zerolinecolor": "#E1E5ED"
        }
       }
      },
      "text/html": [
       "<div>\n",
       "        \n",
       "        \n",
       "            <div id=\"59c11a9a-586f-4a1f-a455-12c43b5a372f\" class=\"plotly-graph-div\" style=\"height:525px; width:100%;\"></div>\n",
       "            <script type=\"text/javascript\">\n",
       "                require([\"plotly\"], function(Plotly) {\n",
       "                    window.PLOTLYENV=window.PLOTLYENV || {};\n",
       "                    window.PLOTLYENV.BASE_URL='https://plot.ly';\n",
       "                    \n",
       "                if (document.getElementById(\"59c11a9a-586f-4a1f-a455-12c43b5a372f\")) {\n",
       "                    Plotly.newPlot(\n",
       "                        '59c11a9a-586f-4a1f-a455-12c43b5a372f',\n",
       "                        [{\"marker\": {\"color\": \"rgba(255, 153, 51, 0.6)\", \"line\": {\"color\": \"rgba(255, 153, 51, 1.0)\", \"width\": 1}}, \"name\": \"total_tests\", \"orientation\": \"v\", \"text\": \"\", \"type\": \"bar\", \"x\": [\"United States\", \"Russia\", \"India\", \"United Kingdom\", \"Germany\", \"United Arab Emirates\", \"Turkey\", \"Australia\", \"Canada\", \"Italy\", \"Saudi Arabia\", \"Brazil\", \"South Africa\", \"Iran\", \"Pakistan\", \"Poland\", \"Kazakhstan\", \"Colombia\", \"Chile\", \"Belgium\", \"Israel\", \"Denmark\", \"Indonesia\", \"Philippines\", \"Portugal\", \"South Korea\", \"Morocco\", \"Romania\", \"Japan\", \"Belarus\", \"Ukraine\", \"Iraq\", \"Bangladesh\", \"Netherlands\", \"Malaysia\", \"Mexico\", \"Austria\", \"Bahrain\", \"Switzerland\", \"Argentina\", \"Serbia\", \"Czech Republic\", \"Greece\", \"Ireland\", \"Singapore\", \"New Zealand\", \"Lithuania\", \"Kuwait\", \"Norway\", \"Qatar\", \"Nepal\", \"Finland\"], \"y\": [68944867, 33509273, 32661252, 12272157, 10197366, 6193635, 5969629, 5440495, 4925446, 4551287, 4439484, 4152652, 3455671, 2939840, 2363752, 2333126, 2291327, 2246595, 2087354, 2049288, 2021151, 1990371, 1969941, 1948932, 1799226, 1699085, 1670569, 1591015, 1526180, 1384026, 1356698, 1345459, 1341648, 1312787, 1141679, 1124122, 1061437, 1000787, 910283, 882176, 831677, 812835, 804282, 735598, 731313, 657506, 594478, 573251, 567646, 566013, 554388, 517645]}, {\"marker\": {\"color\": \"rgba(55, 128, 191, 0.6)\", \"line\": {\"color\": \"rgba(55, 128, 191, 1.0)\", \"width\": 1}}, \"name\": \"total_cases\", \"orientation\": \"v\", \"text\": \"\", \"type\": \"bar\", \"x\": [\"United States\", \"Russia\", \"India\", \"United Kingdom\", \"Germany\", \"United Arab Emirates\", \"Turkey\", \"Australia\", \"Canada\", \"Italy\", \"Saudi Arabia\", \"Brazil\", \"South Africa\", \"Iran\", \"Pakistan\", \"Poland\", \"Kazakhstan\", \"Colombia\", \"Chile\", \"Belgium\", \"Israel\", \"Denmark\", \"Indonesia\", \"Philippines\", \"Portugal\", \"South Korea\", \"Morocco\", \"Romania\", \"Japan\", \"Belarus\", \"Ukraine\", \"Iraq\", \"Bangladesh\", \"Netherlands\", \"Malaysia\", \"Mexico\", \"Austria\", \"Bahrain\", \"Switzerland\", \"Argentina\", \"Serbia\", \"Czech Republic\", \"Greece\", \"Ireland\", \"Singapore\", \"New Zealand\", \"Lithuania\", \"Kuwait\", \"Norway\", \"Qatar\", \"Nepal\", \"Finland\"], \"y\": [5529842, 937321, 2836925, 321098, 228621, 65341, 253108, 23993, 123490, 255278, 302686, 3456652, 596060, 347835, 290958, 58611, 124356, 502178, 390037, 79386, 97969, 15940, 144945, 173774, 54701, 16346, 46313, 73617, 58501, 69801, 96403, 188802, 285091, 64463, 9235, 537031, 24300, 47185, 38662, 305953, 30048, 20798, 7684, 27547, 56031, 1304, 2496, 78145, 10111, 115956, 28938, 7776]}, {\"marker\": {\"color\": \"rgba(50, 171, 96, 0.6)\", \"line\": {\"color\": \"rgba(50, 171, 96, 1.0)\", \"width\": 1}}, \"name\": \"total_deaths\", \"orientation\": \"v\", \"text\": \"\", \"type\": \"bar\", \"x\": [\"United States\", \"Russia\", \"India\", \"United Kingdom\", \"Germany\", \"United Arab Emirates\", \"Turkey\", \"Australia\", \"Canada\", \"Italy\", \"Saudi Arabia\", \"Brazil\", \"South Africa\", \"Iran\", \"Pakistan\", \"Poland\", \"Kazakhstan\", \"Colombia\", \"Chile\", \"Belgium\", \"Israel\", \"Denmark\", \"Indonesia\", \"Philippines\", \"Portugal\", \"South Korea\", \"Morocco\", \"Romania\", \"Japan\", \"Belarus\", \"Ukraine\", \"Iraq\", \"Bangladesh\", \"Netherlands\", \"Malaysia\", \"Mexico\", \"Austria\", \"Bahrain\", \"Switzerland\", \"Argentina\", \"Serbia\", \"Czech Republic\", \"Greece\", \"Ireland\", \"Singapore\", \"New Zealand\", \"Lithuania\", \"Kuwait\", \"Norway\", \"Qatar\", \"Nepal\", \"Finland\"], \"y\": [173177, 15989, 53866, 41397, 9253, 367, 6039, 450, 9049, 35412, 3506, 111100, 12423, 19972, 6209, 1913, 1652, 15979, 10578, 9969, 779, 621, 6346, 2795, 1786, 307, 743, 3106, 1144, 622, 2144, 6121, 3781, 6172, 125, 58481, 729, 175, 1718, 6114, 684, 404, 235, 1775, 27, 22, 81, 507, 262, 193, 120, 334]}],\n",
       "                        {\"barmode\": \"stack\", \"legend\": {\"bgcolor\": \"#F5F6F9\", \"font\": {\"color\": \"#4D5663\"}, \"traceorder\": \"normal\"}, \"paper_bgcolor\": \"#F5F6F9\", \"plot_bgcolor\": \"#F5F6F9\", \"template\": {\"data\": {\"bar\": [{\"error_x\": {\"color\": \"#2a3f5f\"}, \"error_y\": {\"color\": \"#2a3f5f\"}, \"marker\": {\"line\": {\"color\": \"#E5ECF6\", \"width\": 0.5}}, \"type\": \"bar\"}], \"barpolar\": [{\"marker\": {\"line\": {\"color\": \"#E5ECF6\", \"width\": 0.5}}, \"type\": \"barpolar\"}], \"carpet\": [{\"aaxis\": {\"endlinecolor\": \"#2a3f5f\", \"gridcolor\": \"white\", \"linecolor\": \"white\", \"minorgridcolor\": \"white\", \"startlinecolor\": \"#2a3f5f\"}, \"baxis\": {\"endlinecolor\": \"#2a3f5f\", \"gridcolor\": \"white\", \"linecolor\": \"white\", \"minorgridcolor\": \"white\", \"startlinecolor\": \"#2a3f5f\"}, \"type\": \"carpet\"}], \"choropleth\": [{\"colorbar\": {\"outlinewidth\": 0, \"ticks\": \"\"}, \"type\": \"choropleth\"}], \"contour\": [{\"colorbar\": {\"outlinewidth\": 0, \"ticks\": \"\"}, \"colorscale\": [[0.0, \"#0d0887\"], [0.1111111111111111, \"#46039f\"], [0.2222222222222222, \"#7201a8\"], [0.3333333333333333, \"#9c179e\"], [0.4444444444444444, \"#bd3786\"], [0.5555555555555556, \"#d8576b\"], [0.6666666666666666, \"#ed7953\"], [0.7777777777777778, \"#fb9f3a\"], [0.8888888888888888, \"#fdca26\"], [1.0, \"#f0f921\"]], \"type\": \"contour\"}], \"contourcarpet\": [{\"colorbar\": {\"outlinewidth\": 0, \"ticks\": \"\"}, \"type\": \"contourcarpet\"}], \"heatmap\": [{\"colorbar\": {\"outlinewidth\": 0, \"ticks\": \"\"}, \"colorscale\": [[0.0, \"#0d0887\"], [0.1111111111111111, \"#46039f\"], [0.2222222222222222, \"#7201a8\"], [0.3333333333333333, \"#9c179e\"], [0.4444444444444444, \"#bd3786\"], [0.5555555555555556, \"#d8576b\"], [0.6666666666666666, \"#ed7953\"], [0.7777777777777778, \"#fb9f3a\"], [0.8888888888888888, \"#fdca26\"], [1.0, \"#f0f921\"]], \"type\": \"heatmap\"}], \"heatmapgl\": [{\"colorbar\": {\"outlinewidth\": 0, \"ticks\": \"\"}, \"colorscale\": [[0.0, \"#0d0887\"], [0.1111111111111111, \"#46039f\"], [0.2222222222222222, \"#7201a8\"], [0.3333333333333333, \"#9c179e\"], [0.4444444444444444, \"#bd3786\"], [0.5555555555555556, \"#d8576b\"], [0.6666666666666666, \"#ed7953\"], [0.7777777777777778, \"#fb9f3a\"], [0.8888888888888888, \"#fdca26\"], [1.0, \"#f0f921\"]], \"type\": \"heatmapgl\"}], \"histogram\": [{\"marker\": {\"colorbar\": {\"outlinewidth\": 0, \"ticks\": \"\"}}, \"type\": \"histogram\"}], \"histogram2d\": [{\"colorbar\": {\"outlinewidth\": 0, \"ticks\": \"\"}, \"colorscale\": [[0.0, \"#0d0887\"], [0.1111111111111111, \"#46039f\"], [0.2222222222222222, \"#7201a8\"], [0.3333333333333333, \"#9c179e\"], [0.4444444444444444, \"#bd3786\"], [0.5555555555555556, \"#d8576b\"], [0.6666666666666666, \"#ed7953\"], [0.7777777777777778, \"#fb9f3a\"], [0.8888888888888888, \"#fdca26\"], [1.0, \"#f0f921\"]], \"type\": \"histogram2d\"}], \"histogram2dcontour\": [{\"colorbar\": {\"outlinewidth\": 0, \"ticks\": \"\"}, \"colorscale\": [[0.0, \"#0d0887\"], [0.1111111111111111, \"#46039f\"], [0.2222222222222222, \"#7201a8\"], [0.3333333333333333, \"#9c179e\"], [0.4444444444444444, \"#bd3786\"], [0.5555555555555556, \"#d8576b\"], [0.6666666666666666, \"#ed7953\"], [0.7777777777777778, \"#fb9f3a\"], [0.8888888888888888, \"#fdca26\"], [1.0, \"#f0f921\"]], \"type\": \"histogram2dcontour\"}], \"mesh3d\": [{\"colorbar\": {\"outlinewidth\": 0, \"ticks\": \"\"}, \"type\": \"mesh3d\"}], \"parcoords\": [{\"line\": {\"colorbar\": {\"outlinewidth\": 0, \"ticks\": \"\"}}, \"type\": \"parcoords\"}], \"pie\": [{\"automargin\": true, \"type\": \"pie\"}], \"scatter\": [{\"marker\": {\"colorbar\": {\"outlinewidth\": 0, \"ticks\": \"\"}}, \"type\": \"scatter\"}], \"scatter3d\": [{\"line\": {\"colorbar\": {\"outlinewidth\": 0, \"ticks\": \"\"}}, \"marker\": {\"colorbar\": {\"outlinewidth\": 0, \"ticks\": \"\"}}, \"type\": \"scatter3d\"}], \"scattercarpet\": [{\"marker\": {\"colorbar\": {\"outlinewidth\": 0, \"ticks\": \"\"}}, \"type\": \"scattercarpet\"}], \"scattergeo\": [{\"marker\": {\"colorbar\": {\"outlinewidth\": 0, \"ticks\": \"\"}}, \"type\": \"scattergeo\"}], \"scattergl\": [{\"marker\": {\"colorbar\": {\"outlinewidth\": 0, \"ticks\": \"\"}}, \"type\": \"scattergl\"}], \"scattermapbox\": [{\"marker\": {\"colorbar\": {\"outlinewidth\": 0, \"ticks\": \"\"}}, \"type\": \"scattermapbox\"}], \"scatterpolar\": [{\"marker\": {\"colorbar\": {\"outlinewidth\": 0, \"ticks\": \"\"}}, \"type\": \"scatterpolar\"}], \"scatterpolargl\": [{\"marker\": {\"colorbar\": {\"outlinewidth\": 0, \"ticks\": \"\"}}, \"type\": \"scatterpolargl\"}], \"scatterternary\": [{\"marker\": {\"colorbar\": {\"outlinewidth\": 0, \"ticks\": \"\"}}, \"type\": \"scatterternary\"}], \"surface\": [{\"colorbar\": {\"outlinewidth\": 0, \"ticks\": \"\"}, \"colorscale\": [[0.0, \"#0d0887\"], [0.1111111111111111, \"#46039f\"], [0.2222222222222222, \"#7201a8\"], [0.3333333333333333, \"#9c179e\"], [0.4444444444444444, \"#bd3786\"], [0.5555555555555556, \"#d8576b\"], [0.6666666666666666, \"#ed7953\"], [0.7777777777777778, \"#fb9f3a\"], [0.8888888888888888, \"#fdca26\"], [1.0, \"#f0f921\"]], \"type\": \"surface\"}], \"table\": [{\"cells\": {\"fill\": {\"color\": \"#EBF0F8\"}, \"line\": {\"color\": \"white\"}}, \"header\": {\"fill\": {\"color\": \"#C8D4E3\"}, \"line\": {\"color\": \"white\"}}, \"type\": \"table\"}]}, \"layout\": {\"annotationdefaults\": {\"arrowcolor\": \"#2a3f5f\", \"arrowhead\": 0, \"arrowwidth\": 1}, \"coloraxis\": {\"colorbar\": {\"outlinewidth\": 0, \"ticks\": \"\"}}, \"colorscale\": {\"diverging\": [[0, \"#8e0152\"], [0.1, \"#c51b7d\"], [0.2, \"#de77ae\"], [0.3, \"#f1b6da\"], [0.4, \"#fde0ef\"], [0.5, \"#f7f7f7\"], [0.6, \"#e6f5d0\"], [0.7, \"#b8e186\"], [0.8, \"#7fbc41\"], [0.9, \"#4d9221\"], [1, \"#276419\"]], \"sequential\": [[0.0, \"#0d0887\"], [0.1111111111111111, \"#46039f\"], [0.2222222222222222, \"#7201a8\"], [0.3333333333333333, \"#9c179e\"], [0.4444444444444444, \"#bd3786\"], [0.5555555555555556, \"#d8576b\"], [0.6666666666666666, \"#ed7953\"], [0.7777777777777778, \"#fb9f3a\"], [0.8888888888888888, \"#fdca26\"], [1.0, \"#f0f921\"]], \"sequentialminus\": [[0.0, \"#0d0887\"], [0.1111111111111111, \"#46039f\"], [0.2222222222222222, \"#7201a8\"], [0.3333333333333333, \"#9c179e\"], [0.4444444444444444, \"#bd3786\"], [0.5555555555555556, \"#d8576b\"], [0.6666666666666666, \"#ed7953\"], [0.7777777777777778, \"#fb9f3a\"], [0.8888888888888888, \"#fdca26\"], [1.0, \"#f0f921\"]]}, \"colorway\": [\"#636efa\", \"#EF553B\", \"#00cc96\", \"#ab63fa\", \"#FFA15A\", \"#19d3f3\", \"#FF6692\", \"#B6E880\", \"#FF97FF\", \"#FECB52\"], \"font\": {\"color\": \"#2a3f5f\"}, \"geo\": {\"bgcolor\": \"white\", \"lakecolor\": \"white\", \"landcolor\": \"#E5ECF6\", \"showlakes\": true, \"showland\": true, \"subunitcolor\": \"white\"}, \"hoverlabel\": {\"align\": \"left\"}, \"hovermode\": \"closest\", \"mapbox\": {\"style\": \"light\"}, \"paper_bgcolor\": \"white\", \"plot_bgcolor\": \"#E5ECF6\", \"polar\": {\"angularaxis\": {\"gridcolor\": \"white\", \"linecolor\": \"white\", \"ticks\": \"\"}, \"bgcolor\": \"#E5ECF6\", \"radialaxis\": {\"gridcolor\": \"white\", \"linecolor\": \"white\", \"ticks\": \"\"}}, \"scene\": {\"xaxis\": {\"backgroundcolor\": \"#E5ECF6\", \"gridcolor\": \"white\", \"gridwidth\": 2, \"linecolor\": \"white\", \"showbackground\": true, \"ticks\": \"\", \"zerolinecolor\": \"white\"}, \"yaxis\": {\"backgroundcolor\": \"#E5ECF6\", \"gridcolor\": \"white\", \"gridwidth\": 2, \"linecolor\": \"white\", \"showbackground\": true, \"ticks\": \"\", \"zerolinecolor\": \"white\"}, \"zaxis\": {\"backgroundcolor\": \"#E5ECF6\", \"gridcolor\": \"white\", \"gridwidth\": 2, \"linecolor\": \"white\", \"showbackground\": true, \"ticks\": \"\", \"zerolinecolor\": \"white\"}}, \"shapedefaults\": {\"line\": {\"color\": \"#2a3f5f\"}}, \"ternary\": {\"aaxis\": {\"gridcolor\": \"white\", \"linecolor\": \"white\", \"ticks\": \"\"}, \"baxis\": {\"gridcolor\": \"white\", \"linecolor\": \"white\", \"ticks\": \"\"}, \"bgcolor\": \"#E5ECF6\", \"caxis\": {\"gridcolor\": \"white\", \"linecolor\": \"white\", \"ticks\": \"\"}}, \"title\": {\"x\": 0.05}, \"xaxis\": {\"automargin\": true, \"gridcolor\": \"white\", \"linecolor\": \"white\", \"ticks\": \"\", \"title\": {\"standoff\": 15}, \"zerolinecolor\": \"white\", \"zerolinewidth\": 2}, \"yaxis\": {\"automargin\": true, \"gridcolor\": \"white\", \"linecolor\": \"white\", \"ticks\": \"\", \"title\": {\"standoff\": 15}, \"zerolinecolor\": \"white\", \"zerolinewidth\": 2}}}, \"title\": {\"font\": {\"color\": \"#4D5663\"}, \"text\": \"Total tests, cases and deaths distribution by countries, <br> (Countries with total tests > 500K)\"}, \"xaxis\": {\"gridcolor\": \"#E1E5ED\", \"showgrid\": true, \"tickfont\": {\"color\": \"#4D5663\"}, \"title\": {\"font\": {\"color\": \"#4D5663\"}, \"text\": \"\"}, \"zerolinecolor\": \"#E1E5ED\"}, \"yaxis\": {\"gridcolor\": \"#E1E5ED\", \"showgrid\": true, \"tickfont\": {\"color\": \"#4D5663\"}, \"title\": {\"font\": {\"color\": \"#4D5663\"}, \"text\": \"Share of total tests, cases and deaths\"}, \"zerolinecolor\": \"#E1E5ED\"}},\n",
       "                        {\"showLink\": true, \"linkText\": \"Export to plot.ly\", \"plotlyServerURL\": \"https://plot.ly\", \"responsive\": true}\n",
       "                    ).then(function(){\n",
       "                            \n",
       "var gd = document.getElementById('59c11a9a-586f-4a1f-a455-12c43b5a372f');\n",
       "var x = new MutationObserver(function (mutations, observer) {{\n",
       "        var display = window.getComputedStyle(gd).display;\n",
       "        if (!display || display === 'none') {{\n",
       "            console.log([gd, 'removed!']);\n",
       "            Plotly.purge(gd);\n",
       "            observer.disconnect();\n",
       "        }}\n",
       "}});\n",
       "\n",
       "// Listen for the removal of the full notebook cells\n",
       "var notebookContainer = gd.closest('#notebook-container');\n",
       "if (notebookContainer) {{\n",
       "    x.observe(notebookContainer, {childList: true});\n",
       "}}\n",
       "\n",
       "// Listen for the clearing of the current output cell\n",
       "var outputEl = gd.closest('.output');\n",
       "if (outputEl) {{\n",
       "    x.observe(outputEl, {childList: true});\n",
       "}}\n",
       "\n",
       "                        })\n",
       "                };\n",
       "                });\n",
       "            </script>\n",
       "        </div>"
      ]
     },
     "metadata": {},
     "output_type": "display_data"
    }
   ],
   "source": [
    "# build stacked bar to total tests, cases and deaths of all countries with total tests above 1M\n",
    "totals.astype(int).iplot(kind=\"bar\", barmode=\"stack\", yTitle='Share of total tests, cases and deaths',\n",
    "                            title='Total tests, cases and deaths distribution by countries, <br> (Countries with total tests > 1M)')"
   ]
  },
  {
   "cell_type": "code",
   "execution_count": 9,
   "metadata": {},
   "outputs": [
    {
     "data": {
      "text/plain": [
       "(32, 3)"
      ]
     },
     "execution_count": 9,
     "metadata": {},
     "output_type": "execute_result"
    }
   ],
   "source": [
    "per_mill=survey[['location', 'total_cases_per_million', 'total_deaths_per_million']]\n",
    "per_mill['total_tests_per_million']=(survey['total_tests_per_thousand']*1000000)/1000\n",
    "per_mill=per_mill[['location', 'total_tests_per_million', 'total_cases_per_million', 'total_deaths_per_million']]\n",
    "per_mill.set_index('location', inplace=True)\n",
    "name=survey['location']\n",
    "values_per_million = pd.DataFrame(data=per_mill,index=name)\n",
    "values_per_million=values_per_million.dropna(axis=0)\n",
    "values_per_million=values_per_million.sort_values(ascending=False, by='total_tests_per_million')\n",
    "values_per_million=values_per_million.loc[values_per_million['total_tests_per_million']>100000]\n",
    "values_per_million.shape"
   ]
  },
  {
   "cell_type": "code",
   "execution_count": 10,
   "metadata": {},
   "outputs": [
    {
     "data": {
      "application/vnd.plotly.v1+json": {
       "config": {
        "linkText": "Export to plot.ly",
        "plotlyServerURL": "https://plot.ly",
        "showLink": true
       },
       "data": [
        {
         "marker": {
          "color": "rgba(255, 153, 51, 0.6)",
          "line": {
           "color": "rgba(255, 153, 51, 1.0)",
           "width": 1
          }
         },
         "name": "total_tests_per_million",
         "orientation": "v",
         "text": "",
         "type": "bar",
         "x": [
          "Luxembourg",
          "United Arab Emirates",
          "Bahrain",
          "Malta",
          "Denmark",
          "Iceland",
          "Israel",
          "Russia",
          "Lithuania",
          "Australia",
          "United States",
          "Qatar",
          "Maldives",
          "United Kingdom",
          "Belgium",
          "Portugal",
          "Ireland",
          "Belarus",
          "New Zealand",
          "Kuwait",
          "Canada",
          "Saudi Arabia",
          "Singapore",
          "Latvia",
          "Serbia",
          "Kazakhstan",
          "Germany",
          "Austria",
          "Chile",
          "Switzerland",
          "Norway",
          "Estonia"
         ],
         "y": [
          741535,
          626227,
          588151,
          369861,
          343629,
          244574,
          233509,
          229619,
          218374,
          213354,
          208291,
          196460,
          183705,
          180775,
          176821,
          176452,
          148972,
          146468,
          136349,
          134233,
          130502,
          127521,
          125002,
          123485,
          122223,
          122030,
          121710,
          117854,
          109193,
          105179,
          104708,
          104155
         ]
        },
        {
         "marker": {
          "color": "rgba(55, 128, 191, 0.6)",
          "line": {
           "color": "rgba(55, 128, 191, 1.0)",
           "width": 1
          }
         },
         "name": "total_cases_per_million",
         "orientation": "v",
         "text": "",
         "type": "bar",
         "x": [
          "Luxembourg",
          "United Arab Emirates",
          "Bahrain",
          "Malta",
          "Denmark",
          "Iceland",
          "Israel",
          "Russia",
          "Lithuania",
          "Australia",
          "United States",
          "Qatar",
          "Maldives",
          "United Kingdom",
          "Belgium",
          "Portugal",
          "Ireland",
          "Belarus",
          "New Zealand",
          "Kuwait",
          "Canada",
          "Saudi Arabia",
          "Singapore",
          "Latvia",
          "Serbia",
          "Kazakhstan",
          "Germany",
          "Austria",
          "Chile",
          "Switzerland",
          "Norway",
          "Estonia"
         ],
         "y": [
          12086,
          6606,
          27730,
          3100,
          2751,
          5963,
          11318,
          6422,
          916,
          940,
          16706,
          40247,
          11516,
          4729,
          6849,
          5364,
          5578,
          7386,
          270,
          18298,
          3271,
          8694,
          9577,
          703,
          4415,
          6622,
          2728,
          2698,
          20403,
          4467,
          1865,
          1663
         ]
        },
        {
         "marker": {
          "color": "rgba(50, 171, 96, 0.6)",
          "line": {
           "color": "rgba(50, 171, 96, 1.0)",
           "width": 1
          }
         },
         "name": "total_deaths_per_million",
         "orientation": "v",
         "text": "",
         "type": "bar",
         "x": [
          "Luxembourg",
          "United Arab Emirates",
          "Bahrain",
          "Malta",
          "Denmark",
          "Iceland",
          "Israel",
          "Russia",
          "Lithuania",
          "Australia",
          "United States",
          "Qatar",
          "Maldives",
          "United Kingdom",
          "Belgium",
          "Portugal",
          "Ireland",
          "Belarus",
          "New Zealand",
          "Kuwait",
          "Canada",
          "Saudi Arabia",
          "Singapore",
          "Latvia",
          "Serbia",
          "Kazakhstan",
          "Germany",
          "Austria",
          "Chile",
          "Switzerland",
          "Norway",
          "Estonia"
         ],
         "y": [
          198,
          37,
          102,
          20,
          107,
          29,
          90,
          109,
          29,
          17,
          523,
          66,
          44,
          609,
          860,
          175,
          359,
          65,
          4,
          118,
          239,
          100,
          4,
          17,
          100,
          87,
          110,
          80,
          553,
          198,
          48,
          47
         ]
        }
       ],
       "layout": {
        "barmode": "stack",
        "legend": {
         "bgcolor": "#F5F6F9",
         "font": {
          "color": "#4D5663"
         },
         "traceorder": "normal"
        },
        "paper_bgcolor": "#F5F6F9",
        "plot_bgcolor": "#F5F6F9",
        "template": {
         "data": {
          "bar": [
           {
            "error_x": {
             "color": "#2a3f5f"
            },
            "error_y": {
             "color": "#2a3f5f"
            },
            "marker": {
             "line": {
              "color": "#E5ECF6",
              "width": 0.5
             }
            },
            "type": "bar"
           }
          ],
          "barpolar": [
           {
            "marker": {
             "line": {
              "color": "#E5ECF6",
              "width": 0.5
             }
            },
            "type": "barpolar"
           }
          ],
          "carpet": [
           {
            "aaxis": {
             "endlinecolor": "#2a3f5f",
             "gridcolor": "white",
             "linecolor": "white",
             "minorgridcolor": "white",
             "startlinecolor": "#2a3f5f"
            },
            "baxis": {
             "endlinecolor": "#2a3f5f",
             "gridcolor": "white",
             "linecolor": "white",
             "minorgridcolor": "white",
             "startlinecolor": "#2a3f5f"
            },
            "type": "carpet"
           }
          ],
          "choropleth": [
           {
            "colorbar": {
             "outlinewidth": 0,
             "ticks": ""
            },
            "type": "choropleth"
           }
          ],
          "contour": [
           {
            "colorbar": {
             "outlinewidth": 0,
             "ticks": ""
            },
            "colorscale": [
             [
              0,
              "#0d0887"
             ],
             [
              0.1111111111111111,
              "#46039f"
             ],
             [
              0.2222222222222222,
              "#7201a8"
             ],
             [
              0.3333333333333333,
              "#9c179e"
             ],
             [
              0.4444444444444444,
              "#bd3786"
             ],
             [
              0.5555555555555556,
              "#d8576b"
             ],
             [
              0.6666666666666666,
              "#ed7953"
             ],
             [
              0.7777777777777778,
              "#fb9f3a"
             ],
             [
              0.8888888888888888,
              "#fdca26"
             ],
             [
              1,
              "#f0f921"
             ]
            ],
            "type": "contour"
           }
          ],
          "contourcarpet": [
           {
            "colorbar": {
             "outlinewidth": 0,
             "ticks": ""
            },
            "type": "contourcarpet"
           }
          ],
          "heatmap": [
           {
            "colorbar": {
             "outlinewidth": 0,
             "ticks": ""
            },
            "colorscale": [
             [
              0,
              "#0d0887"
             ],
             [
              0.1111111111111111,
              "#46039f"
             ],
             [
              0.2222222222222222,
              "#7201a8"
             ],
             [
              0.3333333333333333,
              "#9c179e"
             ],
             [
              0.4444444444444444,
              "#bd3786"
             ],
             [
              0.5555555555555556,
              "#d8576b"
             ],
             [
              0.6666666666666666,
              "#ed7953"
             ],
             [
              0.7777777777777778,
              "#fb9f3a"
             ],
             [
              0.8888888888888888,
              "#fdca26"
             ],
             [
              1,
              "#f0f921"
             ]
            ],
            "type": "heatmap"
           }
          ],
          "heatmapgl": [
           {
            "colorbar": {
             "outlinewidth": 0,
             "ticks": ""
            },
            "colorscale": [
             [
              0,
              "#0d0887"
             ],
             [
              0.1111111111111111,
              "#46039f"
             ],
             [
              0.2222222222222222,
              "#7201a8"
             ],
             [
              0.3333333333333333,
              "#9c179e"
             ],
             [
              0.4444444444444444,
              "#bd3786"
             ],
             [
              0.5555555555555556,
              "#d8576b"
             ],
             [
              0.6666666666666666,
              "#ed7953"
             ],
             [
              0.7777777777777778,
              "#fb9f3a"
             ],
             [
              0.8888888888888888,
              "#fdca26"
             ],
             [
              1,
              "#f0f921"
             ]
            ],
            "type": "heatmapgl"
           }
          ],
          "histogram": [
           {
            "marker": {
             "colorbar": {
              "outlinewidth": 0,
              "ticks": ""
             }
            },
            "type": "histogram"
           }
          ],
          "histogram2d": [
           {
            "colorbar": {
             "outlinewidth": 0,
             "ticks": ""
            },
            "colorscale": [
             [
              0,
              "#0d0887"
             ],
             [
              0.1111111111111111,
              "#46039f"
             ],
             [
              0.2222222222222222,
              "#7201a8"
             ],
             [
              0.3333333333333333,
              "#9c179e"
             ],
             [
              0.4444444444444444,
              "#bd3786"
             ],
             [
              0.5555555555555556,
              "#d8576b"
             ],
             [
              0.6666666666666666,
              "#ed7953"
             ],
             [
              0.7777777777777778,
              "#fb9f3a"
             ],
             [
              0.8888888888888888,
              "#fdca26"
             ],
             [
              1,
              "#f0f921"
             ]
            ],
            "type": "histogram2d"
           }
          ],
          "histogram2dcontour": [
           {
            "colorbar": {
             "outlinewidth": 0,
             "ticks": ""
            },
            "colorscale": [
             [
              0,
              "#0d0887"
             ],
             [
              0.1111111111111111,
              "#46039f"
             ],
             [
              0.2222222222222222,
              "#7201a8"
             ],
             [
              0.3333333333333333,
              "#9c179e"
             ],
             [
              0.4444444444444444,
              "#bd3786"
             ],
             [
              0.5555555555555556,
              "#d8576b"
             ],
             [
              0.6666666666666666,
              "#ed7953"
             ],
             [
              0.7777777777777778,
              "#fb9f3a"
             ],
             [
              0.8888888888888888,
              "#fdca26"
             ],
             [
              1,
              "#f0f921"
             ]
            ],
            "type": "histogram2dcontour"
           }
          ],
          "mesh3d": [
           {
            "colorbar": {
             "outlinewidth": 0,
             "ticks": ""
            },
            "type": "mesh3d"
           }
          ],
          "parcoords": [
           {
            "line": {
             "colorbar": {
              "outlinewidth": 0,
              "ticks": ""
             }
            },
            "type": "parcoords"
           }
          ],
          "pie": [
           {
            "automargin": true,
            "type": "pie"
           }
          ],
          "scatter": [
           {
            "marker": {
             "colorbar": {
              "outlinewidth": 0,
              "ticks": ""
             }
            },
            "type": "scatter"
           }
          ],
          "scatter3d": [
           {
            "line": {
             "colorbar": {
              "outlinewidth": 0,
              "ticks": ""
             }
            },
            "marker": {
             "colorbar": {
              "outlinewidth": 0,
              "ticks": ""
             }
            },
            "type": "scatter3d"
           }
          ],
          "scattercarpet": [
           {
            "marker": {
             "colorbar": {
              "outlinewidth": 0,
              "ticks": ""
             }
            },
            "type": "scattercarpet"
           }
          ],
          "scattergeo": [
           {
            "marker": {
             "colorbar": {
              "outlinewidth": 0,
              "ticks": ""
             }
            },
            "type": "scattergeo"
           }
          ],
          "scattergl": [
           {
            "marker": {
             "colorbar": {
              "outlinewidth": 0,
              "ticks": ""
             }
            },
            "type": "scattergl"
           }
          ],
          "scattermapbox": [
           {
            "marker": {
             "colorbar": {
              "outlinewidth": 0,
              "ticks": ""
             }
            },
            "type": "scattermapbox"
           }
          ],
          "scatterpolar": [
           {
            "marker": {
             "colorbar": {
              "outlinewidth": 0,
              "ticks": ""
             }
            },
            "type": "scatterpolar"
           }
          ],
          "scatterpolargl": [
           {
            "marker": {
             "colorbar": {
              "outlinewidth": 0,
              "ticks": ""
             }
            },
            "type": "scatterpolargl"
           }
          ],
          "scatterternary": [
           {
            "marker": {
             "colorbar": {
              "outlinewidth": 0,
              "ticks": ""
             }
            },
            "type": "scatterternary"
           }
          ],
          "surface": [
           {
            "colorbar": {
             "outlinewidth": 0,
             "ticks": ""
            },
            "colorscale": [
             [
              0,
              "#0d0887"
             ],
             [
              0.1111111111111111,
              "#46039f"
             ],
             [
              0.2222222222222222,
              "#7201a8"
             ],
             [
              0.3333333333333333,
              "#9c179e"
             ],
             [
              0.4444444444444444,
              "#bd3786"
             ],
             [
              0.5555555555555556,
              "#d8576b"
             ],
             [
              0.6666666666666666,
              "#ed7953"
             ],
             [
              0.7777777777777778,
              "#fb9f3a"
             ],
             [
              0.8888888888888888,
              "#fdca26"
             ],
             [
              1,
              "#f0f921"
             ]
            ],
            "type": "surface"
           }
          ],
          "table": [
           {
            "cells": {
             "fill": {
              "color": "#EBF0F8"
             },
             "line": {
              "color": "white"
             }
            },
            "header": {
             "fill": {
              "color": "#C8D4E3"
             },
             "line": {
              "color": "white"
             }
            },
            "type": "table"
           }
          ]
         },
         "layout": {
          "annotationdefaults": {
           "arrowcolor": "#2a3f5f",
           "arrowhead": 0,
           "arrowwidth": 1
          },
          "coloraxis": {
           "colorbar": {
            "outlinewidth": 0,
            "ticks": ""
           }
          },
          "colorscale": {
           "diverging": [
            [
             0,
             "#8e0152"
            ],
            [
             0.1,
             "#c51b7d"
            ],
            [
             0.2,
             "#de77ae"
            ],
            [
             0.3,
             "#f1b6da"
            ],
            [
             0.4,
             "#fde0ef"
            ],
            [
             0.5,
             "#f7f7f7"
            ],
            [
             0.6,
             "#e6f5d0"
            ],
            [
             0.7,
             "#b8e186"
            ],
            [
             0.8,
             "#7fbc41"
            ],
            [
             0.9,
             "#4d9221"
            ],
            [
             1,
             "#276419"
            ]
           ],
           "sequential": [
            [
             0,
             "#0d0887"
            ],
            [
             0.1111111111111111,
             "#46039f"
            ],
            [
             0.2222222222222222,
             "#7201a8"
            ],
            [
             0.3333333333333333,
             "#9c179e"
            ],
            [
             0.4444444444444444,
             "#bd3786"
            ],
            [
             0.5555555555555556,
             "#d8576b"
            ],
            [
             0.6666666666666666,
             "#ed7953"
            ],
            [
             0.7777777777777778,
             "#fb9f3a"
            ],
            [
             0.8888888888888888,
             "#fdca26"
            ],
            [
             1,
             "#f0f921"
            ]
           ],
           "sequentialminus": [
            [
             0,
             "#0d0887"
            ],
            [
             0.1111111111111111,
             "#46039f"
            ],
            [
             0.2222222222222222,
             "#7201a8"
            ],
            [
             0.3333333333333333,
             "#9c179e"
            ],
            [
             0.4444444444444444,
             "#bd3786"
            ],
            [
             0.5555555555555556,
             "#d8576b"
            ],
            [
             0.6666666666666666,
             "#ed7953"
            ],
            [
             0.7777777777777778,
             "#fb9f3a"
            ],
            [
             0.8888888888888888,
             "#fdca26"
            ],
            [
             1,
             "#f0f921"
            ]
           ]
          },
          "colorway": [
           "#636efa",
           "#EF553B",
           "#00cc96",
           "#ab63fa",
           "#FFA15A",
           "#19d3f3",
           "#FF6692",
           "#B6E880",
           "#FF97FF",
           "#FECB52"
          ],
          "font": {
           "color": "#2a3f5f"
          },
          "geo": {
           "bgcolor": "white",
           "lakecolor": "white",
           "landcolor": "#E5ECF6",
           "showlakes": true,
           "showland": true,
           "subunitcolor": "white"
          },
          "hoverlabel": {
           "align": "left"
          },
          "hovermode": "closest",
          "mapbox": {
           "style": "light"
          },
          "paper_bgcolor": "white",
          "plot_bgcolor": "#E5ECF6",
          "polar": {
           "angularaxis": {
            "gridcolor": "white",
            "linecolor": "white",
            "ticks": ""
           },
           "bgcolor": "#E5ECF6",
           "radialaxis": {
            "gridcolor": "white",
            "linecolor": "white",
            "ticks": ""
           }
          },
          "scene": {
           "xaxis": {
            "backgroundcolor": "#E5ECF6",
            "gridcolor": "white",
            "gridwidth": 2,
            "linecolor": "white",
            "showbackground": true,
            "ticks": "",
            "zerolinecolor": "white"
           },
           "yaxis": {
            "backgroundcolor": "#E5ECF6",
            "gridcolor": "white",
            "gridwidth": 2,
            "linecolor": "white",
            "showbackground": true,
            "ticks": "",
            "zerolinecolor": "white"
           },
           "zaxis": {
            "backgroundcolor": "#E5ECF6",
            "gridcolor": "white",
            "gridwidth": 2,
            "linecolor": "white",
            "showbackground": true,
            "ticks": "",
            "zerolinecolor": "white"
           }
          },
          "shapedefaults": {
           "line": {
            "color": "#2a3f5f"
           }
          },
          "ternary": {
           "aaxis": {
            "gridcolor": "white",
            "linecolor": "white",
            "ticks": ""
           },
           "baxis": {
            "gridcolor": "white",
            "linecolor": "white",
            "ticks": ""
           },
           "bgcolor": "#E5ECF6",
           "caxis": {
            "gridcolor": "white",
            "linecolor": "white",
            "ticks": ""
           }
          },
          "title": {
           "x": 0.05
          },
          "xaxis": {
           "automargin": true,
           "gridcolor": "white",
           "linecolor": "white",
           "ticks": "",
           "title": {
            "standoff": 15
           },
           "zerolinecolor": "white",
           "zerolinewidth": 2
          },
          "yaxis": {
           "automargin": true,
           "gridcolor": "white",
           "linecolor": "white",
           "ticks": "",
           "title": {
            "standoff": 15
           },
           "zerolinecolor": "white",
           "zerolinewidth": 2
          }
         }
        },
        "title": {
         "font": {
          "color": "#4D5663"
         },
         "text": "Total tests, cases and deaths per million distribution by countries, <br> (Countries with total tests per million > 100K)"
        },
        "xaxis": {
         "gridcolor": "#E1E5ED",
         "showgrid": true,
         "tickfont": {
          "color": "#4D5663"
         },
         "title": {
          "font": {
           "color": "#4D5663"
          },
          "text": ""
         },
         "zerolinecolor": "#E1E5ED"
        },
        "yaxis": {
         "gridcolor": "#E1E5ED",
         "showgrid": true,
         "tickfont": {
          "color": "#4D5663"
         },
         "title": {
          "font": {
           "color": "#4D5663"
          },
          "text": "Share of total tests, cases and deaths per million"
         },
         "zerolinecolor": "#E1E5ED"
        }
       }
      },
      "text/html": [
       "<div>\n",
       "        \n",
       "        \n",
       "            <div id=\"96c0b765-e6d7-45f3-a602-81729d0a8cf4\" class=\"plotly-graph-div\" style=\"height:525px; width:100%;\"></div>\n",
       "            <script type=\"text/javascript\">\n",
       "                require([\"plotly\"], function(Plotly) {\n",
       "                    window.PLOTLYENV=window.PLOTLYENV || {};\n",
       "                    window.PLOTLYENV.BASE_URL='https://plot.ly';\n",
       "                    \n",
       "                if (document.getElementById(\"96c0b765-e6d7-45f3-a602-81729d0a8cf4\")) {\n",
       "                    Plotly.newPlot(\n",
       "                        '96c0b765-e6d7-45f3-a602-81729d0a8cf4',\n",
       "                        [{\"marker\": {\"color\": \"rgba(255, 153, 51, 0.6)\", \"line\": {\"color\": \"rgba(255, 153, 51, 1.0)\", \"width\": 1}}, \"name\": \"total_tests_per_million\", \"orientation\": \"v\", \"text\": \"\", \"type\": \"bar\", \"x\": [\"Luxembourg\", \"United Arab Emirates\", \"Bahrain\", \"Malta\", \"Denmark\", \"Iceland\", \"Israel\", \"Russia\", \"Lithuania\", \"Australia\", \"United States\", \"Qatar\", \"Maldives\", \"United Kingdom\", \"Belgium\", \"Portugal\", \"Ireland\", \"Belarus\", \"New Zealand\", \"Kuwait\", \"Canada\", \"Saudi Arabia\", \"Singapore\", \"Latvia\", \"Serbia\", \"Kazakhstan\", \"Germany\", \"Austria\", \"Chile\", \"Switzerland\", \"Norway\", \"Estonia\"], \"y\": [741535, 626227, 588151, 369861, 343629, 244574, 233509, 229619, 218374, 213354, 208291, 196460, 183705, 180775, 176821, 176452, 148972, 146468, 136349, 134233, 130502, 127521, 125002, 123485, 122223, 122030, 121710, 117854, 109193, 105179, 104708, 104155]}, {\"marker\": {\"color\": \"rgba(55, 128, 191, 0.6)\", \"line\": {\"color\": \"rgba(55, 128, 191, 1.0)\", \"width\": 1}}, \"name\": \"total_cases_per_million\", \"orientation\": \"v\", \"text\": \"\", \"type\": \"bar\", \"x\": [\"Luxembourg\", \"United Arab Emirates\", \"Bahrain\", \"Malta\", \"Denmark\", \"Iceland\", \"Israel\", \"Russia\", \"Lithuania\", \"Australia\", \"United States\", \"Qatar\", \"Maldives\", \"United Kingdom\", \"Belgium\", \"Portugal\", \"Ireland\", \"Belarus\", \"New Zealand\", \"Kuwait\", \"Canada\", \"Saudi Arabia\", \"Singapore\", \"Latvia\", \"Serbia\", \"Kazakhstan\", \"Germany\", \"Austria\", \"Chile\", \"Switzerland\", \"Norway\", \"Estonia\"], \"y\": [12086, 6606, 27730, 3100, 2751, 5963, 11318, 6422, 916, 940, 16706, 40247, 11516, 4729, 6849, 5364, 5578, 7386, 270, 18298, 3271, 8694, 9577, 703, 4415, 6622, 2728, 2698, 20403, 4467, 1865, 1663]}, {\"marker\": {\"color\": \"rgba(50, 171, 96, 0.6)\", \"line\": {\"color\": \"rgba(50, 171, 96, 1.0)\", \"width\": 1}}, \"name\": \"total_deaths_per_million\", \"orientation\": \"v\", \"text\": \"\", \"type\": \"bar\", \"x\": [\"Luxembourg\", \"United Arab Emirates\", \"Bahrain\", \"Malta\", \"Denmark\", \"Iceland\", \"Israel\", \"Russia\", \"Lithuania\", \"Australia\", \"United States\", \"Qatar\", \"Maldives\", \"United Kingdom\", \"Belgium\", \"Portugal\", \"Ireland\", \"Belarus\", \"New Zealand\", \"Kuwait\", \"Canada\", \"Saudi Arabia\", \"Singapore\", \"Latvia\", \"Serbia\", \"Kazakhstan\", \"Germany\", \"Austria\", \"Chile\", \"Switzerland\", \"Norway\", \"Estonia\"], \"y\": [198, 37, 102, 20, 107, 29, 90, 109, 29, 17, 523, 66, 44, 609, 860, 175, 359, 65, 4, 118, 239, 100, 4, 17, 100, 87, 110, 80, 553, 198, 48, 47]}],\n",
       "                        {\"barmode\": \"stack\", \"legend\": {\"bgcolor\": \"#F5F6F9\", \"font\": {\"color\": \"#4D5663\"}, \"traceorder\": \"normal\"}, \"paper_bgcolor\": \"#F5F6F9\", \"plot_bgcolor\": \"#F5F6F9\", \"template\": {\"data\": {\"bar\": [{\"error_x\": {\"color\": \"#2a3f5f\"}, \"error_y\": {\"color\": \"#2a3f5f\"}, \"marker\": {\"line\": {\"color\": \"#E5ECF6\", \"width\": 0.5}}, \"type\": \"bar\"}], \"barpolar\": [{\"marker\": {\"line\": {\"color\": \"#E5ECF6\", \"width\": 0.5}}, \"type\": \"barpolar\"}], \"carpet\": [{\"aaxis\": {\"endlinecolor\": \"#2a3f5f\", \"gridcolor\": \"white\", \"linecolor\": \"white\", \"minorgridcolor\": \"white\", \"startlinecolor\": \"#2a3f5f\"}, \"baxis\": {\"endlinecolor\": \"#2a3f5f\", \"gridcolor\": \"white\", \"linecolor\": \"white\", \"minorgridcolor\": \"white\", \"startlinecolor\": \"#2a3f5f\"}, \"type\": \"carpet\"}], \"choropleth\": [{\"colorbar\": {\"outlinewidth\": 0, \"ticks\": \"\"}, \"type\": \"choropleth\"}], \"contour\": [{\"colorbar\": {\"outlinewidth\": 0, \"ticks\": \"\"}, \"colorscale\": [[0.0, \"#0d0887\"], [0.1111111111111111, \"#46039f\"], [0.2222222222222222, \"#7201a8\"], [0.3333333333333333, \"#9c179e\"], [0.4444444444444444, \"#bd3786\"], [0.5555555555555556, \"#d8576b\"], [0.6666666666666666, \"#ed7953\"], [0.7777777777777778, \"#fb9f3a\"], [0.8888888888888888, \"#fdca26\"], [1.0, \"#f0f921\"]], \"type\": \"contour\"}], \"contourcarpet\": [{\"colorbar\": {\"outlinewidth\": 0, \"ticks\": \"\"}, \"type\": \"contourcarpet\"}], \"heatmap\": [{\"colorbar\": {\"outlinewidth\": 0, \"ticks\": \"\"}, \"colorscale\": [[0.0, \"#0d0887\"], [0.1111111111111111, \"#46039f\"], [0.2222222222222222, \"#7201a8\"], [0.3333333333333333, \"#9c179e\"], [0.4444444444444444, \"#bd3786\"], [0.5555555555555556, \"#d8576b\"], [0.6666666666666666, \"#ed7953\"], [0.7777777777777778, \"#fb9f3a\"], [0.8888888888888888, \"#fdca26\"], [1.0, \"#f0f921\"]], \"type\": \"heatmap\"}], \"heatmapgl\": [{\"colorbar\": {\"outlinewidth\": 0, \"ticks\": \"\"}, \"colorscale\": [[0.0, \"#0d0887\"], [0.1111111111111111, \"#46039f\"], [0.2222222222222222, \"#7201a8\"], [0.3333333333333333, \"#9c179e\"], [0.4444444444444444, \"#bd3786\"], [0.5555555555555556, \"#d8576b\"], [0.6666666666666666, \"#ed7953\"], [0.7777777777777778, \"#fb9f3a\"], [0.8888888888888888, \"#fdca26\"], [1.0, \"#f0f921\"]], \"type\": \"heatmapgl\"}], \"histogram\": [{\"marker\": {\"colorbar\": {\"outlinewidth\": 0, \"ticks\": \"\"}}, \"type\": \"histogram\"}], \"histogram2d\": [{\"colorbar\": {\"outlinewidth\": 0, \"ticks\": \"\"}, \"colorscale\": [[0.0, \"#0d0887\"], [0.1111111111111111, \"#46039f\"], [0.2222222222222222, \"#7201a8\"], [0.3333333333333333, \"#9c179e\"], [0.4444444444444444, \"#bd3786\"], [0.5555555555555556, \"#d8576b\"], [0.6666666666666666, \"#ed7953\"], [0.7777777777777778, \"#fb9f3a\"], [0.8888888888888888, \"#fdca26\"], [1.0, \"#f0f921\"]], \"type\": \"histogram2d\"}], \"histogram2dcontour\": [{\"colorbar\": {\"outlinewidth\": 0, \"ticks\": \"\"}, \"colorscale\": [[0.0, \"#0d0887\"], [0.1111111111111111, \"#46039f\"], [0.2222222222222222, \"#7201a8\"], [0.3333333333333333, \"#9c179e\"], [0.4444444444444444, \"#bd3786\"], [0.5555555555555556, \"#d8576b\"], [0.6666666666666666, \"#ed7953\"], [0.7777777777777778, \"#fb9f3a\"], [0.8888888888888888, \"#fdca26\"], [1.0, \"#f0f921\"]], \"type\": \"histogram2dcontour\"}], \"mesh3d\": [{\"colorbar\": {\"outlinewidth\": 0, \"ticks\": \"\"}, \"type\": \"mesh3d\"}], \"parcoords\": [{\"line\": {\"colorbar\": {\"outlinewidth\": 0, \"ticks\": \"\"}}, \"type\": \"parcoords\"}], \"pie\": [{\"automargin\": true, \"type\": \"pie\"}], \"scatter\": [{\"marker\": {\"colorbar\": {\"outlinewidth\": 0, \"ticks\": \"\"}}, \"type\": \"scatter\"}], \"scatter3d\": [{\"line\": {\"colorbar\": {\"outlinewidth\": 0, \"ticks\": \"\"}}, \"marker\": {\"colorbar\": {\"outlinewidth\": 0, \"ticks\": \"\"}}, \"type\": \"scatter3d\"}], \"scattercarpet\": [{\"marker\": {\"colorbar\": {\"outlinewidth\": 0, \"ticks\": \"\"}}, \"type\": \"scattercarpet\"}], \"scattergeo\": [{\"marker\": {\"colorbar\": {\"outlinewidth\": 0, \"ticks\": \"\"}}, \"type\": \"scattergeo\"}], \"scattergl\": [{\"marker\": {\"colorbar\": {\"outlinewidth\": 0, \"ticks\": \"\"}}, \"type\": \"scattergl\"}], \"scattermapbox\": [{\"marker\": {\"colorbar\": {\"outlinewidth\": 0, \"ticks\": \"\"}}, \"type\": \"scattermapbox\"}], \"scatterpolar\": [{\"marker\": {\"colorbar\": {\"outlinewidth\": 0, \"ticks\": \"\"}}, \"type\": \"scatterpolar\"}], \"scatterpolargl\": [{\"marker\": {\"colorbar\": {\"outlinewidth\": 0, \"ticks\": \"\"}}, \"type\": \"scatterpolargl\"}], \"scatterternary\": [{\"marker\": {\"colorbar\": {\"outlinewidth\": 0, \"ticks\": \"\"}}, \"type\": \"scatterternary\"}], \"surface\": [{\"colorbar\": {\"outlinewidth\": 0, \"ticks\": \"\"}, \"colorscale\": [[0.0, \"#0d0887\"], [0.1111111111111111, \"#46039f\"], [0.2222222222222222, \"#7201a8\"], [0.3333333333333333, \"#9c179e\"], [0.4444444444444444, \"#bd3786\"], [0.5555555555555556, \"#d8576b\"], [0.6666666666666666, \"#ed7953\"], [0.7777777777777778, \"#fb9f3a\"], [0.8888888888888888, \"#fdca26\"], [1.0, \"#f0f921\"]], \"type\": \"surface\"}], \"table\": [{\"cells\": {\"fill\": {\"color\": \"#EBF0F8\"}, \"line\": {\"color\": \"white\"}}, \"header\": {\"fill\": {\"color\": \"#C8D4E3\"}, \"line\": {\"color\": \"white\"}}, \"type\": \"table\"}]}, \"layout\": {\"annotationdefaults\": {\"arrowcolor\": \"#2a3f5f\", \"arrowhead\": 0, \"arrowwidth\": 1}, \"coloraxis\": {\"colorbar\": {\"outlinewidth\": 0, \"ticks\": \"\"}}, \"colorscale\": {\"diverging\": [[0, \"#8e0152\"], [0.1, \"#c51b7d\"], [0.2, \"#de77ae\"], [0.3, \"#f1b6da\"], [0.4, \"#fde0ef\"], [0.5, \"#f7f7f7\"], [0.6, \"#e6f5d0\"], [0.7, \"#b8e186\"], [0.8, \"#7fbc41\"], [0.9, \"#4d9221\"], [1, \"#276419\"]], \"sequential\": [[0.0, \"#0d0887\"], [0.1111111111111111, \"#46039f\"], [0.2222222222222222, \"#7201a8\"], [0.3333333333333333, \"#9c179e\"], [0.4444444444444444, \"#bd3786\"], [0.5555555555555556, \"#d8576b\"], [0.6666666666666666, \"#ed7953\"], [0.7777777777777778, \"#fb9f3a\"], [0.8888888888888888, \"#fdca26\"], [1.0, \"#f0f921\"]], \"sequentialminus\": [[0.0, \"#0d0887\"], [0.1111111111111111, \"#46039f\"], [0.2222222222222222, \"#7201a8\"], [0.3333333333333333, \"#9c179e\"], [0.4444444444444444, \"#bd3786\"], [0.5555555555555556, \"#d8576b\"], [0.6666666666666666, \"#ed7953\"], [0.7777777777777778, \"#fb9f3a\"], [0.8888888888888888, \"#fdca26\"], [1.0, \"#f0f921\"]]}, \"colorway\": [\"#636efa\", \"#EF553B\", \"#00cc96\", \"#ab63fa\", \"#FFA15A\", \"#19d3f3\", \"#FF6692\", \"#B6E880\", \"#FF97FF\", \"#FECB52\"], \"font\": {\"color\": \"#2a3f5f\"}, \"geo\": {\"bgcolor\": \"white\", \"lakecolor\": \"white\", \"landcolor\": \"#E5ECF6\", \"showlakes\": true, \"showland\": true, \"subunitcolor\": \"white\"}, \"hoverlabel\": {\"align\": \"left\"}, \"hovermode\": \"closest\", \"mapbox\": {\"style\": \"light\"}, \"paper_bgcolor\": \"white\", \"plot_bgcolor\": \"#E5ECF6\", \"polar\": {\"angularaxis\": {\"gridcolor\": \"white\", \"linecolor\": \"white\", \"ticks\": \"\"}, \"bgcolor\": \"#E5ECF6\", \"radialaxis\": {\"gridcolor\": \"white\", \"linecolor\": \"white\", \"ticks\": \"\"}}, \"scene\": {\"xaxis\": {\"backgroundcolor\": \"#E5ECF6\", \"gridcolor\": \"white\", \"gridwidth\": 2, \"linecolor\": \"white\", \"showbackground\": true, \"ticks\": \"\", \"zerolinecolor\": \"white\"}, \"yaxis\": {\"backgroundcolor\": \"#E5ECF6\", \"gridcolor\": \"white\", \"gridwidth\": 2, \"linecolor\": \"white\", \"showbackground\": true, \"ticks\": \"\", \"zerolinecolor\": \"white\"}, \"zaxis\": {\"backgroundcolor\": \"#E5ECF6\", \"gridcolor\": \"white\", \"gridwidth\": 2, \"linecolor\": \"white\", \"showbackground\": true, \"ticks\": \"\", \"zerolinecolor\": \"white\"}}, \"shapedefaults\": {\"line\": {\"color\": \"#2a3f5f\"}}, \"ternary\": {\"aaxis\": {\"gridcolor\": \"white\", \"linecolor\": \"white\", \"ticks\": \"\"}, \"baxis\": {\"gridcolor\": \"white\", \"linecolor\": \"white\", \"ticks\": \"\"}, \"bgcolor\": \"#E5ECF6\", \"caxis\": {\"gridcolor\": \"white\", \"linecolor\": \"white\", \"ticks\": \"\"}}, \"title\": {\"x\": 0.05}, \"xaxis\": {\"automargin\": true, \"gridcolor\": \"white\", \"linecolor\": \"white\", \"ticks\": \"\", \"title\": {\"standoff\": 15}, \"zerolinecolor\": \"white\", \"zerolinewidth\": 2}, \"yaxis\": {\"automargin\": true, \"gridcolor\": \"white\", \"linecolor\": \"white\", \"ticks\": \"\", \"title\": {\"standoff\": 15}, \"zerolinecolor\": \"white\", \"zerolinewidth\": 2}}}, \"title\": {\"font\": {\"color\": \"#4D5663\"}, \"text\": \"Total tests, cases and deaths per million distribution by countries, <br> (Countries with total tests per million > 100K)\"}, \"xaxis\": {\"gridcolor\": \"#E1E5ED\", \"showgrid\": true, \"tickfont\": {\"color\": \"#4D5663\"}, \"title\": {\"font\": {\"color\": \"#4D5663\"}, \"text\": \"\"}, \"zerolinecolor\": \"#E1E5ED\"}, \"yaxis\": {\"gridcolor\": \"#E1E5ED\", \"showgrid\": true, \"tickfont\": {\"color\": \"#4D5663\"}, \"title\": {\"font\": {\"color\": \"#4D5663\"}, \"text\": \"Share of total tests, cases and deaths per million\"}, \"zerolinecolor\": \"#E1E5ED\"}},\n",
       "                        {\"showLink\": true, \"linkText\": \"Export to plot.ly\", \"plotlyServerURL\": \"https://plot.ly\", \"responsive\": true}\n",
       "                    ).then(function(){\n",
       "                            \n",
       "var gd = document.getElementById('96c0b765-e6d7-45f3-a602-81729d0a8cf4');\n",
       "var x = new MutationObserver(function (mutations, observer) {{\n",
       "        var display = window.getComputedStyle(gd).display;\n",
       "        if (!display || display === 'none') {{\n",
       "            console.log([gd, 'removed!']);\n",
       "            Plotly.purge(gd);\n",
       "            observer.disconnect();\n",
       "        }}\n",
       "}});\n",
       "\n",
       "// Listen for the removal of the full notebook cells\n",
       "var notebookContainer = gd.closest('#notebook-container');\n",
       "if (notebookContainer) {{\n",
       "    x.observe(notebookContainer, {childList: true});\n",
       "}}\n",
       "\n",
       "// Listen for the clearing of the current output cell\n",
       "var outputEl = gd.closest('.output');\n",
       "if (outputEl) {{\n",
       "    x.observe(outputEl, {childList: true});\n",
       "}}\n",
       "\n",
       "                        })\n",
       "                };\n",
       "                });\n",
       "            </script>\n",
       "        </div>"
      ]
     },
     "metadata": {},
     "output_type": "display_data"
    }
   ],
   "source": [
    "# build stacked bar to total tests, cases and deaths per million of all countries with total tests per million above 100K\n",
    "values_per_million.astype(int).iplot(kind=\"bar\", barmode=\"stack\", yTitle='Share of total tests, cases and deaths per million',\n",
    "                            title='Total tests, cases and deaths per million distribution by countries, <br> (Countries with total tests per million > 100K)')"
   ]
  },
  {
   "cell_type": "code",
   "execution_count": 11,
   "metadata": {},
   "outputs": [],
   "source": [
    "split_continent=survey.copy()\n",
    "split_continent['total_tests_per_million']=(split_continent['total_tests_per_thousand']*1000000)/1000\n",
    "grouped = split_continent.groupby('continent')\n",
    "split_continent_grouped=grouped['total_tests_per_million', 'total_cases_per_million', 'total_deaths_per_million']\n",
    "test_per_mill_mean_c=split_continent_grouped.mean()\n",
    "test_per_mill_mean_c=test_per_mill_mean_c.sort_values(ascending=False, by=\"total_tests_per_million\")"
   ]
  },
  {
   "cell_type": "code",
   "execution_count": 12,
   "metadata": {},
   "outputs": [
    {
     "data": {
      "application/vnd.plotly.v1+json": {
       "config": {
        "linkText": "Export to plot.ly",
        "plotlyServerURL": "https://plot.ly",
        "showLink": true
       },
       "data": [
        {
         "marker": {
          "color": "rgba(255, 153, 51, 0.6)",
          "line": {
           "color": "rgba(255, 153, 51, 1.0)",
           "width": 1
          }
         },
         "name": "total_tests_per_million",
         "orientation": "v",
         "text": "",
         "type": "bar",
         "x": [
          "Russia",
          "USA",
          "Europe",
          "Oceania",
          "Asia",
          "North America",
          "South America",
          "Africa"
         ],
         "y": [
          229619,
          208291,
          145700,
          119402,
          106301,
          49098,
          33605,
          15214
         ]
        },
        {
         "marker": {
          "color": "rgba(55, 128, 191, 0.6)",
          "line": {
           "color": "rgba(55, 128, 191, 1.0)",
           "width": 1
          }
         },
         "name": "total_cases_per_million",
         "orientation": "v",
         "text": "",
         "type": "bar",
         "x": [
          "Russia",
          "USA",
          "Europe",
          "Oceania",
          "Asia",
          "North America",
          "South America",
          "Africa"
         ],
         "y": [
          6422,
          16706,
          4658,
          834,
          4626,
          3445,
          7598,
          1121
         ]
        },
        {
         "marker": {
          "color": "rgba(50, 171, 96, 0.6)",
          "line": {
           "color": "rgba(50, 171, 96, 1.0)",
           "width": 1
          }
         },
         "name": "total_deaths_per_million",
         "orientation": "v",
         "text": "",
         "type": "bar",
         "x": [
          "Russia",
          "USA",
          "Europe",
          "Oceania",
          "Asia",
          "North America",
          "South America",
          "Africa"
         ],
         "y": [
          109,
          523,
          195,
          11,
          45,
          85,
          247,
          18
         ]
        }
       ],
       "layout": {
        "barmode": "stack",
        "legend": {
         "bgcolor": "#F5F6F9",
         "font": {
          "color": "#4D5663"
         },
         "traceorder": "normal"
        },
        "paper_bgcolor": "#F5F6F9",
        "plot_bgcolor": "#F5F6F9",
        "template": {
         "data": {
          "bar": [
           {
            "error_x": {
             "color": "#2a3f5f"
            },
            "error_y": {
             "color": "#2a3f5f"
            },
            "marker": {
             "line": {
              "color": "#E5ECF6",
              "width": 0.5
             }
            },
            "type": "bar"
           }
          ],
          "barpolar": [
           {
            "marker": {
             "line": {
              "color": "#E5ECF6",
              "width": 0.5
             }
            },
            "type": "barpolar"
           }
          ],
          "carpet": [
           {
            "aaxis": {
             "endlinecolor": "#2a3f5f",
             "gridcolor": "white",
             "linecolor": "white",
             "minorgridcolor": "white",
             "startlinecolor": "#2a3f5f"
            },
            "baxis": {
             "endlinecolor": "#2a3f5f",
             "gridcolor": "white",
             "linecolor": "white",
             "minorgridcolor": "white",
             "startlinecolor": "#2a3f5f"
            },
            "type": "carpet"
           }
          ],
          "choropleth": [
           {
            "colorbar": {
             "outlinewidth": 0,
             "ticks": ""
            },
            "type": "choropleth"
           }
          ],
          "contour": [
           {
            "colorbar": {
             "outlinewidth": 0,
             "ticks": ""
            },
            "colorscale": [
             [
              0,
              "#0d0887"
             ],
             [
              0.1111111111111111,
              "#46039f"
             ],
             [
              0.2222222222222222,
              "#7201a8"
             ],
             [
              0.3333333333333333,
              "#9c179e"
             ],
             [
              0.4444444444444444,
              "#bd3786"
             ],
             [
              0.5555555555555556,
              "#d8576b"
             ],
             [
              0.6666666666666666,
              "#ed7953"
             ],
             [
              0.7777777777777778,
              "#fb9f3a"
             ],
             [
              0.8888888888888888,
              "#fdca26"
             ],
             [
              1,
              "#f0f921"
             ]
            ],
            "type": "contour"
           }
          ],
          "contourcarpet": [
           {
            "colorbar": {
             "outlinewidth": 0,
             "ticks": ""
            },
            "type": "contourcarpet"
           }
          ],
          "heatmap": [
           {
            "colorbar": {
             "outlinewidth": 0,
             "ticks": ""
            },
            "colorscale": [
             [
              0,
              "#0d0887"
             ],
             [
              0.1111111111111111,
              "#46039f"
             ],
             [
              0.2222222222222222,
              "#7201a8"
             ],
             [
              0.3333333333333333,
              "#9c179e"
             ],
             [
              0.4444444444444444,
              "#bd3786"
             ],
             [
              0.5555555555555556,
              "#d8576b"
             ],
             [
              0.6666666666666666,
              "#ed7953"
             ],
             [
              0.7777777777777778,
              "#fb9f3a"
             ],
             [
              0.8888888888888888,
              "#fdca26"
             ],
             [
              1,
              "#f0f921"
             ]
            ],
            "type": "heatmap"
           }
          ],
          "heatmapgl": [
           {
            "colorbar": {
             "outlinewidth": 0,
             "ticks": ""
            },
            "colorscale": [
             [
              0,
              "#0d0887"
             ],
             [
              0.1111111111111111,
              "#46039f"
             ],
             [
              0.2222222222222222,
              "#7201a8"
             ],
             [
              0.3333333333333333,
              "#9c179e"
             ],
             [
              0.4444444444444444,
              "#bd3786"
             ],
             [
              0.5555555555555556,
              "#d8576b"
             ],
             [
              0.6666666666666666,
              "#ed7953"
             ],
             [
              0.7777777777777778,
              "#fb9f3a"
             ],
             [
              0.8888888888888888,
              "#fdca26"
             ],
             [
              1,
              "#f0f921"
             ]
            ],
            "type": "heatmapgl"
           }
          ],
          "histogram": [
           {
            "marker": {
             "colorbar": {
              "outlinewidth": 0,
              "ticks": ""
             }
            },
            "type": "histogram"
           }
          ],
          "histogram2d": [
           {
            "colorbar": {
             "outlinewidth": 0,
             "ticks": ""
            },
            "colorscale": [
             [
              0,
              "#0d0887"
             ],
             [
              0.1111111111111111,
              "#46039f"
             ],
             [
              0.2222222222222222,
              "#7201a8"
             ],
             [
              0.3333333333333333,
              "#9c179e"
             ],
             [
              0.4444444444444444,
              "#bd3786"
             ],
             [
              0.5555555555555556,
              "#d8576b"
             ],
             [
              0.6666666666666666,
              "#ed7953"
             ],
             [
              0.7777777777777778,
              "#fb9f3a"
             ],
             [
              0.8888888888888888,
              "#fdca26"
             ],
             [
              1,
              "#f0f921"
             ]
            ],
            "type": "histogram2d"
           }
          ],
          "histogram2dcontour": [
           {
            "colorbar": {
             "outlinewidth": 0,
             "ticks": ""
            },
            "colorscale": [
             [
              0,
              "#0d0887"
             ],
             [
              0.1111111111111111,
              "#46039f"
             ],
             [
              0.2222222222222222,
              "#7201a8"
             ],
             [
              0.3333333333333333,
              "#9c179e"
             ],
             [
              0.4444444444444444,
              "#bd3786"
             ],
             [
              0.5555555555555556,
              "#d8576b"
             ],
             [
              0.6666666666666666,
              "#ed7953"
             ],
             [
              0.7777777777777778,
              "#fb9f3a"
             ],
             [
              0.8888888888888888,
              "#fdca26"
             ],
             [
              1,
              "#f0f921"
             ]
            ],
            "type": "histogram2dcontour"
           }
          ],
          "mesh3d": [
           {
            "colorbar": {
             "outlinewidth": 0,
             "ticks": ""
            },
            "type": "mesh3d"
           }
          ],
          "parcoords": [
           {
            "line": {
             "colorbar": {
              "outlinewidth": 0,
              "ticks": ""
             }
            },
            "type": "parcoords"
           }
          ],
          "pie": [
           {
            "automargin": true,
            "type": "pie"
           }
          ],
          "scatter": [
           {
            "marker": {
             "colorbar": {
              "outlinewidth": 0,
              "ticks": ""
             }
            },
            "type": "scatter"
           }
          ],
          "scatter3d": [
           {
            "line": {
             "colorbar": {
              "outlinewidth": 0,
              "ticks": ""
             }
            },
            "marker": {
             "colorbar": {
              "outlinewidth": 0,
              "ticks": ""
             }
            },
            "type": "scatter3d"
           }
          ],
          "scattercarpet": [
           {
            "marker": {
             "colorbar": {
              "outlinewidth": 0,
              "ticks": ""
             }
            },
            "type": "scattercarpet"
           }
          ],
          "scattergeo": [
           {
            "marker": {
             "colorbar": {
              "outlinewidth": 0,
              "ticks": ""
             }
            },
            "type": "scattergeo"
           }
          ],
          "scattergl": [
           {
            "marker": {
             "colorbar": {
              "outlinewidth": 0,
              "ticks": ""
             }
            },
            "type": "scattergl"
           }
          ],
          "scattermapbox": [
           {
            "marker": {
             "colorbar": {
              "outlinewidth": 0,
              "ticks": ""
             }
            },
            "type": "scattermapbox"
           }
          ],
          "scatterpolar": [
           {
            "marker": {
             "colorbar": {
              "outlinewidth": 0,
              "ticks": ""
             }
            },
            "type": "scatterpolar"
           }
          ],
          "scatterpolargl": [
           {
            "marker": {
             "colorbar": {
              "outlinewidth": 0,
              "ticks": ""
             }
            },
            "type": "scatterpolargl"
           }
          ],
          "scatterternary": [
           {
            "marker": {
             "colorbar": {
              "outlinewidth": 0,
              "ticks": ""
             }
            },
            "type": "scatterternary"
           }
          ],
          "surface": [
           {
            "colorbar": {
             "outlinewidth": 0,
             "ticks": ""
            },
            "colorscale": [
             [
              0,
              "#0d0887"
             ],
             [
              0.1111111111111111,
              "#46039f"
             ],
             [
              0.2222222222222222,
              "#7201a8"
             ],
             [
              0.3333333333333333,
              "#9c179e"
             ],
             [
              0.4444444444444444,
              "#bd3786"
             ],
             [
              0.5555555555555556,
              "#d8576b"
             ],
             [
              0.6666666666666666,
              "#ed7953"
             ],
             [
              0.7777777777777778,
              "#fb9f3a"
             ],
             [
              0.8888888888888888,
              "#fdca26"
             ],
             [
              1,
              "#f0f921"
             ]
            ],
            "type": "surface"
           }
          ],
          "table": [
           {
            "cells": {
             "fill": {
              "color": "#EBF0F8"
             },
             "line": {
              "color": "white"
             }
            },
            "header": {
             "fill": {
              "color": "#C8D4E3"
             },
             "line": {
              "color": "white"
             }
            },
            "type": "table"
           }
          ]
         },
         "layout": {
          "annotationdefaults": {
           "arrowcolor": "#2a3f5f",
           "arrowhead": 0,
           "arrowwidth": 1
          },
          "coloraxis": {
           "colorbar": {
            "outlinewidth": 0,
            "ticks": ""
           }
          },
          "colorscale": {
           "diverging": [
            [
             0,
             "#8e0152"
            ],
            [
             0.1,
             "#c51b7d"
            ],
            [
             0.2,
             "#de77ae"
            ],
            [
             0.3,
             "#f1b6da"
            ],
            [
             0.4,
             "#fde0ef"
            ],
            [
             0.5,
             "#f7f7f7"
            ],
            [
             0.6,
             "#e6f5d0"
            ],
            [
             0.7,
             "#b8e186"
            ],
            [
             0.8,
             "#7fbc41"
            ],
            [
             0.9,
             "#4d9221"
            ],
            [
             1,
             "#276419"
            ]
           ],
           "sequential": [
            [
             0,
             "#0d0887"
            ],
            [
             0.1111111111111111,
             "#46039f"
            ],
            [
             0.2222222222222222,
             "#7201a8"
            ],
            [
             0.3333333333333333,
             "#9c179e"
            ],
            [
             0.4444444444444444,
             "#bd3786"
            ],
            [
             0.5555555555555556,
             "#d8576b"
            ],
            [
             0.6666666666666666,
             "#ed7953"
            ],
            [
             0.7777777777777778,
             "#fb9f3a"
            ],
            [
             0.8888888888888888,
             "#fdca26"
            ],
            [
             1,
             "#f0f921"
            ]
           ],
           "sequentialminus": [
            [
             0,
             "#0d0887"
            ],
            [
             0.1111111111111111,
             "#46039f"
            ],
            [
             0.2222222222222222,
             "#7201a8"
            ],
            [
             0.3333333333333333,
             "#9c179e"
            ],
            [
             0.4444444444444444,
             "#bd3786"
            ],
            [
             0.5555555555555556,
             "#d8576b"
            ],
            [
             0.6666666666666666,
             "#ed7953"
            ],
            [
             0.7777777777777778,
             "#fb9f3a"
            ],
            [
             0.8888888888888888,
             "#fdca26"
            ],
            [
             1,
             "#f0f921"
            ]
           ]
          },
          "colorway": [
           "#636efa",
           "#EF553B",
           "#00cc96",
           "#ab63fa",
           "#FFA15A",
           "#19d3f3",
           "#FF6692",
           "#B6E880",
           "#FF97FF",
           "#FECB52"
          ],
          "font": {
           "color": "#2a3f5f"
          },
          "geo": {
           "bgcolor": "white",
           "lakecolor": "white",
           "landcolor": "#E5ECF6",
           "showlakes": true,
           "showland": true,
           "subunitcolor": "white"
          },
          "hoverlabel": {
           "align": "left"
          },
          "hovermode": "closest",
          "mapbox": {
           "style": "light"
          },
          "paper_bgcolor": "white",
          "plot_bgcolor": "#E5ECF6",
          "polar": {
           "angularaxis": {
            "gridcolor": "white",
            "linecolor": "white",
            "ticks": ""
           },
           "bgcolor": "#E5ECF6",
           "radialaxis": {
            "gridcolor": "white",
            "linecolor": "white",
            "ticks": ""
           }
          },
          "scene": {
           "xaxis": {
            "backgroundcolor": "#E5ECF6",
            "gridcolor": "white",
            "gridwidth": 2,
            "linecolor": "white",
            "showbackground": true,
            "ticks": "",
            "zerolinecolor": "white"
           },
           "yaxis": {
            "backgroundcolor": "#E5ECF6",
            "gridcolor": "white",
            "gridwidth": 2,
            "linecolor": "white",
            "showbackground": true,
            "ticks": "",
            "zerolinecolor": "white"
           },
           "zaxis": {
            "backgroundcolor": "#E5ECF6",
            "gridcolor": "white",
            "gridwidth": 2,
            "linecolor": "white",
            "showbackground": true,
            "ticks": "",
            "zerolinecolor": "white"
           }
          },
          "shapedefaults": {
           "line": {
            "color": "#2a3f5f"
           }
          },
          "ternary": {
           "aaxis": {
            "gridcolor": "white",
            "linecolor": "white",
            "ticks": ""
           },
           "baxis": {
            "gridcolor": "white",
            "linecolor": "white",
            "ticks": ""
           },
           "bgcolor": "#E5ECF6",
           "caxis": {
            "gridcolor": "white",
            "linecolor": "white",
            "ticks": ""
           }
          },
          "title": {
           "x": 0.05
          },
          "xaxis": {
           "automargin": true,
           "gridcolor": "white",
           "linecolor": "white",
           "ticks": "",
           "title": {
            "standoff": 15
           },
           "zerolinecolor": "white",
           "zerolinewidth": 2
          },
          "yaxis": {
           "automargin": true,
           "gridcolor": "white",
           "linecolor": "white",
           "ticks": "",
           "title": {
            "standoff": 15
           },
           "zerolinecolor": "white",
           "zerolinewidth": 2
          }
         }
        },
        "title": {
         "font": {
          "color": "#4D5663"
         },
         "text": "Average total tests, cases and deaths per million distribution by continent"
        },
        "xaxis": {
         "gridcolor": "#E1E5ED",
         "showgrid": true,
         "tickfont": {
          "color": "#4D5663"
         },
         "title": {
          "font": {
           "color": "#4D5663"
          },
          "text": ""
         },
         "zerolinecolor": "#E1E5ED"
        },
        "yaxis": {
         "gridcolor": "#E1E5ED",
         "showgrid": true,
         "tickfont": {
          "color": "#4D5663"
         },
         "title": {
          "font": {
           "color": "#4D5663"
          },
          "text": "Share of avg. total tests, cases and deaths per million"
         },
         "zerolinecolor": "#E1E5ED"
        }
       }
      },
      "text/html": [
       "<div>\n",
       "        \n",
       "        \n",
       "            <div id=\"4458ce43-b699-4213-bf61-5173bac7d7f0\" class=\"plotly-graph-div\" style=\"height:525px; width:100%;\"></div>\n",
       "            <script type=\"text/javascript\">\n",
       "                require([\"plotly\"], function(Plotly) {\n",
       "                    window.PLOTLYENV=window.PLOTLYENV || {};\n",
       "                    window.PLOTLYENV.BASE_URL='https://plot.ly';\n",
       "                    \n",
       "                if (document.getElementById(\"4458ce43-b699-4213-bf61-5173bac7d7f0\")) {\n",
       "                    Plotly.newPlot(\n",
       "                        '4458ce43-b699-4213-bf61-5173bac7d7f0',\n",
       "                        [{\"marker\": {\"color\": \"rgba(255, 153, 51, 0.6)\", \"line\": {\"color\": \"rgba(255, 153, 51, 1.0)\", \"width\": 1}}, \"name\": \"total_tests_per_million\", \"orientation\": \"v\", \"text\": \"\", \"type\": \"bar\", \"x\": [\"Russia\", \"USA\", \"Europe\", \"Oceania\", \"Asia\", \"North America\", \"South America\", \"Africa\"], \"y\": [229619, 208291, 145700, 119402, 106301, 49098, 33605, 15214]}, {\"marker\": {\"color\": \"rgba(55, 128, 191, 0.6)\", \"line\": {\"color\": \"rgba(55, 128, 191, 1.0)\", \"width\": 1}}, \"name\": \"total_cases_per_million\", \"orientation\": \"v\", \"text\": \"\", \"type\": \"bar\", \"x\": [\"Russia\", \"USA\", \"Europe\", \"Oceania\", \"Asia\", \"North America\", \"South America\", \"Africa\"], \"y\": [6422, 16706, 4658, 834, 4626, 3445, 7598, 1121]}, {\"marker\": {\"color\": \"rgba(50, 171, 96, 0.6)\", \"line\": {\"color\": \"rgba(50, 171, 96, 1.0)\", \"width\": 1}}, \"name\": \"total_deaths_per_million\", \"orientation\": \"v\", \"text\": \"\", \"type\": \"bar\", \"x\": [\"Russia\", \"USA\", \"Europe\", \"Oceania\", \"Asia\", \"North America\", \"South America\", \"Africa\"], \"y\": [109, 523, 195, 11, 45, 85, 247, 18]}],\n",
       "                        {\"barmode\": \"stack\", \"legend\": {\"bgcolor\": \"#F5F6F9\", \"font\": {\"color\": \"#4D5663\"}, \"traceorder\": \"normal\"}, \"paper_bgcolor\": \"#F5F6F9\", \"plot_bgcolor\": \"#F5F6F9\", \"template\": {\"data\": {\"bar\": [{\"error_x\": {\"color\": \"#2a3f5f\"}, \"error_y\": {\"color\": \"#2a3f5f\"}, \"marker\": {\"line\": {\"color\": \"#E5ECF6\", \"width\": 0.5}}, \"type\": \"bar\"}], \"barpolar\": [{\"marker\": {\"line\": {\"color\": \"#E5ECF6\", \"width\": 0.5}}, \"type\": \"barpolar\"}], \"carpet\": [{\"aaxis\": {\"endlinecolor\": \"#2a3f5f\", \"gridcolor\": \"white\", \"linecolor\": \"white\", \"minorgridcolor\": \"white\", \"startlinecolor\": \"#2a3f5f\"}, \"baxis\": {\"endlinecolor\": \"#2a3f5f\", \"gridcolor\": \"white\", \"linecolor\": \"white\", \"minorgridcolor\": \"white\", \"startlinecolor\": \"#2a3f5f\"}, \"type\": \"carpet\"}], \"choropleth\": [{\"colorbar\": {\"outlinewidth\": 0, \"ticks\": \"\"}, \"type\": \"choropleth\"}], \"contour\": [{\"colorbar\": {\"outlinewidth\": 0, \"ticks\": \"\"}, \"colorscale\": [[0.0, \"#0d0887\"], [0.1111111111111111, \"#46039f\"], [0.2222222222222222, \"#7201a8\"], [0.3333333333333333, \"#9c179e\"], [0.4444444444444444, \"#bd3786\"], [0.5555555555555556, \"#d8576b\"], [0.6666666666666666, \"#ed7953\"], [0.7777777777777778, \"#fb9f3a\"], [0.8888888888888888, \"#fdca26\"], [1.0, \"#f0f921\"]], \"type\": \"contour\"}], \"contourcarpet\": [{\"colorbar\": {\"outlinewidth\": 0, \"ticks\": \"\"}, \"type\": \"contourcarpet\"}], \"heatmap\": [{\"colorbar\": {\"outlinewidth\": 0, \"ticks\": \"\"}, \"colorscale\": [[0.0, \"#0d0887\"], [0.1111111111111111, \"#46039f\"], [0.2222222222222222, \"#7201a8\"], [0.3333333333333333, \"#9c179e\"], [0.4444444444444444, \"#bd3786\"], [0.5555555555555556, \"#d8576b\"], [0.6666666666666666, \"#ed7953\"], [0.7777777777777778, \"#fb9f3a\"], [0.8888888888888888, \"#fdca26\"], [1.0, \"#f0f921\"]], \"type\": \"heatmap\"}], \"heatmapgl\": [{\"colorbar\": {\"outlinewidth\": 0, \"ticks\": \"\"}, \"colorscale\": [[0.0, \"#0d0887\"], [0.1111111111111111, \"#46039f\"], [0.2222222222222222, \"#7201a8\"], [0.3333333333333333, \"#9c179e\"], [0.4444444444444444, \"#bd3786\"], [0.5555555555555556, \"#d8576b\"], [0.6666666666666666, \"#ed7953\"], [0.7777777777777778, \"#fb9f3a\"], [0.8888888888888888, \"#fdca26\"], [1.0, \"#f0f921\"]], \"type\": \"heatmapgl\"}], \"histogram\": [{\"marker\": {\"colorbar\": {\"outlinewidth\": 0, \"ticks\": \"\"}}, \"type\": \"histogram\"}], \"histogram2d\": [{\"colorbar\": {\"outlinewidth\": 0, \"ticks\": \"\"}, \"colorscale\": [[0.0, \"#0d0887\"], [0.1111111111111111, \"#46039f\"], [0.2222222222222222, \"#7201a8\"], [0.3333333333333333, \"#9c179e\"], [0.4444444444444444, \"#bd3786\"], [0.5555555555555556, \"#d8576b\"], [0.6666666666666666, \"#ed7953\"], [0.7777777777777778, \"#fb9f3a\"], [0.8888888888888888, \"#fdca26\"], [1.0, \"#f0f921\"]], \"type\": \"histogram2d\"}], \"histogram2dcontour\": [{\"colorbar\": {\"outlinewidth\": 0, \"ticks\": \"\"}, \"colorscale\": [[0.0, \"#0d0887\"], [0.1111111111111111, \"#46039f\"], [0.2222222222222222, \"#7201a8\"], [0.3333333333333333, \"#9c179e\"], [0.4444444444444444, \"#bd3786\"], [0.5555555555555556, \"#d8576b\"], [0.6666666666666666, \"#ed7953\"], [0.7777777777777778, \"#fb9f3a\"], [0.8888888888888888, \"#fdca26\"], [1.0, \"#f0f921\"]], \"type\": \"histogram2dcontour\"}], \"mesh3d\": [{\"colorbar\": {\"outlinewidth\": 0, \"ticks\": \"\"}, \"type\": \"mesh3d\"}], \"parcoords\": [{\"line\": {\"colorbar\": {\"outlinewidth\": 0, \"ticks\": \"\"}}, \"type\": \"parcoords\"}], \"pie\": [{\"automargin\": true, \"type\": \"pie\"}], \"scatter\": [{\"marker\": {\"colorbar\": {\"outlinewidth\": 0, \"ticks\": \"\"}}, \"type\": \"scatter\"}], \"scatter3d\": [{\"line\": {\"colorbar\": {\"outlinewidth\": 0, \"ticks\": \"\"}}, \"marker\": {\"colorbar\": {\"outlinewidth\": 0, \"ticks\": \"\"}}, \"type\": \"scatter3d\"}], \"scattercarpet\": [{\"marker\": {\"colorbar\": {\"outlinewidth\": 0, \"ticks\": \"\"}}, \"type\": \"scattercarpet\"}], \"scattergeo\": [{\"marker\": {\"colorbar\": {\"outlinewidth\": 0, \"ticks\": \"\"}}, \"type\": \"scattergeo\"}], \"scattergl\": [{\"marker\": {\"colorbar\": {\"outlinewidth\": 0, \"ticks\": \"\"}}, \"type\": \"scattergl\"}], \"scattermapbox\": [{\"marker\": {\"colorbar\": {\"outlinewidth\": 0, \"ticks\": \"\"}}, \"type\": \"scattermapbox\"}], \"scatterpolar\": [{\"marker\": {\"colorbar\": {\"outlinewidth\": 0, \"ticks\": \"\"}}, \"type\": \"scatterpolar\"}], \"scatterpolargl\": [{\"marker\": {\"colorbar\": {\"outlinewidth\": 0, \"ticks\": \"\"}}, \"type\": \"scatterpolargl\"}], \"scatterternary\": [{\"marker\": {\"colorbar\": {\"outlinewidth\": 0, \"ticks\": \"\"}}, \"type\": \"scatterternary\"}], \"surface\": [{\"colorbar\": {\"outlinewidth\": 0, \"ticks\": \"\"}, \"colorscale\": [[0.0, \"#0d0887\"], [0.1111111111111111, \"#46039f\"], [0.2222222222222222, \"#7201a8\"], [0.3333333333333333, \"#9c179e\"], [0.4444444444444444, \"#bd3786\"], [0.5555555555555556, \"#d8576b\"], [0.6666666666666666, \"#ed7953\"], [0.7777777777777778, \"#fb9f3a\"], [0.8888888888888888, \"#fdca26\"], [1.0, \"#f0f921\"]], \"type\": \"surface\"}], \"table\": [{\"cells\": {\"fill\": {\"color\": \"#EBF0F8\"}, \"line\": {\"color\": \"white\"}}, \"header\": {\"fill\": {\"color\": \"#C8D4E3\"}, \"line\": {\"color\": \"white\"}}, \"type\": \"table\"}]}, \"layout\": {\"annotationdefaults\": {\"arrowcolor\": \"#2a3f5f\", \"arrowhead\": 0, \"arrowwidth\": 1}, \"coloraxis\": {\"colorbar\": {\"outlinewidth\": 0, \"ticks\": \"\"}}, \"colorscale\": {\"diverging\": [[0, \"#8e0152\"], [0.1, \"#c51b7d\"], [0.2, \"#de77ae\"], [0.3, \"#f1b6da\"], [0.4, \"#fde0ef\"], [0.5, \"#f7f7f7\"], [0.6, \"#e6f5d0\"], [0.7, \"#b8e186\"], [0.8, \"#7fbc41\"], [0.9, \"#4d9221\"], [1, \"#276419\"]], \"sequential\": [[0.0, \"#0d0887\"], [0.1111111111111111, \"#46039f\"], [0.2222222222222222, \"#7201a8\"], [0.3333333333333333, \"#9c179e\"], [0.4444444444444444, \"#bd3786\"], [0.5555555555555556, \"#d8576b\"], [0.6666666666666666, \"#ed7953\"], [0.7777777777777778, \"#fb9f3a\"], [0.8888888888888888, \"#fdca26\"], [1.0, \"#f0f921\"]], \"sequentialminus\": [[0.0, \"#0d0887\"], [0.1111111111111111, \"#46039f\"], [0.2222222222222222, \"#7201a8\"], [0.3333333333333333, \"#9c179e\"], [0.4444444444444444, \"#bd3786\"], [0.5555555555555556, \"#d8576b\"], [0.6666666666666666, \"#ed7953\"], [0.7777777777777778, \"#fb9f3a\"], [0.8888888888888888, \"#fdca26\"], [1.0, \"#f0f921\"]]}, \"colorway\": [\"#636efa\", \"#EF553B\", \"#00cc96\", \"#ab63fa\", \"#FFA15A\", \"#19d3f3\", \"#FF6692\", \"#B6E880\", \"#FF97FF\", \"#FECB52\"], \"font\": {\"color\": \"#2a3f5f\"}, \"geo\": {\"bgcolor\": \"white\", \"lakecolor\": \"white\", \"landcolor\": \"#E5ECF6\", \"showlakes\": true, \"showland\": true, \"subunitcolor\": \"white\"}, \"hoverlabel\": {\"align\": \"left\"}, \"hovermode\": \"closest\", \"mapbox\": {\"style\": \"light\"}, \"paper_bgcolor\": \"white\", \"plot_bgcolor\": \"#E5ECF6\", \"polar\": {\"angularaxis\": {\"gridcolor\": \"white\", \"linecolor\": \"white\", \"ticks\": \"\"}, \"bgcolor\": \"#E5ECF6\", \"radialaxis\": {\"gridcolor\": \"white\", \"linecolor\": \"white\", \"ticks\": \"\"}}, \"scene\": {\"xaxis\": {\"backgroundcolor\": \"#E5ECF6\", \"gridcolor\": \"white\", \"gridwidth\": 2, \"linecolor\": \"white\", \"showbackground\": true, \"ticks\": \"\", \"zerolinecolor\": \"white\"}, \"yaxis\": {\"backgroundcolor\": \"#E5ECF6\", \"gridcolor\": \"white\", \"gridwidth\": 2, \"linecolor\": \"white\", \"showbackground\": true, \"ticks\": \"\", \"zerolinecolor\": \"white\"}, \"zaxis\": {\"backgroundcolor\": \"#E5ECF6\", \"gridcolor\": \"white\", \"gridwidth\": 2, \"linecolor\": \"white\", \"showbackground\": true, \"ticks\": \"\", \"zerolinecolor\": \"white\"}}, \"shapedefaults\": {\"line\": {\"color\": \"#2a3f5f\"}}, \"ternary\": {\"aaxis\": {\"gridcolor\": \"white\", \"linecolor\": \"white\", \"ticks\": \"\"}, \"baxis\": {\"gridcolor\": \"white\", \"linecolor\": \"white\", \"ticks\": \"\"}, \"bgcolor\": \"#E5ECF6\", \"caxis\": {\"gridcolor\": \"white\", \"linecolor\": \"white\", \"ticks\": \"\"}}, \"title\": {\"x\": 0.05}, \"xaxis\": {\"automargin\": true, \"gridcolor\": \"white\", \"linecolor\": \"white\", \"ticks\": \"\", \"title\": {\"standoff\": 15}, \"zerolinecolor\": \"white\", \"zerolinewidth\": 2}, \"yaxis\": {\"automargin\": true, \"gridcolor\": \"white\", \"linecolor\": \"white\", \"ticks\": \"\", \"title\": {\"standoff\": 15}, \"zerolinecolor\": \"white\", \"zerolinewidth\": 2}}}, \"title\": {\"font\": {\"color\": \"#4D5663\"}, \"text\": \"Average total tests, cases and deaths per million distribution by continent\"}, \"xaxis\": {\"gridcolor\": \"#E1E5ED\", \"showgrid\": true, \"tickfont\": {\"color\": \"#4D5663\"}, \"title\": {\"font\": {\"color\": \"#4D5663\"}, \"text\": \"\"}, \"zerolinecolor\": \"#E1E5ED\"}, \"yaxis\": {\"gridcolor\": \"#E1E5ED\", \"showgrid\": true, \"tickfont\": {\"color\": \"#4D5663\"}, \"title\": {\"font\": {\"color\": \"#4D5663\"}, \"text\": \"Share of avg. total tests, cases and deaths per million\"}, \"zerolinecolor\": \"#E1E5ED\"}},\n",
       "                        {\"showLink\": true, \"linkText\": \"Export to plot.ly\", \"plotlyServerURL\": \"https://plot.ly\", \"responsive\": true}\n",
       "                    ).then(function(){\n",
       "                            \n",
       "var gd = document.getElementById('4458ce43-b699-4213-bf61-5173bac7d7f0');\n",
       "var x = new MutationObserver(function (mutations, observer) {{\n",
       "        var display = window.getComputedStyle(gd).display;\n",
       "        if (!display || display === 'none') {{\n",
       "            console.log([gd, 'removed!']);\n",
       "            Plotly.purge(gd);\n",
       "            observer.disconnect();\n",
       "        }}\n",
       "}});\n",
       "\n",
       "// Listen for the removal of the full notebook cells\n",
       "var notebookContainer = gd.closest('#notebook-container');\n",
       "if (notebookContainer) {{\n",
       "    x.observe(notebookContainer, {childList: true});\n",
       "}}\n",
       "\n",
       "// Listen for the clearing of the current output cell\n",
       "var outputEl = gd.closest('.output');\n",
       "if (outputEl) {{\n",
       "    x.observe(outputEl, {childList: true});\n",
       "}}\n",
       "\n",
       "                        })\n",
       "                };\n",
       "                });\n",
       "            </script>\n",
       "        </div>"
      ]
     },
     "metadata": {},
     "output_type": "display_data"
    }
   ],
   "source": [
    "# build stacked bar to avg. total tests, cases and deaths per million of all continents\n",
    "test_per_mill_mean_c.astype(int).iplot(kind=\"bar\", barmode=\"stack\", yTitle='Share of avg. total tests, cases and deaths per million',\n",
    "                            title='Average total tests, cases and deaths per million distribution by continent')"
   ]
  },
  {
   "cell_type": "code",
   "execution_count": 13,
   "metadata": {},
   "outputs": [
    {
     "data": {
      "text/plain": [
       "continent\n",
       "USA              3.310026e+08\n",
       "Russia           1.459345e+08\n",
       "Asia             9.999763e+07\n",
       "South America    3.311239e+07\n",
       "Africa           2.435316e+07\n",
       "Europe           1.134320e+07\n",
       "North America    7.435424e+06\n",
       "Oceania          5.119790e+06\n",
       "Name: population, dtype: float64"
      ]
     },
     "execution_count": 13,
     "metadata": {},
     "output_type": "execute_result"
    }
   ],
   "source": [
    "split_continent=survey.copy()\n",
    "grouped = split_continent.groupby('continent')\n",
    "split_continent_grouped=grouped['population']\n",
    "population_mean=split_continent_grouped.mean()\n",
    "population_mean=population_mean.sort_values(ascending=False)\n",
    "population_mean"
   ]
  },
  {
   "cell_type": "code",
   "execution_count": 14,
   "metadata": {},
   "outputs": [
    {
     "data": {
      "application/vnd.plotly.v1+json": {
       "config": {
        "linkText": "Export to plot.ly",
        "plotlyServerURL": "https://plot.ly",
        "showLink": true
       },
       "data": [
        {
         "marker": {
          "color": "rgba(255, 153, 51, 0.6)",
          "line": {
           "color": "rgba(255, 153, 51, 1.0)",
           "width": 1
          }
         },
         "name": "population",
         "orientation": "v",
         "text": "",
         "type": "bar",
         "x": [
          "USA",
          "Russia",
          "Asia",
          "South America",
          "Africa",
          "Europe",
          "North America",
          "Oceania"
         ],
         "y": [
          331002647,
          145934460,
          99997632,
          33112391,
          24353162,
          11343203,
          7435423,
          5119790
         ]
        }
       ],
       "layout": {
        "barmode": "stack",
        "legend": {
         "bgcolor": "#F5F6F9",
         "font": {
          "color": "#4D5663"
         },
         "traceorder": "normal"
        },
        "paper_bgcolor": "#F5F6F9",
        "plot_bgcolor": "#F5F6F9",
        "template": {
         "data": {
          "bar": [
           {
            "error_x": {
             "color": "#2a3f5f"
            },
            "error_y": {
             "color": "#2a3f5f"
            },
            "marker": {
             "line": {
              "color": "#E5ECF6",
              "width": 0.5
             }
            },
            "type": "bar"
           }
          ],
          "barpolar": [
           {
            "marker": {
             "line": {
              "color": "#E5ECF6",
              "width": 0.5
             }
            },
            "type": "barpolar"
           }
          ],
          "carpet": [
           {
            "aaxis": {
             "endlinecolor": "#2a3f5f",
             "gridcolor": "white",
             "linecolor": "white",
             "minorgridcolor": "white",
             "startlinecolor": "#2a3f5f"
            },
            "baxis": {
             "endlinecolor": "#2a3f5f",
             "gridcolor": "white",
             "linecolor": "white",
             "minorgridcolor": "white",
             "startlinecolor": "#2a3f5f"
            },
            "type": "carpet"
           }
          ],
          "choropleth": [
           {
            "colorbar": {
             "outlinewidth": 0,
             "ticks": ""
            },
            "type": "choropleth"
           }
          ],
          "contour": [
           {
            "colorbar": {
             "outlinewidth": 0,
             "ticks": ""
            },
            "colorscale": [
             [
              0,
              "#0d0887"
             ],
             [
              0.1111111111111111,
              "#46039f"
             ],
             [
              0.2222222222222222,
              "#7201a8"
             ],
             [
              0.3333333333333333,
              "#9c179e"
             ],
             [
              0.4444444444444444,
              "#bd3786"
             ],
             [
              0.5555555555555556,
              "#d8576b"
             ],
             [
              0.6666666666666666,
              "#ed7953"
             ],
             [
              0.7777777777777778,
              "#fb9f3a"
             ],
             [
              0.8888888888888888,
              "#fdca26"
             ],
             [
              1,
              "#f0f921"
             ]
            ],
            "type": "contour"
           }
          ],
          "contourcarpet": [
           {
            "colorbar": {
             "outlinewidth": 0,
             "ticks": ""
            },
            "type": "contourcarpet"
           }
          ],
          "heatmap": [
           {
            "colorbar": {
             "outlinewidth": 0,
             "ticks": ""
            },
            "colorscale": [
             [
              0,
              "#0d0887"
             ],
             [
              0.1111111111111111,
              "#46039f"
             ],
             [
              0.2222222222222222,
              "#7201a8"
             ],
             [
              0.3333333333333333,
              "#9c179e"
             ],
             [
              0.4444444444444444,
              "#bd3786"
             ],
             [
              0.5555555555555556,
              "#d8576b"
             ],
             [
              0.6666666666666666,
              "#ed7953"
             ],
             [
              0.7777777777777778,
              "#fb9f3a"
             ],
             [
              0.8888888888888888,
              "#fdca26"
             ],
             [
              1,
              "#f0f921"
             ]
            ],
            "type": "heatmap"
           }
          ],
          "heatmapgl": [
           {
            "colorbar": {
             "outlinewidth": 0,
             "ticks": ""
            },
            "colorscale": [
             [
              0,
              "#0d0887"
             ],
             [
              0.1111111111111111,
              "#46039f"
             ],
             [
              0.2222222222222222,
              "#7201a8"
             ],
             [
              0.3333333333333333,
              "#9c179e"
             ],
             [
              0.4444444444444444,
              "#bd3786"
             ],
             [
              0.5555555555555556,
              "#d8576b"
             ],
             [
              0.6666666666666666,
              "#ed7953"
             ],
             [
              0.7777777777777778,
              "#fb9f3a"
             ],
             [
              0.8888888888888888,
              "#fdca26"
             ],
             [
              1,
              "#f0f921"
             ]
            ],
            "type": "heatmapgl"
           }
          ],
          "histogram": [
           {
            "marker": {
             "colorbar": {
              "outlinewidth": 0,
              "ticks": ""
             }
            },
            "type": "histogram"
           }
          ],
          "histogram2d": [
           {
            "colorbar": {
             "outlinewidth": 0,
             "ticks": ""
            },
            "colorscale": [
             [
              0,
              "#0d0887"
             ],
             [
              0.1111111111111111,
              "#46039f"
             ],
             [
              0.2222222222222222,
              "#7201a8"
             ],
             [
              0.3333333333333333,
              "#9c179e"
             ],
             [
              0.4444444444444444,
              "#bd3786"
             ],
             [
              0.5555555555555556,
              "#d8576b"
             ],
             [
              0.6666666666666666,
              "#ed7953"
             ],
             [
              0.7777777777777778,
              "#fb9f3a"
             ],
             [
              0.8888888888888888,
              "#fdca26"
             ],
             [
              1,
              "#f0f921"
             ]
            ],
            "type": "histogram2d"
           }
          ],
          "histogram2dcontour": [
           {
            "colorbar": {
             "outlinewidth": 0,
             "ticks": ""
            },
            "colorscale": [
             [
              0,
              "#0d0887"
             ],
             [
              0.1111111111111111,
              "#46039f"
             ],
             [
              0.2222222222222222,
              "#7201a8"
             ],
             [
              0.3333333333333333,
              "#9c179e"
             ],
             [
              0.4444444444444444,
              "#bd3786"
             ],
             [
              0.5555555555555556,
              "#d8576b"
             ],
             [
              0.6666666666666666,
              "#ed7953"
             ],
             [
              0.7777777777777778,
              "#fb9f3a"
             ],
             [
              0.8888888888888888,
              "#fdca26"
             ],
             [
              1,
              "#f0f921"
             ]
            ],
            "type": "histogram2dcontour"
           }
          ],
          "mesh3d": [
           {
            "colorbar": {
             "outlinewidth": 0,
             "ticks": ""
            },
            "type": "mesh3d"
           }
          ],
          "parcoords": [
           {
            "line": {
             "colorbar": {
              "outlinewidth": 0,
              "ticks": ""
             }
            },
            "type": "parcoords"
           }
          ],
          "pie": [
           {
            "automargin": true,
            "type": "pie"
           }
          ],
          "scatter": [
           {
            "marker": {
             "colorbar": {
              "outlinewidth": 0,
              "ticks": ""
             }
            },
            "type": "scatter"
           }
          ],
          "scatter3d": [
           {
            "line": {
             "colorbar": {
              "outlinewidth": 0,
              "ticks": ""
             }
            },
            "marker": {
             "colorbar": {
              "outlinewidth": 0,
              "ticks": ""
             }
            },
            "type": "scatter3d"
           }
          ],
          "scattercarpet": [
           {
            "marker": {
             "colorbar": {
              "outlinewidth": 0,
              "ticks": ""
             }
            },
            "type": "scattercarpet"
           }
          ],
          "scattergeo": [
           {
            "marker": {
             "colorbar": {
              "outlinewidth": 0,
              "ticks": ""
             }
            },
            "type": "scattergeo"
           }
          ],
          "scattergl": [
           {
            "marker": {
             "colorbar": {
              "outlinewidth": 0,
              "ticks": ""
             }
            },
            "type": "scattergl"
           }
          ],
          "scattermapbox": [
           {
            "marker": {
             "colorbar": {
              "outlinewidth": 0,
              "ticks": ""
             }
            },
            "type": "scattermapbox"
           }
          ],
          "scatterpolar": [
           {
            "marker": {
             "colorbar": {
              "outlinewidth": 0,
              "ticks": ""
             }
            },
            "type": "scatterpolar"
           }
          ],
          "scatterpolargl": [
           {
            "marker": {
             "colorbar": {
              "outlinewidth": 0,
              "ticks": ""
             }
            },
            "type": "scatterpolargl"
           }
          ],
          "scatterternary": [
           {
            "marker": {
             "colorbar": {
              "outlinewidth": 0,
              "ticks": ""
             }
            },
            "type": "scatterternary"
           }
          ],
          "surface": [
           {
            "colorbar": {
             "outlinewidth": 0,
             "ticks": ""
            },
            "colorscale": [
             [
              0,
              "#0d0887"
             ],
             [
              0.1111111111111111,
              "#46039f"
             ],
             [
              0.2222222222222222,
              "#7201a8"
             ],
             [
              0.3333333333333333,
              "#9c179e"
             ],
             [
              0.4444444444444444,
              "#bd3786"
             ],
             [
              0.5555555555555556,
              "#d8576b"
             ],
             [
              0.6666666666666666,
              "#ed7953"
             ],
             [
              0.7777777777777778,
              "#fb9f3a"
             ],
             [
              0.8888888888888888,
              "#fdca26"
             ],
             [
              1,
              "#f0f921"
             ]
            ],
            "type": "surface"
           }
          ],
          "table": [
           {
            "cells": {
             "fill": {
              "color": "#EBF0F8"
             },
             "line": {
              "color": "white"
             }
            },
            "header": {
             "fill": {
              "color": "#C8D4E3"
             },
             "line": {
              "color": "white"
             }
            },
            "type": "table"
           }
          ]
         },
         "layout": {
          "annotationdefaults": {
           "arrowcolor": "#2a3f5f",
           "arrowhead": 0,
           "arrowwidth": 1
          },
          "coloraxis": {
           "colorbar": {
            "outlinewidth": 0,
            "ticks": ""
           }
          },
          "colorscale": {
           "diverging": [
            [
             0,
             "#8e0152"
            ],
            [
             0.1,
             "#c51b7d"
            ],
            [
             0.2,
             "#de77ae"
            ],
            [
             0.3,
             "#f1b6da"
            ],
            [
             0.4,
             "#fde0ef"
            ],
            [
             0.5,
             "#f7f7f7"
            ],
            [
             0.6,
             "#e6f5d0"
            ],
            [
             0.7,
             "#b8e186"
            ],
            [
             0.8,
             "#7fbc41"
            ],
            [
             0.9,
             "#4d9221"
            ],
            [
             1,
             "#276419"
            ]
           ],
           "sequential": [
            [
             0,
             "#0d0887"
            ],
            [
             0.1111111111111111,
             "#46039f"
            ],
            [
             0.2222222222222222,
             "#7201a8"
            ],
            [
             0.3333333333333333,
             "#9c179e"
            ],
            [
             0.4444444444444444,
             "#bd3786"
            ],
            [
             0.5555555555555556,
             "#d8576b"
            ],
            [
             0.6666666666666666,
             "#ed7953"
            ],
            [
             0.7777777777777778,
             "#fb9f3a"
            ],
            [
             0.8888888888888888,
             "#fdca26"
            ],
            [
             1,
             "#f0f921"
            ]
           ],
           "sequentialminus": [
            [
             0,
             "#0d0887"
            ],
            [
             0.1111111111111111,
             "#46039f"
            ],
            [
             0.2222222222222222,
             "#7201a8"
            ],
            [
             0.3333333333333333,
             "#9c179e"
            ],
            [
             0.4444444444444444,
             "#bd3786"
            ],
            [
             0.5555555555555556,
             "#d8576b"
            ],
            [
             0.6666666666666666,
             "#ed7953"
            ],
            [
             0.7777777777777778,
             "#fb9f3a"
            ],
            [
             0.8888888888888888,
             "#fdca26"
            ],
            [
             1,
             "#f0f921"
            ]
           ]
          },
          "colorway": [
           "#636efa",
           "#EF553B",
           "#00cc96",
           "#ab63fa",
           "#FFA15A",
           "#19d3f3",
           "#FF6692",
           "#B6E880",
           "#FF97FF",
           "#FECB52"
          ],
          "font": {
           "color": "#2a3f5f"
          },
          "geo": {
           "bgcolor": "white",
           "lakecolor": "white",
           "landcolor": "#E5ECF6",
           "showlakes": true,
           "showland": true,
           "subunitcolor": "white"
          },
          "hoverlabel": {
           "align": "left"
          },
          "hovermode": "closest",
          "mapbox": {
           "style": "light"
          },
          "paper_bgcolor": "white",
          "plot_bgcolor": "#E5ECF6",
          "polar": {
           "angularaxis": {
            "gridcolor": "white",
            "linecolor": "white",
            "ticks": ""
           },
           "bgcolor": "#E5ECF6",
           "radialaxis": {
            "gridcolor": "white",
            "linecolor": "white",
            "ticks": ""
           }
          },
          "scene": {
           "xaxis": {
            "backgroundcolor": "#E5ECF6",
            "gridcolor": "white",
            "gridwidth": 2,
            "linecolor": "white",
            "showbackground": true,
            "ticks": "",
            "zerolinecolor": "white"
           },
           "yaxis": {
            "backgroundcolor": "#E5ECF6",
            "gridcolor": "white",
            "gridwidth": 2,
            "linecolor": "white",
            "showbackground": true,
            "ticks": "",
            "zerolinecolor": "white"
           },
           "zaxis": {
            "backgroundcolor": "#E5ECF6",
            "gridcolor": "white",
            "gridwidth": 2,
            "linecolor": "white",
            "showbackground": true,
            "ticks": "",
            "zerolinecolor": "white"
           }
          },
          "shapedefaults": {
           "line": {
            "color": "#2a3f5f"
           }
          },
          "ternary": {
           "aaxis": {
            "gridcolor": "white",
            "linecolor": "white",
            "ticks": ""
           },
           "baxis": {
            "gridcolor": "white",
            "linecolor": "white",
            "ticks": ""
           },
           "bgcolor": "#E5ECF6",
           "caxis": {
            "gridcolor": "white",
            "linecolor": "white",
            "ticks": ""
           }
          },
          "title": {
           "x": 0.05
          },
          "xaxis": {
           "automargin": true,
           "gridcolor": "white",
           "linecolor": "white",
           "ticks": "",
           "title": {
            "standoff": 15
           },
           "zerolinecolor": "white",
           "zerolinewidth": 2
          },
          "yaxis": {
           "automargin": true,
           "gridcolor": "white",
           "linecolor": "white",
           "ticks": "",
           "title": {
            "standoff": 15
           },
           "zerolinecolor": "white",
           "zerolinewidth": 2
          }
         }
        },
        "title": {
         "font": {
          "color": "#4D5663"
         },
         "text": "Average population distribution by continents"
        },
        "xaxis": {
         "gridcolor": "#E1E5ED",
         "showgrid": true,
         "tickfont": {
          "color": "#4D5663"
         },
         "title": {
          "font": {
           "color": "#4D5663"
          },
          "text": ""
         },
         "zerolinecolor": "#E1E5ED"
        },
        "yaxis": {
         "gridcolor": "#E1E5ED",
         "showgrid": true,
         "tickfont": {
          "color": "#4D5663"
         },
         "title": {
          "font": {
           "color": "#4D5663"
          },
          "text": "Average population"
         },
         "zerolinecolor": "#E1E5ED"
        }
       }
      },
      "text/html": [
       "<div>\n",
       "        \n",
       "        \n",
       "            <div id=\"0e1e4a54-3d3c-4f15-90a5-20898a2c7bec\" class=\"plotly-graph-div\" style=\"height:525px; width:100%;\"></div>\n",
       "            <script type=\"text/javascript\">\n",
       "                require([\"plotly\"], function(Plotly) {\n",
       "                    window.PLOTLYENV=window.PLOTLYENV || {};\n",
       "                    window.PLOTLYENV.BASE_URL='https://plot.ly';\n",
       "                    \n",
       "                if (document.getElementById(\"0e1e4a54-3d3c-4f15-90a5-20898a2c7bec\")) {\n",
       "                    Plotly.newPlot(\n",
       "                        '0e1e4a54-3d3c-4f15-90a5-20898a2c7bec',\n",
       "                        [{\"marker\": {\"color\": \"rgba(255, 153, 51, 0.6)\", \"line\": {\"color\": \"rgba(255, 153, 51, 1.0)\", \"width\": 1}}, \"name\": \"population\", \"orientation\": \"v\", \"text\": \"\", \"type\": \"bar\", \"x\": [\"USA\", \"Russia\", \"Asia\", \"South America\", \"Africa\", \"Europe\", \"North America\", \"Oceania\"], \"y\": [331002647, 145934460, 99997632, 33112391, 24353162, 11343203, 7435423, 5119790]}],\n",
       "                        {\"barmode\": \"stack\", \"legend\": {\"bgcolor\": \"#F5F6F9\", \"font\": {\"color\": \"#4D5663\"}, \"traceorder\": \"normal\"}, \"paper_bgcolor\": \"#F5F6F9\", \"plot_bgcolor\": \"#F5F6F9\", \"template\": {\"data\": {\"bar\": [{\"error_x\": {\"color\": \"#2a3f5f\"}, \"error_y\": {\"color\": \"#2a3f5f\"}, \"marker\": {\"line\": {\"color\": \"#E5ECF6\", \"width\": 0.5}}, \"type\": \"bar\"}], \"barpolar\": [{\"marker\": {\"line\": {\"color\": \"#E5ECF6\", \"width\": 0.5}}, \"type\": \"barpolar\"}], \"carpet\": [{\"aaxis\": {\"endlinecolor\": \"#2a3f5f\", \"gridcolor\": \"white\", \"linecolor\": \"white\", \"minorgridcolor\": \"white\", \"startlinecolor\": \"#2a3f5f\"}, \"baxis\": {\"endlinecolor\": \"#2a3f5f\", \"gridcolor\": \"white\", \"linecolor\": \"white\", \"minorgridcolor\": \"white\", \"startlinecolor\": \"#2a3f5f\"}, \"type\": \"carpet\"}], \"choropleth\": [{\"colorbar\": {\"outlinewidth\": 0, \"ticks\": \"\"}, \"type\": \"choropleth\"}], \"contour\": [{\"colorbar\": {\"outlinewidth\": 0, \"ticks\": \"\"}, \"colorscale\": [[0.0, \"#0d0887\"], [0.1111111111111111, \"#46039f\"], [0.2222222222222222, \"#7201a8\"], [0.3333333333333333, \"#9c179e\"], [0.4444444444444444, \"#bd3786\"], [0.5555555555555556, \"#d8576b\"], [0.6666666666666666, \"#ed7953\"], [0.7777777777777778, \"#fb9f3a\"], [0.8888888888888888, \"#fdca26\"], [1.0, \"#f0f921\"]], \"type\": \"contour\"}], \"contourcarpet\": [{\"colorbar\": {\"outlinewidth\": 0, \"ticks\": \"\"}, \"type\": \"contourcarpet\"}], \"heatmap\": [{\"colorbar\": {\"outlinewidth\": 0, \"ticks\": \"\"}, \"colorscale\": [[0.0, \"#0d0887\"], [0.1111111111111111, \"#46039f\"], [0.2222222222222222, \"#7201a8\"], [0.3333333333333333, \"#9c179e\"], [0.4444444444444444, \"#bd3786\"], [0.5555555555555556, \"#d8576b\"], [0.6666666666666666, \"#ed7953\"], [0.7777777777777778, \"#fb9f3a\"], [0.8888888888888888, \"#fdca26\"], [1.0, \"#f0f921\"]], \"type\": \"heatmap\"}], \"heatmapgl\": [{\"colorbar\": {\"outlinewidth\": 0, \"ticks\": \"\"}, \"colorscale\": [[0.0, \"#0d0887\"], [0.1111111111111111, \"#46039f\"], [0.2222222222222222, \"#7201a8\"], [0.3333333333333333, \"#9c179e\"], [0.4444444444444444, \"#bd3786\"], [0.5555555555555556, \"#d8576b\"], [0.6666666666666666, \"#ed7953\"], [0.7777777777777778, \"#fb9f3a\"], [0.8888888888888888, \"#fdca26\"], [1.0, \"#f0f921\"]], \"type\": \"heatmapgl\"}], \"histogram\": [{\"marker\": {\"colorbar\": {\"outlinewidth\": 0, \"ticks\": \"\"}}, \"type\": \"histogram\"}], \"histogram2d\": [{\"colorbar\": {\"outlinewidth\": 0, \"ticks\": \"\"}, \"colorscale\": [[0.0, \"#0d0887\"], [0.1111111111111111, \"#46039f\"], [0.2222222222222222, \"#7201a8\"], [0.3333333333333333, \"#9c179e\"], [0.4444444444444444, \"#bd3786\"], [0.5555555555555556, \"#d8576b\"], [0.6666666666666666, \"#ed7953\"], [0.7777777777777778, \"#fb9f3a\"], [0.8888888888888888, \"#fdca26\"], [1.0, \"#f0f921\"]], \"type\": \"histogram2d\"}], \"histogram2dcontour\": [{\"colorbar\": {\"outlinewidth\": 0, \"ticks\": \"\"}, \"colorscale\": [[0.0, \"#0d0887\"], [0.1111111111111111, \"#46039f\"], [0.2222222222222222, \"#7201a8\"], [0.3333333333333333, \"#9c179e\"], [0.4444444444444444, \"#bd3786\"], [0.5555555555555556, \"#d8576b\"], [0.6666666666666666, \"#ed7953\"], [0.7777777777777778, \"#fb9f3a\"], [0.8888888888888888, \"#fdca26\"], [1.0, \"#f0f921\"]], \"type\": \"histogram2dcontour\"}], \"mesh3d\": [{\"colorbar\": {\"outlinewidth\": 0, \"ticks\": \"\"}, \"type\": \"mesh3d\"}], \"parcoords\": [{\"line\": {\"colorbar\": {\"outlinewidth\": 0, \"ticks\": \"\"}}, \"type\": \"parcoords\"}], \"pie\": [{\"automargin\": true, \"type\": \"pie\"}], \"scatter\": [{\"marker\": {\"colorbar\": {\"outlinewidth\": 0, \"ticks\": \"\"}}, \"type\": \"scatter\"}], \"scatter3d\": [{\"line\": {\"colorbar\": {\"outlinewidth\": 0, \"ticks\": \"\"}}, \"marker\": {\"colorbar\": {\"outlinewidth\": 0, \"ticks\": \"\"}}, \"type\": \"scatter3d\"}], \"scattercarpet\": [{\"marker\": {\"colorbar\": {\"outlinewidth\": 0, \"ticks\": \"\"}}, \"type\": \"scattercarpet\"}], \"scattergeo\": [{\"marker\": {\"colorbar\": {\"outlinewidth\": 0, \"ticks\": \"\"}}, \"type\": \"scattergeo\"}], \"scattergl\": [{\"marker\": {\"colorbar\": {\"outlinewidth\": 0, \"ticks\": \"\"}}, \"type\": \"scattergl\"}], \"scattermapbox\": [{\"marker\": {\"colorbar\": {\"outlinewidth\": 0, \"ticks\": \"\"}}, \"type\": \"scattermapbox\"}], \"scatterpolar\": [{\"marker\": {\"colorbar\": {\"outlinewidth\": 0, \"ticks\": \"\"}}, \"type\": \"scatterpolar\"}], \"scatterpolargl\": [{\"marker\": {\"colorbar\": {\"outlinewidth\": 0, \"ticks\": \"\"}}, \"type\": \"scatterpolargl\"}], \"scatterternary\": [{\"marker\": {\"colorbar\": {\"outlinewidth\": 0, \"ticks\": \"\"}}, \"type\": \"scatterternary\"}], \"surface\": [{\"colorbar\": {\"outlinewidth\": 0, \"ticks\": \"\"}, \"colorscale\": [[0.0, \"#0d0887\"], [0.1111111111111111, \"#46039f\"], [0.2222222222222222, \"#7201a8\"], [0.3333333333333333, \"#9c179e\"], [0.4444444444444444, \"#bd3786\"], [0.5555555555555556, \"#d8576b\"], [0.6666666666666666, \"#ed7953\"], [0.7777777777777778, \"#fb9f3a\"], [0.8888888888888888, \"#fdca26\"], [1.0, \"#f0f921\"]], \"type\": \"surface\"}], \"table\": [{\"cells\": {\"fill\": {\"color\": \"#EBF0F8\"}, \"line\": {\"color\": \"white\"}}, \"header\": {\"fill\": {\"color\": \"#C8D4E3\"}, \"line\": {\"color\": \"white\"}}, \"type\": \"table\"}]}, \"layout\": {\"annotationdefaults\": {\"arrowcolor\": \"#2a3f5f\", \"arrowhead\": 0, \"arrowwidth\": 1}, \"coloraxis\": {\"colorbar\": {\"outlinewidth\": 0, \"ticks\": \"\"}}, \"colorscale\": {\"diverging\": [[0, \"#8e0152\"], [0.1, \"#c51b7d\"], [0.2, \"#de77ae\"], [0.3, \"#f1b6da\"], [0.4, \"#fde0ef\"], [0.5, \"#f7f7f7\"], [0.6, \"#e6f5d0\"], [0.7, \"#b8e186\"], [0.8, \"#7fbc41\"], [0.9, \"#4d9221\"], [1, \"#276419\"]], \"sequential\": [[0.0, \"#0d0887\"], [0.1111111111111111, \"#46039f\"], [0.2222222222222222, \"#7201a8\"], [0.3333333333333333, \"#9c179e\"], [0.4444444444444444, \"#bd3786\"], [0.5555555555555556, \"#d8576b\"], [0.6666666666666666, \"#ed7953\"], [0.7777777777777778, \"#fb9f3a\"], [0.8888888888888888, \"#fdca26\"], [1.0, \"#f0f921\"]], \"sequentialminus\": [[0.0, \"#0d0887\"], [0.1111111111111111, \"#46039f\"], [0.2222222222222222, \"#7201a8\"], [0.3333333333333333, \"#9c179e\"], [0.4444444444444444, \"#bd3786\"], [0.5555555555555556, \"#d8576b\"], [0.6666666666666666, \"#ed7953\"], [0.7777777777777778, \"#fb9f3a\"], [0.8888888888888888, \"#fdca26\"], [1.0, \"#f0f921\"]]}, \"colorway\": [\"#636efa\", \"#EF553B\", \"#00cc96\", \"#ab63fa\", \"#FFA15A\", \"#19d3f3\", \"#FF6692\", \"#B6E880\", \"#FF97FF\", \"#FECB52\"], \"font\": {\"color\": \"#2a3f5f\"}, \"geo\": {\"bgcolor\": \"white\", \"lakecolor\": \"white\", \"landcolor\": \"#E5ECF6\", \"showlakes\": true, \"showland\": true, \"subunitcolor\": \"white\"}, \"hoverlabel\": {\"align\": \"left\"}, \"hovermode\": \"closest\", \"mapbox\": {\"style\": \"light\"}, \"paper_bgcolor\": \"white\", \"plot_bgcolor\": \"#E5ECF6\", \"polar\": {\"angularaxis\": {\"gridcolor\": \"white\", \"linecolor\": \"white\", \"ticks\": \"\"}, \"bgcolor\": \"#E5ECF6\", \"radialaxis\": {\"gridcolor\": \"white\", \"linecolor\": \"white\", \"ticks\": \"\"}}, \"scene\": {\"xaxis\": {\"backgroundcolor\": \"#E5ECF6\", \"gridcolor\": \"white\", \"gridwidth\": 2, \"linecolor\": \"white\", \"showbackground\": true, \"ticks\": \"\", \"zerolinecolor\": \"white\"}, \"yaxis\": {\"backgroundcolor\": \"#E5ECF6\", \"gridcolor\": \"white\", \"gridwidth\": 2, \"linecolor\": \"white\", \"showbackground\": true, \"ticks\": \"\", \"zerolinecolor\": \"white\"}, \"zaxis\": {\"backgroundcolor\": \"#E5ECF6\", \"gridcolor\": \"white\", \"gridwidth\": 2, \"linecolor\": \"white\", \"showbackground\": true, \"ticks\": \"\", \"zerolinecolor\": \"white\"}}, \"shapedefaults\": {\"line\": {\"color\": \"#2a3f5f\"}}, \"ternary\": {\"aaxis\": {\"gridcolor\": \"white\", \"linecolor\": \"white\", \"ticks\": \"\"}, \"baxis\": {\"gridcolor\": \"white\", \"linecolor\": \"white\", \"ticks\": \"\"}, \"bgcolor\": \"#E5ECF6\", \"caxis\": {\"gridcolor\": \"white\", \"linecolor\": \"white\", \"ticks\": \"\"}}, \"title\": {\"x\": 0.05}, \"xaxis\": {\"automargin\": true, \"gridcolor\": \"white\", \"linecolor\": \"white\", \"ticks\": \"\", \"title\": {\"standoff\": 15}, \"zerolinecolor\": \"white\", \"zerolinewidth\": 2}, \"yaxis\": {\"automargin\": true, \"gridcolor\": \"white\", \"linecolor\": \"white\", \"ticks\": \"\", \"title\": {\"standoff\": 15}, \"zerolinecolor\": \"white\", \"zerolinewidth\": 2}}}, \"title\": {\"font\": {\"color\": \"#4D5663\"}, \"text\": \"Average population distribution by continents\"}, \"xaxis\": {\"gridcolor\": \"#E1E5ED\", \"showgrid\": true, \"tickfont\": {\"color\": \"#4D5663\"}, \"title\": {\"font\": {\"color\": \"#4D5663\"}, \"text\": \"\"}, \"zerolinecolor\": \"#E1E5ED\"}, \"yaxis\": {\"gridcolor\": \"#E1E5ED\", \"showgrid\": true, \"tickfont\": {\"color\": \"#4D5663\"}, \"title\": {\"font\": {\"color\": \"#4D5663\"}, \"text\": \"Average population\"}, \"zerolinecolor\": \"#E1E5ED\"}},\n",
       "                        {\"showLink\": true, \"linkText\": \"Export to plot.ly\", \"plotlyServerURL\": \"https://plot.ly\", \"responsive\": true}\n",
       "                    ).then(function(){\n",
       "                            \n",
       "var gd = document.getElementById('0e1e4a54-3d3c-4f15-90a5-20898a2c7bec');\n",
       "var x = new MutationObserver(function (mutations, observer) {{\n",
       "        var display = window.getComputedStyle(gd).display;\n",
       "        if (!display || display === 'none') {{\n",
       "            console.log([gd, 'removed!']);\n",
       "            Plotly.purge(gd);\n",
       "            observer.disconnect();\n",
       "        }}\n",
       "}});\n",
       "\n",
       "// Listen for the removal of the full notebook cells\n",
       "var notebookContainer = gd.closest('#notebook-container');\n",
       "if (notebookContainer) {{\n",
       "    x.observe(notebookContainer, {childList: true});\n",
       "}}\n",
       "\n",
       "// Listen for the clearing of the current output cell\n",
       "var outputEl = gd.closest('.output');\n",
       "if (outputEl) {{\n",
       "    x.observe(outputEl, {childList: true});\n",
       "}}\n",
       "\n",
       "                        })\n",
       "                };\n",
       "                });\n",
       "            </script>\n",
       "        </div>"
      ]
     },
     "metadata": {},
     "output_type": "display_data"
    }
   ],
   "source": [
    "# build stacked bar to avg. population of all continents\n",
    "population_mean.astype(int).iplot(kind=\"bar\", barmode=\"stack\", yTitle='Average population',\n",
    "                            title='Average population distribution by continents')"
   ]
  },
  {
   "cell_type": "markdown",
   "metadata": {},
   "source": [
    "Not all countries have stats about done testing, only 88 among 209 have non-null testing values. \n",
    "Based on the country distribution of available covid tests per million we can see that the most tests are made in Russia and USA that is logically becasue they have high number of poplation. We can say that New Zealand, Australia and Europe have high percent of made tests, when Asian countries number of tests are not enought comparing to their high average population (it may be due to lack of China testing data). Also South America and Africa countries have low number of tests."
   ]
  },
  {
   "cell_type": "markdown",
   "metadata": {},
   "source": [
    "# Plotting survey correlations: rich countries have the most covid testing and confirmed cases."
   ]
  },
  {
   "cell_type": "code",
   "execution_count": 15,
   "metadata": {},
   "outputs": [
    {
     "data": {
      "application/vnd.plotly.v1+json": {
       "config": {
        "linkText": "Export to plot.ly",
        "plotlyServerURL": "https://plot.ly",
        "showLink": true
       },
       "data": [
        {
         "marker": {
          "color": "rgba(255, 153, 51, 1.0)",
          "line": {
           "width": 1.3
          },
          "opacity": 0.8,
          "size": 12,
          "symbol": "circle"
         },
         "mode": "markers",
         "name": "North America",
         "text": [
          "Aruba",
          "Anguilla",
          "Antigua and Barbuda",
          "Bonaire Sint Eustatius and Saba",
          "Bahamas",
          "Belize",
          "Bermuda",
          "Barbados",
          "Canada",
          "Costa Rica",
          "Cuba",
          "Curacao",
          "Cayman Islands",
          "Dominica",
          "Dominican Republic",
          "Grenada",
          "Greenland",
          "Guatemala",
          "Honduras",
          "Haiti",
          "Jamaica",
          "Saint Kitts and Nevis",
          "Saint Lucia",
          "Mexico",
          "Montserrat",
          "Nicaragua",
          "Panama",
          "Puerto Rico",
          "El Salvador",
          "Sint Maarten (Dutch part)",
          "Turks and Caicos Islands",
          "Trinidad and Tobago",
          "Saint Vincent and the Grenadines",
          "British Virgin Islands",
          "United States Virgin Islands"
         ],
         "textfont": {
          "color": "#4D5663"
         },
         "type": "scatter",
         "x": [
          35973.781,
          null,
          21490.943,
          null,
          27717.847,
          7824.361999999999,
          50669.315,
          16978.068,
          44017.59099999999,
          15524.995,
          null,
          null,
          49903.029,
          9673.367,
          14600.861,
          13593.877,
          null,
          7423.808000000001,
          4541.795,
          1653.1729999999998,
          8193.571,
          24654.385,
          12951.839,
          17336.468999999997,
          null,
          5321.444,
          22267.037,
          35044.67,
          7292.4580000000005,
          36327.232,
          null,
          28763.071,
          10727.146,
          null,
          null
         ],
         "y": [
          null,
          null,
          null,
          null,
          null,
          null,
          null,
          null,
          130.503,
          21.136999999999997,
          30.135,
          null,
          null,
          null,
          null,
          null,
          null,
          null,
          null,
          null,
          null,
          null,
          null,
          8.719,
          null,
          null,
          60.785,
          null,
          43.31399999999999,
          null,
          null,
          null,
          null,
          null,
          null
         ]
        },
        {
         "marker": {
          "color": "rgba(55, 128, 191, 1.0)",
          "line": {
           "width": 1.3
          },
          "opacity": 0.8,
          "size": 12,
          "symbol": "circle"
         },
         "mode": "markers",
         "name": "Asia",
         "text": [
          "Afghanistan",
          "United Arab Emirates",
          "Armenia",
          "Azerbaijan",
          "Bangladesh",
          "Bahrain",
          "Brunei",
          "Bhutan",
          "China",
          "Georgia",
          "Indonesia",
          "India",
          "Iran",
          "Iraq",
          "Israel",
          "Jordan",
          "Japan",
          "Kazakhstan",
          "Kyrgyzstan",
          "Cambodia",
          "South Korea",
          "Kuwait",
          "Laos",
          "Lebanon",
          "Sri Lanka",
          "Maldives",
          "Myanmar",
          "Mongolia",
          "Malaysia",
          "Nepal",
          "Oman",
          "Pakistan",
          "Philippines",
          "Palestine",
          "Qatar",
          "Saudi Arabia",
          "Singapore",
          "Syria",
          "Thailand",
          "Tajikistan",
          "Timor",
          "Turkey",
          "Taiwan",
          "Uzbekistan",
          "Vietnam",
          "Yemen"
         ],
         "textfont": {
          "color": "#4D5663"
         },
         "type": "scatter",
         "x": [
          1803.987,
          67293.483,
          8787.58,
          15847.419,
          3523.9840000000004,
          43290.705,
          71809.25099999999,
          8708.597,
          15308.712,
          9745.079,
          11188.743999999999,
          6426.674,
          19082.62,
          15663.986,
          33132.32,
          8337.49,
          39002.223,
          24055.588,
          3393.474,
          3645.07,
          35938.373999999996,
          65530.537000000004,
          6397.36,
          13367.565,
          11669.077,
          15183.616000000002,
          5591.597,
          11840.846000000001,
          26808.164,
          2442.804,
          37960.709,
          5034.708,
          7599.188,
          4449.898,
          116935.6,
          49045.41099999999,
          85535.383,
          null,
          16277.671,
          2896.913,
          6570.102,
          25129.341,
          null,
          6253.104,
          6171.884,
          1479.1470000000002
         ],
         "y": [
          null,
          626.227,
          null,
          null,
          8.147,
          588.151,
          null,
          null,
          null,
          null,
          7.202000000000001,
          23.666999999999998,
          35.001,
          33.45,
          233.50900000000001,
          null,
          12.067,
          122.03,
          null,
          null,
          33.14,
          134.233,
          null,
          null,
          null,
          183.705,
          2.463,
          null,
          35.274,
          19.027,
          null,
          10.700999999999999,
          17.785,
          null,
          196.46,
          127.521,
          125.00299999999999,
          null,
          5.722,
          null,
          null,
          70.781,
          3.5839999999999996,
          null,
          2.681,
          null
         ]
        },
        {
         "marker": {
          "color": "rgba(50, 171, 96, 1.0)",
          "line": {
           "width": 1.3
          },
          "opacity": 0.8,
          "size": 12,
          "symbol": "circle"
         },
         "mode": "markers",
         "name": "Africa",
         "text": [
          "Angola",
          "Burundi",
          "Benin",
          "Burkina Faso",
          "Botswana",
          "Central African Republic",
          "Cote d'Ivoire",
          "Cameroon",
          "Democratic Republic of Congo",
          "Congo",
          "Comoros",
          "Cape Verde",
          "Djibouti",
          "Algeria",
          "Egypt",
          "Eritrea",
          "Western Sahara",
          "Ethiopia",
          "Gabon",
          "Ghana",
          "Guinea",
          "Gambia",
          "Guinea-Bissau",
          "Equatorial Guinea",
          "Kenya",
          "Liberia",
          "Libya",
          "Lesotho",
          "Morocco",
          "Madagascar",
          "Mali",
          "Mozambique",
          "Mauritania",
          "Mauritius",
          "Malawi",
          "Namibia",
          "Niger",
          "Nigeria",
          "Rwanda",
          "Sudan",
          "Senegal",
          "Sierra Leone",
          "Somalia",
          "South Sudan",
          "Sao Tome and Principe",
          "Swaziland",
          "Seychelles",
          "Chad",
          "Togo",
          "Tunisia",
          "Tanzania",
          "Uganda",
          "South Africa",
          "Zambia",
          "Zimbabwe"
         ],
         "textfont": {
          "color": "#4D5663"
         },
         "type": "scatter",
         "x": [
          5819.495,
          702.225,
          2064.236,
          1703.102,
          15807.374,
          661.24,
          3601.006,
          3364.926,
          808.133,
          4881.406,
          1413.89,
          6222.554,
          2705.406,
          13913.839,
          10550.206,
          1510.4589999999998,
          null,
          1729.9270000000001,
          16562.413,
          4227.63,
          1998.9260000000002,
          1561.767,
          1548.675,
          22604.873,
          2993.028,
          752.788,
          17881.509,
          2851.153,
          7485.013000000001,
          1416.44,
          2014.306,
          1136.103,
          3597.633,
          20292.745,
          1095.042,
          9541.808,
          926,
          5338.454000000001,
          1854.211,
          4466.5070000000005,
          2470.58,
          1390.3,
          null,
          1569.888,
          3052.7140000000004,
          7738.975,
          26382.287,
          1768.1529999999998,
          1429.8129999999999,
          10849.296999999999,
          2683.304,
          1697.707,
          12294.876,
          3689.2509999999997,
          1899.775
         ],
         "y": [
          null,
          null,
          null,
          null,
          null,
          null,
          4.372,
          null,
          null,
          null,
          null,
          null,
          null,
          null,
          null,
          null,
          null,
          4.332,
          null,
          13.831,
          null,
          null,
          null,
          null,
          7.337999999999999,
          null,
          null,
          null,
          45.26,
          null,
          null,
          null,
          null,
          null,
          null,
          null,
          null,
          1.7630000000000001,
          25.808000000000003,
          null,
          8.193999999999999,
          null,
          null,
          null,
          null,
          null,
          null,
          null,
          6.268,
          9.481,
          null,
          7.295,
          58.266000000000005,
          null,
          5.577000000000001
         ]
        },
        {
         "marker": {
          "color": "rgba(128, 0, 128, 1.0)",
          "line": {
           "width": 1.3
          },
          "opacity": 0.8,
          "size": 12,
          "symbol": "circle"
         },
         "mode": "markers",
         "name": "Europe",
         "text": [
          "Albania",
          "Andorra",
          "Austria",
          "Belgium",
          "Bulgaria",
          "Bosnia and Herzegovina",
          "Belarus",
          "Switzerland",
          "Cyprus",
          "Czech Republic",
          "Germany",
          "Denmark",
          "Estonia",
          "Finland",
          "France",
          "Faeroe Islands",
          "United Kingdom",
          "Guernsey",
          "Gibraltar",
          "Greece",
          "Croatia",
          "Hungary",
          "Isle of Man",
          "Ireland",
          "Iceland",
          "Italy",
          "Jersey",
          "Liechtenstein",
          "Lithuania",
          "Luxembourg",
          "Latvia",
          "Monaco",
          "Moldova",
          "Macedonia",
          "Malta",
          "Montenegro",
          "Netherlands",
          "Norway",
          "Poland",
          "Portugal",
          "Romania",
          "San Marino",
          "Serbia",
          "Slovakia",
          "Slovenia",
          "Sweden",
          "Ukraine",
          "Vatican",
          "Kosovo"
         ],
         "textfont": {
          "color": "#4D5663"
         },
         "type": "scatter",
         "x": [
          11803.431,
          null,
          45436.685999999994,
          42658.575999999994,
          18563.307,
          11713.895,
          17167.967,
          57410.166,
          32415.132,
          32605.906000000003,
          45229.245,
          46682.515,
          29481.252,
          40585.721,
          38605.671,
          null,
          39753.244,
          null,
          null,
          24574.382,
          22669.797000000002,
          26777.561,
          null,
          67335.293,
          46482.958,
          35220.084,
          null,
          null,
          29524.265,
          94277.965,
          25063.846,
          null,
          5189.972,
          13111.214,
          36513.323,
          16409.288,
          48472.545,
          64800.057,
          27216.445,
          27936.896,
          23313.199,
          56861.47,
          14048.881000000001,
          30155.152000000002,
          31400.84,
          46949.282999999996,
          7894.393,
          null,
          9795.834
         ],
         "y": [
          null,
          null,
          117.854,
          176.821,
          50.641000000000005,
          null,
          146.468,
          105.179,
          null,
          75.902,
          121.71,
          343.629,
          104.155,
          93.426,
          null,
          null,
          180.77599999999998,
          null,
          null,
          77.164,
          34.62,
          39.433,
          null,
          148.97299999999998,
          244.574,
          75.275,
          null,
          null,
          218.37400000000002,
          741.535,
          123.485,
          null,
          null,
          null,
          369.861,
          null,
          76.615,
          104.708,
          61.647,
          176.452,
          82.70299999999999,
          null,
          122.223,
          55.685,
          70.095,
          null,
          31.022,
          null,
          null
         ]
        },
        {
         "marker": {
          "color": "rgba(219, 64, 82, 1.0)",
          "line": {
           "width": 1.3
          },
          "opacity": 0.8,
          "size": 12,
          "symbol": "circle"
         },
         "mode": "markers",
         "name": "South America",
         "text": [
          "Argentina",
          "Bolivia",
          "Brazil",
          "Chile",
          "Colombia",
          "Ecuador",
          "Falkland Islands",
          "Guyana",
          "Peru",
          "Paraguay",
          "Suriname",
          "Uruguay",
          "Venezuela"
         ],
         "textfont": {
          "color": "#4D5663"
         },
         "type": "scatter",
         "x": [
          18933.907,
          6885.829000000001,
          14103.452,
          22767.037,
          13254.948999999999,
          10581.936000000002,
          null,
          7435.047,
          12236.706,
          8827.01,
          13767.118999999999,
          20551.409,
          16745.022
         ],
         "y": [
          19.519000000000002,
          17.546,
          19.535999999999998,
          109.193,
          44.152,
          13.142999999999999,
          null,
          null,
          14.335999999999999,
          21.23,
          null,
          43.792,
          null
         ]
        },
        {
         "marker": {
          "color": "rgba(0, 128, 128, 1.0)",
          "line": {
           "width": 1.3
          },
          "opacity": 0.8,
          "size": 12,
          "symbol": "circle"
         },
         "mode": "markers",
         "name": "Oceania",
         "text": [
          "Australia",
          "Fiji",
          "Guam",
          "Northern Mariana Islands",
          "New Caledonia",
          "New Zealand",
          "Papua New Guinea",
          "French Polynesia"
         ],
         "textfont": {
          "color": "#4D5663"
         },
         "type": "scatter",
         "x": [
          44648.71,
          8702.975,
          null,
          null,
          null,
          36085.843,
          3823.1940000000004,
          null
         ],
         "y": [
          213.354,
          8.504,
          null,
          null,
          null,
          136.349,
          null,
          null
         ]
        },
        {
         "marker": {
          "color": "rgba(255, 255, 51, 1.0)",
          "line": {
           "width": 1.3
          },
          "opacity": 0.8,
          "size": 12,
          "symbol": "circle"
         },
         "mode": "markers",
         "name": "Russia",
         "text": [
          "Russia"
         ],
         "textfont": {
          "color": "#4D5663"
         },
         "type": "scatter",
         "x": [
          24765.953999999998
         ],
         "y": [
          229.61900000000003
         ]
        },
        {
         "marker": {
          "color": "rgba(128, 128, 0, 1.0)",
          "line": {
           "width": 1.3
          },
          "opacity": 0.8,
          "size": 12,
          "symbol": "circle"
         },
         "mode": "markers",
         "name": "USA",
         "text": [
          "United States"
         ],
         "textfont": {
          "color": "#4D5663"
         },
         "type": "scatter",
         "x": [
          54225.445999999996
         ],
         "y": [
          208.291
         ]
        },
        {
         "marker": {
          "color": "rgba(251, 128, 114, 1.0)",
          "line": {
           "width": 1.3
          },
          "opacity": 0.8,
          "size": 12,
          "symbol": "circle"
         },
         "mode": "markers",
         "name": "nan",
         "text": [],
         "textfont": {
          "color": "#4D5663"
         },
         "type": "scatter",
         "x": [],
         "y": []
        }
       ],
       "layout": {
        "legend": {
         "bgcolor": "#F5F6F9",
         "font": {
          "color": "#4D5663"
         }
        },
        "paper_bgcolor": "#F5F6F9",
        "plot_bgcolor": "#F5F6F9",
        "shapes": [
         {
          "line": {
           "color": "#000000",
           "dash": "dash",
           "width": 1
          },
          "type": "line",
          "x0": 0,
          "x1": 1,
          "xref": "paper",
          "y0": 97.94861363636365,
          "y1": 97.94861363636365,
          "yref": "y"
         },
         {
          "line": {
           "color": "#000000",
           "dash": "dash",
           "width": 1
          },
          "type": "line",
          "x0": 19181.669758241755,
          "x1": 19181.669758241755,
          "xref": "x",
          "y0": 0,
          "y1": 1,
          "yref": "paper"
         }
        ],
        "title": "Gross domestic product vs. Total tests for COVID-19 per 1,000 people <br> dashed lines: average of entire dataset",
        "titlefont": {
         "color": "#4D5663"
        },
        "xaxis": {
         "gridcolor": "#E1E5ED",
         "showgrid": true,
         "tickfont": {
          "color": "#4D5663"
         },
         "title": "Gross domestic product",
         "titlefont": {
          "color": "#4D5663"
         },
         "zerolinecolor": "#E1E5ED"
        },
        "yaxis": {
         "gridcolor": "#E1E5ED",
         "showgrid": true,
         "tickfont": {
          "color": "#4D5663"
         },
         "title": "Total tests for COVID-19 per 1,000 people",
         "titlefont": {
          "color": "#4D5663"
         },
         "zerolinecolor": "#E1E5ED"
        }
       }
      },
      "text/html": [
       "<div>\n",
       "        \n",
       "        \n",
       "            <div id=\"21e9015e-c02e-4d6e-937f-9700152dc453\" class=\"plotly-graph-div\" style=\"height:525px; width:100%;\"></div>\n",
       "            <script type=\"text/javascript\">\n",
       "                require([\"plotly\"], function(Plotly) {\n",
       "                    window.PLOTLYENV=window.PLOTLYENV || {};\n",
       "                    window.PLOTLYENV.BASE_URL='https://plot.ly';\n",
       "                    \n",
       "                if (document.getElementById(\"21e9015e-c02e-4d6e-937f-9700152dc453\")) {\n",
       "                    Plotly.newPlot(\n",
       "                        '21e9015e-c02e-4d6e-937f-9700152dc453',\n",
       "                        [{\"marker\": {\"color\": \"rgba(255, 153, 51, 1.0)\", \"line\": {\"width\": 1.3}, \"opacity\": 0.8, \"size\": 12, \"symbol\": \"circle\"}, \"mode\": \"markers\", \"name\": \"North America\", \"text\": [\"Aruba\", \"Anguilla\", \"Antigua and Barbuda\", \"Bonaire Sint Eustatius and Saba\", \"Bahamas\", \"Belize\", \"Bermuda\", \"Barbados\", \"Canada\", \"Costa Rica\", \"Cuba\", \"Curacao\", \"Cayman Islands\", \"Dominica\", \"Dominican Republic\", \"Grenada\", \"Greenland\", \"Guatemala\", \"Honduras\", \"Haiti\", \"Jamaica\", \"Saint Kitts and Nevis\", \"Saint Lucia\", \"Mexico\", \"Montserrat\", \"Nicaragua\", \"Panama\", \"Puerto Rico\", \"El Salvador\", \"Sint Maarten (Dutch part)\", \"Turks and Caicos Islands\", \"Trinidad and Tobago\", \"Saint Vincent and the Grenadines\", \"British Virgin Islands\", \"United States Virgin Islands\"], \"textfont\": {\"color\": \"#4D5663\"}, \"type\": \"scatter\", \"x\": [35973.781, null, 21490.943, null, 27717.847, 7824.361999999999, 50669.315, 16978.068, 44017.59099999999, 15524.995, null, null, 49903.029, 9673.367, 14600.861, 13593.877, null, 7423.808000000001, 4541.795, 1653.1729999999998, 8193.571, 24654.385, 12951.839, 17336.468999999997, null, 5321.444, 22267.037, 35044.67, 7292.4580000000005, 36327.232, null, 28763.071, 10727.146, null, null], \"y\": [null, null, null, null, null, null, null, null, 130.503, 21.136999999999997, 30.135, null, null, null, null, null, null, null, null, null, null, null, null, 8.719, null, null, 60.785, null, 43.31399999999999, null, null, null, null, null, null]}, {\"marker\": {\"color\": \"rgba(55, 128, 191, 1.0)\", \"line\": {\"width\": 1.3}, \"opacity\": 0.8, \"size\": 12, \"symbol\": \"circle\"}, \"mode\": \"markers\", \"name\": \"Asia\", \"text\": [\"Afghanistan\", \"United Arab Emirates\", \"Armenia\", \"Azerbaijan\", \"Bangladesh\", \"Bahrain\", \"Brunei\", \"Bhutan\", \"China\", \"Georgia\", \"Indonesia\", \"India\", \"Iran\", \"Iraq\", \"Israel\", \"Jordan\", \"Japan\", \"Kazakhstan\", \"Kyrgyzstan\", \"Cambodia\", \"South Korea\", \"Kuwait\", \"Laos\", \"Lebanon\", \"Sri Lanka\", \"Maldives\", \"Myanmar\", \"Mongolia\", \"Malaysia\", \"Nepal\", \"Oman\", \"Pakistan\", \"Philippines\", \"Palestine\", \"Qatar\", \"Saudi Arabia\", \"Singapore\", \"Syria\", \"Thailand\", \"Tajikistan\", \"Timor\", \"Turkey\", \"Taiwan\", \"Uzbekistan\", \"Vietnam\", \"Yemen\"], \"textfont\": {\"color\": \"#4D5663\"}, \"type\": \"scatter\", \"x\": [1803.987, 67293.483, 8787.58, 15847.419, 3523.9840000000004, 43290.705, 71809.25099999999, 8708.597, 15308.712, 9745.079, 11188.743999999999, 6426.674, 19082.62, 15663.986, 33132.32, 8337.49, 39002.223, 24055.588, 3393.474, 3645.07, 35938.373999999996, 65530.537000000004, 6397.36, 13367.565, 11669.077, 15183.616000000002, 5591.597, 11840.846000000001, 26808.164, 2442.804, 37960.709, 5034.708, 7599.188, 4449.898, 116935.6, 49045.41099999999, 85535.383, null, 16277.671, 2896.913, 6570.102, 25129.341, null, 6253.104, 6171.884, 1479.1470000000002], \"y\": [null, 626.227, null, null, 8.147, 588.151, null, null, null, null, 7.202000000000001, 23.666999999999998, 35.001, 33.45, 233.50900000000001, null, 12.067, 122.03, null, null, 33.14, 134.233, null, null, null, 183.705, 2.463, null, 35.274, 19.027, null, 10.700999999999999, 17.785, null, 196.46, 127.521, 125.00299999999999, null, 5.722, null, null, 70.781, 3.5839999999999996, null, 2.681, null]}, {\"marker\": {\"color\": \"rgba(50, 171, 96, 1.0)\", \"line\": {\"width\": 1.3}, \"opacity\": 0.8, \"size\": 12, \"symbol\": \"circle\"}, \"mode\": \"markers\", \"name\": \"Africa\", \"text\": [\"Angola\", \"Burundi\", \"Benin\", \"Burkina Faso\", \"Botswana\", \"Central African Republic\", \"Cote d'Ivoire\", \"Cameroon\", \"Democratic Republic of Congo\", \"Congo\", \"Comoros\", \"Cape Verde\", \"Djibouti\", \"Algeria\", \"Egypt\", \"Eritrea\", \"Western Sahara\", \"Ethiopia\", \"Gabon\", \"Ghana\", \"Guinea\", \"Gambia\", \"Guinea-Bissau\", \"Equatorial Guinea\", \"Kenya\", \"Liberia\", \"Libya\", \"Lesotho\", \"Morocco\", \"Madagascar\", \"Mali\", \"Mozambique\", \"Mauritania\", \"Mauritius\", \"Malawi\", \"Namibia\", \"Niger\", \"Nigeria\", \"Rwanda\", \"Sudan\", \"Senegal\", \"Sierra Leone\", \"Somalia\", \"South Sudan\", \"Sao Tome and Principe\", \"Swaziland\", \"Seychelles\", \"Chad\", \"Togo\", \"Tunisia\", \"Tanzania\", \"Uganda\", \"South Africa\", \"Zambia\", \"Zimbabwe\"], \"textfont\": {\"color\": \"#4D5663\"}, \"type\": \"scatter\", \"x\": [5819.495, 702.225, 2064.236, 1703.102, 15807.374, 661.24, 3601.006, 3364.926, 808.133, 4881.406, 1413.89, 6222.554, 2705.406, 13913.839, 10550.206, 1510.4589999999998, null, 1729.9270000000001, 16562.413, 4227.63, 1998.9260000000002, 1561.767, 1548.675, 22604.873, 2993.028, 752.788, 17881.509, 2851.153, 7485.013000000001, 1416.44, 2014.306, 1136.103, 3597.633, 20292.745, 1095.042, 9541.808, 926.0, 5338.454000000001, 1854.211, 4466.5070000000005, 2470.58, 1390.3, null, 1569.888, 3052.7140000000004, 7738.975, 26382.287, 1768.1529999999998, 1429.8129999999999, 10849.296999999999, 2683.304, 1697.707, 12294.876, 3689.2509999999997, 1899.775], \"y\": [null, null, null, null, null, null, 4.372, null, null, null, null, null, null, null, null, null, null, 4.332, null, 13.831, null, null, null, null, 7.337999999999999, null, null, null, 45.26, null, null, null, null, null, null, null, null, 1.7630000000000001, 25.808000000000003, null, 8.193999999999999, null, null, null, null, null, null, null, 6.268, 9.481, null, 7.295, 58.266000000000005, null, 5.577000000000001]}, {\"marker\": {\"color\": \"rgba(128, 0, 128, 1.0)\", \"line\": {\"width\": 1.3}, \"opacity\": 0.8, \"size\": 12, \"symbol\": \"circle\"}, \"mode\": \"markers\", \"name\": \"Europe\", \"text\": [\"Albania\", \"Andorra\", \"Austria\", \"Belgium\", \"Bulgaria\", \"Bosnia and Herzegovina\", \"Belarus\", \"Switzerland\", \"Cyprus\", \"Czech Republic\", \"Germany\", \"Denmark\", \"Estonia\", \"Finland\", \"France\", \"Faeroe Islands\", \"United Kingdom\", \"Guernsey\", \"Gibraltar\", \"Greece\", \"Croatia\", \"Hungary\", \"Isle of Man\", \"Ireland\", \"Iceland\", \"Italy\", \"Jersey\", \"Liechtenstein\", \"Lithuania\", \"Luxembourg\", \"Latvia\", \"Monaco\", \"Moldova\", \"Macedonia\", \"Malta\", \"Montenegro\", \"Netherlands\", \"Norway\", \"Poland\", \"Portugal\", \"Romania\", \"San Marino\", \"Serbia\", \"Slovakia\", \"Slovenia\", \"Sweden\", \"Ukraine\", \"Vatican\", \"Kosovo\"], \"textfont\": {\"color\": \"#4D5663\"}, \"type\": \"scatter\", \"x\": [11803.431, null, 45436.685999999994, 42658.575999999994, 18563.307, 11713.895, 17167.967, 57410.166, 32415.132, 32605.906000000003, 45229.245, 46682.515, 29481.252, 40585.721, 38605.671, null, 39753.244, null, null, 24574.382, 22669.797000000002, 26777.561, null, 67335.293, 46482.958, 35220.084, null, null, 29524.265, 94277.965, 25063.846, null, 5189.972, 13111.214, 36513.323, 16409.288, 48472.545, 64800.057, 27216.445, 27936.896, 23313.199, 56861.47, 14048.881000000001, 30155.152000000002, 31400.84, 46949.282999999996, 7894.393, null, 9795.834], \"y\": [null, null, 117.854, 176.821, 50.641000000000005, null, 146.468, 105.179, null, 75.902, 121.71, 343.629, 104.155, 93.426, null, null, 180.77599999999998, null, null, 77.164, 34.62, 39.433, null, 148.97299999999998, 244.574, 75.275, null, null, 218.37400000000002, 741.535, 123.485, null, null, null, 369.861, null, 76.615, 104.708, 61.647, 176.452, 82.70299999999999, null, 122.223, 55.685, 70.095, null, 31.022, null, null]}, {\"marker\": {\"color\": \"rgba(219, 64, 82, 1.0)\", \"line\": {\"width\": 1.3}, \"opacity\": 0.8, \"size\": 12, \"symbol\": \"circle\"}, \"mode\": \"markers\", \"name\": \"South America\", \"text\": [\"Argentina\", \"Bolivia\", \"Brazil\", \"Chile\", \"Colombia\", \"Ecuador\", \"Falkland Islands\", \"Guyana\", \"Peru\", \"Paraguay\", \"Suriname\", \"Uruguay\", \"Venezuela\"], \"textfont\": {\"color\": \"#4D5663\"}, \"type\": \"scatter\", \"x\": [18933.907, 6885.829000000001, 14103.452, 22767.037, 13254.948999999999, 10581.936000000002, null, 7435.047, 12236.706, 8827.01, 13767.118999999999, 20551.409, 16745.022], \"y\": [19.519000000000002, 17.546, 19.535999999999998, 109.193, 44.152, 13.142999999999999, null, null, 14.335999999999999, 21.23, null, 43.792, null]}, {\"marker\": {\"color\": \"rgba(0, 128, 128, 1.0)\", \"line\": {\"width\": 1.3}, \"opacity\": 0.8, \"size\": 12, \"symbol\": \"circle\"}, \"mode\": \"markers\", \"name\": \"Oceania\", \"text\": [\"Australia\", \"Fiji\", \"Guam\", \"Northern Mariana Islands\", \"New Caledonia\", \"New Zealand\", \"Papua New Guinea\", \"French Polynesia\"], \"textfont\": {\"color\": \"#4D5663\"}, \"type\": \"scatter\", \"x\": [44648.71, 8702.975, null, null, null, 36085.843, 3823.1940000000004, null], \"y\": [213.354, 8.504, null, null, null, 136.349, null, null]}, {\"marker\": {\"color\": \"rgba(255, 255, 51, 1.0)\", \"line\": {\"width\": 1.3}, \"opacity\": 0.8, \"size\": 12, \"symbol\": \"circle\"}, \"mode\": \"markers\", \"name\": \"Russia\", \"text\": [\"Russia\"], \"textfont\": {\"color\": \"#4D5663\"}, \"type\": \"scatter\", \"x\": [24765.953999999998], \"y\": [229.61900000000003]}, {\"marker\": {\"color\": \"rgba(128, 128, 0, 1.0)\", \"line\": {\"width\": 1.3}, \"opacity\": 0.8, \"size\": 12, \"symbol\": \"circle\"}, \"mode\": \"markers\", \"name\": \"USA\", \"text\": [\"United States\"], \"textfont\": {\"color\": \"#4D5663\"}, \"type\": \"scatter\", \"x\": [54225.445999999996], \"y\": [208.291]}, {\"marker\": {\"color\": \"rgba(251, 128, 114, 1.0)\", \"line\": {\"width\": 1.3}, \"opacity\": 0.8, \"size\": 12, \"symbol\": \"circle\"}, \"mode\": \"markers\", \"name\": \"nan\", \"text\": [], \"textfont\": {\"color\": \"#4D5663\"}, \"type\": \"scatter\", \"x\": [], \"y\": []}],\n",
       "                        {\"legend\": {\"bgcolor\": \"#F5F6F9\", \"font\": {\"color\": \"#4D5663\"}}, \"paper_bgcolor\": \"#F5F6F9\", \"plot_bgcolor\": \"#F5F6F9\", \"shapes\": [{\"line\": {\"color\": \"#000000\", \"dash\": \"dash\", \"width\": 1}, \"type\": \"line\", \"x0\": 0, \"x1\": 1, \"xref\": \"paper\", \"y0\": 97.94861363636365, \"y1\": 97.94861363636365, \"yref\": \"y\"}, {\"line\": {\"color\": \"#000000\", \"dash\": \"dash\", \"width\": 1}, \"type\": \"line\", \"x0\": 19181.669758241755, \"x1\": 19181.669758241755, \"xref\": \"x\", \"y0\": 0, \"y1\": 1, \"yref\": \"paper\"}], \"title\": \"Gross domestic product vs. Total tests for COVID-19 per 1,000 people <br> dashed lines: average of entire dataset\", \"titlefont\": {\"color\": \"#4D5663\"}, \"xaxis\": {\"gridcolor\": \"#E1E5ED\", \"showgrid\": true, \"tickfont\": {\"color\": \"#4D5663\"}, \"title\": \"Gross domestic product\", \"titlefont\": {\"color\": \"#4D5663\"}, \"zerolinecolor\": \"#E1E5ED\"}, \"yaxis\": {\"gridcolor\": \"#E1E5ED\", \"showgrid\": true, \"tickfont\": {\"color\": \"#4D5663\"}, \"title\": \"Total tests for COVID-19 per 1,000 people\", \"titlefont\": {\"color\": \"#4D5663\"}, \"zerolinecolor\": \"#E1E5ED\"}},\n",
       "                        {\"showLink\": true, \"linkText\": \"Export to plot.ly\", \"plotlyServerURL\": \"https://plot.ly\", \"responsive\": true}\n",
       "                    ).then(function(){\n",
       "                            \n",
       "var gd = document.getElementById('21e9015e-c02e-4d6e-937f-9700152dc453');\n",
       "var x = new MutationObserver(function (mutations, observer) {{\n",
       "        var display = window.getComputedStyle(gd).display;\n",
       "        if (!display || display === 'none') {{\n",
       "            console.log([gd, 'removed!']);\n",
       "            Plotly.purge(gd);\n",
       "            observer.disconnect();\n",
       "        }}\n",
       "}});\n",
       "\n",
       "// Listen for the removal of the full notebook cells\n",
       "var notebookContainer = gd.closest('#notebook-container');\n",
       "if (notebookContainer) {{\n",
       "    x.observe(notebookContainer, {childList: true});\n",
       "}}\n",
       "\n",
       "// Listen for the clearing of the current output cell\n",
       "var outputEl = gd.closest('.output');\n",
       "if (outputEl) {{\n",
       "    x.observe(outputEl, {childList: true});\n",
       "}}\n",
       "\n",
       "                        })\n",
       "                };\n",
       "                });\n",
       "            </script>\n",
       "        </div>"
      ]
     },
     "metadata": {},
     "output_type": "display_data"
    },
    {
     "name": "stdout",
     "output_type": "stream",
     "text": [
      "Recommendation: choose option to 'show closest data point on hover' in top right corner\n"
     ]
    }
   ],
   "source": [
    "with warnings.catch_warnings(): # to catch warning about np.module in Python 3.8.2.\n",
    "    warnings.filterwarnings(\"ignore\",category=FutureWarning)\n",
    "    survey.iplot(\n",
    "        x='gdp_per_capita',\n",
    "        y='total_tests_per_thousand',\n",
    "        categories='continent',\n",
    "        text=\"location\",\n",
    "        vline= {\"x\":survey[\"gdp_per_capita\"].mean(),\n",
    "                \"color\":\"#000000\",\n",
    "                \"dash\": \"dash\"\n",
    "               },\n",
    "        hline={\"y\":survey[\"total_tests_per_thousand\"].mean(),\n",
    "               \"color\":\"#000000\",\n",
    "               \"dash\": \"dash\"\n",
    "              },\n",
    "        xTitle='Gross domestic product',\n",
    "        yTitle='Total tests for COVID-19 per 1,000 people',\n",
    "        title='Gross domestic product vs. Total tests for COVID-19 per 1,000 people <br> dashed lines: average of entire dataset')\n",
    "\n",
    "print(\"Recommendation: choose option to 'show closest data point on hover' in top right corner\")"
   ]
  },
  {
   "cell_type": "code",
   "execution_count": 16,
   "metadata": {},
   "outputs": [
    {
     "data": {
      "application/vnd.plotly.v1+json": {
       "config": {
        "linkText": "Export to plot.ly",
        "plotlyServerURL": "https://plot.ly",
        "showLink": true
       },
       "data": [
        {
         "marker": {
          "color": "rgba(255, 153, 51, 1.0)",
          "line": {
           "width": 1.3
          },
          "opacity": 0.8,
          "size": 12,
          "symbol": "circle"
         },
         "mode": "markers",
         "name": "North America",
         "text": [
          "Aruba",
          "Anguilla",
          "Antigua and Barbuda",
          "Bonaire Sint Eustatius and Saba",
          "Bahamas",
          "Belize",
          "Bermuda",
          "Barbados",
          "Canada",
          "Costa Rica",
          "Cuba",
          "Curacao",
          "Cayman Islands",
          "Dominica",
          "Dominican Republic",
          "Grenada",
          "Greenland",
          "Guatemala",
          "Honduras",
          "Haiti",
          "Jamaica",
          "Saint Kitts and Nevis",
          "Saint Lucia",
          "Mexico",
          "Montserrat",
          "Nicaragua",
          "Panama",
          "Puerto Rico",
          "El Salvador",
          "Sint Maarten (Dutch part)",
          "Turks and Caicos Islands",
          "Trinidad and Tobago",
          "Saint Vincent and the Grenadines",
          "British Virgin Islands",
          "United States Virgin Islands"
         ],
         "textfont": {
          "color": "#4D5663"
         },
         "type": "scatter",
         "x": [
          35973.781,
          null,
          21490.943,
          null,
          27717.847,
          7824.361999999999,
          50669.315,
          16978.068,
          44017.59099999999,
          15524.995,
          null,
          null,
          49903.029,
          9673.367,
          14600.861,
          13593.877,
          null,
          7423.808000000001,
          4541.795,
          1653.1729999999998,
          8193.571,
          24654.385,
          12951.839,
          17336.468999999997,
          null,
          5321.444,
          22267.037,
          35044.67,
          7292.4580000000005,
          36327.232,
          null,
          28763.071,
          10727.146,
          null,
          null
         ],
         "y": [
          12138.696000000002,
          199.97299999999998,
          959.8889999999999,
          495.786,
          3893.218,
          1390.7720000000002,
          2665.6820000000002,
          539.372,
          3271.938,
          5969.438,
          307.418,
          219.378,
          3119.2940000000003,
          250.03099999999998,
          8123.874,
          213.297,
          246.6,
          3621.487,
          5279.967,
          697.1260000000001,
          402.545,
          319.597,
          141.59,
          4165.202,
          2600.52,
          650.761,
          19411.009,
          9764.265,
          3656.532,
          8115.293000000001,
          8445.684000000001,
          490.17800000000005,
          522.7719999999999,
          363.793,
          7929.2880000000005
         ]
        },
        {
         "marker": {
          "color": "rgba(55, 128, 191, 1.0)",
          "line": {
           "width": 1.3
          },
          "opacity": 0.8,
          "size": 12,
          "symbol": "circle"
         },
         "mode": "markers",
         "name": "Asia",
         "text": [
          "Afghanistan",
          "United Arab Emirates",
          "Armenia",
          "Azerbaijan",
          "Bangladesh",
          "Bahrain",
          "Brunei",
          "Bhutan",
          "China",
          "Georgia",
          "Indonesia",
          "India",
          "Iran",
          "Iraq",
          "Israel",
          "Jordan",
          "Japan",
          "Kazakhstan",
          "Kyrgyzstan",
          "Cambodia",
          "South Korea",
          "Kuwait",
          "Laos",
          "Lebanon",
          "Sri Lanka",
          "Maldives",
          "Myanmar",
          "Mongolia",
          "Malaysia",
          "Nepal",
          "Oman",
          "Pakistan",
          "Philippines",
          "Palestine",
          "Qatar",
          "Saudi Arabia",
          "Singapore",
          "Syria",
          "Thailand",
          "Tajikistan",
          "Timor",
          "Turkey",
          "Taiwan",
          "Uzbekistan",
          "Vietnam",
          "Yemen"
         ],
         "textfont": {
          "color": "#4D5663"
         },
         "type": "scatter",
         "x": [
          1803.987,
          67293.483,
          8787.58,
          15847.419,
          3523.9840000000004,
          43290.705,
          71809.25099999999,
          8708.597,
          15308.712,
          9745.079,
          11188.743999999999,
          6426.674,
          19082.62,
          15663.986,
          33132.32,
          8337.49,
          39002.223,
          24055.588,
          3393.474,
          3645.07,
          35938.373999999996,
          65530.537000000004,
          6397.36,
          13367.565,
          11669.077,
          15183.616000000002,
          5591.597,
          11840.846000000001,
          26808.164,
          2442.804,
          37960.709,
          5034.708,
          7599.188,
          4449.898,
          116935.6,
          49045.41099999999,
          85535.383,
          null,
          16277.671,
          2896.913,
          6570.102,
          25129.341,
          null,
          6253.104,
          6171.884,
          1479.1470000000002
         ],
         "y": [
          969.962,
          6606.507,
          14192.601999999999,
          3414.4790000000003,
          1731.0829999999999,
          27730.061,
          324.584,
          194.398,
          62.201,
          341.173,
          529.918,
          2055.736,
          4141.24,
          4693.94,
          11318.645,
          145.249,
          462.545,
          6622.887,
          6487.394,
          16.329,
          318.827,
          18298.523999999998,
          2.7489999999999997,
          1515.9460000000001,
          135.524,
          11516.219,
          7.278,
          90.90100000000001,
          285.33,
          993.177,
          16372.075,
          1317.194,
          1585.8029999999999,
          4592.254,
          40247.687000000005,
          8694.409,
          9577.386999999999,
          110.11,
          48.553000000000004,
          856.186,
          18.962,
          3001.077,
          20.406,
          1116.4289999999999,
          10.212,
          63.468
         ]
        },
        {
         "marker": {
          "color": "rgba(50, 171, 96, 1.0)",
          "line": {
           "width": 1.3
          },
          "opacity": 0.8,
          "size": 12,
          "symbol": "circle"
         },
         "mode": "markers",
         "name": "Africa",
         "text": [
          "Angola",
          "Burundi",
          "Benin",
          "Burkina Faso",
          "Botswana",
          "Central African Republic",
          "Cote d'Ivoire",
          "Cameroon",
          "Democratic Republic of Congo",
          "Congo",
          "Comoros",
          "Cape Verde",
          "Djibouti",
          "Algeria",
          "Egypt",
          "Eritrea",
          "Western Sahara",
          "Ethiopia",
          "Gabon",
          "Ghana",
          "Guinea",
          "Gambia",
          "Guinea-Bissau",
          "Equatorial Guinea",
          "Kenya",
          "Liberia",
          "Libya",
          "Lesotho",
          "Morocco",
          "Madagascar",
          "Mali",
          "Mozambique",
          "Mauritania",
          "Mauritius",
          "Malawi",
          "Namibia",
          "Niger",
          "Nigeria",
          "Rwanda",
          "Sudan",
          "Senegal",
          "Sierra Leone",
          "Somalia",
          "South Sudan",
          "Sao Tome and Principe",
          "Swaziland",
          "Seychelles",
          "Chad",
          "Togo",
          "Tunisia",
          "Tanzania",
          "Uganda",
          "South Africa",
          "Zambia",
          "Zimbabwe"
         ],
         "textfont": {
          "color": "#4D5663"
         },
         "type": "scatter",
         "x": [
          5819.495,
          702.225,
          2064.236,
          1703.102,
          15807.374,
          661.24,
          3601.006,
          3364.926,
          808.133,
          4881.406,
          1413.89,
          6222.554,
          2705.406,
          13913.839,
          10550.206,
          1510.4589999999998,
          null,
          1729.9270000000001,
          16562.413,
          4227.63,
          1998.9260000000002,
          1561.767,
          1548.675,
          22604.873,
          2993.028,
          752.788,
          17881.509,
          2851.153,
          7485.013000000001,
          1416.44,
          2014.306,
          1136.103,
          3597.633,
          20292.745,
          1095.042,
          9541.808,
          926,
          5338.454000000001,
          1854.211,
          4466.5070000000005,
          2470.58,
          1390.3,
          null,
          1569.888,
          3052.7140000000004,
          7738.975,
          26382.287,
          1768.1529999999998,
          1429.8129999999999,
          10849.296999999999,
          2683.304,
          1697.707,
          12294.876,
          3689.2509999999997,
          1899.775
         ],
         "y": [
          59.818000000000005,
          35.49,
          170.17,
          61.808,
          556.211,
          968.784,
          653.265,
          701.578,
          108.75200000000001,
          697.705,
          465.73400000000004,
          5973.15,
          5439.26,
          908.69,
          947.0319999999999,
          85.72,
          1282.373,
          296.25,
          3737.653,
          1386.866,
          669.4689999999999,
          946.76,
          1075.712,
          3486.8509999999997,
          576.795,
          253.476,
          1319.695,
          441.591,
          1254.736,
          508.251,
          131.69799999999998,
          97.42299999999999,
          1468.71,
          272.062,
          273.916,
          1835.9520000000002,
          48.21,
          244.921,
          204.135,
          286.117,
          743.314,
          245.832,
          205.43400000000003,
          222.803,
          4038.127,
          3497.781,
          1342.2820000000002,
          59.114,
          143.74200000000002,
          205.354,
          8.521,
          35.045,
          10050.129,
          555.811,
          379.66900000000004
         ]
        },
        {
         "marker": {
          "color": "rgba(128, 0, 128, 1.0)",
          "line": {
           "width": 1.3
          },
          "opacity": 0.8,
          "size": 12,
          "symbol": "circle"
         },
         "mode": "markers",
         "name": "Europe",
         "text": [
          "Albania",
          "Andorra",
          "Austria",
          "Belgium",
          "Bulgaria",
          "Bosnia and Herzegovina",
          "Belarus",
          "Switzerland",
          "Cyprus",
          "Czech Republic",
          "Germany",
          "Denmark",
          "Estonia",
          "Finland",
          "France",
          "Faeroe Islands",
          "United Kingdom",
          "Guernsey",
          "Gibraltar",
          "Greece",
          "Croatia",
          "Hungary",
          "Isle of Man",
          "Ireland",
          "Iceland",
          "Italy",
          "Jersey",
          "Liechtenstein",
          "Lithuania",
          "Luxembourg",
          "Latvia",
          "Monaco",
          "Moldova",
          "Macedonia",
          "Malta",
          "Montenegro",
          "Netherlands",
          "Norway",
          "Poland",
          "Portugal",
          "Romania",
          "San Marino",
          "Serbia",
          "Slovakia",
          "Slovenia",
          "Sweden",
          "Ukraine",
          "Vatican",
          "Kosovo"
         ],
         "textfont": {
          "color": "#4D5663"
         },
         "type": "scatter",
         "x": [
          11803.431,
          null,
          45436.685999999994,
          42658.575999999994,
          18563.307,
          11713.895,
          17167.967,
          57410.166,
          32415.132,
          32605.906000000003,
          45229.245,
          46682.515,
          29481.252,
          40585.721,
          38605.671,
          null,
          39753.244,
          null,
          null,
          24574.382,
          22669.797000000002,
          26777.561,
          null,
          67335.293,
          46482.958,
          35220.084,
          null,
          null,
          29524.265,
          94277.965,
          25063.846,
          null,
          5189.972,
          13111.214,
          36513.323,
          16409.288,
          48472.545,
          64800.057,
          27216.445,
          27936.896,
          23313.199,
          56861.47,
          14048.881000000001,
          30155.152000000002,
          31400.84,
          46949.282999999996,
          7894.393,
          null,
          9795.834
         ],
         "y": [
          2714.574,
          13253.09,
          2698.0809999999997,
          6849.7519999999995,
          2111.12,
          5087.455,
          7386.88,
          4467.21,
          1581.233,
          1942.108,
          2728.697,
          2751.975,
          1663.7279999999998,
          1403.4279999999999,
          3447.6929999999998,
          7817.456,
          4729.959,
          3758.277,
          6618.978,
          737.212,
          1723.152,
          517.7869999999999,
          3951.454,
          5578.805,
          5963.37,
          4222.135,
          3571.676,
          2569.683,
          916.875,
          12086.725,
          703,
          3771.277,
          7787.6269999999995,
          6232.66,
          3100.5190000000002,
          6645.840999999999,
          3762.094,
          1865.0710000000001,
          1548.646,
          5364.575,
          3826.708,
          21185.692000000003,
          4415.839,
          553.516,
          1199.173,
          8457.146,
          2204.315,
          14833.127,
          5973.28
         ]
        },
        {
         "marker": {
          "color": "rgba(219, 64, 82, 1.0)",
          "line": {
           "width": 1.3
          },
          "opacity": 0.8,
          "size": 12,
          "symbol": "circle"
         },
         "mode": "markers",
         "name": "South America",
         "text": [
          "Argentina",
          "Bolivia",
          "Brazil",
          "Chile",
          "Colombia",
          "Ecuador",
          "Falkland Islands",
          "Guyana",
          "Peru",
          "Paraguay",
          "Suriname",
          "Uruguay",
          "Venezuela"
         ],
         "textfont": {
          "color": "#4D5663"
         },
         "type": "scatter",
         "x": [
          18933.907,
          6885.829000000001,
          14103.452,
          22767.037,
          13254.948999999999,
          10581.936000000002,
          null,
          7435.047,
          12236.706,
          8827.01,
          13767.118999999999,
          20551.409,
          16745.022
         ],
         "y": [
          6769.504,
          8999.378,
          16262.051000000001,
          20403.47,
          9869.291,
          5921.592,
          3732.415,
          986.576,
          16936.267,
          1560.8770000000002,
          5616.79,
          429.798,
          1296.528
         ]
        },
        {
         "marker": {
          "color": "rgba(0, 128, 128, 1.0)",
          "line": {
           "width": 1.3
          },
          "opacity": 0.8,
          "size": 12,
          "symbol": "circle"
         },
         "mode": "markers",
         "name": "Oceania",
         "text": [
          "Australia",
          "Fiji",
          "Guam",
          "Northern Mariana Islands",
          "New Caledonia",
          "New Zealand",
          "Papua New Guinea",
          "French Polynesia"
         ],
         "textfont": {
          "color": "#4D5663"
         },
         "type": "scatter",
         "x": [
          44648.71,
          8702.975,
          null,
          null,
          null,
          36085.843,
          3823.1940000000004,
          null
         ],
         "y": [
          940.9060000000001,
          31.235,
          3548.9359999999997,
          938.2,
          80.563,
          270.414,
          40.125,
          825.905
         ]
        },
        {
         "marker": {
          "color": "rgba(255, 255, 51, 1.0)",
          "line": {
           "width": 1.3
          },
          "opacity": 0.8,
          "size": 12,
          "symbol": "circle"
         },
         "mode": "markers",
         "name": "Russia",
         "text": [
          "Russia"
         ],
         "textfont": {
          "color": "#4D5663"
         },
         "type": "scatter",
         "x": [
          24765.953999999998
         ],
         "y": [
          6422.89
         ]
        },
        {
         "marker": {
          "color": "rgba(128, 128, 0, 1.0)",
          "line": {
           "width": 1.3
          },
          "opacity": 0.8,
          "size": 12,
          "symbol": "circle"
         },
         "mode": "markers",
         "name": "USA",
         "text": [
          "United States"
         ],
         "textfont": {
          "color": "#4D5663"
         },
         "type": "scatter",
         "x": [
          54225.445999999996
         ],
         "y": [
          16706.338
         ]
        },
        {
         "marker": {
          "color": "rgba(251, 128, 114, 1.0)",
          "line": {
           "width": 1.3
          },
          "opacity": 0.8,
          "size": 12,
          "symbol": "circle"
         },
         "mode": "markers",
         "name": "nan",
         "text": [],
         "textfont": {
          "color": "#4D5663"
         },
         "type": "scatter",
         "x": [],
         "y": []
        }
       ],
       "layout": {
        "legend": {
         "bgcolor": "#F5F6F9",
         "font": {
          "color": "#4D5663"
         }
        },
        "paper_bgcolor": "#F5F6F9",
        "plot_bgcolor": "#F5F6F9",
        "shapes": [
         {
          "line": {
           "color": "#000000",
           "dash": "dash",
           "width": 1
          },
          "type": "line",
          "x0": 0,
          "x1": 1,
          "xref": "paper",
          "y0": 3611.6467081339697,
          "y1": 3611.6467081339697,
          "yref": "y"
         },
         {
          "line": {
           "color": "#000000",
           "dash": "dash",
           "width": 1
          },
          "type": "line",
          "x0": 19181.669758241755,
          "x1": 19181.669758241755,
          "xref": "x",
          "y0": 0,
          "y1": 1,
          "yref": "paper"
         }
        ],
        "title": "Gross domestic product vs. Total confirmed cases of COVID-19 per 1,000,000 people <br> dashed lines: average of entire dataset",
        "titlefont": {
         "color": "#4D5663"
        },
        "xaxis": {
         "gridcolor": "#E1E5ED",
         "showgrid": true,
         "tickfont": {
          "color": "#4D5663"
         },
         "title": "Gross domestic product",
         "titlefont": {
          "color": "#4D5663"
         },
         "zerolinecolor": "#E1E5ED"
        },
        "yaxis": {
         "gridcolor": "#E1E5ED",
         "showgrid": true,
         "tickfont": {
          "color": "#4D5663"
         },
         "title": "Total confirmed cases of COVID-19 per 1,000,000 people",
         "titlefont": {
          "color": "#4D5663"
         },
         "zerolinecolor": "#E1E5ED"
        }
       }
      },
      "text/html": [
       "<div>\n",
       "        \n",
       "        \n",
       "            <div id=\"a8b0fbcf-19e1-444f-9427-4035276c0fe0\" class=\"plotly-graph-div\" style=\"height:525px; width:100%;\"></div>\n",
       "            <script type=\"text/javascript\">\n",
       "                require([\"plotly\"], function(Plotly) {\n",
       "                    window.PLOTLYENV=window.PLOTLYENV || {};\n",
       "                    window.PLOTLYENV.BASE_URL='https://plot.ly';\n",
       "                    \n",
       "                if (document.getElementById(\"a8b0fbcf-19e1-444f-9427-4035276c0fe0\")) {\n",
       "                    Plotly.newPlot(\n",
       "                        'a8b0fbcf-19e1-444f-9427-4035276c0fe0',\n",
       "                        [{\"marker\": {\"color\": \"rgba(255, 153, 51, 1.0)\", \"line\": {\"width\": 1.3}, \"opacity\": 0.8, \"size\": 12, \"symbol\": \"circle\"}, \"mode\": \"markers\", \"name\": \"North America\", \"text\": [\"Aruba\", \"Anguilla\", \"Antigua and Barbuda\", \"Bonaire Sint Eustatius and Saba\", \"Bahamas\", \"Belize\", \"Bermuda\", \"Barbados\", \"Canada\", \"Costa Rica\", \"Cuba\", \"Curacao\", \"Cayman Islands\", \"Dominica\", \"Dominican Republic\", \"Grenada\", \"Greenland\", \"Guatemala\", \"Honduras\", \"Haiti\", \"Jamaica\", \"Saint Kitts and Nevis\", \"Saint Lucia\", \"Mexico\", \"Montserrat\", \"Nicaragua\", \"Panama\", \"Puerto Rico\", \"El Salvador\", \"Sint Maarten (Dutch part)\", \"Turks and Caicos Islands\", \"Trinidad and Tobago\", \"Saint Vincent and the Grenadines\", \"British Virgin Islands\", \"United States Virgin Islands\"], \"textfont\": {\"color\": \"#4D5663\"}, \"type\": \"scatter\", \"x\": [35973.781, null, 21490.943, null, 27717.847, 7824.361999999999, 50669.315, 16978.068, 44017.59099999999, 15524.995, null, null, 49903.029, 9673.367, 14600.861, 13593.877, null, 7423.808000000001, 4541.795, 1653.1729999999998, 8193.571, 24654.385, 12951.839, 17336.468999999997, null, 5321.444, 22267.037, 35044.67, 7292.4580000000005, 36327.232, null, 28763.071, 10727.146, null, null], \"y\": [12138.696000000002, 199.97299999999998, 959.8889999999999, 495.786, 3893.218, 1390.7720000000002, 2665.6820000000002, 539.372, 3271.938, 5969.438, 307.418, 219.378, 3119.2940000000003, 250.03099999999998, 8123.874, 213.297, 246.6, 3621.487, 5279.967, 697.1260000000001, 402.545, 319.597, 141.59, 4165.202, 2600.52, 650.761, 19411.009, 9764.265, 3656.532, 8115.293000000001, 8445.684000000001, 490.17800000000005, 522.7719999999999, 363.793, 7929.2880000000005]}, {\"marker\": {\"color\": \"rgba(55, 128, 191, 1.0)\", \"line\": {\"width\": 1.3}, \"opacity\": 0.8, \"size\": 12, \"symbol\": \"circle\"}, \"mode\": \"markers\", \"name\": \"Asia\", \"text\": [\"Afghanistan\", \"United Arab Emirates\", \"Armenia\", \"Azerbaijan\", \"Bangladesh\", \"Bahrain\", \"Brunei\", \"Bhutan\", \"China\", \"Georgia\", \"Indonesia\", \"India\", \"Iran\", \"Iraq\", \"Israel\", \"Jordan\", \"Japan\", \"Kazakhstan\", \"Kyrgyzstan\", \"Cambodia\", \"South Korea\", \"Kuwait\", \"Laos\", \"Lebanon\", \"Sri Lanka\", \"Maldives\", \"Myanmar\", \"Mongolia\", \"Malaysia\", \"Nepal\", \"Oman\", \"Pakistan\", \"Philippines\", \"Palestine\", \"Qatar\", \"Saudi Arabia\", \"Singapore\", \"Syria\", \"Thailand\", \"Tajikistan\", \"Timor\", \"Turkey\", \"Taiwan\", \"Uzbekistan\", \"Vietnam\", \"Yemen\"], \"textfont\": {\"color\": \"#4D5663\"}, \"type\": \"scatter\", \"x\": [1803.987, 67293.483, 8787.58, 15847.419, 3523.9840000000004, 43290.705, 71809.25099999999, 8708.597, 15308.712, 9745.079, 11188.743999999999, 6426.674, 19082.62, 15663.986, 33132.32, 8337.49, 39002.223, 24055.588, 3393.474, 3645.07, 35938.373999999996, 65530.537000000004, 6397.36, 13367.565, 11669.077, 15183.616000000002, 5591.597, 11840.846000000001, 26808.164, 2442.804, 37960.709, 5034.708, 7599.188, 4449.898, 116935.6, 49045.41099999999, 85535.383, null, 16277.671, 2896.913, 6570.102, 25129.341, null, 6253.104, 6171.884, 1479.1470000000002], \"y\": [969.962, 6606.507, 14192.601999999999, 3414.4790000000003, 1731.0829999999999, 27730.061, 324.584, 194.398, 62.201, 341.173, 529.918, 2055.736, 4141.24, 4693.94, 11318.645, 145.249, 462.545, 6622.887, 6487.394, 16.329, 318.827, 18298.523999999998, 2.7489999999999997, 1515.9460000000001, 135.524, 11516.219, 7.278, 90.90100000000001, 285.33, 993.177, 16372.075, 1317.194, 1585.8029999999999, 4592.254, 40247.687000000005, 8694.409, 9577.386999999999, 110.11, 48.553000000000004, 856.186, 18.962, 3001.077, 20.406, 1116.4289999999999, 10.212, 63.468]}, {\"marker\": {\"color\": \"rgba(50, 171, 96, 1.0)\", \"line\": {\"width\": 1.3}, \"opacity\": 0.8, \"size\": 12, \"symbol\": \"circle\"}, \"mode\": \"markers\", \"name\": \"Africa\", \"text\": [\"Angola\", \"Burundi\", \"Benin\", \"Burkina Faso\", \"Botswana\", \"Central African Republic\", \"Cote d'Ivoire\", \"Cameroon\", \"Democratic Republic of Congo\", \"Congo\", \"Comoros\", \"Cape Verde\", \"Djibouti\", \"Algeria\", \"Egypt\", \"Eritrea\", \"Western Sahara\", \"Ethiopia\", \"Gabon\", \"Ghana\", \"Guinea\", \"Gambia\", \"Guinea-Bissau\", \"Equatorial Guinea\", \"Kenya\", \"Liberia\", \"Libya\", \"Lesotho\", \"Morocco\", \"Madagascar\", \"Mali\", \"Mozambique\", \"Mauritania\", \"Mauritius\", \"Malawi\", \"Namibia\", \"Niger\", \"Nigeria\", \"Rwanda\", \"Sudan\", \"Senegal\", \"Sierra Leone\", \"Somalia\", \"South Sudan\", \"Sao Tome and Principe\", \"Swaziland\", \"Seychelles\", \"Chad\", \"Togo\", \"Tunisia\", \"Tanzania\", \"Uganda\", \"South Africa\", \"Zambia\", \"Zimbabwe\"], \"textfont\": {\"color\": \"#4D5663\"}, \"type\": \"scatter\", \"x\": [5819.495, 702.225, 2064.236, 1703.102, 15807.374, 661.24, 3601.006, 3364.926, 808.133, 4881.406, 1413.89, 6222.554, 2705.406, 13913.839, 10550.206, 1510.4589999999998, null, 1729.9270000000001, 16562.413, 4227.63, 1998.9260000000002, 1561.767, 1548.675, 22604.873, 2993.028, 752.788, 17881.509, 2851.153, 7485.013000000001, 1416.44, 2014.306, 1136.103, 3597.633, 20292.745, 1095.042, 9541.808, 926.0, 5338.454000000001, 1854.211, 4466.5070000000005, 2470.58, 1390.3, null, 1569.888, 3052.7140000000004, 7738.975, 26382.287, 1768.1529999999998, 1429.8129999999999, 10849.296999999999, 2683.304, 1697.707, 12294.876, 3689.2509999999997, 1899.775], \"y\": [59.818000000000005, 35.49, 170.17, 61.808, 556.211, 968.784, 653.265, 701.578, 108.75200000000001, 697.705, 465.73400000000004, 5973.15, 5439.26, 908.69, 947.0319999999999, 85.72, 1282.373, 296.25, 3737.653, 1386.866, 669.4689999999999, 946.76, 1075.712, 3486.8509999999997, 576.795, 253.476, 1319.695, 441.591, 1254.736, 508.251, 131.69799999999998, 97.42299999999999, 1468.71, 272.062, 273.916, 1835.9520000000002, 48.21, 244.921, 204.135, 286.117, 743.314, 245.832, 205.43400000000003, 222.803, 4038.127, 3497.781, 1342.2820000000002, 59.114, 143.74200000000002, 205.354, 8.521, 35.045, 10050.129, 555.811, 379.66900000000004]}, {\"marker\": {\"color\": \"rgba(128, 0, 128, 1.0)\", \"line\": {\"width\": 1.3}, \"opacity\": 0.8, \"size\": 12, \"symbol\": \"circle\"}, \"mode\": \"markers\", \"name\": \"Europe\", \"text\": [\"Albania\", \"Andorra\", \"Austria\", \"Belgium\", \"Bulgaria\", \"Bosnia and Herzegovina\", \"Belarus\", \"Switzerland\", \"Cyprus\", \"Czech Republic\", \"Germany\", \"Denmark\", \"Estonia\", \"Finland\", \"France\", \"Faeroe Islands\", \"United Kingdom\", \"Guernsey\", \"Gibraltar\", \"Greece\", \"Croatia\", \"Hungary\", \"Isle of Man\", \"Ireland\", \"Iceland\", \"Italy\", \"Jersey\", \"Liechtenstein\", \"Lithuania\", \"Luxembourg\", \"Latvia\", \"Monaco\", \"Moldova\", \"Macedonia\", \"Malta\", \"Montenegro\", \"Netherlands\", \"Norway\", \"Poland\", \"Portugal\", \"Romania\", \"San Marino\", \"Serbia\", \"Slovakia\", \"Slovenia\", \"Sweden\", \"Ukraine\", \"Vatican\", \"Kosovo\"], \"textfont\": {\"color\": \"#4D5663\"}, \"type\": \"scatter\", \"x\": [11803.431, null, 45436.685999999994, 42658.575999999994, 18563.307, 11713.895, 17167.967, 57410.166, 32415.132, 32605.906000000003, 45229.245, 46682.515, 29481.252, 40585.721, 38605.671, null, 39753.244, null, null, 24574.382, 22669.797000000002, 26777.561, null, 67335.293, 46482.958, 35220.084, null, null, 29524.265, 94277.965, 25063.846, null, 5189.972, 13111.214, 36513.323, 16409.288, 48472.545, 64800.057, 27216.445, 27936.896, 23313.199, 56861.47, 14048.881000000001, 30155.152000000002, 31400.84, 46949.282999999996, 7894.393, null, 9795.834], \"y\": [2714.574, 13253.09, 2698.0809999999997, 6849.7519999999995, 2111.12, 5087.455, 7386.88, 4467.21, 1581.233, 1942.108, 2728.697, 2751.975, 1663.7279999999998, 1403.4279999999999, 3447.6929999999998, 7817.456, 4729.959, 3758.277, 6618.978, 737.212, 1723.152, 517.7869999999999, 3951.454, 5578.805, 5963.37, 4222.135, 3571.676, 2569.683, 916.875, 12086.725, 703.0, 3771.277, 7787.6269999999995, 6232.66, 3100.5190000000002, 6645.840999999999, 3762.094, 1865.0710000000001, 1548.646, 5364.575, 3826.708, 21185.692000000003, 4415.839, 553.516, 1199.173, 8457.146, 2204.315, 14833.127, 5973.28]}, {\"marker\": {\"color\": \"rgba(219, 64, 82, 1.0)\", \"line\": {\"width\": 1.3}, \"opacity\": 0.8, \"size\": 12, \"symbol\": \"circle\"}, \"mode\": \"markers\", \"name\": \"South America\", \"text\": [\"Argentina\", \"Bolivia\", \"Brazil\", \"Chile\", \"Colombia\", \"Ecuador\", \"Falkland Islands\", \"Guyana\", \"Peru\", \"Paraguay\", \"Suriname\", \"Uruguay\", \"Venezuela\"], \"textfont\": {\"color\": \"#4D5663\"}, \"type\": \"scatter\", \"x\": [18933.907, 6885.829000000001, 14103.452, 22767.037, 13254.948999999999, 10581.936000000002, null, 7435.047, 12236.706, 8827.01, 13767.118999999999, 20551.409, 16745.022], \"y\": [6769.504, 8999.378, 16262.051000000001, 20403.47, 9869.291, 5921.592, 3732.415, 986.576, 16936.267, 1560.8770000000002, 5616.79, 429.798, 1296.528]}, {\"marker\": {\"color\": \"rgba(0, 128, 128, 1.0)\", \"line\": {\"width\": 1.3}, \"opacity\": 0.8, \"size\": 12, \"symbol\": \"circle\"}, \"mode\": \"markers\", \"name\": \"Oceania\", \"text\": [\"Australia\", \"Fiji\", \"Guam\", \"Northern Mariana Islands\", \"New Caledonia\", \"New Zealand\", \"Papua New Guinea\", \"French Polynesia\"], \"textfont\": {\"color\": \"#4D5663\"}, \"type\": \"scatter\", \"x\": [44648.71, 8702.975, null, null, null, 36085.843, 3823.1940000000004, null], \"y\": [940.9060000000001, 31.235, 3548.9359999999997, 938.2, 80.563, 270.414, 40.125, 825.905]}, {\"marker\": {\"color\": \"rgba(255, 255, 51, 1.0)\", \"line\": {\"width\": 1.3}, \"opacity\": 0.8, \"size\": 12, \"symbol\": \"circle\"}, \"mode\": \"markers\", \"name\": \"Russia\", \"text\": [\"Russia\"], \"textfont\": {\"color\": \"#4D5663\"}, \"type\": \"scatter\", \"x\": [24765.953999999998], \"y\": [6422.89]}, {\"marker\": {\"color\": \"rgba(128, 128, 0, 1.0)\", \"line\": {\"width\": 1.3}, \"opacity\": 0.8, \"size\": 12, \"symbol\": \"circle\"}, \"mode\": \"markers\", \"name\": \"USA\", \"text\": [\"United States\"], \"textfont\": {\"color\": \"#4D5663\"}, \"type\": \"scatter\", \"x\": [54225.445999999996], \"y\": [16706.338]}, {\"marker\": {\"color\": \"rgba(251, 128, 114, 1.0)\", \"line\": {\"width\": 1.3}, \"opacity\": 0.8, \"size\": 12, \"symbol\": \"circle\"}, \"mode\": \"markers\", \"name\": \"nan\", \"text\": [], \"textfont\": {\"color\": \"#4D5663\"}, \"type\": \"scatter\", \"x\": [], \"y\": []}],\n",
       "                        {\"legend\": {\"bgcolor\": \"#F5F6F9\", \"font\": {\"color\": \"#4D5663\"}}, \"paper_bgcolor\": \"#F5F6F9\", \"plot_bgcolor\": \"#F5F6F9\", \"shapes\": [{\"line\": {\"color\": \"#000000\", \"dash\": \"dash\", \"width\": 1}, \"type\": \"line\", \"x0\": 0, \"x1\": 1, \"xref\": \"paper\", \"y0\": 3611.6467081339697, \"y1\": 3611.6467081339697, \"yref\": \"y\"}, {\"line\": {\"color\": \"#000000\", \"dash\": \"dash\", \"width\": 1}, \"type\": \"line\", \"x0\": 19181.669758241755, \"x1\": 19181.669758241755, \"xref\": \"x\", \"y0\": 0, \"y1\": 1, \"yref\": \"paper\"}], \"title\": \"Gross domestic product vs. Total confirmed cases of COVID-19 per 1,000,000 people <br> dashed lines: average of entire dataset\", \"titlefont\": {\"color\": \"#4D5663\"}, \"xaxis\": {\"gridcolor\": \"#E1E5ED\", \"showgrid\": true, \"tickfont\": {\"color\": \"#4D5663\"}, \"title\": \"Gross domestic product\", \"titlefont\": {\"color\": \"#4D5663\"}, \"zerolinecolor\": \"#E1E5ED\"}, \"yaxis\": {\"gridcolor\": \"#E1E5ED\", \"showgrid\": true, \"tickfont\": {\"color\": \"#4D5663\"}, \"title\": \"Total confirmed cases of COVID-19 per 1,000,000 people\", \"titlefont\": {\"color\": \"#4D5663\"}, \"zerolinecolor\": \"#E1E5ED\"}},\n",
       "                        {\"showLink\": true, \"linkText\": \"Export to plot.ly\", \"plotlyServerURL\": \"https://plot.ly\", \"responsive\": true}\n",
       "                    ).then(function(){\n",
       "                            \n",
       "var gd = document.getElementById('a8b0fbcf-19e1-444f-9427-4035276c0fe0');\n",
       "var x = new MutationObserver(function (mutations, observer) {{\n",
       "        var display = window.getComputedStyle(gd).display;\n",
       "        if (!display || display === 'none') {{\n",
       "            console.log([gd, 'removed!']);\n",
       "            Plotly.purge(gd);\n",
       "            observer.disconnect();\n",
       "        }}\n",
       "}});\n",
       "\n",
       "// Listen for the removal of the full notebook cells\n",
       "var notebookContainer = gd.closest('#notebook-container');\n",
       "if (notebookContainer) {{\n",
       "    x.observe(notebookContainer, {childList: true});\n",
       "}}\n",
       "\n",
       "// Listen for the clearing of the current output cell\n",
       "var outputEl = gd.closest('.output');\n",
       "if (outputEl) {{\n",
       "    x.observe(outputEl, {childList: true});\n",
       "}}\n",
       "\n",
       "                        })\n",
       "                };\n",
       "                });\n",
       "            </script>\n",
       "        </div>"
      ]
     },
     "metadata": {},
     "output_type": "display_data"
    },
    {
     "name": "stdout",
     "output_type": "stream",
     "text": [
      "Recommendation: choose option to 'show closest data point on hover' in top right corner\n"
     ]
    }
   ],
   "source": [
    "with warnings.catch_warnings(): # to catch warning about np.module in Python 3.8.2.\n",
    "    warnings.filterwarnings(\"ignore\",category=FutureWarning)\n",
    "    survey.iplot(\n",
    "        x='gdp_per_capita',\n",
    "        y='total_cases_per_million',\n",
    "        categories='continent',\n",
    "        text=\"location\",\n",
    "        vline= {\"x\":survey[\"gdp_per_capita\"].mean(),\n",
    "                \"color\":\"#000000\",\n",
    "                \"dash\": \"dash\"\n",
    "               },\n",
    "        hline={\"y\":survey[\"total_cases_per_million\"].mean(),\n",
    "               \"color\":\"#000000\",\n",
    "               \"dash\": \"dash\"\n",
    "              },\n",
    "        xTitle='Gross domestic product',\n",
    "        yTitle='Total confirmed cases of COVID-19 per 1,000,000 people',\n",
    "        title='Gross domestic product vs. Total confirmed cases of COVID-19 per 1,000,000 people <br> dashed lines: average of entire dataset'\n",
    "    )\n",
    "print(\"Recommendation: choose option to 'show closest data point on hover' in top right corner\")"
   ]
  },
  {
   "cell_type": "code",
   "execution_count": 17,
   "metadata": {},
   "outputs": [
    {
     "data": {
      "application/vnd.plotly.v1+json": {
       "config": {
        "linkText": "Export to plot.ly",
        "plotlyServerURL": "https://plot.ly",
        "showLink": true
       },
       "data": [
        {
         "marker": {
          "color": "rgba(255, 153, 51, 0.6)",
          "line": {
           "color": "rgba(255, 153, 51, 1.0)",
           "width": 1
          }
         },
         "name": "total_cases_per_million",
         "orientation": "v",
         "text": "",
         "type": "bar",
         "x": [
          "Canada",
          "Malta",
          "Denmark",
          "Germany",
          "Austria",
          "Norway",
          "Estonia",
          "Australia",
          "Lithuania",
          "Latvia",
          "New Zealand"
         ],
         "y": [
          3271,
          3100,
          2751,
          2728,
          2698,
          1865,
          1663,
          940,
          916,
          703,
          270
         ]
        }
       ],
       "layout": {
        "barmode": "stack",
        "legend": {
         "bgcolor": "#F5F6F9",
         "font": {
          "color": "#4D5663"
         },
         "traceorder": "normal"
        },
        "paper_bgcolor": "#F5F6F9",
        "plot_bgcolor": "#F5F6F9",
        "template": {
         "data": {
          "bar": [
           {
            "error_x": {
             "color": "#2a3f5f"
            },
            "error_y": {
             "color": "#2a3f5f"
            },
            "marker": {
             "line": {
              "color": "#E5ECF6",
              "width": 0.5
             }
            },
            "type": "bar"
           }
          ],
          "barpolar": [
           {
            "marker": {
             "line": {
              "color": "#E5ECF6",
              "width": 0.5
             }
            },
            "type": "barpolar"
           }
          ],
          "carpet": [
           {
            "aaxis": {
             "endlinecolor": "#2a3f5f",
             "gridcolor": "white",
             "linecolor": "white",
             "minorgridcolor": "white",
             "startlinecolor": "#2a3f5f"
            },
            "baxis": {
             "endlinecolor": "#2a3f5f",
             "gridcolor": "white",
             "linecolor": "white",
             "minorgridcolor": "white",
             "startlinecolor": "#2a3f5f"
            },
            "type": "carpet"
           }
          ],
          "choropleth": [
           {
            "colorbar": {
             "outlinewidth": 0,
             "ticks": ""
            },
            "type": "choropleth"
           }
          ],
          "contour": [
           {
            "colorbar": {
             "outlinewidth": 0,
             "ticks": ""
            },
            "colorscale": [
             [
              0,
              "#0d0887"
             ],
             [
              0.1111111111111111,
              "#46039f"
             ],
             [
              0.2222222222222222,
              "#7201a8"
             ],
             [
              0.3333333333333333,
              "#9c179e"
             ],
             [
              0.4444444444444444,
              "#bd3786"
             ],
             [
              0.5555555555555556,
              "#d8576b"
             ],
             [
              0.6666666666666666,
              "#ed7953"
             ],
             [
              0.7777777777777778,
              "#fb9f3a"
             ],
             [
              0.8888888888888888,
              "#fdca26"
             ],
             [
              1,
              "#f0f921"
             ]
            ],
            "type": "contour"
           }
          ],
          "contourcarpet": [
           {
            "colorbar": {
             "outlinewidth": 0,
             "ticks": ""
            },
            "type": "contourcarpet"
           }
          ],
          "heatmap": [
           {
            "colorbar": {
             "outlinewidth": 0,
             "ticks": ""
            },
            "colorscale": [
             [
              0,
              "#0d0887"
             ],
             [
              0.1111111111111111,
              "#46039f"
             ],
             [
              0.2222222222222222,
              "#7201a8"
             ],
             [
              0.3333333333333333,
              "#9c179e"
             ],
             [
              0.4444444444444444,
              "#bd3786"
             ],
             [
              0.5555555555555556,
              "#d8576b"
             ],
             [
              0.6666666666666666,
              "#ed7953"
             ],
             [
              0.7777777777777778,
              "#fb9f3a"
             ],
             [
              0.8888888888888888,
              "#fdca26"
             ],
             [
              1,
              "#f0f921"
             ]
            ],
            "type": "heatmap"
           }
          ],
          "heatmapgl": [
           {
            "colorbar": {
             "outlinewidth": 0,
             "ticks": ""
            },
            "colorscale": [
             [
              0,
              "#0d0887"
             ],
             [
              0.1111111111111111,
              "#46039f"
             ],
             [
              0.2222222222222222,
              "#7201a8"
             ],
             [
              0.3333333333333333,
              "#9c179e"
             ],
             [
              0.4444444444444444,
              "#bd3786"
             ],
             [
              0.5555555555555556,
              "#d8576b"
             ],
             [
              0.6666666666666666,
              "#ed7953"
             ],
             [
              0.7777777777777778,
              "#fb9f3a"
             ],
             [
              0.8888888888888888,
              "#fdca26"
             ],
             [
              1,
              "#f0f921"
             ]
            ],
            "type": "heatmapgl"
           }
          ],
          "histogram": [
           {
            "marker": {
             "colorbar": {
              "outlinewidth": 0,
              "ticks": ""
             }
            },
            "type": "histogram"
           }
          ],
          "histogram2d": [
           {
            "colorbar": {
             "outlinewidth": 0,
             "ticks": ""
            },
            "colorscale": [
             [
              0,
              "#0d0887"
             ],
             [
              0.1111111111111111,
              "#46039f"
             ],
             [
              0.2222222222222222,
              "#7201a8"
             ],
             [
              0.3333333333333333,
              "#9c179e"
             ],
             [
              0.4444444444444444,
              "#bd3786"
             ],
             [
              0.5555555555555556,
              "#d8576b"
             ],
             [
              0.6666666666666666,
              "#ed7953"
             ],
             [
              0.7777777777777778,
              "#fb9f3a"
             ],
             [
              0.8888888888888888,
              "#fdca26"
             ],
             [
              1,
              "#f0f921"
             ]
            ],
            "type": "histogram2d"
           }
          ],
          "histogram2dcontour": [
           {
            "colorbar": {
             "outlinewidth": 0,
             "ticks": ""
            },
            "colorscale": [
             [
              0,
              "#0d0887"
             ],
             [
              0.1111111111111111,
              "#46039f"
             ],
             [
              0.2222222222222222,
              "#7201a8"
             ],
             [
              0.3333333333333333,
              "#9c179e"
             ],
             [
              0.4444444444444444,
              "#bd3786"
             ],
             [
              0.5555555555555556,
              "#d8576b"
             ],
             [
              0.6666666666666666,
              "#ed7953"
             ],
             [
              0.7777777777777778,
              "#fb9f3a"
             ],
             [
              0.8888888888888888,
              "#fdca26"
             ],
             [
              1,
              "#f0f921"
             ]
            ],
            "type": "histogram2dcontour"
           }
          ],
          "mesh3d": [
           {
            "colorbar": {
             "outlinewidth": 0,
             "ticks": ""
            },
            "type": "mesh3d"
           }
          ],
          "parcoords": [
           {
            "line": {
             "colorbar": {
              "outlinewidth": 0,
              "ticks": ""
             }
            },
            "type": "parcoords"
           }
          ],
          "pie": [
           {
            "automargin": true,
            "type": "pie"
           }
          ],
          "scatter": [
           {
            "marker": {
             "colorbar": {
              "outlinewidth": 0,
              "ticks": ""
             }
            },
            "type": "scatter"
           }
          ],
          "scatter3d": [
           {
            "line": {
             "colorbar": {
              "outlinewidth": 0,
              "ticks": ""
             }
            },
            "marker": {
             "colorbar": {
              "outlinewidth": 0,
              "ticks": ""
             }
            },
            "type": "scatter3d"
           }
          ],
          "scattercarpet": [
           {
            "marker": {
             "colorbar": {
              "outlinewidth": 0,
              "ticks": ""
             }
            },
            "type": "scattercarpet"
           }
          ],
          "scattergeo": [
           {
            "marker": {
             "colorbar": {
              "outlinewidth": 0,
              "ticks": ""
             }
            },
            "type": "scattergeo"
           }
          ],
          "scattergl": [
           {
            "marker": {
             "colorbar": {
              "outlinewidth": 0,
              "ticks": ""
             }
            },
            "type": "scattergl"
           }
          ],
          "scattermapbox": [
           {
            "marker": {
             "colorbar": {
              "outlinewidth": 0,
              "ticks": ""
             }
            },
            "type": "scattermapbox"
           }
          ],
          "scatterpolar": [
           {
            "marker": {
             "colorbar": {
              "outlinewidth": 0,
              "ticks": ""
             }
            },
            "type": "scatterpolar"
           }
          ],
          "scatterpolargl": [
           {
            "marker": {
             "colorbar": {
              "outlinewidth": 0,
              "ticks": ""
             }
            },
            "type": "scatterpolargl"
           }
          ],
          "scatterternary": [
           {
            "marker": {
             "colorbar": {
              "outlinewidth": 0,
              "ticks": ""
             }
            },
            "type": "scatterternary"
           }
          ],
          "surface": [
           {
            "colorbar": {
             "outlinewidth": 0,
             "ticks": ""
            },
            "colorscale": [
             [
              0,
              "#0d0887"
             ],
             [
              0.1111111111111111,
              "#46039f"
             ],
             [
              0.2222222222222222,
              "#7201a8"
             ],
             [
              0.3333333333333333,
              "#9c179e"
             ],
             [
              0.4444444444444444,
              "#bd3786"
             ],
             [
              0.5555555555555556,
              "#d8576b"
             ],
             [
              0.6666666666666666,
              "#ed7953"
             ],
             [
              0.7777777777777778,
              "#fb9f3a"
             ],
             [
              0.8888888888888888,
              "#fdca26"
             ],
             [
              1,
              "#f0f921"
             ]
            ],
            "type": "surface"
           }
          ],
          "table": [
           {
            "cells": {
             "fill": {
              "color": "#EBF0F8"
             },
             "line": {
              "color": "white"
             }
            },
            "header": {
             "fill": {
              "color": "#C8D4E3"
             },
             "line": {
              "color": "white"
             }
            },
            "type": "table"
           }
          ]
         },
         "layout": {
          "annotationdefaults": {
           "arrowcolor": "#2a3f5f",
           "arrowhead": 0,
           "arrowwidth": 1
          },
          "coloraxis": {
           "colorbar": {
            "outlinewidth": 0,
            "ticks": ""
           }
          },
          "colorscale": {
           "diverging": [
            [
             0,
             "#8e0152"
            ],
            [
             0.1,
             "#c51b7d"
            ],
            [
             0.2,
             "#de77ae"
            ],
            [
             0.3,
             "#f1b6da"
            ],
            [
             0.4,
             "#fde0ef"
            ],
            [
             0.5,
             "#f7f7f7"
            ],
            [
             0.6,
             "#e6f5d0"
            ],
            [
             0.7,
             "#b8e186"
            ],
            [
             0.8,
             "#7fbc41"
            ],
            [
             0.9,
             "#4d9221"
            ],
            [
             1,
             "#276419"
            ]
           ],
           "sequential": [
            [
             0,
             "#0d0887"
            ],
            [
             0.1111111111111111,
             "#46039f"
            ],
            [
             0.2222222222222222,
             "#7201a8"
            ],
            [
             0.3333333333333333,
             "#9c179e"
            ],
            [
             0.4444444444444444,
             "#bd3786"
            ],
            [
             0.5555555555555556,
             "#d8576b"
            ],
            [
             0.6666666666666666,
             "#ed7953"
            ],
            [
             0.7777777777777778,
             "#fb9f3a"
            ],
            [
             0.8888888888888888,
             "#fdca26"
            ],
            [
             1,
             "#f0f921"
            ]
           ],
           "sequentialminus": [
            [
             0,
             "#0d0887"
            ],
            [
             0.1111111111111111,
             "#46039f"
            ],
            [
             0.2222222222222222,
             "#7201a8"
            ],
            [
             0.3333333333333333,
             "#9c179e"
            ],
            [
             0.4444444444444444,
             "#bd3786"
            ],
            [
             0.5555555555555556,
             "#d8576b"
            ],
            [
             0.6666666666666666,
             "#ed7953"
            ],
            [
             0.7777777777777778,
             "#fb9f3a"
            ],
            [
             0.8888888888888888,
             "#fdca26"
            ],
            [
             1,
             "#f0f921"
            ]
           ]
          },
          "colorway": [
           "#636efa",
           "#EF553B",
           "#00cc96",
           "#ab63fa",
           "#FFA15A",
           "#19d3f3",
           "#FF6692",
           "#B6E880",
           "#FF97FF",
           "#FECB52"
          ],
          "font": {
           "color": "#2a3f5f"
          },
          "geo": {
           "bgcolor": "white",
           "lakecolor": "white",
           "landcolor": "#E5ECF6",
           "showlakes": true,
           "showland": true,
           "subunitcolor": "white"
          },
          "hoverlabel": {
           "align": "left"
          },
          "hovermode": "closest",
          "mapbox": {
           "style": "light"
          },
          "paper_bgcolor": "white",
          "plot_bgcolor": "#E5ECF6",
          "polar": {
           "angularaxis": {
            "gridcolor": "white",
            "linecolor": "white",
            "ticks": ""
           },
           "bgcolor": "#E5ECF6",
           "radialaxis": {
            "gridcolor": "white",
            "linecolor": "white",
            "ticks": ""
           }
          },
          "scene": {
           "xaxis": {
            "backgroundcolor": "#E5ECF6",
            "gridcolor": "white",
            "gridwidth": 2,
            "linecolor": "white",
            "showbackground": true,
            "ticks": "",
            "zerolinecolor": "white"
           },
           "yaxis": {
            "backgroundcolor": "#E5ECF6",
            "gridcolor": "white",
            "gridwidth": 2,
            "linecolor": "white",
            "showbackground": true,
            "ticks": "",
            "zerolinecolor": "white"
           },
           "zaxis": {
            "backgroundcolor": "#E5ECF6",
            "gridcolor": "white",
            "gridwidth": 2,
            "linecolor": "white",
            "showbackground": true,
            "ticks": "",
            "zerolinecolor": "white"
           }
          },
          "shapedefaults": {
           "line": {
            "color": "#2a3f5f"
           }
          },
          "ternary": {
           "aaxis": {
            "gridcolor": "white",
            "linecolor": "white",
            "ticks": ""
           },
           "baxis": {
            "gridcolor": "white",
            "linecolor": "white",
            "ticks": ""
           },
           "bgcolor": "#E5ECF6",
           "caxis": {
            "gridcolor": "white",
            "linecolor": "white",
            "ticks": ""
           }
          },
          "title": {
           "x": 0.05
          },
          "xaxis": {
           "automargin": true,
           "gridcolor": "white",
           "linecolor": "white",
           "ticks": "",
           "title": {
            "standoff": 15
           },
           "zerolinecolor": "white",
           "zerolinewidth": 2
          },
          "yaxis": {
           "automargin": true,
           "gridcolor": "white",
           "linecolor": "white",
           "ticks": "",
           "title": {
            "standoff": 15
           },
           "zerolinecolor": "white",
           "zerolinewidth": 2
          }
         }
        },
        "title": {
         "font": {
          "color": "#4D5663"
         },
         "text": "Low covid confirmation level distribution by rich countries with high testing level"
        },
        "xaxis": {
         "gridcolor": "#E1E5ED",
         "showgrid": true,
         "tickfont": {
          "color": "#4D5663"
         },
         "title": {
          "font": {
           "color": "#4D5663"
          },
          "text": ""
         },
         "zerolinecolor": "#E1E5ED"
        },
        "yaxis": {
         "gridcolor": "#E1E5ED",
         "showgrid": true,
         "tickfont": {
          "color": "#4D5663"
         },
         "title": {
          "font": {
           "color": "#4D5663"
          },
          "text": "total_cases_per_million"
         },
         "zerolinecolor": "#E1E5ED"
        }
       }
      },
      "text/html": [
       "<div>\n",
       "        \n",
       "        \n",
       "            <div id=\"380363cc-e365-4293-b491-48049223f41a\" class=\"plotly-graph-div\" style=\"height:525px; width:100%;\"></div>\n",
       "            <script type=\"text/javascript\">\n",
       "                require([\"plotly\"], function(Plotly) {\n",
       "                    window.PLOTLYENV=window.PLOTLYENV || {};\n",
       "                    window.PLOTLYENV.BASE_URL='https://plot.ly';\n",
       "                    \n",
       "                if (document.getElementById(\"380363cc-e365-4293-b491-48049223f41a\")) {\n",
       "                    Plotly.newPlot(\n",
       "                        '380363cc-e365-4293-b491-48049223f41a',\n",
       "                        [{\"marker\": {\"color\": \"rgba(255, 153, 51, 0.6)\", \"line\": {\"color\": \"rgba(255, 153, 51, 1.0)\", \"width\": 1}}, \"name\": \"total_cases_per_million\", \"orientation\": \"v\", \"text\": \"\", \"type\": \"bar\", \"x\": [\"Canada\", \"Malta\", \"Denmark\", \"Germany\", \"Austria\", \"Norway\", \"Estonia\", \"Australia\", \"Lithuania\", \"Latvia\", \"New Zealand\"], \"y\": [3271, 3100, 2751, 2728, 2698, 1865, 1663, 940, 916, 703, 270]}],\n",
       "                        {\"barmode\": \"stack\", \"legend\": {\"bgcolor\": \"#F5F6F9\", \"font\": {\"color\": \"#4D5663\"}, \"traceorder\": \"normal\"}, \"paper_bgcolor\": \"#F5F6F9\", \"plot_bgcolor\": \"#F5F6F9\", \"template\": {\"data\": {\"bar\": [{\"error_x\": {\"color\": \"#2a3f5f\"}, \"error_y\": {\"color\": \"#2a3f5f\"}, \"marker\": {\"line\": {\"color\": \"#E5ECF6\", \"width\": 0.5}}, \"type\": \"bar\"}], \"barpolar\": [{\"marker\": {\"line\": {\"color\": \"#E5ECF6\", \"width\": 0.5}}, \"type\": \"barpolar\"}], \"carpet\": [{\"aaxis\": {\"endlinecolor\": \"#2a3f5f\", \"gridcolor\": \"white\", \"linecolor\": \"white\", \"minorgridcolor\": \"white\", \"startlinecolor\": \"#2a3f5f\"}, \"baxis\": {\"endlinecolor\": \"#2a3f5f\", \"gridcolor\": \"white\", \"linecolor\": \"white\", \"minorgridcolor\": \"white\", \"startlinecolor\": \"#2a3f5f\"}, \"type\": \"carpet\"}], \"choropleth\": [{\"colorbar\": {\"outlinewidth\": 0, \"ticks\": \"\"}, \"type\": \"choropleth\"}], \"contour\": [{\"colorbar\": {\"outlinewidth\": 0, \"ticks\": \"\"}, \"colorscale\": [[0.0, \"#0d0887\"], [0.1111111111111111, \"#46039f\"], [0.2222222222222222, \"#7201a8\"], [0.3333333333333333, \"#9c179e\"], [0.4444444444444444, \"#bd3786\"], [0.5555555555555556, \"#d8576b\"], [0.6666666666666666, \"#ed7953\"], [0.7777777777777778, \"#fb9f3a\"], [0.8888888888888888, \"#fdca26\"], [1.0, \"#f0f921\"]], \"type\": \"contour\"}], \"contourcarpet\": [{\"colorbar\": {\"outlinewidth\": 0, \"ticks\": \"\"}, \"type\": \"contourcarpet\"}], \"heatmap\": [{\"colorbar\": {\"outlinewidth\": 0, \"ticks\": \"\"}, \"colorscale\": [[0.0, \"#0d0887\"], [0.1111111111111111, \"#46039f\"], [0.2222222222222222, \"#7201a8\"], [0.3333333333333333, \"#9c179e\"], [0.4444444444444444, \"#bd3786\"], [0.5555555555555556, \"#d8576b\"], [0.6666666666666666, \"#ed7953\"], [0.7777777777777778, \"#fb9f3a\"], [0.8888888888888888, \"#fdca26\"], [1.0, \"#f0f921\"]], \"type\": \"heatmap\"}], \"heatmapgl\": [{\"colorbar\": {\"outlinewidth\": 0, \"ticks\": \"\"}, \"colorscale\": [[0.0, \"#0d0887\"], [0.1111111111111111, \"#46039f\"], [0.2222222222222222, \"#7201a8\"], [0.3333333333333333, \"#9c179e\"], [0.4444444444444444, \"#bd3786\"], [0.5555555555555556, \"#d8576b\"], [0.6666666666666666, \"#ed7953\"], [0.7777777777777778, \"#fb9f3a\"], [0.8888888888888888, \"#fdca26\"], [1.0, \"#f0f921\"]], \"type\": \"heatmapgl\"}], \"histogram\": [{\"marker\": {\"colorbar\": {\"outlinewidth\": 0, \"ticks\": \"\"}}, \"type\": \"histogram\"}], \"histogram2d\": [{\"colorbar\": {\"outlinewidth\": 0, \"ticks\": \"\"}, \"colorscale\": [[0.0, \"#0d0887\"], [0.1111111111111111, \"#46039f\"], [0.2222222222222222, \"#7201a8\"], [0.3333333333333333, \"#9c179e\"], [0.4444444444444444, \"#bd3786\"], [0.5555555555555556, \"#d8576b\"], [0.6666666666666666, \"#ed7953\"], [0.7777777777777778, \"#fb9f3a\"], [0.8888888888888888, \"#fdca26\"], [1.0, \"#f0f921\"]], \"type\": \"histogram2d\"}], \"histogram2dcontour\": [{\"colorbar\": {\"outlinewidth\": 0, \"ticks\": \"\"}, \"colorscale\": [[0.0, \"#0d0887\"], [0.1111111111111111, \"#46039f\"], [0.2222222222222222, \"#7201a8\"], [0.3333333333333333, \"#9c179e\"], [0.4444444444444444, \"#bd3786\"], [0.5555555555555556, \"#d8576b\"], [0.6666666666666666, \"#ed7953\"], [0.7777777777777778, \"#fb9f3a\"], [0.8888888888888888, \"#fdca26\"], [1.0, \"#f0f921\"]], \"type\": \"histogram2dcontour\"}], \"mesh3d\": [{\"colorbar\": {\"outlinewidth\": 0, \"ticks\": \"\"}, \"type\": \"mesh3d\"}], \"parcoords\": [{\"line\": {\"colorbar\": {\"outlinewidth\": 0, \"ticks\": \"\"}}, \"type\": \"parcoords\"}], \"pie\": [{\"automargin\": true, \"type\": \"pie\"}], \"scatter\": [{\"marker\": {\"colorbar\": {\"outlinewidth\": 0, \"ticks\": \"\"}}, \"type\": \"scatter\"}], \"scatter3d\": [{\"line\": {\"colorbar\": {\"outlinewidth\": 0, \"ticks\": \"\"}}, \"marker\": {\"colorbar\": {\"outlinewidth\": 0, \"ticks\": \"\"}}, \"type\": \"scatter3d\"}], \"scattercarpet\": [{\"marker\": {\"colorbar\": {\"outlinewidth\": 0, \"ticks\": \"\"}}, \"type\": \"scattercarpet\"}], \"scattergeo\": [{\"marker\": {\"colorbar\": {\"outlinewidth\": 0, \"ticks\": \"\"}}, \"type\": \"scattergeo\"}], \"scattergl\": [{\"marker\": {\"colorbar\": {\"outlinewidth\": 0, \"ticks\": \"\"}}, \"type\": \"scattergl\"}], \"scattermapbox\": [{\"marker\": {\"colorbar\": {\"outlinewidth\": 0, \"ticks\": \"\"}}, \"type\": \"scattermapbox\"}], \"scatterpolar\": [{\"marker\": {\"colorbar\": {\"outlinewidth\": 0, \"ticks\": \"\"}}, \"type\": \"scatterpolar\"}], \"scatterpolargl\": [{\"marker\": {\"colorbar\": {\"outlinewidth\": 0, \"ticks\": \"\"}}, \"type\": \"scatterpolargl\"}], \"scatterternary\": [{\"marker\": {\"colorbar\": {\"outlinewidth\": 0, \"ticks\": \"\"}}, \"type\": \"scatterternary\"}], \"surface\": [{\"colorbar\": {\"outlinewidth\": 0, \"ticks\": \"\"}, \"colorscale\": [[0.0, \"#0d0887\"], [0.1111111111111111, \"#46039f\"], [0.2222222222222222, \"#7201a8\"], [0.3333333333333333, \"#9c179e\"], [0.4444444444444444, \"#bd3786\"], [0.5555555555555556, \"#d8576b\"], [0.6666666666666666, \"#ed7953\"], [0.7777777777777778, \"#fb9f3a\"], [0.8888888888888888, \"#fdca26\"], [1.0, \"#f0f921\"]], \"type\": \"surface\"}], \"table\": [{\"cells\": {\"fill\": {\"color\": \"#EBF0F8\"}, \"line\": {\"color\": \"white\"}}, \"header\": {\"fill\": {\"color\": \"#C8D4E3\"}, \"line\": {\"color\": \"white\"}}, \"type\": \"table\"}]}, \"layout\": {\"annotationdefaults\": {\"arrowcolor\": \"#2a3f5f\", \"arrowhead\": 0, \"arrowwidth\": 1}, \"coloraxis\": {\"colorbar\": {\"outlinewidth\": 0, \"ticks\": \"\"}}, \"colorscale\": {\"diverging\": [[0, \"#8e0152\"], [0.1, \"#c51b7d\"], [0.2, \"#de77ae\"], [0.3, \"#f1b6da\"], [0.4, \"#fde0ef\"], [0.5, \"#f7f7f7\"], [0.6, \"#e6f5d0\"], [0.7, \"#b8e186\"], [0.8, \"#7fbc41\"], [0.9, \"#4d9221\"], [1, \"#276419\"]], \"sequential\": [[0.0, \"#0d0887\"], [0.1111111111111111, \"#46039f\"], [0.2222222222222222, \"#7201a8\"], [0.3333333333333333, \"#9c179e\"], [0.4444444444444444, \"#bd3786\"], [0.5555555555555556, \"#d8576b\"], [0.6666666666666666, \"#ed7953\"], [0.7777777777777778, \"#fb9f3a\"], [0.8888888888888888, \"#fdca26\"], [1.0, \"#f0f921\"]], \"sequentialminus\": [[0.0, \"#0d0887\"], [0.1111111111111111, \"#46039f\"], [0.2222222222222222, \"#7201a8\"], [0.3333333333333333, \"#9c179e\"], [0.4444444444444444, \"#bd3786\"], [0.5555555555555556, \"#d8576b\"], [0.6666666666666666, \"#ed7953\"], [0.7777777777777778, \"#fb9f3a\"], [0.8888888888888888, \"#fdca26\"], [1.0, \"#f0f921\"]]}, \"colorway\": [\"#636efa\", \"#EF553B\", \"#00cc96\", \"#ab63fa\", \"#FFA15A\", \"#19d3f3\", \"#FF6692\", \"#B6E880\", \"#FF97FF\", \"#FECB52\"], \"font\": {\"color\": \"#2a3f5f\"}, \"geo\": {\"bgcolor\": \"white\", \"lakecolor\": \"white\", \"landcolor\": \"#E5ECF6\", \"showlakes\": true, \"showland\": true, \"subunitcolor\": \"white\"}, \"hoverlabel\": {\"align\": \"left\"}, \"hovermode\": \"closest\", \"mapbox\": {\"style\": \"light\"}, \"paper_bgcolor\": \"white\", \"plot_bgcolor\": \"#E5ECF6\", \"polar\": {\"angularaxis\": {\"gridcolor\": \"white\", \"linecolor\": \"white\", \"ticks\": \"\"}, \"bgcolor\": \"#E5ECF6\", \"radialaxis\": {\"gridcolor\": \"white\", \"linecolor\": \"white\", \"ticks\": \"\"}}, \"scene\": {\"xaxis\": {\"backgroundcolor\": \"#E5ECF6\", \"gridcolor\": \"white\", \"gridwidth\": 2, \"linecolor\": \"white\", \"showbackground\": true, \"ticks\": \"\", \"zerolinecolor\": \"white\"}, \"yaxis\": {\"backgroundcolor\": \"#E5ECF6\", \"gridcolor\": \"white\", \"gridwidth\": 2, \"linecolor\": \"white\", \"showbackground\": true, \"ticks\": \"\", \"zerolinecolor\": \"white\"}, \"zaxis\": {\"backgroundcolor\": \"#E5ECF6\", \"gridcolor\": \"white\", \"gridwidth\": 2, \"linecolor\": \"white\", \"showbackground\": true, \"ticks\": \"\", \"zerolinecolor\": \"white\"}}, \"shapedefaults\": {\"line\": {\"color\": \"#2a3f5f\"}}, \"ternary\": {\"aaxis\": {\"gridcolor\": \"white\", \"linecolor\": \"white\", \"ticks\": \"\"}, \"baxis\": {\"gridcolor\": \"white\", \"linecolor\": \"white\", \"ticks\": \"\"}, \"bgcolor\": \"#E5ECF6\", \"caxis\": {\"gridcolor\": \"white\", \"linecolor\": \"white\", \"ticks\": \"\"}}, \"title\": {\"x\": 0.05}, \"xaxis\": {\"automargin\": true, \"gridcolor\": \"white\", \"linecolor\": \"white\", \"ticks\": \"\", \"title\": {\"standoff\": 15}, \"zerolinecolor\": \"white\", \"zerolinewidth\": 2}, \"yaxis\": {\"automargin\": true, \"gridcolor\": \"white\", \"linecolor\": \"white\", \"ticks\": \"\", \"title\": {\"standoff\": 15}, \"zerolinecolor\": \"white\", \"zerolinewidth\": 2}}}, \"title\": {\"font\": {\"color\": \"#4D5663\"}, \"text\": \"Low covid confirmation level distribution by rich countries with high testing level\"}, \"xaxis\": {\"gridcolor\": \"#E1E5ED\", \"showgrid\": true, \"tickfont\": {\"color\": \"#4D5663\"}, \"title\": {\"font\": {\"color\": \"#4D5663\"}, \"text\": \"\"}, \"zerolinecolor\": \"#E1E5ED\"}, \"yaxis\": {\"gridcolor\": \"#E1E5ED\", \"showgrid\": true, \"tickfont\": {\"color\": \"#4D5663\"}, \"title\": {\"font\": {\"color\": \"#4D5663\"}, \"text\": \"total_cases_per_million\"}, \"zerolinecolor\": \"#E1E5ED\"}},\n",
       "                        {\"showLink\": true, \"linkText\": \"Export to plot.ly\", \"plotlyServerURL\": \"https://plot.ly\", \"responsive\": true}\n",
       "                    ).then(function(){\n",
       "                            \n",
       "var gd = document.getElementById('380363cc-e365-4293-b491-48049223f41a');\n",
       "var x = new MutationObserver(function (mutations, observer) {{\n",
       "        var display = window.getComputedStyle(gd).display;\n",
       "        if (!display || display === 'none') {{\n",
       "            console.log([gd, 'removed!']);\n",
       "            Plotly.purge(gd);\n",
       "            observer.disconnect();\n",
       "        }}\n",
       "}});\n",
       "\n",
       "// Listen for the removal of the full notebook cells\n",
       "var notebookContainer = gd.closest('#notebook-container');\n",
       "if (notebookContainer) {{\n",
       "    x.observe(notebookContainer, {childList: true});\n",
       "}}\n",
       "\n",
       "// Listen for the clearing of the current output cell\n",
       "var outputEl = gd.closest('.output');\n",
       "if (outputEl) {{\n",
       "    x.observe(outputEl, {childList: true});\n",
       "}}\n",
       "\n",
       "                        })\n",
       "                };\n",
       "                });\n",
       "            </script>\n",
       "        </div>"
      ]
     },
     "metadata": {},
     "output_type": "display_data"
    }
   ],
   "source": [
    "filter1=(survey['total_tests_per_thousand']>survey['total_tests_per_thousand'].mean()) & (survey['gdp_per_capita']>survey['gdp_per_capita'].mean()) & (survey['total_cases_per_million']<survey['total_cases_per_million'].mean())\n",
    "rich_with_high_tests=survey.loc[filter1, ['location', 'total_cases_per_million']]\n",
    "rich_with_high_tests.set_index('location', inplace=True)\n",
    "rich_with_high_tests=rich_with_high_tests.sort_values(ascending=False, by='total_cases_per_million')\n",
    "# build stacked bar to covid confirmation level of rich_with_high_tests countries\n",
    "rich_with_high_tests.astype(int).iplot(kind=\"bar\", barmode=\"stack\", yTitle='total_cases_per_million',\n",
    "                            title='Low covid confirmation level distribution by rich countries with high testing level')"
   ]
  },
  {
   "cell_type": "markdown",
   "metadata": {},
   "source": [
    "- Above correlation is rather related with possibility of rich counties to make tests: they are mainly rich Europian, North America, Oceania and Asian countries. We can see that some countries with high gdp_per_capita have low tests confirmation density that is rather because of low testing level. \n",
    "- Intresting are Australia, New Zealand, Austria, Malta, Norway, Lithuania, Estonia, Latvia where testing level is above verage but confirmation density is low. "
   ]
  },
  {
   "cell_type": "markdown",
   "metadata": {},
   "source": [
    "# Plotting survey correlations: high covid deaths level for countries with high share of old population."
   ]
  },
  {
   "cell_type": "code",
   "execution_count": 18,
   "metadata": {},
   "outputs": [
    {
     "data": {
      "application/vnd.plotly.v1+json": {
       "config": {
        "linkText": "Export to plot.ly",
        "plotlyServerURL": "https://plot.ly",
        "showLink": true
       },
       "data": [
        {
         "marker": {
          "color": "rgba(255, 153, 51, 1.0)",
          "line": {
           "width": 1.3
          },
          "opacity": 0.8,
          "size": 12,
          "symbol": "circle"
         },
         "mode": "markers",
         "name": "North America",
         "text": [
          "Aruba",
          "Anguilla",
          "Antigua and Barbuda",
          "Bonaire Sint Eustatius and Saba",
          "Bahamas",
          "Belize",
          "Bermuda",
          "Barbados",
          "Canada",
          "Costa Rica",
          "Cuba",
          "Curacao",
          "Cayman Islands",
          "Dominica",
          "Dominican Republic",
          "Grenada",
          "Greenland",
          "Guatemala",
          "Honduras",
          "Haiti",
          "Jamaica",
          "Saint Kitts and Nevis",
          "Saint Lucia",
          "Mexico",
          "Montserrat",
          "Nicaragua",
          "Panama",
          "Puerto Rico",
          "El Salvador",
          "Sint Maarten (Dutch part)",
          "Turks and Caicos Islands",
          "Trinidad and Tobago",
          "Saint Vincent and the Grenadines",
          "British Virgin Islands",
          "United States Virgin Islands"
         ],
         "textfont": {
          "color": "#4D5663"
         },
         "type": "scatter",
         "x": [
          13.085,
          null,
          6.933,
          null,
          8.996,
          3.853,
          null,
          14.952,
          16.984,
          9.468,
          14.738,
          16.367,
          null,
          null,
          6.981,
          7.303999999999999,
          null,
          4.694,
          4.652,
          4.8,
          9.684,
          null,
          9.721,
          6.857,
          null,
          5.445,
          7.917999999999999,
          15.168,
          8.273,
          null,
          null,
          10.014,
          7.724,
          null,
          18.601
         ],
         "y": [
          46.831,
          0,
          30.635,
          0,
          55.943999999999996,
          12.575,
          144.525,
          24.359,
          239.75799999999998,
          63.013999999999996,
          7.769,
          6.093999999999999,
          15.216,
          0,
          138.368,
          0,
          0,
          137.701,
          162.349,
          17.189,
          4.728,
          0,
          0,
          453.57800000000003,
          200.04,
          20.077,
          423.42900000000003,
          124.439,
          98.671,
          396.43699999999995,
          51.656000000000006,
          8.575,
          0,
          33.071999999999996,
          86.18799999999999
         ]
        },
        {
         "marker": {
          "color": "rgba(55, 128, 191, 1.0)",
          "line": {
           "width": 1.3
          },
          "opacity": 0.8,
          "size": 12,
          "symbol": "circle"
         },
         "mode": "markers",
         "name": "Asia",
         "text": [
          "Afghanistan",
          "United Arab Emirates",
          "Armenia",
          "Azerbaijan",
          "Bangladesh",
          "Bahrain",
          "Brunei",
          "Bhutan",
          "China",
          "Georgia",
          "Indonesia",
          "India",
          "Iran",
          "Iraq",
          "Israel",
          "Jordan",
          "Japan",
          "Kazakhstan",
          "Kyrgyzstan",
          "Cambodia",
          "South Korea",
          "Kuwait",
          "Laos",
          "Lebanon",
          "Sri Lanka",
          "Maldives",
          "Myanmar",
          "Mongolia",
          "Malaysia",
          "Nepal",
          "Oman",
          "Pakistan",
          "Philippines",
          "Palestine",
          "Qatar",
          "Saudi Arabia",
          "Singapore",
          "Syria",
          "Thailand",
          "Tajikistan",
          "Timor",
          "Turkey",
          "Taiwan",
          "Uzbekistan",
          "Vietnam",
          "Yemen"
         ],
         "textfont": {
          "color": "#4D5663"
         },
         "type": "scatter",
         "x": [
          2.5810000000000004,
          1.1440000000000001,
          11.232000000000001,
          6.018,
          5.098,
          2.372,
          4.591,
          4.885,
          10.640999999999998,
          14.864,
          5.319,
          5.989,
          5.44,
          3.1860000000000004,
          11.732999999999999,
          3.81,
          27.049,
          6.9910000000000005,
          4.489,
          4.412,
          13.914000000000001,
          2.345,
          4.029,
          8.514,
          10.068999999999999,
          4.12,
          5.732,
          4.031000000000001,
          6.292999999999999,
          5.809,
          2.355,
          4.495,
          4.803,
          3.043,
          1.307,
          3.295,
          12.922,
          null,
          11.373,
          3.466,
          3.556,
          8.152999999999999,
          null,
          4.468999999999999,
          7.15,
          2.9219999999999997
         ],
         "y": [
          35.527,
          37.107,
          281.112,
          50.3,
          22.958000000000002,
          102.845,
          6.857,
          0,
          3.27,
          4.262,
          23.201,
          39.033,
          237.782,
          152.178,
          90,
          1.078,
          9.045,
          87.98100000000001,
          229.607,
          0,
          5.9879999999999995,
          118.72,
          0,
          15.97,
          0.514,
          44.4,
          0.11,
          0,
          3.862,
          4.119,
          118.08200000000001,
          28.109,
          25.506,
          24.895,
          66.98899999999999,
          100.70700000000001,
          4.615,
          4.457,
          0.831,
          6.815,
          0,
          71.604,
          0.294,
          7.47,
          0.257,
          18.072
         ]
        },
        {
         "marker": {
          "color": "rgba(50, 171, 96, 1.0)",
          "line": {
           "width": 1.3
          },
          "opacity": 0.8,
          "size": 12,
          "symbol": "circle"
         },
         "mode": "markers",
         "name": "Africa",
         "text": [
          "Angola",
          "Burundi",
          "Benin",
          "Burkina Faso",
          "Botswana",
          "Central African Republic",
          "Cote d'Ivoire",
          "Cameroon",
          "Democratic Republic of Congo",
          "Congo",
          "Comoros",
          "Cape Verde",
          "Djibouti",
          "Algeria",
          "Egypt",
          "Eritrea",
          "Western Sahara",
          "Ethiopia",
          "Gabon",
          "Ghana",
          "Guinea",
          "Gambia",
          "Guinea-Bissau",
          "Equatorial Guinea",
          "Kenya",
          "Liberia",
          "Libya",
          "Lesotho",
          "Morocco",
          "Madagascar",
          "Mali",
          "Mozambique",
          "Mauritania",
          "Mauritius",
          "Malawi",
          "Namibia",
          "Niger",
          "Nigeria",
          "Rwanda",
          "Sudan",
          "Senegal",
          "Sierra Leone",
          "Somalia",
          "South Sudan",
          "Sao Tome and Principe",
          "Swaziland",
          "Seychelles",
          "Chad",
          "Togo",
          "Tunisia",
          "Tanzania",
          "Uganda",
          "South Africa",
          "Zambia",
          "Zimbabwe"
         ],
         "textfont": {
          "color": "#4D5663"
         },
         "type": "scatter",
         "x": [
          2.405,
          2.562,
          3.2439999999999998,
          2.4090000000000003,
          3.9410000000000003,
          3.655,
          2.9330000000000003,
          3.165,
          3.02,
          3.4019999999999997,
          2.963,
          4.46,
          4.213,
          6.211,
          5.159,
          3.6069999999999998,
          null,
          3.5260000000000002,
          4.45,
          3.385,
          3.135,
          2.339,
          3.002,
          2.846,
          2.6860000000000004,
          3.057,
          4.4239999999999995,
          4.506,
          6.769,
          2.929,
          2.519,
          3.158,
          3.138,
          10.945,
          2.9789999999999996,
          3.552,
          2.553,
          2.7510000000000003,
          2.9739999999999998,
          3.548,
          3.008,
          2.5380000000000003,
          2.7310000000000003,
          3.4410000000000003,
          2.886,
          3.1630000000000003,
          8.606,
          2.4859999999999998,
          2.839,
          8.001,
          3.108,
          2.168,
          5.343999999999999,
          2.48,
          2.822
         ],
         "y": [
          2.738,
          0.084,
          3.217,
          2.6310000000000002,
          1.276,
          12.63,
          4.208,
          15.294,
          2.736,
          13.954,
          8.05,
          64.75,
          59.716,
          31.971999999999998,
          50.784,
          0,
          1.6740000000000002,
          5.218999999999999,
          23.811999999999998,
          8.238999999999999,
          4.0360000000000005,
          31.862,
          16.768,
          59.16,
          9.41,
          16.213,
          23.866999999999997,
          14.004000000000001,
          20.13,
          6.247999999999999,
          6.172999999999999,
          0.608,
          33.981,
          7.8629999999999995,
          8.573,
          15.349,
          2.85,
          4.7780000000000005,
          0.772,
          18.427,
          15.409,
          8.65,
          5.852,
          4.199,
          68.443,
          68.094,
          0,
          4.627,
          3.261,
          5.077,
          0.35200000000000004,
          0.32799999999999996,
          209.463,
          14.632,
          10.092
         ]
        },
        {
         "marker": {
          "color": "rgba(128, 0, 128, 1.0)",
          "line": {
           "width": 1.3
          },
          "opacity": 0.8,
          "size": 12,
          "symbol": "circle"
         },
         "mode": "markers",
         "name": "Europe",
         "text": [
          "Albania",
          "Andorra",
          "Austria",
          "Belgium",
          "Bulgaria",
          "Bosnia and Herzegovina",
          "Belarus",
          "Switzerland",
          "Cyprus",
          "Czech Republic",
          "Germany",
          "Denmark",
          "Estonia",
          "Finland",
          "France",
          "Faeroe Islands",
          "United Kingdom",
          "Guernsey",
          "Gibraltar",
          "Greece",
          "Croatia",
          "Hungary",
          "Isle of Man",
          "Ireland",
          "Iceland",
          "Italy",
          "Jersey",
          "Liechtenstein",
          "Lithuania",
          "Luxembourg",
          "Latvia",
          "Monaco",
          "Moldova",
          "Macedonia",
          "Malta",
          "Montenegro",
          "Netherlands",
          "Norway",
          "Poland",
          "Portugal",
          "Romania",
          "San Marino",
          "Serbia",
          "Slovakia",
          "Slovenia",
          "Sweden",
          "Ukraine",
          "Vatican",
          "Kosovo"
         ],
         "textfont": {
          "color": "#4D5663"
         },
         "type": "scatter",
         "x": [
          13.187999999999999,
          null,
          19.202,
          18.570999999999998,
          20.801,
          16.569000000000003,
          14.799000000000001,
          18.436,
          13.415999999999999,
          19.027,
          21.453000000000003,
          19.677,
          19.452,
          21.228,
          19.718,
          null,
          18.517,
          null,
          null,
          20.396,
          19.724,
          18.577,
          null,
          13.927999999999999,
          14.431,
          23.021,
          null,
          null,
          19.002,
          14.312000000000001,
          19.754,
          null,
          10.864,
          13.26,
          19.426,
          14.762,
          18.779,
          16.820999999999998,
          16.762999999999998,
          21.502,
          17.85,
          null,
          17.366,
          15.07,
          19.062,
          19.985,
          16.462,
          null,
          null
         ],
         "y": [
          81.312,
          685.951,
          80.942,
          860.1669999999999,
          74.693,
          154.535,
          65.825,
          198.507,
          23.975,
          37.725,
          110.439,
          107.213,
          47.492,
          60.281000000000006,
          466.774,
          0,
          609.802,
          193.87900000000002,
          0,
          22.546,
          40.923,
          63.041000000000004,
          282.247,
          359.472,
          29.304000000000002,
          585.692,
          316.603,
          26.221,
          29.754,
          198.09099999999998,
          17.495,
          101.926,
          226.576,
          263.994,
          20.383,
          127.376,
          360.20099999999996,
          48.328,
          50.54600000000001,
          175.155,
          161.454,
          1237.5510000000002,
          100.52,
          6.044,
          60.126999999999995,
          574.497,
          49.023999999999994,
          0,
          201.783
         ]
        },
        {
         "marker": {
          "color": "rgba(219, 64, 82, 1.0)",
          "line": {
           "width": 1.3
          },
          "opacity": 0.8,
          "size": 12,
          "symbol": "circle"
         },
         "mode": "markers",
         "name": "South America",
         "text": [
          "Argentina",
          "Bolivia",
          "Brazil",
          "Chile",
          "Colombia",
          "Ecuador",
          "Falkland Islands",
          "Guyana",
          "Peru",
          "Paraguay",
          "Suriname",
          "Uruguay",
          "Venezuela"
         ],
         "textfont": {
          "color": "#4D5663"
         },
         "type": "scatter",
         "x": [
          11.198,
          6.704,
          8.552,
          11.087,
          7.646,
          7.104,
          null,
          5.305,
          7.151,
          6.377999999999999,
          6.933,
          14.655,
          6.614
         ],
         "y": [
          135.278,
          362.631,
          522.677,
          553.352,
          314.035,
          348.352,
          0,
          34.327,
          813.846,
          23.133000000000003,
          92.051,
          11.515,
          10.655999999999999
         ]
        },
        {
         "marker": {
          "color": "rgba(0, 128, 128, 1.0)",
          "line": {
           "width": 1.3
          },
          "opacity": 0.8,
          "size": 12,
          "symbol": "circle"
         },
         "mode": "markers",
         "name": "Oceania",
         "text": [
          "Australia",
          "Fiji",
          "Guam",
          "Northern Mariana Islands",
          "New Caledonia",
          "New Zealand",
          "Papua New Guinea",
          "French Polynesia"
         ],
         "textfont": {
          "color": "#4D5663"
         },
         "type": "scatter",
         "x": [
          15.504000000000001,
          6.224,
          9.551,
          null,
          9.954,
          15.322000000000001,
          3.8080000000000003,
          7.775
         ],
         "y": [
          17.647000000000002,
          1.1159999999999999,
          29.624000000000002,
          34.748000000000005,
          0,
          4.562,
          0.335,
          0
         ]
        },
        {
         "marker": {
          "color": "rgba(255, 255, 51, 1.0)",
          "line": {
           "width": 1.3
          },
          "opacity": 0.8,
          "size": 12,
          "symbol": "circle"
         },
         "mode": "markers",
         "name": "Russia",
         "text": [
          "Russia"
         ],
         "textfont": {
          "color": "#4D5663"
         },
         "type": "scatter",
         "x": [
          14.177999999999999
         ],
         "y": [
          109.56299999999999
         ]
        },
        {
         "marker": {
          "color": "rgba(128, 128, 0, 1.0)",
          "line": {
           "width": 1.3
          },
          "opacity": 0.8,
          "size": 12,
          "symbol": "circle"
         },
         "mode": "markers",
         "name": "USA",
         "text": [
          "United States"
         ],
         "textfont": {
          "color": "#4D5663"
         },
         "type": "scatter",
         "x": [
          15.413
         ],
         "y": [
          523.189
         ]
        },
        {
         "marker": {
          "color": "rgba(251, 128, 114, 1.0)",
          "line": {
           "width": 1.3
          },
          "opacity": 0.8,
          "size": 12,
          "symbol": "circle"
         },
         "mode": "markers",
         "name": "nan",
         "text": [],
         "textfont": {
          "color": "#4D5663"
         },
         "type": "scatter",
         "x": [],
         "y": []
        }
       ],
       "layout": {
        "legend": {
         "bgcolor": "#F5F6F9",
         "font": {
          "color": "#4D5663"
         }
        },
        "paper_bgcolor": "#F5F6F9",
        "plot_bgcolor": "#F5F6F9",
        "shapes": [
         {
          "line": {
           "color": "#000000",
           "dash": "dash",
           "width": 1
          },
          "type": "line",
          "x0": 0,
          "x1": 1,
          "xref": "paper",
          "y0": 94.55678468899518,
          "y1": 94.55678468899518,
          "yref": "y"
         },
         {
          "line": {
           "color": "#000000",
           "dash": "dash",
           "width": 1
          },
          "type": "line",
          "x0": 8.748818681318673,
          "x1": 8.748818681318673,
          "xref": "x",
          "y0": 0,
          "y1": 1,
          "yref": "paper"
         }
        ],
        "title": "Share of the population over 65 years old vs. Total deaths per million <br> dashed lines: average of entire dataset",
        "titlefont": {
         "color": "#4D5663"
        },
        "xaxis": {
         "gridcolor": "#E1E5ED",
         "showgrid": true,
         "tickfont": {
          "color": "#4D5663"
         },
         "title": "Share of the population that is 65 years and older",
         "titlefont": {
          "color": "#4D5663"
         },
         "zerolinecolor": "#E1E5ED"
        },
        "yaxis": {
         "gridcolor": "#E1E5ED",
         "showgrid": true,
         "tickfont": {
          "color": "#4D5663"
         },
         "title": "Total deaths per million",
         "titlefont": {
          "color": "#4D5663"
         },
         "zerolinecolor": "#E1E5ED"
        }
       }
      },
      "text/html": [
       "<div>\n",
       "        \n",
       "        \n",
       "            <div id=\"ba3ab107-8789-49b5-b7b5-830e93638acc\" class=\"plotly-graph-div\" style=\"height:525px; width:100%;\"></div>\n",
       "            <script type=\"text/javascript\">\n",
       "                require([\"plotly\"], function(Plotly) {\n",
       "                    window.PLOTLYENV=window.PLOTLYENV || {};\n",
       "                    window.PLOTLYENV.BASE_URL='https://plot.ly';\n",
       "                    \n",
       "                if (document.getElementById(\"ba3ab107-8789-49b5-b7b5-830e93638acc\")) {\n",
       "                    Plotly.newPlot(\n",
       "                        'ba3ab107-8789-49b5-b7b5-830e93638acc',\n",
       "                        [{\"marker\": {\"color\": \"rgba(255, 153, 51, 1.0)\", \"line\": {\"width\": 1.3}, \"opacity\": 0.8, \"size\": 12, \"symbol\": \"circle\"}, \"mode\": \"markers\", \"name\": \"North America\", \"text\": [\"Aruba\", \"Anguilla\", \"Antigua and Barbuda\", \"Bonaire Sint Eustatius and Saba\", \"Bahamas\", \"Belize\", \"Bermuda\", \"Barbados\", \"Canada\", \"Costa Rica\", \"Cuba\", \"Curacao\", \"Cayman Islands\", \"Dominica\", \"Dominican Republic\", \"Grenada\", \"Greenland\", \"Guatemala\", \"Honduras\", \"Haiti\", \"Jamaica\", \"Saint Kitts and Nevis\", \"Saint Lucia\", \"Mexico\", \"Montserrat\", \"Nicaragua\", \"Panama\", \"Puerto Rico\", \"El Salvador\", \"Sint Maarten (Dutch part)\", \"Turks and Caicos Islands\", \"Trinidad and Tobago\", \"Saint Vincent and the Grenadines\", \"British Virgin Islands\", \"United States Virgin Islands\"], \"textfont\": {\"color\": \"#4D5663\"}, \"type\": \"scatter\", \"x\": [13.085, null, 6.933, null, 8.996, 3.853, null, 14.952, 16.984, 9.468, 14.738, 16.367, null, null, 6.981, 7.303999999999999, null, 4.694, 4.652, 4.8, 9.684, null, 9.721, 6.857, null, 5.445, 7.917999999999999, 15.168, 8.273, null, null, 10.014, 7.724, null, 18.601], \"y\": [46.831, 0.0, 30.635, 0.0, 55.943999999999996, 12.575, 144.525, 24.359, 239.75799999999998, 63.013999999999996, 7.769, 6.093999999999999, 15.216, 0.0, 138.368, 0.0, 0.0, 137.701, 162.349, 17.189, 4.728, 0.0, 0.0, 453.57800000000003, 200.04, 20.077, 423.42900000000003, 124.439, 98.671, 396.43699999999995, 51.656000000000006, 8.575, 0.0, 33.071999999999996, 86.18799999999999]}, {\"marker\": {\"color\": \"rgba(55, 128, 191, 1.0)\", \"line\": {\"width\": 1.3}, \"opacity\": 0.8, \"size\": 12, \"symbol\": \"circle\"}, \"mode\": \"markers\", \"name\": \"Asia\", \"text\": [\"Afghanistan\", \"United Arab Emirates\", \"Armenia\", \"Azerbaijan\", \"Bangladesh\", \"Bahrain\", \"Brunei\", \"Bhutan\", \"China\", \"Georgia\", \"Indonesia\", \"India\", \"Iran\", \"Iraq\", \"Israel\", \"Jordan\", \"Japan\", \"Kazakhstan\", \"Kyrgyzstan\", \"Cambodia\", \"South Korea\", \"Kuwait\", \"Laos\", \"Lebanon\", \"Sri Lanka\", \"Maldives\", \"Myanmar\", \"Mongolia\", \"Malaysia\", \"Nepal\", \"Oman\", \"Pakistan\", \"Philippines\", \"Palestine\", \"Qatar\", \"Saudi Arabia\", \"Singapore\", \"Syria\", \"Thailand\", \"Tajikistan\", \"Timor\", \"Turkey\", \"Taiwan\", \"Uzbekistan\", \"Vietnam\", \"Yemen\"], \"textfont\": {\"color\": \"#4D5663\"}, \"type\": \"scatter\", \"x\": [2.5810000000000004, 1.1440000000000001, 11.232000000000001, 6.018, 5.098, 2.372, 4.591, 4.885, 10.640999999999998, 14.864, 5.319, 5.989, 5.44, 3.1860000000000004, 11.732999999999999, 3.81, 27.049, 6.9910000000000005, 4.489, 4.412, 13.914000000000001, 2.345, 4.029, 8.514, 10.068999999999999, 4.12, 5.732, 4.031000000000001, 6.292999999999999, 5.809, 2.355, 4.495, 4.803, 3.043, 1.307, 3.295, 12.922, null, 11.373, 3.466, 3.556, 8.152999999999999, null, 4.468999999999999, 7.15, 2.9219999999999997], \"y\": [35.527, 37.107, 281.112, 50.3, 22.958000000000002, 102.845, 6.857, 0.0, 3.27, 4.262, 23.201, 39.033, 237.782, 152.178, 90.0, 1.078, 9.045, 87.98100000000001, 229.607, 0.0, 5.9879999999999995, 118.72, 0.0, 15.97, 0.514, 44.4, 0.11, 0.0, 3.862, 4.119, 118.08200000000001, 28.109, 25.506, 24.895, 66.98899999999999, 100.70700000000001, 4.615, 4.457, 0.831, 6.815, 0.0, 71.604, 0.294, 7.47, 0.257, 18.072]}, {\"marker\": {\"color\": \"rgba(50, 171, 96, 1.0)\", \"line\": {\"width\": 1.3}, \"opacity\": 0.8, \"size\": 12, \"symbol\": \"circle\"}, \"mode\": \"markers\", \"name\": \"Africa\", \"text\": [\"Angola\", \"Burundi\", \"Benin\", \"Burkina Faso\", \"Botswana\", \"Central African Republic\", \"Cote d'Ivoire\", \"Cameroon\", \"Democratic Republic of Congo\", \"Congo\", \"Comoros\", \"Cape Verde\", \"Djibouti\", \"Algeria\", \"Egypt\", \"Eritrea\", \"Western Sahara\", \"Ethiopia\", \"Gabon\", \"Ghana\", \"Guinea\", \"Gambia\", \"Guinea-Bissau\", \"Equatorial Guinea\", \"Kenya\", \"Liberia\", \"Libya\", \"Lesotho\", \"Morocco\", \"Madagascar\", \"Mali\", \"Mozambique\", \"Mauritania\", \"Mauritius\", \"Malawi\", \"Namibia\", \"Niger\", \"Nigeria\", \"Rwanda\", \"Sudan\", \"Senegal\", \"Sierra Leone\", \"Somalia\", \"South Sudan\", \"Sao Tome and Principe\", \"Swaziland\", \"Seychelles\", \"Chad\", \"Togo\", \"Tunisia\", \"Tanzania\", \"Uganda\", \"South Africa\", \"Zambia\", \"Zimbabwe\"], \"textfont\": {\"color\": \"#4D5663\"}, \"type\": \"scatter\", \"x\": [2.405, 2.562, 3.2439999999999998, 2.4090000000000003, 3.9410000000000003, 3.655, 2.9330000000000003, 3.165, 3.02, 3.4019999999999997, 2.963, 4.46, 4.213, 6.211, 5.159, 3.6069999999999998, null, 3.5260000000000002, 4.45, 3.385, 3.135, 2.339, 3.002, 2.846, 2.6860000000000004, 3.057, 4.4239999999999995, 4.506, 6.769, 2.929, 2.519, 3.158, 3.138, 10.945, 2.9789999999999996, 3.552, 2.553, 2.7510000000000003, 2.9739999999999998, 3.548, 3.008, 2.5380000000000003, 2.7310000000000003, 3.4410000000000003, 2.886, 3.1630000000000003, 8.606, 2.4859999999999998, 2.839, 8.001, 3.108, 2.168, 5.343999999999999, 2.48, 2.822], \"y\": [2.738, 0.084, 3.217, 2.6310000000000002, 1.276, 12.63, 4.208, 15.294, 2.736, 13.954, 8.05, 64.75, 59.716, 31.971999999999998, 50.784, 0.0, 1.6740000000000002, 5.218999999999999, 23.811999999999998, 8.238999999999999, 4.0360000000000005, 31.862, 16.768, 59.16, 9.41, 16.213, 23.866999999999997, 14.004000000000001, 20.13, 6.247999999999999, 6.172999999999999, 0.608, 33.981, 7.8629999999999995, 8.573, 15.349, 2.85, 4.7780000000000005, 0.772, 18.427, 15.409, 8.65, 5.852, 4.199, 68.443, 68.094, 0.0, 4.627, 3.261, 5.077, 0.35200000000000004, 0.32799999999999996, 209.463, 14.632, 10.092]}, {\"marker\": {\"color\": \"rgba(128, 0, 128, 1.0)\", \"line\": {\"width\": 1.3}, \"opacity\": 0.8, \"size\": 12, \"symbol\": \"circle\"}, \"mode\": \"markers\", \"name\": \"Europe\", \"text\": [\"Albania\", \"Andorra\", \"Austria\", \"Belgium\", \"Bulgaria\", \"Bosnia and Herzegovina\", \"Belarus\", \"Switzerland\", \"Cyprus\", \"Czech Republic\", \"Germany\", \"Denmark\", \"Estonia\", \"Finland\", \"France\", \"Faeroe Islands\", \"United Kingdom\", \"Guernsey\", \"Gibraltar\", \"Greece\", \"Croatia\", \"Hungary\", \"Isle of Man\", \"Ireland\", \"Iceland\", \"Italy\", \"Jersey\", \"Liechtenstein\", \"Lithuania\", \"Luxembourg\", \"Latvia\", \"Monaco\", \"Moldova\", \"Macedonia\", \"Malta\", \"Montenegro\", \"Netherlands\", \"Norway\", \"Poland\", \"Portugal\", \"Romania\", \"San Marino\", \"Serbia\", \"Slovakia\", \"Slovenia\", \"Sweden\", \"Ukraine\", \"Vatican\", \"Kosovo\"], \"textfont\": {\"color\": \"#4D5663\"}, \"type\": \"scatter\", \"x\": [13.187999999999999, null, 19.202, 18.570999999999998, 20.801, 16.569000000000003, 14.799000000000001, 18.436, 13.415999999999999, 19.027, 21.453000000000003, 19.677, 19.452, 21.228, 19.718, null, 18.517, null, null, 20.396, 19.724, 18.577, null, 13.927999999999999, 14.431, 23.021, null, null, 19.002, 14.312000000000001, 19.754, null, 10.864, 13.26, 19.426, 14.762, 18.779, 16.820999999999998, 16.762999999999998, 21.502, 17.85, null, 17.366, 15.07, 19.062, 19.985, 16.462, null, null], \"y\": [81.312, 685.951, 80.942, 860.1669999999999, 74.693, 154.535, 65.825, 198.507, 23.975, 37.725, 110.439, 107.213, 47.492, 60.281000000000006, 466.774, 0.0, 609.802, 193.87900000000002, 0.0, 22.546, 40.923, 63.041000000000004, 282.247, 359.472, 29.304000000000002, 585.692, 316.603, 26.221, 29.754, 198.09099999999998, 17.495, 101.926, 226.576, 263.994, 20.383, 127.376, 360.20099999999996, 48.328, 50.54600000000001, 175.155, 161.454, 1237.5510000000002, 100.52, 6.044, 60.126999999999995, 574.497, 49.023999999999994, 0.0, 201.783]}, {\"marker\": {\"color\": \"rgba(219, 64, 82, 1.0)\", \"line\": {\"width\": 1.3}, \"opacity\": 0.8, \"size\": 12, \"symbol\": \"circle\"}, \"mode\": \"markers\", \"name\": \"South America\", \"text\": [\"Argentina\", \"Bolivia\", \"Brazil\", \"Chile\", \"Colombia\", \"Ecuador\", \"Falkland Islands\", \"Guyana\", \"Peru\", \"Paraguay\", \"Suriname\", \"Uruguay\", \"Venezuela\"], \"textfont\": {\"color\": \"#4D5663\"}, \"type\": \"scatter\", \"x\": [11.198, 6.704, 8.552, 11.087, 7.646, 7.104, null, 5.305, 7.151, 6.377999999999999, 6.933, 14.655, 6.614], \"y\": [135.278, 362.631, 522.677, 553.352, 314.035, 348.352, 0.0, 34.327, 813.846, 23.133000000000003, 92.051, 11.515, 10.655999999999999]}, {\"marker\": {\"color\": \"rgba(0, 128, 128, 1.0)\", \"line\": {\"width\": 1.3}, \"opacity\": 0.8, \"size\": 12, \"symbol\": \"circle\"}, \"mode\": \"markers\", \"name\": \"Oceania\", \"text\": [\"Australia\", \"Fiji\", \"Guam\", \"Northern Mariana Islands\", \"New Caledonia\", \"New Zealand\", \"Papua New Guinea\", \"French Polynesia\"], \"textfont\": {\"color\": \"#4D5663\"}, \"type\": \"scatter\", \"x\": [15.504000000000001, 6.224, 9.551, null, 9.954, 15.322000000000001, 3.8080000000000003, 7.775], \"y\": [17.647000000000002, 1.1159999999999999, 29.624000000000002, 34.748000000000005, 0.0, 4.562, 0.335, 0.0]}, {\"marker\": {\"color\": \"rgba(255, 255, 51, 1.0)\", \"line\": {\"width\": 1.3}, \"opacity\": 0.8, \"size\": 12, \"symbol\": \"circle\"}, \"mode\": \"markers\", \"name\": \"Russia\", \"text\": [\"Russia\"], \"textfont\": {\"color\": \"#4D5663\"}, \"type\": \"scatter\", \"x\": [14.177999999999999], \"y\": [109.56299999999999]}, {\"marker\": {\"color\": \"rgba(128, 128, 0, 1.0)\", \"line\": {\"width\": 1.3}, \"opacity\": 0.8, \"size\": 12, \"symbol\": \"circle\"}, \"mode\": \"markers\", \"name\": \"USA\", \"text\": [\"United States\"], \"textfont\": {\"color\": \"#4D5663\"}, \"type\": \"scatter\", \"x\": [15.413], \"y\": [523.189]}, {\"marker\": {\"color\": \"rgba(251, 128, 114, 1.0)\", \"line\": {\"width\": 1.3}, \"opacity\": 0.8, \"size\": 12, \"symbol\": \"circle\"}, \"mode\": \"markers\", \"name\": \"nan\", \"text\": [], \"textfont\": {\"color\": \"#4D5663\"}, \"type\": \"scatter\", \"x\": [], \"y\": []}],\n",
       "                        {\"legend\": {\"bgcolor\": \"#F5F6F9\", \"font\": {\"color\": \"#4D5663\"}}, \"paper_bgcolor\": \"#F5F6F9\", \"plot_bgcolor\": \"#F5F6F9\", \"shapes\": [{\"line\": {\"color\": \"#000000\", \"dash\": \"dash\", \"width\": 1}, \"type\": \"line\", \"x0\": 0, \"x1\": 1, \"xref\": \"paper\", \"y0\": 94.55678468899518, \"y1\": 94.55678468899518, \"yref\": \"y\"}, {\"line\": {\"color\": \"#000000\", \"dash\": \"dash\", \"width\": 1}, \"type\": \"line\", \"x0\": 8.748818681318673, \"x1\": 8.748818681318673, \"xref\": \"x\", \"y0\": 0, \"y1\": 1, \"yref\": \"paper\"}], \"title\": \"Share of the population over 65 years old vs. Total deaths per million <br> dashed lines: average of entire dataset\", \"titlefont\": {\"color\": \"#4D5663\"}, \"xaxis\": {\"gridcolor\": \"#E1E5ED\", \"showgrid\": true, \"tickfont\": {\"color\": \"#4D5663\"}, \"title\": \"Share of the population that is 65 years and older\", \"titlefont\": {\"color\": \"#4D5663\"}, \"zerolinecolor\": \"#E1E5ED\"}, \"yaxis\": {\"gridcolor\": \"#E1E5ED\", \"showgrid\": true, \"tickfont\": {\"color\": \"#4D5663\"}, \"title\": \"Total deaths per million\", \"titlefont\": {\"color\": \"#4D5663\"}, \"zerolinecolor\": \"#E1E5ED\"}},\n",
       "                        {\"showLink\": true, \"linkText\": \"Export to plot.ly\", \"plotlyServerURL\": \"https://plot.ly\", \"responsive\": true}\n",
       "                    ).then(function(){\n",
       "                            \n",
       "var gd = document.getElementById('ba3ab107-8789-49b5-b7b5-830e93638acc');\n",
       "var x = new MutationObserver(function (mutations, observer) {{\n",
       "        var display = window.getComputedStyle(gd).display;\n",
       "        if (!display || display === 'none') {{\n",
       "            console.log([gd, 'removed!']);\n",
       "            Plotly.purge(gd);\n",
       "            observer.disconnect();\n",
       "        }}\n",
       "}});\n",
       "\n",
       "// Listen for the removal of the full notebook cells\n",
       "var notebookContainer = gd.closest('#notebook-container');\n",
       "if (notebookContainer) {{\n",
       "    x.observe(notebookContainer, {childList: true});\n",
       "}}\n",
       "\n",
       "// Listen for the clearing of the current output cell\n",
       "var outputEl = gd.closest('.output');\n",
       "if (outputEl) {{\n",
       "    x.observe(outputEl, {childList: true});\n",
       "}}\n",
       "\n",
       "                        })\n",
       "                };\n",
       "                });\n",
       "            </script>\n",
       "        </div>"
      ]
     },
     "metadata": {},
     "output_type": "display_data"
    },
    {
     "name": "stdout",
     "output_type": "stream",
     "text": [
      "Recommendation: choose option to 'show closest data point on hover' in top right corner\n"
     ]
    }
   ],
   "source": [
    "with warnings.catch_warnings(): # to catch warning about np.module in Python 3.8.2.\n",
    "    warnings.filterwarnings(\"ignore\",category=FutureWarning)\n",
    "    survey.iplot(\n",
    "        x='aged_65_older',\n",
    "        y='total_deaths_per_million',\n",
    "        categories='continent',\n",
    "        text=\"location\",\n",
    "        vline= {\"x\":survey[\"aged_65_older\"].mean(),\n",
    "                \"color\":\"#000000\",\n",
    "                \"dash\": \"dash\"\n",
    "               },\n",
    "        hline={\"y\":survey[\"total_deaths_per_million\"].mean(),\n",
    "               \"color\":\"#000000\",\n",
    "               \"dash\": \"dash\"\n",
    "              },\n",
    "        xTitle='Share of the population that is 65 years and older',\n",
    "        yTitle='Total deaths per million',\n",
    "        title='Share of the population over 65 years old vs. Total deaths per million <br> dashed lines: average of entire dataset'\n",
    "    )\n",
    "print(\"Recommendation: choose option to 'show closest data point on hover' in top right corner\")"
   ]
  },
  {
   "cell_type": "code",
   "execution_count": 19,
   "metadata": {},
   "outputs": [
    {
     "data": {
      "application/vnd.plotly.v1+json": {
       "config": {
        "linkText": "Export to plot.ly",
        "plotlyServerURL": "https://plot.ly",
        "showLink": true
       },
       "data": [
        {
         "marker": {
          "color": "rgba(255, 153, 51, 1.0)",
          "line": {
           "width": 1.3
          },
          "opacity": 0.8,
          "size": 12,
          "symbol": "circle"
         },
         "mode": "markers",
         "name": "North America",
         "text": [
          "Aruba",
          "Anguilla",
          "Antigua and Barbuda",
          "Bonaire Sint Eustatius and Saba",
          "Bahamas",
          "Belize",
          "Bermuda",
          "Barbados",
          "Canada",
          "Costa Rica",
          "Cuba",
          "Curacao",
          "Cayman Islands",
          "Dominica",
          "Dominican Republic",
          "Grenada",
          "Greenland",
          "Guatemala",
          "Honduras",
          "Haiti",
          "Jamaica",
          "Saint Kitts and Nevis",
          "Saint Lucia",
          "Mexico",
          "Montserrat",
          "Nicaragua",
          "Panama",
          "Puerto Rico",
          "El Salvador",
          "Sint Maarten (Dutch part)",
          "Turks and Caicos Islands",
          "Trinidad and Tobago",
          "Saint Vincent and the Grenadines",
          "British Virgin Islands",
          "United States Virgin Islands"
         ],
         "textfont": {
          "color": "#4D5663"
         },
         "type": "scatter",
         "x": [
          41.2,
          null,
          32.1,
          null,
          34.3,
          25,
          null,
          39.8,
          41.4,
          33.6,
          43.1,
          41.7,
          null,
          null,
          27.6,
          29.4,
          null,
          22.9,
          24.9,
          24.3,
          31.4,
          null,
          34.9,
          29.3,
          null,
          27.3,
          29.7,
          38.2,
          27.6,
          null,
          null,
          36.2,
          31.8,
          null,
          42.2
         ],
         "y": [
          46.831,
          0,
          30.635,
          0,
          55.943999999999996,
          12.575,
          144.525,
          24.359,
          239.75799999999998,
          63.013999999999996,
          7.769,
          6.093999999999999,
          15.216,
          0,
          138.368,
          0,
          0,
          137.701,
          162.349,
          17.189,
          4.728,
          0,
          0,
          453.57800000000003,
          200.04,
          20.077,
          423.42900000000003,
          124.439,
          98.671,
          396.43699999999995,
          51.656000000000006,
          8.575,
          0,
          33.071999999999996,
          86.18799999999999
         ]
        },
        {
         "marker": {
          "color": "rgba(55, 128, 191, 1.0)",
          "line": {
           "width": 1.3
          },
          "opacity": 0.8,
          "size": 12,
          "symbol": "circle"
         },
         "mode": "markers",
         "name": "Asia",
         "text": [
          "Afghanistan",
          "United Arab Emirates",
          "Armenia",
          "Azerbaijan",
          "Bangladesh",
          "Bahrain",
          "Brunei",
          "Bhutan",
          "China",
          "Georgia",
          "Indonesia",
          "India",
          "Iran",
          "Iraq",
          "Israel",
          "Jordan",
          "Japan",
          "Kazakhstan",
          "Kyrgyzstan",
          "Cambodia",
          "South Korea",
          "Kuwait",
          "Laos",
          "Lebanon",
          "Sri Lanka",
          "Maldives",
          "Myanmar",
          "Mongolia",
          "Malaysia",
          "Nepal",
          "Oman",
          "Pakistan",
          "Philippines",
          "Palestine",
          "Qatar",
          "Saudi Arabia",
          "Singapore",
          "Syria",
          "Thailand",
          "Tajikistan",
          "Timor",
          "Turkey",
          "Taiwan",
          "Uzbekistan",
          "Vietnam",
          "Yemen"
         ],
         "textfont": {
          "color": "#4D5663"
         },
         "type": "scatter",
         "x": [
          18.6,
          34,
          35.7,
          32.4,
          27.5,
          32.4,
          32.4,
          28.6,
          38.7,
          38.7,
          29.3,
          28.2,
          32.4,
          20,
          30.6,
          23.2,
          48.2,
          30.6,
          26.3,
          25.6,
          43.4,
          33.7,
          24.4,
          31.1,
          34.1,
          30.6,
          29.1,
          28.6,
          29.9,
          25,
          30.7,
          23.5,
          25.2,
          20.4,
          31.9,
          31.9,
          42.4,
          21.7,
          40.1,
          23.3,
          18,
          31.6,
          42.2,
          28.2,
          32.6,
          20.3
         ],
         "y": [
          35.527,
          37.107,
          281.112,
          50.3,
          22.958000000000002,
          102.845,
          6.857,
          0,
          3.27,
          4.262,
          23.201,
          39.033,
          237.782,
          152.178,
          90,
          1.078,
          9.045,
          87.98100000000001,
          229.607,
          0,
          5.9879999999999995,
          118.72,
          0,
          15.97,
          0.514,
          44.4,
          0.11,
          0,
          3.862,
          4.119,
          118.08200000000001,
          28.109,
          25.506,
          24.895,
          66.98899999999999,
          100.70700000000001,
          4.615,
          4.457,
          0.831,
          6.815,
          0,
          71.604,
          0.294,
          7.47,
          0.257,
          18.072
         ]
        },
        {
         "marker": {
          "color": "rgba(50, 171, 96, 1.0)",
          "line": {
           "width": 1.3
          },
          "opacity": 0.8,
          "size": 12,
          "symbol": "circle"
         },
         "mode": "markers",
         "name": "Africa",
         "text": [
          "Angola",
          "Burundi",
          "Benin",
          "Burkina Faso",
          "Botswana",
          "Central African Republic",
          "Cote d'Ivoire",
          "Cameroon",
          "Democratic Republic of Congo",
          "Congo",
          "Comoros",
          "Cape Verde",
          "Djibouti",
          "Algeria",
          "Egypt",
          "Eritrea",
          "Western Sahara",
          "Ethiopia",
          "Gabon",
          "Ghana",
          "Guinea",
          "Gambia",
          "Guinea-Bissau",
          "Equatorial Guinea",
          "Kenya",
          "Liberia",
          "Libya",
          "Lesotho",
          "Morocco",
          "Madagascar",
          "Mali",
          "Mozambique",
          "Mauritania",
          "Mauritius",
          "Malawi",
          "Namibia",
          "Niger",
          "Nigeria",
          "Rwanda",
          "Sudan",
          "Senegal",
          "Sierra Leone",
          "Somalia",
          "South Sudan",
          "Sao Tome and Principe",
          "Swaziland",
          "Seychelles",
          "Chad",
          "Togo",
          "Tunisia",
          "Tanzania",
          "Uganda",
          "South Africa",
          "Zambia",
          "Zimbabwe"
         ],
         "textfont": {
          "color": "#4D5663"
         },
         "type": "scatter",
         "x": [
          16.8,
          17.5,
          18.8,
          17.6,
          25.8,
          18.3,
          18.7,
          18.8,
          17,
          19,
          20.4,
          25.7,
          25.4,
          29.1,
          25.3,
          19.3,
          28.4,
          19.8,
          23.1,
          21.1,
          19,
          17.5,
          19.4,
          22.4,
          20,
          19.2,
          29,
          22.2,
          29.6,
          19.6,
          16.4,
          17.7,
          20.3,
          37.4,
          18.1,
          22,
          15.1,
          18.1,
          20.3,
          19.7,
          18.7,
          19.1,
          16.8,
          19.2,
          18.7,
          21.5,
          36.2,
          16.7,
          19.4,
          32.7,
          17.7,
          16.4,
          27.3,
          17.7,
          19.6
         ],
         "y": [
          2.738,
          0.084,
          3.217,
          2.6310000000000002,
          1.276,
          12.63,
          4.208,
          15.294,
          2.736,
          13.954,
          8.05,
          64.75,
          59.716,
          31.971999999999998,
          50.784,
          0,
          1.6740000000000002,
          5.218999999999999,
          23.811999999999998,
          8.238999999999999,
          4.0360000000000005,
          31.862,
          16.768,
          59.16,
          9.41,
          16.213,
          23.866999999999997,
          14.004000000000001,
          20.13,
          6.247999999999999,
          6.172999999999999,
          0.608,
          33.981,
          7.8629999999999995,
          8.573,
          15.349,
          2.85,
          4.7780000000000005,
          0.772,
          18.427,
          15.409,
          8.65,
          5.852,
          4.199,
          68.443,
          68.094,
          0,
          4.627,
          3.261,
          5.077,
          0.35200000000000004,
          0.32799999999999996,
          209.463,
          14.632,
          10.092
         ]
        },
        {
         "marker": {
          "color": "rgba(128, 0, 128, 1.0)",
          "line": {
           "width": 1.3
          },
          "opacity": 0.8,
          "size": 12,
          "symbol": "circle"
         },
         "mode": "markers",
         "name": "Europe",
         "text": [
          "Albania",
          "Andorra",
          "Austria",
          "Belgium",
          "Bulgaria",
          "Bosnia and Herzegovina",
          "Belarus",
          "Switzerland",
          "Cyprus",
          "Czech Republic",
          "Germany",
          "Denmark",
          "Estonia",
          "Finland",
          "France",
          "Faeroe Islands",
          "United Kingdom",
          "Guernsey",
          "Gibraltar",
          "Greece",
          "Croatia",
          "Hungary",
          "Isle of Man",
          "Ireland",
          "Iceland",
          "Italy",
          "Jersey",
          "Liechtenstein",
          "Lithuania",
          "Luxembourg",
          "Latvia",
          "Monaco",
          "Moldova",
          "Macedonia",
          "Malta",
          "Montenegro",
          "Netherlands",
          "Norway",
          "Poland",
          "Portugal",
          "Romania",
          "San Marino",
          "Serbia",
          "Slovakia",
          "Slovenia",
          "Sweden",
          "Ukraine",
          "Vatican",
          "Kosovo"
         ],
         "textfont": {
          "color": "#4D5663"
         },
         "type": "scatter",
         "x": [
          38,
          null,
          44.4,
          41.8,
          44.7,
          42.5,
          40.3,
          43.1,
          37.3,
          43.3,
          46.6,
          42.3,
          42.7,
          42.8,
          42,
          null,
          40.8,
          null,
          null,
          45.3,
          44,
          43.4,
          null,
          38.7,
          37.3,
          47.9,
          null,
          null,
          43.5,
          39.7,
          43.9,
          null,
          37.6,
          39.1,
          42.4,
          39.1,
          43.2,
          39.7,
          41.8,
          46.2,
          43,
          null,
          41.2,
          41.2,
          44.5,
          41,
          41.4,
          null,
          null
         ],
         "y": [
          81.312,
          685.951,
          80.942,
          860.1669999999999,
          74.693,
          154.535,
          65.825,
          198.507,
          23.975,
          37.725,
          110.439,
          107.213,
          47.492,
          60.281000000000006,
          466.774,
          0,
          609.802,
          193.87900000000002,
          0,
          22.546,
          40.923,
          63.041000000000004,
          282.247,
          359.472,
          29.304000000000002,
          585.692,
          316.603,
          26.221,
          29.754,
          198.09099999999998,
          17.495,
          101.926,
          226.576,
          263.994,
          20.383,
          127.376,
          360.20099999999996,
          48.328,
          50.54600000000001,
          175.155,
          161.454,
          1237.5510000000002,
          100.52,
          6.044,
          60.126999999999995,
          574.497,
          49.023999999999994,
          0,
          201.783
         ]
        },
        {
         "marker": {
          "color": "rgba(219, 64, 82, 1.0)",
          "line": {
           "width": 1.3
          },
          "opacity": 0.8,
          "size": 12,
          "symbol": "circle"
         },
         "mode": "markers",
         "name": "South America",
         "text": [
          "Argentina",
          "Bolivia",
          "Brazil",
          "Chile",
          "Colombia",
          "Ecuador",
          "Falkland Islands",
          "Guyana",
          "Peru",
          "Paraguay",
          "Suriname",
          "Uruguay",
          "Venezuela"
         ],
         "textfont": {
          "color": "#4D5663"
         },
         "type": "scatter",
         "x": [
          31.9,
          25.4,
          33.5,
          35.4,
          32.2,
          28.1,
          null,
          26.3,
          29.1,
          26.5,
          29.6,
          35.6,
          29
         ],
         "y": [
          135.278,
          362.631,
          522.677,
          553.352,
          314.035,
          348.352,
          0,
          34.327,
          813.846,
          23.133000000000003,
          92.051,
          11.515,
          10.655999999999999
         ]
        },
        {
         "marker": {
          "color": "rgba(0, 128, 128, 1.0)",
          "line": {
           "width": 1.3
          },
          "opacity": 0.8,
          "size": 12,
          "symbol": "circle"
         },
         "mode": "markers",
         "name": "Oceania",
         "text": [
          "Australia",
          "Fiji",
          "Guam",
          "Northern Mariana Islands",
          "New Caledonia",
          "New Zealand",
          "Papua New Guinea",
          "French Polynesia"
         ],
         "textfont": {
          "color": "#4D5663"
         },
         "type": "scatter",
         "x": [
          37.9,
          28.6,
          31.4,
          null,
          33.4,
          37.9,
          22.6,
          32.7
         ],
         "y": [
          17.647000000000002,
          1.1159999999999999,
          29.624000000000002,
          34.748000000000005,
          0,
          4.562,
          0.335,
          0
         ]
        },
        {
         "marker": {
          "color": "rgba(255, 255, 51, 1.0)",
          "line": {
           "width": 1.3
          },
          "opacity": 0.8,
          "size": 12,
          "symbol": "circle"
         },
         "mode": "markers",
         "name": "Russia",
         "text": [
          "Russia"
         ],
         "textfont": {
          "color": "#4D5663"
         },
         "type": "scatter",
         "x": [
          39.6
         ],
         "y": [
          109.56299999999999
         ]
        },
        {
         "marker": {
          "color": "rgba(128, 128, 0, 1.0)",
          "line": {
           "width": 1.3
          },
          "opacity": 0.8,
          "size": 12,
          "symbol": "circle"
         },
         "mode": "markers",
         "name": "USA",
         "text": [
          "United States"
         ],
         "textfont": {
          "color": "#4D5663"
         },
         "type": "scatter",
         "x": [
          38.3
         ],
         "y": [
          523.189
         ]
        },
        {
         "marker": {
          "color": "rgba(251, 128, 114, 1.0)",
          "line": {
           "width": 1.3
          },
          "opacity": 0.8,
          "size": 12,
          "symbol": "circle"
         },
         "mode": "markers",
         "name": "nan",
         "text": [],
         "textfont": {
          "color": "#4D5663"
         },
         "type": "scatter",
         "x": [],
         "y": []
        }
       ],
       "layout": {
        "legend": {
         "bgcolor": "#F5F6F9",
         "font": {
          "color": "#4D5663"
         }
        },
        "paper_bgcolor": "#F5F6F9",
        "plot_bgcolor": "#F5F6F9",
        "shapes": [
         {
          "line": {
           "color": "#000000",
           "dash": "dash",
           "width": 1
          },
          "type": "line",
          "x0": 0,
          "x1": 1,
          "xref": "paper",
          "y0": 94.55678468899518,
          "y1": 94.55678468899518,
          "yref": "y"
         },
         {
          "line": {
           "color": "#000000",
           "dash": "dash",
           "width": 1
          },
          "type": "line",
          "x0": 30.472432432432417,
          "x1": 30.472432432432417,
          "xref": "x",
          "y0": 0,
          "y1": 1,
          "yref": "paper"
         }
        ],
        "title": "Median age of the population vs. Total deaths per million <br> dashed lines: average of entire dataset",
        "titlefont": {
         "color": "#4D5663"
        },
        "xaxis": {
         "gridcolor": "#E1E5ED",
         "showgrid": true,
         "tickfont": {
          "color": "#4D5663"
         },
         "title": "Median age of the population",
         "titlefont": {
          "color": "#4D5663"
         },
         "zerolinecolor": "#E1E5ED"
        },
        "yaxis": {
         "gridcolor": "#E1E5ED",
         "showgrid": true,
         "tickfont": {
          "color": "#4D5663"
         },
         "title": "Total deaths per million",
         "titlefont": {
          "color": "#4D5663"
         },
         "zerolinecolor": "#E1E5ED"
        }
       }
      },
      "text/html": [
       "<div>\n",
       "        \n",
       "        \n",
       "            <div id=\"b88e4959-949e-4577-9683-d1cd499167eb\" class=\"plotly-graph-div\" style=\"height:525px; width:100%;\"></div>\n",
       "            <script type=\"text/javascript\">\n",
       "                require([\"plotly\"], function(Plotly) {\n",
       "                    window.PLOTLYENV=window.PLOTLYENV || {};\n",
       "                    window.PLOTLYENV.BASE_URL='https://plot.ly';\n",
       "                    \n",
       "                if (document.getElementById(\"b88e4959-949e-4577-9683-d1cd499167eb\")) {\n",
       "                    Plotly.newPlot(\n",
       "                        'b88e4959-949e-4577-9683-d1cd499167eb',\n",
       "                        [{\"marker\": {\"color\": \"rgba(255, 153, 51, 1.0)\", \"line\": {\"width\": 1.3}, \"opacity\": 0.8, \"size\": 12, \"symbol\": \"circle\"}, \"mode\": \"markers\", \"name\": \"North America\", \"text\": [\"Aruba\", \"Anguilla\", \"Antigua and Barbuda\", \"Bonaire Sint Eustatius and Saba\", \"Bahamas\", \"Belize\", \"Bermuda\", \"Barbados\", \"Canada\", \"Costa Rica\", \"Cuba\", \"Curacao\", \"Cayman Islands\", \"Dominica\", \"Dominican Republic\", \"Grenada\", \"Greenland\", \"Guatemala\", \"Honduras\", \"Haiti\", \"Jamaica\", \"Saint Kitts and Nevis\", \"Saint Lucia\", \"Mexico\", \"Montserrat\", \"Nicaragua\", \"Panama\", \"Puerto Rico\", \"El Salvador\", \"Sint Maarten (Dutch part)\", \"Turks and Caicos Islands\", \"Trinidad and Tobago\", \"Saint Vincent and the Grenadines\", \"British Virgin Islands\", \"United States Virgin Islands\"], \"textfont\": {\"color\": \"#4D5663\"}, \"type\": \"scatter\", \"x\": [41.2, null, 32.1, null, 34.3, 25.0, null, 39.8, 41.4, 33.6, 43.1, 41.7, null, null, 27.6, 29.4, null, 22.9, 24.9, 24.3, 31.4, null, 34.9, 29.3, null, 27.3, 29.7, 38.2, 27.6, null, null, 36.2, 31.8, null, 42.2], \"y\": [46.831, 0.0, 30.635, 0.0, 55.943999999999996, 12.575, 144.525, 24.359, 239.75799999999998, 63.013999999999996, 7.769, 6.093999999999999, 15.216, 0.0, 138.368, 0.0, 0.0, 137.701, 162.349, 17.189, 4.728, 0.0, 0.0, 453.57800000000003, 200.04, 20.077, 423.42900000000003, 124.439, 98.671, 396.43699999999995, 51.656000000000006, 8.575, 0.0, 33.071999999999996, 86.18799999999999]}, {\"marker\": {\"color\": \"rgba(55, 128, 191, 1.0)\", \"line\": {\"width\": 1.3}, \"opacity\": 0.8, \"size\": 12, \"symbol\": \"circle\"}, \"mode\": \"markers\", \"name\": \"Asia\", \"text\": [\"Afghanistan\", \"United Arab Emirates\", \"Armenia\", \"Azerbaijan\", \"Bangladesh\", \"Bahrain\", \"Brunei\", \"Bhutan\", \"China\", \"Georgia\", \"Indonesia\", \"India\", \"Iran\", \"Iraq\", \"Israel\", \"Jordan\", \"Japan\", \"Kazakhstan\", \"Kyrgyzstan\", \"Cambodia\", \"South Korea\", \"Kuwait\", \"Laos\", \"Lebanon\", \"Sri Lanka\", \"Maldives\", \"Myanmar\", \"Mongolia\", \"Malaysia\", \"Nepal\", \"Oman\", \"Pakistan\", \"Philippines\", \"Palestine\", \"Qatar\", \"Saudi Arabia\", \"Singapore\", \"Syria\", \"Thailand\", \"Tajikistan\", \"Timor\", \"Turkey\", \"Taiwan\", \"Uzbekistan\", \"Vietnam\", \"Yemen\"], \"textfont\": {\"color\": \"#4D5663\"}, \"type\": \"scatter\", \"x\": [18.6, 34.0, 35.7, 32.4, 27.5, 32.4, 32.4, 28.6, 38.7, 38.7, 29.3, 28.2, 32.4, 20.0, 30.6, 23.2, 48.2, 30.6, 26.3, 25.6, 43.4, 33.7, 24.4, 31.1, 34.1, 30.6, 29.1, 28.6, 29.9, 25.0, 30.7, 23.5, 25.2, 20.4, 31.9, 31.9, 42.4, 21.7, 40.1, 23.3, 18.0, 31.6, 42.2, 28.2, 32.6, 20.3], \"y\": [35.527, 37.107, 281.112, 50.3, 22.958000000000002, 102.845, 6.857, 0.0, 3.27, 4.262, 23.201, 39.033, 237.782, 152.178, 90.0, 1.078, 9.045, 87.98100000000001, 229.607, 0.0, 5.9879999999999995, 118.72, 0.0, 15.97, 0.514, 44.4, 0.11, 0.0, 3.862, 4.119, 118.08200000000001, 28.109, 25.506, 24.895, 66.98899999999999, 100.70700000000001, 4.615, 4.457, 0.831, 6.815, 0.0, 71.604, 0.294, 7.47, 0.257, 18.072]}, {\"marker\": {\"color\": \"rgba(50, 171, 96, 1.0)\", \"line\": {\"width\": 1.3}, \"opacity\": 0.8, \"size\": 12, \"symbol\": \"circle\"}, \"mode\": \"markers\", \"name\": \"Africa\", \"text\": [\"Angola\", \"Burundi\", \"Benin\", \"Burkina Faso\", \"Botswana\", \"Central African Republic\", \"Cote d'Ivoire\", \"Cameroon\", \"Democratic Republic of Congo\", \"Congo\", \"Comoros\", \"Cape Verde\", \"Djibouti\", \"Algeria\", \"Egypt\", \"Eritrea\", \"Western Sahara\", \"Ethiopia\", \"Gabon\", \"Ghana\", \"Guinea\", \"Gambia\", \"Guinea-Bissau\", \"Equatorial Guinea\", \"Kenya\", \"Liberia\", \"Libya\", \"Lesotho\", \"Morocco\", \"Madagascar\", \"Mali\", \"Mozambique\", \"Mauritania\", \"Mauritius\", \"Malawi\", \"Namibia\", \"Niger\", \"Nigeria\", \"Rwanda\", \"Sudan\", \"Senegal\", \"Sierra Leone\", \"Somalia\", \"South Sudan\", \"Sao Tome and Principe\", \"Swaziland\", \"Seychelles\", \"Chad\", \"Togo\", \"Tunisia\", \"Tanzania\", \"Uganda\", \"South Africa\", \"Zambia\", \"Zimbabwe\"], \"textfont\": {\"color\": \"#4D5663\"}, \"type\": \"scatter\", \"x\": [16.8, 17.5, 18.8, 17.6, 25.8, 18.3, 18.7, 18.8, 17.0, 19.0, 20.4, 25.7, 25.4, 29.1, 25.3, 19.3, 28.4, 19.8, 23.1, 21.1, 19.0, 17.5, 19.4, 22.4, 20.0, 19.2, 29.0, 22.2, 29.6, 19.6, 16.4, 17.7, 20.3, 37.4, 18.1, 22.0, 15.1, 18.1, 20.3, 19.7, 18.7, 19.1, 16.8, 19.2, 18.7, 21.5, 36.2, 16.7, 19.4, 32.7, 17.7, 16.4, 27.3, 17.7, 19.6], \"y\": [2.738, 0.084, 3.217, 2.6310000000000002, 1.276, 12.63, 4.208, 15.294, 2.736, 13.954, 8.05, 64.75, 59.716, 31.971999999999998, 50.784, 0.0, 1.6740000000000002, 5.218999999999999, 23.811999999999998, 8.238999999999999, 4.0360000000000005, 31.862, 16.768, 59.16, 9.41, 16.213, 23.866999999999997, 14.004000000000001, 20.13, 6.247999999999999, 6.172999999999999, 0.608, 33.981, 7.8629999999999995, 8.573, 15.349, 2.85, 4.7780000000000005, 0.772, 18.427, 15.409, 8.65, 5.852, 4.199, 68.443, 68.094, 0.0, 4.627, 3.261, 5.077, 0.35200000000000004, 0.32799999999999996, 209.463, 14.632, 10.092]}, {\"marker\": {\"color\": \"rgba(128, 0, 128, 1.0)\", \"line\": {\"width\": 1.3}, \"opacity\": 0.8, \"size\": 12, \"symbol\": \"circle\"}, \"mode\": \"markers\", \"name\": \"Europe\", \"text\": [\"Albania\", \"Andorra\", \"Austria\", \"Belgium\", \"Bulgaria\", \"Bosnia and Herzegovina\", \"Belarus\", \"Switzerland\", \"Cyprus\", \"Czech Republic\", \"Germany\", \"Denmark\", \"Estonia\", \"Finland\", \"France\", \"Faeroe Islands\", \"United Kingdom\", \"Guernsey\", \"Gibraltar\", \"Greece\", \"Croatia\", \"Hungary\", \"Isle of Man\", \"Ireland\", \"Iceland\", \"Italy\", \"Jersey\", \"Liechtenstein\", \"Lithuania\", \"Luxembourg\", \"Latvia\", \"Monaco\", \"Moldova\", \"Macedonia\", \"Malta\", \"Montenegro\", \"Netherlands\", \"Norway\", \"Poland\", \"Portugal\", \"Romania\", \"San Marino\", \"Serbia\", \"Slovakia\", \"Slovenia\", \"Sweden\", \"Ukraine\", \"Vatican\", \"Kosovo\"], \"textfont\": {\"color\": \"#4D5663\"}, \"type\": \"scatter\", \"x\": [38.0, null, 44.4, 41.8, 44.7, 42.5, 40.3, 43.1, 37.3, 43.3, 46.6, 42.3, 42.7, 42.8, 42.0, null, 40.8, null, null, 45.3, 44.0, 43.4, null, 38.7, 37.3, 47.9, null, null, 43.5, 39.7, 43.9, null, 37.6, 39.1, 42.4, 39.1, 43.2, 39.7, 41.8, 46.2, 43.0, null, 41.2, 41.2, 44.5, 41.0, 41.4, null, null], \"y\": [81.312, 685.951, 80.942, 860.1669999999999, 74.693, 154.535, 65.825, 198.507, 23.975, 37.725, 110.439, 107.213, 47.492, 60.281000000000006, 466.774, 0.0, 609.802, 193.87900000000002, 0.0, 22.546, 40.923, 63.041000000000004, 282.247, 359.472, 29.304000000000002, 585.692, 316.603, 26.221, 29.754, 198.09099999999998, 17.495, 101.926, 226.576, 263.994, 20.383, 127.376, 360.20099999999996, 48.328, 50.54600000000001, 175.155, 161.454, 1237.5510000000002, 100.52, 6.044, 60.126999999999995, 574.497, 49.023999999999994, 0.0, 201.783]}, {\"marker\": {\"color\": \"rgba(219, 64, 82, 1.0)\", \"line\": {\"width\": 1.3}, \"opacity\": 0.8, \"size\": 12, \"symbol\": \"circle\"}, \"mode\": \"markers\", \"name\": \"South America\", \"text\": [\"Argentina\", \"Bolivia\", \"Brazil\", \"Chile\", \"Colombia\", \"Ecuador\", \"Falkland Islands\", \"Guyana\", \"Peru\", \"Paraguay\", \"Suriname\", \"Uruguay\", \"Venezuela\"], \"textfont\": {\"color\": \"#4D5663\"}, \"type\": \"scatter\", \"x\": [31.9, 25.4, 33.5, 35.4, 32.2, 28.1, null, 26.3, 29.1, 26.5, 29.6, 35.6, 29.0], \"y\": [135.278, 362.631, 522.677, 553.352, 314.035, 348.352, 0.0, 34.327, 813.846, 23.133000000000003, 92.051, 11.515, 10.655999999999999]}, {\"marker\": {\"color\": \"rgba(0, 128, 128, 1.0)\", \"line\": {\"width\": 1.3}, \"opacity\": 0.8, \"size\": 12, \"symbol\": \"circle\"}, \"mode\": \"markers\", \"name\": \"Oceania\", \"text\": [\"Australia\", \"Fiji\", \"Guam\", \"Northern Mariana Islands\", \"New Caledonia\", \"New Zealand\", \"Papua New Guinea\", \"French Polynesia\"], \"textfont\": {\"color\": \"#4D5663\"}, \"type\": \"scatter\", \"x\": [37.9, 28.6, 31.4, null, 33.4, 37.9, 22.6, 32.7], \"y\": [17.647000000000002, 1.1159999999999999, 29.624000000000002, 34.748000000000005, 0.0, 4.562, 0.335, 0.0]}, {\"marker\": {\"color\": \"rgba(255, 255, 51, 1.0)\", \"line\": {\"width\": 1.3}, \"opacity\": 0.8, \"size\": 12, \"symbol\": \"circle\"}, \"mode\": \"markers\", \"name\": \"Russia\", \"text\": [\"Russia\"], \"textfont\": {\"color\": \"#4D5663\"}, \"type\": \"scatter\", \"x\": [39.6], \"y\": [109.56299999999999]}, {\"marker\": {\"color\": \"rgba(128, 128, 0, 1.0)\", \"line\": {\"width\": 1.3}, \"opacity\": 0.8, \"size\": 12, \"symbol\": \"circle\"}, \"mode\": \"markers\", \"name\": \"USA\", \"text\": [\"United States\"], \"textfont\": {\"color\": \"#4D5663\"}, \"type\": \"scatter\", \"x\": [38.3], \"y\": [523.189]}, {\"marker\": {\"color\": \"rgba(251, 128, 114, 1.0)\", \"line\": {\"width\": 1.3}, \"opacity\": 0.8, \"size\": 12, \"symbol\": \"circle\"}, \"mode\": \"markers\", \"name\": \"nan\", \"text\": [], \"textfont\": {\"color\": \"#4D5663\"}, \"type\": \"scatter\", \"x\": [], \"y\": []}],\n",
       "                        {\"legend\": {\"bgcolor\": \"#F5F6F9\", \"font\": {\"color\": \"#4D5663\"}}, \"paper_bgcolor\": \"#F5F6F9\", \"plot_bgcolor\": \"#F5F6F9\", \"shapes\": [{\"line\": {\"color\": \"#000000\", \"dash\": \"dash\", \"width\": 1}, \"type\": \"line\", \"x0\": 0, \"x1\": 1, \"xref\": \"paper\", \"y0\": 94.55678468899518, \"y1\": 94.55678468899518, \"yref\": \"y\"}, {\"line\": {\"color\": \"#000000\", \"dash\": \"dash\", \"width\": 1}, \"type\": \"line\", \"x0\": 30.472432432432417, \"x1\": 30.472432432432417, \"xref\": \"x\", \"y0\": 0, \"y1\": 1, \"yref\": \"paper\"}], \"title\": \"Median age of the population vs. Total deaths per million <br> dashed lines: average of entire dataset\", \"titlefont\": {\"color\": \"#4D5663\"}, \"xaxis\": {\"gridcolor\": \"#E1E5ED\", \"showgrid\": true, \"tickfont\": {\"color\": \"#4D5663\"}, \"title\": \"Median age of the population\", \"titlefont\": {\"color\": \"#4D5663\"}, \"zerolinecolor\": \"#E1E5ED\"}, \"yaxis\": {\"gridcolor\": \"#E1E5ED\", \"showgrid\": true, \"tickfont\": {\"color\": \"#4D5663\"}, \"title\": \"Total deaths per million\", \"titlefont\": {\"color\": \"#4D5663\"}, \"zerolinecolor\": \"#E1E5ED\"}},\n",
       "                        {\"showLink\": true, \"linkText\": \"Export to plot.ly\", \"plotlyServerURL\": \"https://plot.ly\", \"responsive\": true}\n",
       "                    ).then(function(){\n",
       "                            \n",
       "var gd = document.getElementById('b88e4959-949e-4577-9683-d1cd499167eb');\n",
       "var x = new MutationObserver(function (mutations, observer) {{\n",
       "        var display = window.getComputedStyle(gd).display;\n",
       "        if (!display || display === 'none') {{\n",
       "            console.log([gd, 'removed!']);\n",
       "            Plotly.purge(gd);\n",
       "            observer.disconnect();\n",
       "        }}\n",
       "}});\n",
       "\n",
       "// Listen for the removal of the full notebook cells\n",
       "var notebookContainer = gd.closest('#notebook-container');\n",
       "if (notebookContainer) {{\n",
       "    x.observe(notebookContainer, {childList: true});\n",
       "}}\n",
       "\n",
       "// Listen for the clearing of the current output cell\n",
       "var outputEl = gd.closest('.output');\n",
       "if (outputEl) {{\n",
       "    x.observe(outputEl, {childList: true});\n",
       "}}\n",
       "\n",
       "                        })\n",
       "                };\n",
       "                });\n",
       "            </script>\n",
       "        </div>"
      ]
     },
     "metadata": {},
     "output_type": "display_data"
    },
    {
     "name": "stdout",
     "output_type": "stream",
     "text": [
      "Recommendation: choose option to 'show closest data point on hover' in top right corner\n"
     ]
    }
   ],
   "source": [
    "with warnings.catch_warnings(): # to catch warning about np.module in Python 3.8.2.\n",
    "    warnings.filterwarnings(\"ignore\",category=FutureWarning)\n",
    "    survey.iplot(\n",
    "        x='median_age',\n",
    "        y='total_deaths_per_million',\n",
    "        categories='continent',\n",
    "        text=\"location\",\n",
    "        vline= {\"x\":survey[\"median_age\"].mean(),\n",
    "                \"color\":\"#000000\",\n",
    "                \"dash\": \"dash\"\n",
    "               },\n",
    "        hline={\"y\":survey[\"total_deaths_per_million\"].mean(),\n",
    "               \"color\":\"#000000\",\n",
    "               \"dash\": \"dash\"\n",
    "              },\n",
    "        xTitle='Median age of the population',\n",
    "        yTitle='Total deaths per million',\n",
    "        title='Median age of the population vs. Total deaths per million <br> dashed lines: average of entire dataset'\n",
    "    )\n",
    "print(\"Recommendation: choose option to 'show closest data point on hover' in top right corner\")"
   ]
  },
  {
   "cell_type": "code",
   "execution_count": 20,
   "metadata": {},
   "outputs": [
    {
     "data": {
      "application/vnd.plotly.v1+json": {
       "config": {
        "linkText": "Export to plot.ly",
        "plotlyServerURL": "https://plot.ly",
        "showLink": true
       },
       "data": [
        {
         "marker": {
          "color": "rgba(255, 153, 51, 0.6)",
          "line": {
           "color": "rgba(255, 153, 51, 1.0)",
           "width": 1
          }
         },
         "name": "total_cases_per_million",
         "orientation": "v",
         "text": "",
         "type": "bar",
         "x": [
          "Aruba",
          "Israel",
          "Singapore",
          "United States Virgin Islands",
          "Belarus",
          "Costa Rica",
          "Iceland",
          "Bahamas"
         ],
         "y": [
          12138,
          11318,
          9577,
          7929,
          7386,
          5969,
          5963,
          3893
         ]
        }
       ],
       "layout": {
        "barmode": "stack",
        "legend": {
         "bgcolor": "#F5F6F9",
         "font": {
          "color": "#4D5663"
         },
         "traceorder": "normal"
        },
        "paper_bgcolor": "#F5F6F9",
        "plot_bgcolor": "#F5F6F9",
        "template": {
         "data": {
          "bar": [
           {
            "error_x": {
             "color": "#2a3f5f"
            },
            "error_y": {
             "color": "#2a3f5f"
            },
            "marker": {
             "line": {
              "color": "#E5ECF6",
              "width": 0.5
             }
            },
            "type": "bar"
           }
          ],
          "barpolar": [
           {
            "marker": {
             "line": {
              "color": "#E5ECF6",
              "width": 0.5
             }
            },
            "type": "barpolar"
           }
          ],
          "carpet": [
           {
            "aaxis": {
             "endlinecolor": "#2a3f5f",
             "gridcolor": "white",
             "linecolor": "white",
             "minorgridcolor": "white",
             "startlinecolor": "#2a3f5f"
            },
            "baxis": {
             "endlinecolor": "#2a3f5f",
             "gridcolor": "white",
             "linecolor": "white",
             "minorgridcolor": "white",
             "startlinecolor": "#2a3f5f"
            },
            "type": "carpet"
           }
          ],
          "choropleth": [
           {
            "colorbar": {
             "outlinewidth": 0,
             "ticks": ""
            },
            "type": "choropleth"
           }
          ],
          "contour": [
           {
            "colorbar": {
             "outlinewidth": 0,
             "ticks": ""
            },
            "colorscale": [
             [
              0,
              "#0d0887"
             ],
             [
              0.1111111111111111,
              "#46039f"
             ],
             [
              0.2222222222222222,
              "#7201a8"
             ],
             [
              0.3333333333333333,
              "#9c179e"
             ],
             [
              0.4444444444444444,
              "#bd3786"
             ],
             [
              0.5555555555555556,
              "#d8576b"
             ],
             [
              0.6666666666666666,
              "#ed7953"
             ],
             [
              0.7777777777777778,
              "#fb9f3a"
             ],
             [
              0.8888888888888888,
              "#fdca26"
             ],
             [
              1,
              "#f0f921"
             ]
            ],
            "type": "contour"
           }
          ],
          "contourcarpet": [
           {
            "colorbar": {
             "outlinewidth": 0,
             "ticks": ""
            },
            "type": "contourcarpet"
           }
          ],
          "heatmap": [
           {
            "colorbar": {
             "outlinewidth": 0,
             "ticks": ""
            },
            "colorscale": [
             [
              0,
              "#0d0887"
             ],
             [
              0.1111111111111111,
              "#46039f"
             ],
             [
              0.2222222222222222,
              "#7201a8"
             ],
             [
              0.3333333333333333,
              "#9c179e"
             ],
             [
              0.4444444444444444,
              "#bd3786"
             ],
             [
              0.5555555555555556,
              "#d8576b"
             ],
             [
              0.6666666666666666,
              "#ed7953"
             ],
             [
              0.7777777777777778,
              "#fb9f3a"
             ],
             [
              0.8888888888888888,
              "#fdca26"
             ],
             [
              1,
              "#f0f921"
             ]
            ],
            "type": "heatmap"
           }
          ],
          "heatmapgl": [
           {
            "colorbar": {
             "outlinewidth": 0,
             "ticks": ""
            },
            "colorscale": [
             [
              0,
              "#0d0887"
             ],
             [
              0.1111111111111111,
              "#46039f"
             ],
             [
              0.2222222222222222,
              "#7201a8"
             ],
             [
              0.3333333333333333,
              "#9c179e"
             ],
             [
              0.4444444444444444,
              "#bd3786"
             ],
             [
              0.5555555555555556,
              "#d8576b"
             ],
             [
              0.6666666666666666,
              "#ed7953"
             ],
             [
              0.7777777777777778,
              "#fb9f3a"
             ],
             [
              0.8888888888888888,
              "#fdca26"
             ],
             [
              1,
              "#f0f921"
             ]
            ],
            "type": "heatmapgl"
           }
          ],
          "histogram": [
           {
            "marker": {
             "colorbar": {
              "outlinewidth": 0,
              "ticks": ""
             }
            },
            "type": "histogram"
           }
          ],
          "histogram2d": [
           {
            "colorbar": {
             "outlinewidth": 0,
             "ticks": ""
            },
            "colorscale": [
             [
              0,
              "#0d0887"
             ],
             [
              0.1111111111111111,
              "#46039f"
             ],
             [
              0.2222222222222222,
              "#7201a8"
             ],
             [
              0.3333333333333333,
              "#9c179e"
             ],
             [
              0.4444444444444444,
              "#bd3786"
             ],
             [
              0.5555555555555556,
              "#d8576b"
             ],
             [
              0.6666666666666666,
              "#ed7953"
             ],
             [
              0.7777777777777778,
              "#fb9f3a"
             ],
             [
              0.8888888888888888,
              "#fdca26"
             ],
             [
              1,
              "#f0f921"
             ]
            ],
            "type": "histogram2d"
           }
          ],
          "histogram2dcontour": [
           {
            "colorbar": {
             "outlinewidth": 0,
             "ticks": ""
            },
            "colorscale": [
             [
              0,
              "#0d0887"
             ],
             [
              0.1111111111111111,
              "#46039f"
             ],
             [
              0.2222222222222222,
              "#7201a8"
             ],
             [
              0.3333333333333333,
              "#9c179e"
             ],
             [
              0.4444444444444444,
              "#bd3786"
             ],
             [
              0.5555555555555556,
              "#d8576b"
             ],
             [
              0.6666666666666666,
              "#ed7953"
             ],
             [
              0.7777777777777778,
              "#fb9f3a"
             ],
             [
              0.8888888888888888,
              "#fdca26"
             ],
             [
              1,
              "#f0f921"
             ]
            ],
            "type": "histogram2dcontour"
           }
          ],
          "mesh3d": [
           {
            "colorbar": {
             "outlinewidth": 0,
             "ticks": ""
            },
            "type": "mesh3d"
           }
          ],
          "parcoords": [
           {
            "line": {
             "colorbar": {
              "outlinewidth": 0,
              "ticks": ""
             }
            },
            "type": "parcoords"
           }
          ],
          "pie": [
           {
            "automargin": true,
            "type": "pie"
           }
          ],
          "scatter": [
           {
            "marker": {
             "colorbar": {
              "outlinewidth": 0,
              "ticks": ""
             }
            },
            "type": "scatter"
           }
          ],
          "scatter3d": [
           {
            "line": {
             "colorbar": {
              "outlinewidth": 0,
              "ticks": ""
             }
            },
            "marker": {
             "colorbar": {
              "outlinewidth": 0,
              "ticks": ""
             }
            },
            "type": "scatter3d"
           }
          ],
          "scattercarpet": [
           {
            "marker": {
             "colorbar": {
              "outlinewidth": 0,
              "ticks": ""
             }
            },
            "type": "scattercarpet"
           }
          ],
          "scattergeo": [
           {
            "marker": {
             "colorbar": {
              "outlinewidth": 0,
              "ticks": ""
             }
            },
            "type": "scattergeo"
           }
          ],
          "scattergl": [
           {
            "marker": {
             "colorbar": {
              "outlinewidth": 0,
              "ticks": ""
             }
            },
            "type": "scattergl"
           }
          ],
          "scattermapbox": [
           {
            "marker": {
             "colorbar": {
              "outlinewidth": 0,
              "ticks": ""
             }
            },
            "type": "scattermapbox"
           }
          ],
          "scatterpolar": [
           {
            "marker": {
             "colorbar": {
              "outlinewidth": 0,
              "ticks": ""
             }
            },
            "type": "scatterpolar"
           }
          ],
          "scatterpolargl": [
           {
            "marker": {
             "colorbar": {
              "outlinewidth": 0,
              "ticks": ""
             }
            },
            "type": "scatterpolargl"
           }
          ],
          "scatterternary": [
           {
            "marker": {
             "colorbar": {
              "outlinewidth": 0,
              "ticks": ""
             }
            },
            "type": "scatterternary"
           }
          ],
          "surface": [
           {
            "colorbar": {
             "outlinewidth": 0,
             "ticks": ""
            },
            "colorscale": [
             [
              0,
              "#0d0887"
             ],
             [
              0.1111111111111111,
              "#46039f"
             ],
             [
              0.2222222222222222,
              "#7201a8"
             ],
             [
              0.3333333333333333,
              "#9c179e"
             ],
             [
              0.4444444444444444,
              "#bd3786"
             ],
             [
              0.5555555555555556,
              "#d8576b"
             ],
             [
              0.6666666666666666,
              "#ed7953"
             ],
             [
              0.7777777777777778,
              "#fb9f3a"
             ],
             [
              0.8888888888888888,
              "#fdca26"
             ],
             [
              1,
              "#f0f921"
             ]
            ],
            "type": "surface"
           }
          ],
          "table": [
           {
            "cells": {
             "fill": {
              "color": "#EBF0F8"
             },
             "line": {
              "color": "white"
             }
            },
            "header": {
             "fill": {
              "color": "#C8D4E3"
             },
             "line": {
              "color": "white"
             }
            },
            "type": "table"
           }
          ]
         },
         "layout": {
          "annotationdefaults": {
           "arrowcolor": "#2a3f5f",
           "arrowhead": 0,
           "arrowwidth": 1
          },
          "coloraxis": {
           "colorbar": {
            "outlinewidth": 0,
            "ticks": ""
           }
          },
          "colorscale": {
           "diverging": [
            [
             0,
             "#8e0152"
            ],
            [
             0.1,
             "#c51b7d"
            ],
            [
             0.2,
             "#de77ae"
            ],
            [
             0.3,
             "#f1b6da"
            ],
            [
             0.4,
             "#fde0ef"
            ],
            [
             0.5,
             "#f7f7f7"
            ],
            [
             0.6,
             "#e6f5d0"
            ],
            [
             0.7,
             "#b8e186"
            ],
            [
             0.8,
             "#7fbc41"
            ],
            [
             0.9,
             "#4d9221"
            ],
            [
             1,
             "#276419"
            ]
           ],
           "sequential": [
            [
             0,
             "#0d0887"
            ],
            [
             0.1111111111111111,
             "#46039f"
            ],
            [
             0.2222222222222222,
             "#7201a8"
            ],
            [
             0.3333333333333333,
             "#9c179e"
            ],
            [
             0.4444444444444444,
             "#bd3786"
            ],
            [
             0.5555555555555556,
             "#d8576b"
            ],
            [
             0.6666666666666666,
             "#ed7953"
            ],
            [
             0.7777777777777778,
             "#fb9f3a"
            ],
            [
             0.8888888888888888,
             "#fdca26"
            ],
            [
             1,
             "#f0f921"
            ]
           ],
           "sequentialminus": [
            [
             0,
             "#0d0887"
            ],
            [
             0.1111111111111111,
             "#46039f"
            ],
            [
             0.2222222222222222,
             "#7201a8"
            ],
            [
             0.3333333333333333,
             "#9c179e"
            ],
            [
             0.4444444444444444,
             "#bd3786"
            ],
            [
             0.5555555555555556,
             "#d8576b"
            ],
            [
             0.6666666666666666,
             "#ed7953"
            ],
            [
             0.7777777777777778,
             "#fb9f3a"
            ],
            [
             0.8888888888888888,
             "#fdca26"
            ],
            [
             1,
             "#f0f921"
            ]
           ]
          },
          "colorway": [
           "#636efa",
           "#EF553B",
           "#00cc96",
           "#ab63fa",
           "#FFA15A",
           "#19d3f3",
           "#FF6692",
           "#B6E880",
           "#FF97FF",
           "#FECB52"
          ],
          "font": {
           "color": "#2a3f5f"
          },
          "geo": {
           "bgcolor": "white",
           "lakecolor": "white",
           "landcolor": "#E5ECF6",
           "showlakes": true,
           "showland": true,
           "subunitcolor": "white"
          },
          "hoverlabel": {
           "align": "left"
          },
          "hovermode": "closest",
          "mapbox": {
           "style": "light"
          },
          "paper_bgcolor": "white",
          "plot_bgcolor": "#E5ECF6",
          "polar": {
           "angularaxis": {
            "gridcolor": "white",
            "linecolor": "white",
            "ticks": ""
           },
           "bgcolor": "#E5ECF6",
           "radialaxis": {
            "gridcolor": "white",
            "linecolor": "white",
            "ticks": ""
           }
          },
          "scene": {
           "xaxis": {
            "backgroundcolor": "#E5ECF6",
            "gridcolor": "white",
            "gridwidth": 2,
            "linecolor": "white",
            "showbackground": true,
            "ticks": "",
            "zerolinecolor": "white"
           },
           "yaxis": {
            "backgroundcolor": "#E5ECF6",
            "gridcolor": "white",
            "gridwidth": 2,
            "linecolor": "white",
            "showbackground": true,
            "ticks": "",
            "zerolinecolor": "white"
           },
           "zaxis": {
            "backgroundcolor": "#E5ECF6",
            "gridcolor": "white",
            "gridwidth": 2,
            "linecolor": "white",
            "showbackground": true,
            "ticks": "",
            "zerolinecolor": "white"
           }
          },
          "shapedefaults": {
           "line": {
            "color": "#2a3f5f"
           }
          },
          "ternary": {
           "aaxis": {
            "gridcolor": "white",
            "linecolor": "white",
            "ticks": ""
           },
           "baxis": {
            "gridcolor": "white",
            "linecolor": "white",
            "ticks": ""
           },
           "bgcolor": "#E5ECF6",
           "caxis": {
            "gridcolor": "white",
            "linecolor": "white",
            "ticks": ""
           }
          },
          "title": {
           "x": 0.05
          },
          "xaxis": {
           "automargin": true,
           "gridcolor": "white",
           "linecolor": "white",
           "ticks": "",
           "title": {
            "standoff": 15
           },
           "zerolinecolor": "white",
           "zerolinewidth": 2
          },
          "yaxis": {
           "automargin": true,
           "gridcolor": "white",
           "linecolor": "white",
           "ticks": "",
           "title": {
            "standoff": 15
           },
           "zerolinecolor": "white",
           "zerolinewidth": 2
          }
         }
        },
        "title": {
         "font": {
          "color": "#4D5663"
         },
         "text": "High covid confirmation level distribution by old countries with low death level"
        },
        "xaxis": {
         "gridcolor": "#E1E5ED",
         "showgrid": true,
         "tickfont": {
          "color": "#4D5663"
         },
         "title": {
          "font": {
           "color": "#4D5663"
          },
          "text": ""
         },
         "zerolinecolor": "#E1E5ED"
        },
        "yaxis": {
         "gridcolor": "#E1E5ED",
         "showgrid": true,
         "tickfont": {
          "color": "#4D5663"
         },
         "title": {
          "font": {
           "color": "#4D5663"
          },
          "text": "total_cases_per_million"
         },
         "zerolinecolor": "#E1E5ED"
        }
       }
      },
      "text/html": [
       "<div>\n",
       "        \n",
       "        \n",
       "            <div id=\"fca7cdb0-cacc-4da3-ab01-0e30d86a1ecd\" class=\"plotly-graph-div\" style=\"height:525px; width:100%;\"></div>\n",
       "            <script type=\"text/javascript\">\n",
       "                require([\"plotly\"], function(Plotly) {\n",
       "                    window.PLOTLYENV=window.PLOTLYENV || {};\n",
       "                    window.PLOTLYENV.BASE_URL='https://plot.ly';\n",
       "                    \n",
       "                if (document.getElementById(\"fca7cdb0-cacc-4da3-ab01-0e30d86a1ecd\")) {\n",
       "                    Plotly.newPlot(\n",
       "                        'fca7cdb0-cacc-4da3-ab01-0e30d86a1ecd',\n",
       "                        [{\"marker\": {\"color\": \"rgba(255, 153, 51, 0.6)\", \"line\": {\"color\": \"rgba(255, 153, 51, 1.0)\", \"width\": 1}}, \"name\": \"total_cases_per_million\", \"orientation\": \"v\", \"text\": \"\", \"type\": \"bar\", \"x\": [\"Aruba\", \"Israel\", \"Singapore\", \"United States Virgin Islands\", \"Belarus\", \"Costa Rica\", \"Iceland\", \"Bahamas\"], \"y\": [12138, 11318, 9577, 7929, 7386, 5969, 5963, 3893]}],\n",
       "                        {\"barmode\": \"stack\", \"legend\": {\"bgcolor\": \"#F5F6F9\", \"font\": {\"color\": \"#4D5663\"}, \"traceorder\": \"normal\"}, \"paper_bgcolor\": \"#F5F6F9\", \"plot_bgcolor\": \"#F5F6F9\", \"template\": {\"data\": {\"bar\": [{\"error_x\": {\"color\": \"#2a3f5f\"}, \"error_y\": {\"color\": \"#2a3f5f\"}, \"marker\": {\"line\": {\"color\": \"#E5ECF6\", \"width\": 0.5}}, \"type\": \"bar\"}], \"barpolar\": [{\"marker\": {\"line\": {\"color\": \"#E5ECF6\", \"width\": 0.5}}, \"type\": \"barpolar\"}], \"carpet\": [{\"aaxis\": {\"endlinecolor\": \"#2a3f5f\", \"gridcolor\": \"white\", \"linecolor\": \"white\", \"minorgridcolor\": \"white\", \"startlinecolor\": \"#2a3f5f\"}, \"baxis\": {\"endlinecolor\": \"#2a3f5f\", \"gridcolor\": \"white\", \"linecolor\": \"white\", \"minorgridcolor\": \"white\", \"startlinecolor\": \"#2a3f5f\"}, \"type\": \"carpet\"}], \"choropleth\": [{\"colorbar\": {\"outlinewidth\": 0, \"ticks\": \"\"}, \"type\": \"choropleth\"}], \"contour\": [{\"colorbar\": {\"outlinewidth\": 0, \"ticks\": \"\"}, \"colorscale\": [[0.0, \"#0d0887\"], [0.1111111111111111, \"#46039f\"], [0.2222222222222222, \"#7201a8\"], [0.3333333333333333, \"#9c179e\"], [0.4444444444444444, \"#bd3786\"], [0.5555555555555556, \"#d8576b\"], [0.6666666666666666, \"#ed7953\"], [0.7777777777777778, \"#fb9f3a\"], [0.8888888888888888, \"#fdca26\"], [1.0, \"#f0f921\"]], \"type\": \"contour\"}], \"contourcarpet\": [{\"colorbar\": {\"outlinewidth\": 0, \"ticks\": \"\"}, \"type\": \"contourcarpet\"}], \"heatmap\": [{\"colorbar\": {\"outlinewidth\": 0, \"ticks\": \"\"}, \"colorscale\": [[0.0, \"#0d0887\"], [0.1111111111111111, \"#46039f\"], [0.2222222222222222, \"#7201a8\"], [0.3333333333333333, \"#9c179e\"], [0.4444444444444444, \"#bd3786\"], [0.5555555555555556, \"#d8576b\"], [0.6666666666666666, \"#ed7953\"], [0.7777777777777778, \"#fb9f3a\"], [0.8888888888888888, \"#fdca26\"], [1.0, \"#f0f921\"]], \"type\": \"heatmap\"}], \"heatmapgl\": [{\"colorbar\": {\"outlinewidth\": 0, \"ticks\": \"\"}, \"colorscale\": [[0.0, \"#0d0887\"], [0.1111111111111111, \"#46039f\"], [0.2222222222222222, \"#7201a8\"], [0.3333333333333333, \"#9c179e\"], [0.4444444444444444, \"#bd3786\"], [0.5555555555555556, \"#d8576b\"], [0.6666666666666666, \"#ed7953\"], [0.7777777777777778, \"#fb9f3a\"], [0.8888888888888888, \"#fdca26\"], [1.0, \"#f0f921\"]], \"type\": \"heatmapgl\"}], \"histogram\": [{\"marker\": {\"colorbar\": {\"outlinewidth\": 0, \"ticks\": \"\"}}, \"type\": \"histogram\"}], \"histogram2d\": [{\"colorbar\": {\"outlinewidth\": 0, \"ticks\": \"\"}, \"colorscale\": [[0.0, \"#0d0887\"], [0.1111111111111111, \"#46039f\"], [0.2222222222222222, \"#7201a8\"], [0.3333333333333333, \"#9c179e\"], [0.4444444444444444, \"#bd3786\"], [0.5555555555555556, \"#d8576b\"], [0.6666666666666666, \"#ed7953\"], [0.7777777777777778, \"#fb9f3a\"], [0.8888888888888888, \"#fdca26\"], [1.0, \"#f0f921\"]], \"type\": \"histogram2d\"}], \"histogram2dcontour\": [{\"colorbar\": {\"outlinewidth\": 0, \"ticks\": \"\"}, \"colorscale\": [[0.0, \"#0d0887\"], [0.1111111111111111, \"#46039f\"], [0.2222222222222222, \"#7201a8\"], [0.3333333333333333, \"#9c179e\"], [0.4444444444444444, \"#bd3786\"], [0.5555555555555556, \"#d8576b\"], [0.6666666666666666, \"#ed7953\"], [0.7777777777777778, \"#fb9f3a\"], [0.8888888888888888, \"#fdca26\"], [1.0, \"#f0f921\"]], \"type\": \"histogram2dcontour\"}], \"mesh3d\": [{\"colorbar\": {\"outlinewidth\": 0, \"ticks\": \"\"}, \"type\": \"mesh3d\"}], \"parcoords\": [{\"line\": {\"colorbar\": {\"outlinewidth\": 0, \"ticks\": \"\"}}, \"type\": \"parcoords\"}], \"pie\": [{\"automargin\": true, \"type\": \"pie\"}], \"scatter\": [{\"marker\": {\"colorbar\": {\"outlinewidth\": 0, \"ticks\": \"\"}}, \"type\": \"scatter\"}], \"scatter3d\": [{\"line\": {\"colorbar\": {\"outlinewidth\": 0, \"ticks\": \"\"}}, \"marker\": {\"colorbar\": {\"outlinewidth\": 0, \"ticks\": \"\"}}, \"type\": \"scatter3d\"}], \"scattercarpet\": [{\"marker\": {\"colorbar\": {\"outlinewidth\": 0, \"ticks\": \"\"}}, \"type\": \"scattercarpet\"}], \"scattergeo\": [{\"marker\": {\"colorbar\": {\"outlinewidth\": 0, \"ticks\": \"\"}}, \"type\": \"scattergeo\"}], \"scattergl\": [{\"marker\": {\"colorbar\": {\"outlinewidth\": 0, \"ticks\": \"\"}}, \"type\": \"scattergl\"}], \"scattermapbox\": [{\"marker\": {\"colorbar\": {\"outlinewidth\": 0, \"ticks\": \"\"}}, \"type\": \"scattermapbox\"}], \"scatterpolar\": [{\"marker\": {\"colorbar\": {\"outlinewidth\": 0, \"ticks\": \"\"}}, \"type\": \"scatterpolar\"}], \"scatterpolargl\": [{\"marker\": {\"colorbar\": {\"outlinewidth\": 0, \"ticks\": \"\"}}, \"type\": \"scatterpolargl\"}], \"scatterternary\": [{\"marker\": {\"colorbar\": {\"outlinewidth\": 0, \"ticks\": \"\"}}, \"type\": \"scatterternary\"}], \"surface\": [{\"colorbar\": {\"outlinewidth\": 0, \"ticks\": \"\"}, \"colorscale\": [[0.0, \"#0d0887\"], [0.1111111111111111, \"#46039f\"], [0.2222222222222222, \"#7201a8\"], [0.3333333333333333, \"#9c179e\"], [0.4444444444444444, \"#bd3786\"], [0.5555555555555556, \"#d8576b\"], [0.6666666666666666, \"#ed7953\"], [0.7777777777777778, \"#fb9f3a\"], [0.8888888888888888, \"#fdca26\"], [1.0, \"#f0f921\"]], \"type\": \"surface\"}], \"table\": [{\"cells\": {\"fill\": {\"color\": \"#EBF0F8\"}, \"line\": {\"color\": \"white\"}}, \"header\": {\"fill\": {\"color\": \"#C8D4E3\"}, \"line\": {\"color\": \"white\"}}, \"type\": \"table\"}]}, \"layout\": {\"annotationdefaults\": {\"arrowcolor\": \"#2a3f5f\", \"arrowhead\": 0, \"arrowwidth\": 1}, \"coloraxis\": {\"colorbar\": {\"outlinewidth\": 0, \"ticks\": \"\"}}, \"colorscale\": {\"diverging\": [[0, \"#8e0152\"], [0.1, \"#c51b7d\"], [0.2, \"#de77ae\"], [0.3, \"#f1b6da\"], [0.4, \"#fde0ef\"], [0.5, \"#f7f7f7\"], [0.6, \"#e6f5d0\"], [0.7, \"#b8e186\"], [0.8, \"#7fbc41\"], [0.9, \"#4d9221\"], [1, \"#276419\"]], \"sequential\": [[0.0, \"#0d0887\"], [0.1111111111111111, \"#46039f\"], [0.2222222222222222, \"#7201a8\"], [0.3333333333333333, \"#9c179e\"], [0.4444444444444444, \"#bd3786\"], [0.5555555555555556, \"#d8576b\"], [0.6666666666666666, \"#ed7953\"], [0.7777777777777778, \"#fb9f3a\"], [0.8888888888888888, \"#fdca26\"], [1.0, \"#f0f921\"]], \"sequentialminus\": [[0.0, \"#0d0887\"], [0.1111111111111111, \"#46039f\"], [0.2222222222222222, \"#7201a8\"], [0.3333333333333333, \"#9c179e\"], [0.4444444444444444, \"#bd3786\"], [0.5555555555555556, \"#d8576b\"], [0.6666666666666666, \"#ed7953\"], [0.7777777777777778, \"#fb9f3a\"], [0.8888888888888888, \"#fdca26\"], [1.0, \"#f0f921\"]]}, \"colorway\": [\"#636efa\", \"#EF553B\", \"#00cc96\", \"#ab63fa\", \"#FFA15A\", \"#19d3f3\", \"#FF6692\", \"#B6E880\", \"#FF97FF\", \"#FECB52\"], \"font\": {\"color\": \"#2a3f5f\"}, \"geo\": {\"bgcolor\": \"white\", \"lakecolor\": \"white\", \"landcolor\": \"#E5ECF6\", \"showlakes\": true, \"showland\": true, \"subunitcolor\": \"white\"}, \"hoverlabel\": {\"align\": \"left\"}, \"hovermode\": \"closest\", \"mapbox\": {\"style\": \"light\"}, \"paper_bgcolor\": \"white\", \"plot_bgcolor\": \"#E5ECF6\", \"polar\": {\"angularaxis\": {\"gridcolor\": \"white\", \"linecolor\": \"white\", \"ticks\": \"\"}, \"bgcolor\": \"#E5ECF6\", \"radialaxis\": {\"gridcolor\": \"white\", \"linecolor\": \"white\", \"ticks\": \"\"}}, \"scene\": {\"xaxis\": {\"backgroundcolor\": \"#E5ECF6\", \"gridcolor\": \"white\", \"gridwidth\": 2, \"linecolor\": \"white\", \"showbackground\": true, \"ticks\": \"\", \"zerolinecolor\": \"white\"}, \"yaxis\": {\"backgroundcolor\": \"#E5ECF6\", \"gridcolor\": \"white\", \"gridwidth\": 2, \"linecolor\": \"white\", \"showbackground\": true, \"ticks\": \"\", \"zerolinecolor\": \"white\"}, \"zaxis\": {\"backgroundcolor\": \"#E5ECF6\", \"gridcolor\": \"white\", \"gridwidth\": 2, \"linecolor\": \"white\", \"showbackground\": true, \"ticks\": \"\", \"zerolinecolor\": \"white\"}}, \"shapedefaults\": {\"line\": {\"color\": \"#2a3f5f\"}}, \"ternary\": {\"aaxis\": {\"gridcolor\": \"white\", \"linecolor\": \"white\", \"ticks\": \"\"}, \"baxis\": {\"gridcolor\": \"white\", \"linecolor\": \"white\", \"ticks\": \"\"}, \"bgcolor\": \"#E5ECF6\", \"caxis\": {\"gridcolor\": \"white\", \"linecolor\": \"white\", \"ticks\": \"\"}}, \"title\": {\"x\": 0.05}, \"xaxis\": {\"automargin\": true, \"gridcolor\": \"white\", \"linecolor\": \"white\", \"ticks\": \"\", \"title\": {\"standoff\": 15}, \"zerolinecolor\": \"white\", \"zerolinewidth\": 2}, \"yaxis\": {\"automargin\": true, \"gridcolor\": \"white\", \"linecolor\": \"white\", \"ticks\": \"\", \"title\": {\"standoff\": 15}, \"zerolinecolor\": \"white\", \"zerolinewidth\": 2}}}, \"title\": {\"font\": {\"color\": \"#4D5663\"}, \"text\": \"High covid confirmation level distribution by old countries with low death level\"}, \"xaxis\": {\"gridcolor\": \"#E1E5ED\", \"showgrid\": true, \"tickfont\": {\"color\": \"#4D5663\"}, \"title\": {\"font\": {\"color\": \"#4D5663\"}, \"text\": \"\"}, \"zerolinecolor\": \"#E1E5ED\"}, \"yaxis\": {\"gridcolor\": \"#E1E5ED\", \"showgrid\": true, \"tickfont\": {\"color\": \"#4D5663\"}, \"title\": {\"font\": {\"color\": \"#4D5663\"}, \"text\": \"total_cases_per_million\"}, \"zerolinecolor\": \"#E1E5ED\"}},\n",
       "                        {\"showLink\": true, \"linkText\": \"Export to plot.ly\", \"plotlyServerURL\": \"https://plot.ly\", \"responsive\": true}\n",
       "                    ).then(function(){\n",
       "                            \n",
       "var gd = document.getElementById('fca7cdb0-cacc-4da3-ab01-0e30d86a1ecd');\n",
       "var x = new MutationObserver(function (mutations, observer) {{\n",
       "        var display = window.getComputedStyle(gd).display;\n",
       "        if (!display || display === 'none') {{\n",
       "            console.log([gd, 'removed!']);\n",
       "            Plotly.purge(gd);\n",
       "            observer.disconnect();\n",
       "        }}\n",
       "}});\n",
       "\n",
       "// Listen for the removal of the full notebook cells\n",
       "var notebookContainer = gd.closest('#notebook-container');\n",
       "if (notebookContainer) {{\n",
       "    x.observe(notebookContainer, {childList: true});\n",
       "}}\n",
       "\n",
       "// Listen for the clearing of the current output cell\n",
       "var outputEl = gd.closest('.output');\n",
       "if (outputEl) {{\n",
       "    x.observe(outputEl, {childList: true});\n",
       "}}\n",
       "\n",
       "                        })\n",
       "                };\n",
       "                });\n",
       "            </script>\n",
       "        </div>"
      ]
     },
     "metadata": {},
     "output_type": "display_data"
    }
   ],
   "source": [
    "filter2=(survey['total_deaths_per_million']<survey['total_deaths_per_million'].mean()) & (survey['median_age']>survey['median_age'].mean()) & (survey['aged_65_older']>survey['aged_65_older'].mean()) & (survey['total_cases_per_million']>survey['total_cases_per_million'].mean())\n",
    "old_with_low_deaths_high_cases=survey.loc[filter2, ['location', 'total_cases_per_million']]\n",
    "old_with_low_deaths_high_cases.set_index('location', inplace=True)\n",
    "old_with_low_deaths_high_cases=old_with_low_deaths_high_cases.sort_values(ascending=False, by='total_cases_per_million')\n",
    "# build stacked bar to covid confirmation level of rich_with_high_tests countries\n",
    "old_with_low_deaths_high_cases.astype(int).iplot(kind=\"bar\", barmode=\"stack\", yTitle='total_cases_per_million',\n",
    "                            title='High covid confirmation level distribution by old countries with low death level')"
   ]
  },
  {
   "cell_type": "markdown",
   "metadata": {},
   "source": [
    "- Again we can notice that not all countries with old population have high covid death level, generally they are countries with low testing level, no tests - no cases - no deaths related with covid.\n",
    "- There are countries which have share of old population above average and high covid confirmation level but their deaths level is lower then average: Singapore, Belarus, Iceland, Israel, Puerto Rico, Serbia - this may indicate to good medicine level or another unnkown factors."
   ]
  },
  {
   "cell_type": "markdown",
   "metadata": {},
   "source": [
    "# Plotting survey correlations: high covid deaths level for countries with high share of women who smoke."
   ]
  },
  {
   "cell_type": "code",
   "execution_count": 21,
   "metadata": {},
   "outputs": [
    {
     "data": {
      "application/vnd.plotly.v1+json": {
       "config": {
        "linkText": "Export to plot.ly",
        "plotlyServerURL": "https://plot.ly",
        "showLink": true
       },
       "data": [
        {
         "marker": {
          "color": "rgba(255, 153, 51, 1.0)",
          "line": {
           "width": 1.3
          },
          "opacity": 0.8,
          "size": 12,
          "symbol": "circle"
         },
         "mode": "markers",
         "name": "North America",
         "text": [
          "Aruba",
          "Anguilla",
          "Antigua and Barbuda",
          "Bonaire Sint Eustatius and Saba",
          "Bahamas",
          "Belize",
          "Bermuda",
          "Barbados",
          "Canada",
          "Costa Rica",
          "Cuba",
          "Curacao",
          "Cayman Islands",
          "Dominica",
          "Dominican Republic",
          "Grenada",
          "Greenland",
          "Guatemala",
          "Honduras",
          "Haiti",
          "Jamaica",
          "Saint Kitts and Nevis",
          "Saint Lucia",
          "Mexico",
          "Montserrat",
          "Nicaragua",
          "Panama",
          "Puerto Rico",
          "El Salvador",
          "Sint Maarten (Dutch part)",
          "Turks and Caicos Islands",
          "Trinidad and Tobago",
          "Saint Vincent and the Grenadines",
          "British Virgin Islands",
          "United States Virgin Islands"
         ],
         "textfont": {
          "color": "#4D5663"
         },
         "type": "scatter",
         "x": [
          null,
          null,
          null,
          null,
          3.1,
          null,
          null,
          1.9,
          12,
          6.4,
          17.1,
          null,
          null,
          null,
          8.5,
          null,
          null,
          null,
          2,
          2.9,
          5.3,
          null,
          null,
          6.9,
          null,
          null,
          2.4,
          null,
          2.5,
          null,
          null,
          null,
          null,
          null,
          null
         ],
         "y": [
          46.831,
          0,
          30.635,
          0,
          55.943999999999996,
          12.575,
          144.525,
          24.359,
          239.75799999999998,
          63.013999999999996,
          7.769,
          6.093999999999999,
          15.216,
          0,
          138.368,
          0,
          0,
          137.701,
          162.349,
          17.189,
          4.728,
          0,
          0,
          453.57800000000003,
          200.04,
          20.077,
          423.42900000000003,
          124.439,
          98.671,
          396.43699999999995,
          51.656000000000006,
          8.575,
          0,
          33.071999999999996,
          86.18799999999999
         ]
        },
        {
         "marker": {
          "color": "rgba(55, 128, 191, 1.0)",
          "line": {
           "width": 1.3
          },
          "opacity": 0.8,
          "size": 12,
          "symbol": "circle"
         },
         "mode": "markers",
         "name": "Asia",
         "text": [
          "Afghanistan",
          "United Arab Emirates",
          "Armenia",
          "Azerbaijan",
          "Bangladesh",
          "Bahrain",
          "Brunei",
          "Bhutan",
          "China",
          "Georgia",
          "Indonesia",
          "India",
          "Iran",
          "Iraq",
          "Israel",
          "Jordan",
          "Japan",
          "Kazakhstan",
          "Kyrgyzstan",
          "Cambodia",
          "South Korea",
          "Kuwait",
          "Laos",
          "Lebanon",
          "Sri Lanka",
          "Maldives",
          "Myanmar",
          "Mongolia",
          "Malaysia",
          "Nepal",
          "Oman",
          "Pakistan",
          "Philippines",
          "Palestine",
          "Qatar",
          "Saudi Arabia",
          "Singapore",
          "Syria",
          "Thailand",
          "Tajikistan",
          "Timor",
          "Turkey",
          "Taiwan",
          "Uzbekistan",
          "Vietnam",
          "Yemen"
         ],
         "textfont": {
          "color": "#4D5663"
         },
         "type": "scatter",
         "x": [
          null,
          1.2,
          1.5,
          0.3,
          1,
          5.8,
          2,
          null,
          1.9,
          5.3,
          2.8,
          1.9,
          0.8,
          null,
          15.4,
          null,
          11.2,
          7,
          3.6,
          2,
          6.2,
          2.7,
          7.3,
          26.9,
          0.3,
          2.1,
          6.3,
          5.5,
          1,
          9.5,
          0.5,
          2.8,
          7.8,
          null,
          0.8,
          1.8,
          5.2,
          null,
          1.9,
          null,
          6.3,
          14.1,
          null,
          1.3,
          1,
          7.6
         ],
         "y": [
          35.527,
          37.107,
          281.112,
          50.3,
          22.958000000000002,
          102.845,
          6.857,
          0,
          3.27,
          4.262,
          23.201,
          39.033,
          237.782,
          152.178,
          90,
          1.078,
          9.045,
          87.98100000000001,
          229.607,
          0,
          5.9879999999999995,
          118.72,
          0,
          15.97,
          0.514,
          44.4,
          0.11,
          0,
          3.862,
          4.119,
          118.08200000000001,
          28.109,
          25.506,
          24.895,
          66.98899999999999,
          100.70700000000001,
          4.615,
          4.457,
          0.831,
          6.815,
          0,
          71.604,
          0.294,
          7.47,
          0.257,
          18.072
         ]
        },
        {
         "marker": {
          "color": "rgba(50, 171, 96, 1.0)",
          "line": {
           "width": 1.3
          },
          "opacity": 0.8,
          "size": 12,
          "symbol": "circle"
         },
         "mode": "markers",
         "name": "Africa",
         "text": [
          "Angola",
          "Burundi",
          "Benin",
          "Burkina Faso",
          "Botswana",
          "Central African Republic",
          "Cote d'Ivoire",
          "Cameroon",
          "Democratic Republic of Congo",
          "Congo",
          "Comoros",
          "Cape Verde",
          "Djibouti",
          "Algeria",
          "Egypt",
          "Eritrea",
          "Western Sahara",
          "Ethiopia",
          "Gabon",
          "Ghana",
          "Guinea",
          "Gambia",
          "Guinea-Bissau",
          "Equatorial Guinea",
          "Kenya",
          "Liberia",
          "Libya",
          "Lesotho",
          "Morocco",
          "Madagascar",
          "Mali",
          "Mozambique",
          "Mauritania",
          "Mauritius",
          "Malawi",
          "Namibia",
          "Niger",
          "Nigeria",
          "Rwanda",
          "Sudan",
          "Senegal",
          "Sierra Leone",
          "Somalia",
          "South Sudan",
          "Sao Tome and Principe",
          "Swaziland",
          "Seychelles",
          "Chad",
          "Togo",
          "Tunisia",
          "Tanzania",
          "Uganda",
          "South Africa",
          "Zambia",
          "Zimbabwe"
         ],
         "textfont": {
          "color": "#4D5663"
         },
         "type": "scatter",
         "x": [
          null,
          null,
          0.6,
          1.6,
          5.7,
          null,
          null,
          null,
          null,
          1.7,
          4.4,
          2.1,
          1.7,
          0.7,
          0.2,
          0.2,
          null,
          0.4,
          null,
          0.3,
          null,
          0.7,
          null,
          null,
          1.2,
          1.5,
          null,
          0.4,
          0.8,
          null,
          1.6,
          5.1,
          null,
          3.2,
          4.4,
          9.7,
          0.1,
          0.6,
          4.7,
          null,
          0.4,
          8.8,
          null,
          null,
          null,
          1.7,
          7.1,
          null,
          0.9,
          1.1,
          3.3,
          3.4,
          8.1,
          3.1,
          1.6
         ],
         "y": [
          2.738,
          0.084,
          3.217,
          2.6310000000000002,
          1.276,
          12.63,
          4.208,
          15.294,
          2.736,
          13.954,
          8.05,
          64.75,
          59.716,
          31.971999999999998,
          50.784,
          0,
          1.6740000000000002,
          5.218999999999999,
          23.811999999999998,
          8.238999999999999,
          4.0360000000000005,
          31.862,
          16.768,
          59.16,
          9.41,
          16.213,
          23.866999999999997,
          14.004000000000001,
          20.13,
          6.247999999999999,
          6.172999999999999,
          0.608,
          33.981,
          7.8629999999999995,
          8.573,
          15.349,
          2.85,
          4.7780000000000005,
          0.772,
          18.427,
          15.409,
          8.65,
          5.852,
          4.199,
          68.443,
          68.094,
          0,
          4.627,
          3.261,
          5.077,
          0.35200000000000004,
          0.32799999999999996,
          209.463,
          14.632,
          10.092
         ]
        },
        {
         "marker": {
          "color": "rgba(128, 0, 128, 1.0)",
          "line": {
           "width": 1.3
          },
          "opacity": 0.8,
          "size": 12,
          "symbol": "circle"
         },
         "mode": "markers",
         "name": "Europe",
         "text": [
          "Albania",
          "Andorra",
          "Austria",
          "Belgium",
          "Bulgaria",
          "Bosnia and Herzegovina",
          "Belarus",
          "Switzerland",
          "Cyprus",
          "Czech Republic",
          "Germany",
          "Denmark",
          "Estonia",
          "Finland",
          "France",
          "Faeroe Islands",
          "United Kingdom",
          "Guernsey",
          "Gibraltar",
          "Greece",
          "Croatia",
          "Hungary",
          "Isle of Man",
          "Ireland",
          "Iceland",
          "Italy",
          "Jersey",
          "Liechtenstein",
          "Lithuania",
          "Luxembourg",
          "Latvia",
          "Monaco",
          "Moldova",
          "Macedonia",
          "Malta",
          "Montenegro",
          "Netherlands",
          "Norway",
          "Poland",
          "Portugal",
          "Romania",
          "San Marino",
          "Serbia",
          "Slovakia",
          "Slovenia",
          "Sweden",
          "Ukraine",
          "Vatican",
          "Kosovo"
         ],
         "textfont": {
          "color": "#4D5663"
         },
         "type": "scatter",
         "x": [
          7.1,
          29,
          28.4,
          25.1,
          30.1,
          30.2,
          10.5,
          22.6,
          19.6,
          30.5,
          28.2,
          19.3,
          24.5,
          18.3,
          30.1,
          null,
          20,
          null,
          null,
          35.3,
          34.3,
          26.8,
          null,
          23,
          14.3,
          19.8,
          null,
          null,
          21.3,
          20.9,
          25.6,
          null,
          5.9,
          null,
          20.9,
          44,
          24.4,
          19.6,
          23.3,
          16.3,
          22.9,
          null,
          37.7,
          23.1,
          20.1,
          18.8,
          13.5,
          null,
          null
         ],
         "y": [
          81.312,
          685.951,
          80.942,
          860.1669999999999,
          74.693,
          154.535,
          65.825,
          198.507,
          23.975,
          37.725,
          110.439,
          107.213,
          47.492,
          60.281000000000006,
          466.774,
          0,
          609.802,
          193.87900000000002,
          0,
          22.546,
          40.923,
          63.041000000000004,
          282.247,
          359.472,
          29.304000000000002,
          585.692,
          316.603,
          26.221,
          29.754,
          198.09099999999998,
          17.495,
          101.926,
          226.576,
          263.994,
          20.383,
          127.376,
          360.20099999999996,
          48.328,
          50.54600000000001,
          175.155,
          161.454,
          1237.5510000000002,
          100.52,
          6.044,
          60.126999999999995,
          574.497,
          49.023999999999994,
          0,
          201.783
         ]
        },
        {
         "marker": {
          "color": "rgba(219, 64, 82, 1.0)",
          "line": {
           "width": 1.3
          },
          "opacity": 0.8,
          "size": 12,
          "symbol": "circle"
         },
         "mode": "markers",
         "name": "South America",
         "text": [
          "Argentina",
          "Bolivia",
          "Brazil",
          "Chile",
          "Colombia",
          "Ecuador",
          "Falkland Islands",
          "Guyana",
          "Peru",
          "Paraguay",
          "Suriname",
          "Uruguay",
          "Venezuela"
         ],
         "textfont": {
          "color": "#4D5663"
         },
         "type": "scatter",
         "x": [
          16.2,
          null,
          10.1,
          34.2,
          4.7,
          2,
          null,
          null,
          4.8,
          5,
          7.4,
          14,
          null
         ],
         "y": [
          135.278,
          362.631,
          522.677,
          553.352,
          314.035,
          348.352,
          0,
          34.327,
          813.846,
          23.133000000000003,
          92.051,
          11.515,
          10.655999999999999
         ]
        },
        {
         "marker": {
          "color": "rgba(0, 128, 128, 1.0)",
          "line": {
           "width": 1.3
          },
          "opacity": 0.8,
          "size": 12,
          "symbol": "circle"
         },
         "mode": "markers",
         "name": "Oceania",
         "text": [
          "Australia",
          "Fiji",
          "Guam",
          "Northern Mariana Islands",
          "New Caledonia",
          "New Zealand",
          "Papua New Guinea",
          "French Polynesia"
         ],
         "textfont": {
          "color": "#4D5663"
         },
         "type": "scatter",
         "x": [
          13,
          10.2,
          null,
          null,
          null,
          14.8,
          23.5,
          null
         ],
         "y": [
          17.647000000000002,
          1.1159999999999999,
          29.624000000000002,
          34.748000000000005,
          0,
          4.562,
          0.335,
          0
         ]
        },
        {
         "marker": {
          "color": "rgba(255, 255, 51, 1.0)",
          "line": {
           "width": 1.3
          },
          "opacity": 0.8,
          "size": 12,
          "symbol": "circle"
         },
         "mode": "markers",
         "name": "Russia",
         "text": [
          "Russia"
         ],
         "textfont": {
          "color": "#4D5663"
         },
         "type": "scatter",
         "x": [
          23.4
         ],
         "y": [
          109.56299999999999
         ]
        },
        {
         "marker": {
          "color": "rgba(128, 128, 0, 1.0)",
          "line": {
           "width": 1.3
          },
          "opacity": 0.8,
          "size": 12,
          "symbol": "circle"
         },
         "mode": "markers",
         "name": "USA",
         "text": [
          "United States"
         ],
         "textfont": {
          "color": "#4D5663"
         },
         "type": "scatter",
         "x": [
          19.1
         ],
         "y": [
          523.189
         ]
        },
        {
         "marker": {
          "color": "rgba(251, 128, 114, 1.0)",
          "line": {
           "width": 1.3
          },
          "opacity": 0.8,
          "size": 12,
          "symbol": "circle"
         },
         "mode": "markers",
         "name": "nan",
         "text": [],
         "textfont": {
          "color": "#4D5663"
         },
         "type": "scatter",
         "x": [],
         "y": []
        }
       ],
       "layout": {
        "legend": {
         "bgcolor": "#F5F6F9",
         "font": {
          "color": "#4D5663"
         }
        },
        "paper_bgcolor": "#F5F6F9",
        "plot_bgcolor": "#F5F6F9",
        "shapes": [
         {
          "line": {
           "color": "#000000",
           "dash": "dash",
           "width": 1
          },
          "type": "line",
          "x0": 0,
          "x1": 1,
          "xref": "paper",
          "y0": 94.55678468899518,
          "y1": 94.55678468899518,
          "yref": "y"
         },
         {
          "line": {
           "color": "#000000",
           "dash": "dash",
           "width": 1
          },
          "type": "line",
          "x0": 10.29167142857142,
          "x1": 10.29167142857142,
          "xref": "x",
          "y0": 0,
          "y1": 1,
          "yref": "paper"
         }
        ],
        "title": "Share of women who smoke vs. Total deaths per million <br> dashed lines: average of entire dataset",
        "titlefont": {
         "color": "#4D5663"
        },
        "xaxis": {
         "gridcolor": "#E1E5ED",
         "showgrid": true,
         "tickfont": {
          "color": "#4D5663"
         },
         "title": "Share of women who smoke",
         "titlefont": {
          "color": "#4D5663"
         },
         "zerolinecolor": "#E1E5ED"
        },
        "yaxis": {
         "gridcolor": "#E1E5ED",
         "showgrid": true,
         "tickfont": {
          "color": "#4D5663"
         },
         "title": "Total deaths per million",
         "titlefont": {
          "color": "#4D5663"
         },
         "zerolinecolor": "#E1E5ED"
        }
       }
      },
      "text/html": [
       "<div>\n",
       "        \n",
       "        \n",
       "            <div id=\"b076e541-c654-498a-88da-90a0ccaafe66\" class=\"plotly-graph-div\" style=\"height:525px; width:100%;\"></div>\n",
       "            <script type=\"text/javascript\">\n",
       "                require([\"plotly\"], function(Plotly) {\n",
       "                    window.PLOTLYENV=window.PLOTLYENV || {};\n",
       "                    window.PLOTLYENV.BASE_URL='https://plot.ly';\n",
       "                    \n",
       "                if (document.getElementById(\"b076e541-c654-498a-88da-90a0ccaafe66\")) {\n",
       "                    Plotly.newPlot(\n",
       "                        'b076e541-c654-498a-88da-90a0ccaafe66',\n",
       "                        [{\"marker\": {\"color\": \"rgba(255, 153, 51, 1.0)\", \"line\": {\"width\": 1.3}, \"opacity\": 0.8, \"size\": 12, \"symbol\": \"circle\"}, \"mode\": \"markers\", \"name\": \"North America\", \"text\": [\"Aruba\", \"Anguilla\", \"Antigua and Barbuda\", \"Bonaire Sint Eustatius and Saba\", \"Bahamas\", \"Belize\", \"Bermuda\", \"Barbados\", \"Canada\", \"Costa Rica\", \"Cuba\", \"Curacao\", \"Cayman Islands\", \"Dominica\", \"Dominican Republic\", \"Grenada\", \"Greenland\", \"Guatemala\", \"Honduras\", \"Haiti\", \"Jamaica\", \"Saint Kitts and Nevis\", \"Saint Lucia\", \"Mexico\", \"Montserrat\", \"Nicaragua\", \"Panama\", \"Puerto Rico\", \"El Salvador\", \"Sint Maarten (Dutch part)\", \"Turks and Caicos Islands\", \"Trinidad and Tobago\", \"Saint Vincent and the Grenadines\", \"British Virgin Islands\", \"United States Virgin Islands\"], \"textfont\": {\"color\": \"#4D5663\"}, \"type\": \"scatter\", \"x\": [null, null, null, null, 3.1, null, null, 1.9, 12.0, 6.4, 17.1, null, null, null, 8.5, null, null, null, 2.0, 2.9, 5.3, null, null, 6.9, null, null, 2.4, null, 2.5, null, null, null, null, null, null], \"y\": [46.831, 0.0, 30.635, 0.0, 55.943999999999996, 12.575, 144.525, 24.359, 239.75799999999998, 63.013999999999996, 7.769, 6.093999999999999, 15.216, 0.0, 138.368, 0.0, 0.0, 137.701, 162.349, 17.189, 4.728, 0.0, 0.0, 453.57800000000003, 200.04, 20.077, 423.42900000000003, 124.439, 98.671, 396.43699999999995, 51.656000000000006, 8.575, 0.0, 33.071999999999996, 86.18799999999999]}, {\"marker\": {\"color\": \"rgba(55, 128, 191, 1.0)\", \"line\": {\"width\": 1.3}, \"opacity\": 0.8, \"size\": 12, \"symbol\": \"circle\"}, \"mode\": \"markers\", \"name\": \"Asia\", \"text\": [\"Afghanistan\", \"United Arab Emirates\", \"Armenia\", \"Azerbaijan\", \"Bangladesh\", \"Bahrain\", \"Brunei\", \"Bhutan\", \"China\", \"Georgia\", \"Indonesia\", \"India\", \"Iran\", \"Iraq\", \"Israel\", \"Jordan\", \"Japan\", \"Kazakhstan\", \"Kyrgyzstan\", \"Cambodia\", \"South Korea\", \"Kuwait\", \"Laos\", \"Lebanon\", \"Sri Lanka\", \"Maldives\", \"Myanmar\", \"Mongolia\", \"Malaysia\", \"Nepal\", \"Oman\", \"Pakistan\", \"Philippines\", \"Palestine\", \"Qatar\", \"Saudi Arabia\", \"Singapore\", \"Syria\", \"Thailand\", \"Tajikistan\", \"Timor\", \"Turkey\", \"Taiwan\", \"Uzbekistan\", \"Vietnam\", \"Yemen\"], \"textfont\": {\"color\": \"#4D5663\"}, \"type\": \"scatter\", \"x\": [null, 1.2, 1.5, 0.3, 1.0, 5.8, 2.0, null, 1.9, 5.3, 2.8, 1.9, 0.8, null, 15.4, null, 11.2, 7.0, 3.6, 2.0, 6.2, 2.7, 7.3, 26.9, 0.3, 2.1, 6.3, 5.5, 1.0, 9.5, 0.5, 2.8, 7.8, null, 0.8, 1.8, 5.2, null, 1.9, null, 6.3, 14.1, null, 1.3, 1.0, 7.6], \"y\": [35.527, 37.107, 281.112, 50.3, 22.958000000000002, 102.845, 6.857, 0.0, 3.27, 4.262, 23.201, 39.033, 237.782, 152.178, 90.0, 1.078, 9.045, 87.98100000000001, 229.607, 0.0, 5.9879999999999995, 118.72, 0.0, 15.97, 0.514, 44.4, 0.11, 0.0, 3.862, 4.119, 118.08200000000001, 28.109, 25.506, 24.895, 66.98899999999999, 100.70700000000001, 4.615, 4.457, 0.831, 6.815, 0.0, 71.604, 0.294, 7.47, 0.257, 18.072]}, {\"marker\": {\"color\": \"rgba(50, 171, 96, 1.0)\", \"line\": {\"width\": 1.3}, \"opacity\": 0.8, \"size\": 12, \"symbol\": \"circle\"}, \"mode\": \"markers\", \"name\": \"Africa\", \"text\": [\"Angola\", \"Burundi\", \"Benin\", \"Burkina Faso\", \"Botswana\", \"Central African Republic\", \"Cote d'Ivoire\", \"Cameroon\", \"Democratic Republic of Congo\", \"Congo\", \"Comoros\", \"Cape Verde\", \"Djibouti\", \"Algeria\", \"Egypt\", \"Eritrea\", \"Western Sahara\", \"Ethiopia\", \"Gabon\", \"Ghana\", \"Guinea\", \"Gambia\", \"Guinea-Bissau\", \"Equatorial Guinea\", \"Kenya\", \"Liberia\", \"Libya\", \"Lesotho\", \"Morocco\", \"Madagascar\", \"Mali\", \"Mozambique\", \"Mauritania\", \"Mauritius\", \"Malawi\", \"Namibia\", \"Niger\", \"Nigeria\", \"Rwanda\", \"Sudan\", \"Senegal\", \"Sierra Leone\", \"Somalia\", \"South Sudan\", \"Sao Tome and Principe\", \"Swaziland\", \"Seychelles\", \"Chad\", \"Togo\", \"Tunisia\", \"Tanzania\", \"Uganda\", \"South Africa\", \"Zambia\", \"Zimbabwe\"], \"textfont\": {\"color\": \"#4D5663\"}, \"type\": \"scatter\", \"x\": [null, null, 0.6, 1.6, 5.7, null, null, null, null, 1.7, 4.4, 2.1, 1.7, 0.7, 0.2, 0.2, null, 0.4, null, 0.3, null, 0.7, null, null, 1.2, 1.5, null, 0.4, 0.8, null, 1.6, 5.1, null, 3.2, 4.4, 9.7, 0.1, 0.6, 4.7, null, 0.4, 8.8, null, null, null, 1.7, 7.1, null, 0.9, 1.1, 3.3, 3.4, 8.1, 3.1, 1.6], \"y\": [2.738, 0.084, 3.217, 2.6310000000000002, 1.276, 12.63, 4.208, 15.294, 2.736, 13.954, 8.05, 64.75, 59.716, 31.971999999999998, 50.784, 0.0, 1.6740000000000002, 5.218999999999999, 23.811999999999998, 8.238999999999999, 4.0360000000000005, 31.862, 16.768, 59.16, 9.41, 16.213, 23.866999999999997, 14.004000000000001, 20.13, 6.247999999999999, 6.172999999999999, 0.608, 33.981, 7.8629999999999995, 8.573, 15.349, 2.85, 4.7780000000000005, 0.772, 18.427, 15.409, 8.65, 5.852, 4.199, 68.443, 68.094, 0.0, 4.627, 3.261, 5.077, 0.35200000000000004, 0.32799999999999996, 209.463, 14.632, 10.092]}, {\"marker\": {\"color\": \"rgba(128, 0, 128, 1.0)\", \"line\": {\"width\": 1.3}, \"opacity\": 0.8, \"size\": 12, \"symbol\": \"circle\"}, \"mode\": \"markers\", \"name\": \"Europe\", \"text\": [\"Albania\", \"Andorra\", \"Austria\", \"Belgium\", \"Bulgaria\", \"Bosnia and Herzegovina\", \"Belarus\", \"Switzerland\", \"Cyprus\", \"Czech Republic\", \"Germany\", \"Denmark\", \"Estonia\", \"Finland\", \"France\", \"Faeroe Islands\", \"United Kingdom\", \"Guernsey\", \"Gibraltar\", \"Greece\", \"Croatia\", \"Hungary\", \"Isle of Man\", \"Ireland\", \"Iceland\", \"Italy\", \"Jersey\", \"Liechtenstein\", \"Lithuania\", \"Luxembourg\", \"Latvia\", \"Monaco\", \"Moldova\", \"Macedonia\", \"Malta\", \"Montenegro\", \"Netherlands\", \"Norway\", \"Poland\", \"Portugal\", \"Romania\", \"San Marino\", \"Serbia\", \"Slovakia\", \"Slovenia\", \"Sweden\", \"Ukraine\", \"Vatican\", \"Kosovo\"], \"textfont\": {\"color\": \"#4D5663\"}, \"type\": \"scatter\", \"x\": [7.1, 29.0, 28.4, 25.1, 30.1, 30.2, 10.5, 22.6, 19.6, 30.5, 28.2, 19.3, 24.5, 18.3, 30.1, null, 20.0, null, null, 35.3, 34.3, 26.8, null, 23.0, 14.3, 19.8, null, null, 21.3, 20.9, 25.6, null, 5.9, null, 20.9, 44.0, 24.4, 19.6, 23.3, 16.3, 22.9, null, 37.7, 23.1, 20.1, 18.8, 13.5, null, null], \"y\": [81.312, 685.951, 80.942, 860.1669999999999, 74.693, 154.535, 65.825, 198.507, 23.975, 37.725, 110.439, 107.213, 47.492, 60.281000000000006, 466.774, 0.0, 609.802, 193.87900000000002, 0.0, 22.546, 40.923, 63.041000000000004, 282.247, 359.472, 29.304000000000002, 585.692, 316.603, 26.221, 29.754, 198.09099999999998, 17.495, 101.926, 226.576, 263.994, 20.383, 127.376, 360.20099999999996, 48.328, 50.54600000000001, 175.155, 161.454, 1237.5510000000002, 100.52, 6.044, 60.126999999999995, 574.497, 49.023999999999994, 0.0, 201.783]}, {\"marker\": {\"color\": \"rgba(219, 64, 82, 1.0)\", \"line\": {\"width\": 1.3}, \"opacity\": 0.8, \"size\": 12, \"symbol\": \"circle\"}, \"mode\": \"markers\", \"name\": \"South America\", \"text\": [\"Argentina\", \"Bolivia\", \"Brazil\", \"Chile\", \"Colombia\", \"Ecuador\", \"Falkland Islands\", \"Guyana\", \"Peru\", \"Paraguay\", \"Suriname\", \"Uruguay\", \"Venezuela\"], \"textfont\": {\"color\": \"#4D5663\"}, \"type\": \"scatter\", \"x\": [16.2, null, 10.1, 34.2, 4.7, 2.0, null, null, 4.8, 5.0, 7.4, 14.0, null], \"y\": [135.278, 362.631, 522.677, 553.352, 314.035, 348.352, 0.0, 34.327, 813.846, 23.133000000000003, 92.051, 11.515, 10.655999999999999]}, {\"marker\": {\"color\": \"rgba(0, 128, 128, 1.0)\", \"line\": {\"width\": 1.3}, \"opacity\": 0.8, \"size\": 12, \"symbol\": \"circle\"}, \"mode\": \"markers\", \"name\": \"Oceania\", \"text\": [\"Australia\", \"Fiji\", \"Guam\", \"Northern Mariana Islands\", \"New Caledonia\", \"New Zealand\", \"Papua New Guinea\", \"French Polynesia\"], \"textfont\": {\"color\": \"#4D5663\"}, \"type\": \"scatter\", \"x\": [13.0, 10.2, null, null, null, 14.8, 23.5, null], \"y\": [17.647000000000002, 1.1159999999999999, 29.624000000000002, 34.748000000000005, 0.0, 4.562, 0.335, 0.0]}, {\"marker\": {\"color\": \"rgba(255, 255, 51, 1.0)\", \"line\": {\"width\": 1.3}, \"opacity\": 0.8, \"size\": 12, \"symbol\": \"circle\"}, \"mode\": \"markers\", \"name\": \"Russia\", \"text\": [\"Russia\"], \"textfont\": {\"color\": \"#4D5663\"}, \"type\": \"scatter\", \"x\": [23.4], \"y\": [109.56299999999999]}, {\"marker\": {\"color\": \"rgba(128, 128, 0, 1.0)\", \"line\": {\"width\": 1.3}, \"opacity\": 0.8, \"size\": 12, \"symbol\": \"circle\"}, \"mode\": \"markers\", \"name\": \"USA\", \"text\": [\"United States\"], \"textfont\": {\"color\": \"#4D5663\"}, \"type\": \"scatter\", \"x\": [19.1], \"y\": [523.189]}, {\"marker\": {\"color\": \"rgba(251, 128, 114, 1.0)\", \"line\": {\"width\": 1.3}, \"opacity\": 0.8, \"size\": 12, \"symbol\": \"circle\"}, \"mode\": \"markers\", \"name\": \"nan\", \"text\": [], \"textfont\": {\"color\": \"#4D5663\"}, \"type\": \"scatter\", \"x\": [], \"y\": []}],\n",
       "                        {\"legend\": {\"bgcolor\": \"#F5F6F9\", \"font\": {\"color\": \"#4D5663\"}}, \"paper_bgcolor\": \"#F5F6F9\", \"plot_bgcolor\": \"#F5F6F9\", \"shapes\": [{\"line\": {\"color\": \"#000000\", \"dash\": \"dash\", \"width\": 1}, \"type\": \"line\", \"x0\": 0, \"x1\": 1, \"xref\": \"paper\", \"y0\": 94.55678468899518, \"y1\": 94.55678468899518, \"yref\": \"y\"}, {\"line\": {\"color\": \"#000000\", \"dash\": \"dash\", \"width\": 1}, \"type\": \"line\", \"x0\": 10.29167142857142, \"x1\": 10.29167142857142, \"xref\": \"x\", \"y0\": 0, \"y1\": 1, \"yref\": \"paper\"}], \"title\": \"Share of women who smoke vs. Total deaths per million <br> dashed lines: average of entire dataset\", \"titlefont\": {\"color\": \"#4D5663\"}, \"xaxis\": {\"gridcolor\": \"#E1E5ED\", \"showgrid\": true, \"tickfont\": {\"color\": \"#4D5663\"}, \"title\": \"Share of women who smoke\", \"titlefont\": {\"color\": \"#4D5663\"}, \"zerolinecolor\": \"#E1E5ED\"}, \"yaxis\": {\"gridcolor\": \"#E1E5ED\", \"showgrid\": true, \"tickfont\": {\"color\": \"#4D5663\"}, \"title\": \"Total deaths per million\", \"titlefont\": {\"color\": \"#4D5663\"}, \"zerolinecolor\": \"#E1E5ED\"}},\n",
       "                        {\"showLink\": true, \"linkText\": \"Export to plot.ly\", \"plotlyServerURL\": \"https://plot.ly\", \"responsive\": true}\n",
       "                    ).then(function(){\n",
       "                            \n",
       "var gd = document.getElementById('b076e541-c654-498a-88da-90a0ccaafe66');\n",
       "var x = new MutationObserver(function (mutations, observer) {{\n",
       "        var display = window.getComputedStyle(gd).display;\n",
       "        if (!display || display === 'none') {{\n",
       "            console.log([gd, 'removed!']);\n",
       "            Plotly.purge(gd);\n",
       "            observer.disconnect();\n",
       "        }}\n",
       "}});\n",
       "\n",
       "// Listen for the removal of the full notebook cells\n",
       "var notebookContainer = gd.closest('#notebook-container');\n",
       "if (notebookContainer) {{\n",
       "    x.observe(notebookContainer, {childList: true});\n",
       "}}\n",
       "\n",
       "// Listen for the clearing of the current output cell\n",
       "var outputEl = gd.closest('.output');\n",
       "if (outputEl) {{\n",
       "    x.observe(outputEl, {childList: true});\n",
       "}}\n",
       "\n",
       "                        })\n",
       "                };\n",
       "                });\n",
       "            </script>\n",
       "        </div>"
      ]
     },
     "metadata": {},
     "output_type": "display_data"
    },
    {
     "name": "stdout",
     "output_type": "stream",
     "text": [
      "Recommendation: choose option to 'show closest data point on hover' in top right corner\n"
     ]
    }
   ],
   "source": [
    "with warnings.catch_warnings(): # to catch warning about np.module in Python 3.8.2.\n",
    "    warnings.filterwarnings(\"ignore\",category=FutureWarning)\n",
    "    survey.iplot(\n",
    "        x='female_smokers',\n",
    "        y='total_deaths_per_million',\n",
    "        categories='continent',\n",
    "        text=\"location\",\n",
    "        vline= {\"x\":survey[\"female_smokers\"].mean(),\n",
    "                \"color\":\"#000000\",\n",
    "                \"dash\": \"dash\"\n",
    "               },\n",
    "        hline={\"y\":survey[\"total_deaths_per_million\"].mean(),\n",
    "               \"color\":\"#000000\",\n",
    "               \"dash\": \"dash\"\n",
    "              },\n",
    "        xTitle='Share of women who smoke',\n",
    "        yTitle='Total deaths per million',\n",
    "        title='Share of women who smoke vs. Total deaths per million <br> dashed lines: average of entire dataset'\n",
    "    )\n",
    "print(\"Recommendation: choose option to 'show closest data point on hover' in top right corner\")"
   ]
  },
  {
   "cell_type": "code",
   "execution_count": 22,
   "metadata": {},
   "outputs": [
    {
     "data": {
      "application/vnd.plotly.v1+json": {
       "config": {
        "linkText": "Export to plot.ly",
        "plotlyServerURL": "https://plot.ly",
        "showLink": true
       },
       "data": [
        {
         "marker": {
          "color": "rgba(255, 153, 51, 0.6)",
          "line": {
           "color": "rgba(255, 153, 51, 1.0)",
           "width": 1
          }
         },
         "name": "total_cases_per_million",
         "orientation": "v",
         "text": "",
         "type": "bar",
         "x": [
          "Turkey",
          "Ukraine",
          "Bulgaria",
          "Czech Republic",
          "Croatia",
          "Cyprus",
          "Poland",
          "Lebanon",
          "Finland",
          "Slovenia",
          "Greece",
          "Slovakia",
          "Hungary",
          "Japan",
          "Uruguay",
          "Cuba",
          "Papua New Guinea"
         ],
         "y": [
          3001,
          2204,
          2111,
          1942,
          1723,
          1581,
          1548,
          1515,
          1403,
          1199,
          737,
          553,
          517,
          462,
          429,
          307,
          40
         ]
        }
       ],
       "layout": {
        "barmode": "stack",
        "legend": {
         "bgcolor": "#F5F6F9",
         "font": {
          "color": "#4D5663"
         },
         "traceorder": "normal"
        },
        "paper_bgcolor": "#F5F6F9",
        "plot_bgcolor": "#F5F6F9",
        "template": {
         "data": {
          "bar": [
           {
            "error_x": {
             "color": "#2a3f5f"
            },
            "error_y": {
             "color": "#2a3f5f"
            },
            "marker": {
             "line": {
              "color": "#E5ECF6",
              "width": 0.5
             }
            },
            "type": "bar"
           }
          ],
          "barpolar": [
           {
            "marker": {
             "line": {
              "color": "#E5ECF6",
              "width": 0.5
             }
            },
            "type": "barpolar"
           }
          ],
          "carpet": [
           {
            "aaxis": {
             "endlinecolor": "#2a3f5f",
             "gridcolor": "white",
             "linecolor": "white",
             "minorgridcolor": "white",
             "startlinecolor": "#2a3f5f"
            },
            "baxis": {
             "endlinecolor": "#2a3f5f",
             "gridcolor": "white",
             "linecolor": "white",
             "minorgridcolor": "white",
             "startlinecolor": "#2a3f5f"
            },
            "type": "carpet"
           }
          ],
          "choropleth": [
           {
            "colorbar": {
             "outlinewidth": 0,
             "ticks": ""
            },
            "type": "choropleth"
           }
          ],
          "contour": [
           {
            "colorbar": {
             "outlinewidth": 0,
             "ticks": ""
            },
            "colorscale": [
             [
              0,
              "#0d0887"
             ],
             [
              0.1111111111111111,
              "#46039f"
             ],
             [
              0.2222222222222222,
              "#7201a8"
             ],
             [
              0.3333333333333333,
              "#9c179e"
             ],
             [
              0.4444444444444444,
              "#bd3786"
             ],
             [
              0.5555555555555556,
              "#d8576b"
             ],
             [
              0.6666666666666666,
              "#ed7953"
             ],
             [
              0.7777777777777778,
              "#fb9f3a"
             ],
             [
              0.8888888888888888,
              "#fdca26"
             ],
             [
              1,
              "#f0f921"
             ]
            ],
            "type": "contour"
           }
          ],
          "contourcarpet": [
           {
            "colorbar": {
             "outlinewidth": 0,
             "ticks": ""
            },
            "type": "contourcarpet"
           }
          ],
          "heatmap": [
           {
            "colorbar": {
             "outlinewidth": 0,
             "ticks": ""
            },
            "colorscale": [
             [
              0,
              "#0d0887"
             ],
             [
              0.1111111111111111,
              "#46039f"
             ],
             [
              0.2222222222222222,
              "#7201a8"
             ],
             [
              0.3333333333333333,
              "#9c179e"
             ],
             [
              0.4444444444444444,
              "#bd3786"
             ],
             [
              0.5555555555555556,
              "#d8576b"
             ],
             [
              0.6666666666666666,
              "#ed7953"
             ],
             [
              0.7777777777777778,
              "#fb9f3a"
             ],
             [
              0.8888888888888888,
              "#fdca26"
             ],
             [
              1,
              "#f0f921"
             ]
            ],
            "type": "heatmap"
           }
          ],
          "heatmapgl": [
           {
            "colorbar": {
             "outlinewidth": 0,
             "ticks": ""
            },
            "colorscale": [
             [
              0,
              "#0d0887"
             ],
             [
              0.1111111111111111,
              "#46039f"
             ],
             [
              0.2222222222222222,
              "#7201a8"
             ],
             [
              0.3333333333333333,
              "#9c179e"
             ],
             [
              0.4444444444444444,
              "#bd3786"
             ],
             [
              0.5555555555555556,
              "#d8576b"
             ],
             [
              0.6666666666666666,
              "#ed7953"
             ],
             [
              0.7777777777777778,
              "#fb9f3a"
             ],
             [
              0.8888888888888888,
              "#fdca26"
             ],
             [
              1,
              "#f0f921"
             ]
            ],
            "type": "heatmapgl"
           }
          ],
          "histogram": [
           {
            "marker": {
             "colorbar": {
              "outlinewidth": 0,
              "ticks": ""
             }
            },
            "type": "histogram"
           }
          ],
          "histogram2d": [
           {
            "colorbar": {
             "outlinewidth": 0,
             "ticks": ""
            },
            "colorscale": [
             [
              0,
              "#0d0887"
             ],
             [
              0.1111111111111111,
              "#46039f"
             ],
             [
              0.2222222222222222,
              "#7201a8"
             ],
             [
              0.3333333333333333,
              "#9c179e"
             ],
             [
              0.4444444444444444,
              "#bd3786"
             ],
             [
              0.5555555555555556,
              "#d8576b"
             ],
             [
              0.6666666666666666,
              "#ed7953"
             ],
             [
              0.7777777777777778,
              "#fb9f3a"
             ],
             [
              0.8888888888888888,
              "#fdca26"
             ],
             [
              1,
              "#f0f921"
             ]
            ],
            "type": "histogram2d"
           }
          ],
          "histogram2dcontour": [
           {
            "colorbar": {
             "outlinewidth": 0,
             "ticks": ""
            },
            "colorscale": [
             [
              0,
              "#0d0887"
             ],
             [
              0.1111111111111111,
              "#46039f"
             ],
             [
              0.2222222222222222,
              "#7201a8"
             ],
             [
              0.3333333333333333,
              "#9c179e"
             ],
             [
              0.4444444444444444,
              "#bd3786"
             ],
             [
              0.5555555555555556,
              "#d8576b"
             ],
             [
              0.6666666666666666,
              "#ed7953"
             ],
             [
              0.7777777777777778,
              "#fb9f3a"
             ],
             [
              0.8888888888888888,
              "#fdca26"
             ],
             [
              1,
              "#f0f921"
             ]
            ],
            "type": "histogram2dcontour"
           }
          ],
          "mesh3d": [
           {
            "colorbar": {
             "outlinewidth": 0,
             "ticks": ""
            },
            "type": "mesh3d"
           }
          ],
          "parcoords": [
           {
            "line": {
             "colorbar": {
              "outlinewidth": 0,
              "ticks": ""
             }
            },
            "type": "parcoords"
           }
          ],
          "pie": [
           {
            "automargin": true,
            "type": "pie"
           }
          ],
          "scatter": [
           {
            "marker": {
             "colorbar": {
              "outlinewidth": 0,
              "ticks": ""
             }
            },
            "type": "scatter"
           }
          ],
          "scatter3d": [
           {
            "line": {
             "colorbar": {
              "outlinewidth": 0,
              "ticks": ""
             }
            },
            "marker": {
             "colorbar": {
              "outlinewidth": 0,
              "ticks": ""
             }
            },
            "type": "scatter3d"
           }
          ],
          "scattercarpet": [
           {
            "marker": {
             "colorbar": {
              "outlinewidth": 0,
              "ticks": ""
             }
            },
            "type": "scattercarpet"
           }
          ],
          "scattergeo": [
           {
            "marker": {
             "colorbar": {
              "outlinewidth": 0,
              "ticks": ""
             }
            },
            "type": "scattergeo"
           }
          ],
          "scattergl": [
           {
            "marker": {
             "colorbar": {
              "outlinewidth": 0,
              "ticks": ""
             }
            },
            "type": "scattergl"
           }
          ],
          "scattermapbox": [
           {
            "marker": {
             "colorbar": {
              "outlinewidth": 0,
              "ticks": ""
             }
            },
            "type": "scattermapbox"
           }
          ],
          "scatterpolar": [
           {
            "marker": {
             "colorbar": {
              "outlinewidth": 0,
              "ticks": ""
             }
            },
            "type": "scatterpolar"
           }
          ],
          "scatterpolargl": [
           {
            "marker": {
             "colorbar": {
              "outlinewidth": 0,
              "ticks": ""
             }
            },
            "type": "scatterpolargl"
           }
          ],
          "scatterternary": [
           {
            "marker": {
             "colorbar": {
              "outlinewidth": 0,
              "ticks": ""
             }
            },
            "type": "scatterternary"
           }
          ],
          "surface": [
           {
            "colorbar": {
             "outlinewidth": 0,
             "ticks": ""
            },
            "colorscale": [
             [
              0,
              "#0d0887"
             ],
             [
              0.1111111111111111,
              "#46039f"
             ],
             [
              0.2222222222222222,
              "#7201a8"
             ],
             [
              0.3333333333333333,
              "#9c179e"
             ],
             [
              0.4444444444444444,
              "#bd3786"
             ],
             [
              0.5555555555555556,
              "#d8576b"
             ],
             [
              0.6666666666666666,
              "#ed7953"
             ],
             [
              0.7777777777777778,
              "#fb9f3a"
             ],
             [
              0.8888888888888888,
              "#fdca26"
             ],
             [
              1,
              "#f0f921"
             ]
            ],
            "type": "surface"
           }
          ],
          "table": [
           {
            "cells": {
             "fill": {
              "color": "#EBF0F8"
             },
             "line": {
              "color": "white"
             }
            },
            "header": {
             "fill": {
              "color": "#C8D4E3"
             },
             "line": {
              "color": "white"
             }
            },
            "type": "table"
           }
          ]
         },
         "layout": {
          "annotationdefaults": {
           "arrowcolor": "#2a3f5f",
           "arrowhead": 0,
           "arrowwidth": 1
          },
          "coloraxis": {
           "colorbar": {
            "outlinewidth": 0,
            "ticks": ""
           }
          },
          "colorscale": {
           "diverging": [
            [
             0,
             "#8e0152"
            ],
            [
             0.1,
             "#c51b7d"
            ],
            [
             0.2,
             "#de77ae"
            ],
            [
             0.3,
             "#f1b6da"
            ],
            [
             0.4,
             "#fde0ef"
            ],
            [
             0.5,
             "#f7f7f7"
            ],
            [
             0.6,
             "#e6f5d0"
            ],
            [
             0.7,
             "#b8e186"
            ],
            [
             0.8,
             "#7fbc41"
            ],
            [
             0.9,
             "#4d9221"
            ],
            [
             1,
             "#276419"
            ]
           ],
           "sequential": [
            [
             0,
             "#0d0887"
            ],
            [
             0.1111111111111111,
             "#46039f"
            ],
            [
             0.2222222222222222,
             "#7201a8"
            ],
            [
             0.3333333333333333,
             "#9c179e"
            ],
            [
             0.4444444444444444,
             "#bd3786"
            ],
            [
             0.5555555555555556,
             "#d8576b"
            ],
            [
             0.6666666666666666,
             "#ed7953"
            ],
            [
             0.7777777777777778,
             "#fb9f3a"
            ],
            [
             0.8888888888888888,
             "#fdca26"
            ],
            [
             1,
             "#f0f921"
            ]
           ],
           "sequentialminus": [
            [
             0,
             "#0d0887"
            ],
            [
             0.1111111111111111,
             "#46039f"
            ],
            [
             0.2222222222222222,
             "#7201a8"
            ],
            [
             0.3333333333333333,
             "#9c179e"
            ],
            [
             0.4444444444444444,
             "#bd3786"
            ],
            [
             0.5555555555555556,
             "#d8576b"
            ],
            [
             0.6666666666666666,
             "#ed7953"
            ],
            [
             0.7777777777777778,
             "#fb9f3a"
            ],
            [
             0.8888888888888888,
             "#fdca26"
            ],
            [
             1,
             "#f0f921"
            ]
           ]
          },
          "colorway": [
           "#636efa",
           "#EF553B",
           "#00cc96",
           "#ab63fa",
           "#FFA15A",
           "#19d3f3",
           "#FF6692",
           "#B6E880",
           "#FF97FF",
           "#FECB52"
          ],
          "font": {
           "color": "#2a3f5f"
          },
          "geo": {
           "bgcolor": "white",
           "lakecolor": "white",
           "landcolor": "#E5ECF6",
           "showlakes": true,
           "showland": true,
           "subunitcolor": "white"
          },
          "hoverlabel": {
           "align": "left"
          },
          "hovermode": "closest",
          "mapbox": {
           "style": "light"
          },
          "paper_bgcolor": "white",
          "plot_bgcolor": "#E5ECF6",
          "polar": {
           "angularaxis": {
            "gridcolor": "white",
            "linecolor": "white",
            "ticks": ""
           },
           "bgcolor": "#E5ECF6",
           "radialaxis": {
            "gridcolor": "white",
            "linecolor": "white",
            "ticks": ""
           }
          },
          "scene": {
           "xaxis": {
            "backgroundcolor": "#E5ECF6",
            "gridcolor": "white",
            "gridwidth": 2,
            "linecolor": "white",
            "showbackground": true,
            "ticks": "",
            "zerolinecolor": "white"
           },
           "yaxis": {
            "backgroundcolor": "#E5ECF6",
            "gridcolor": "white",
            "gridwidth": 2,
            "linecolor": "white",
            "showbackground": true,
            "ticks": "",
            "zerolinecolor": "white"
           },
           "zaxis": {
            "backgroundcolor": "#E5ECF6",
            "gridcolor": "white",
            "gridwidth": 2,
            "linecolor": "white",
            "showbackground": true,
            "ticks": "",
            "zerolinecolor": "white"
           }
          },
          "shapedefaults": {
           "line": {
            "color": "#2a3f5f"
           }
          },
          "ternary": {
           "aaxis": {
            "gridcolor": "white",
            "linecolor": "white",
            "ticks": ""
           },
           "baxis": {
            "gridcolor": "white",
            "linecolor": "white",
            "ticks": ""
           },
           "bgcolor": "#E5ECF6",
           "caxis": {
            "gridcolor": "white",
            "linecolor": "white",
            "ticks": ""
           }
          },
          "title": {
           "x": 0.05
          },
          "xaxis": {
           "automargin": true,
           "gridcolor": "white",
           "linecolor": "white",
           "ticks": "",
           "title": {
            "standoff": 15
           },
           "zerolinecolor": "white",
           "zerolinewidth": 2
          },
          "yaxis": {
           "automargin": true,
           "gridcolor": "white",
           "linecolor": "white",
           "ticks": "",
           "title": {
            "standoff": 15
           },
           "zerolinecolor": "white",
           "zerolinewidth": 2
          }
         }
        },
        "title": {
         "font": {
          "color": "#4D5663"
         },
         "text": "Countries with low covid deaths and high share of women who smoke with lack of testing data <br> or low testing level"
        },
        "xaxis": {
         "gridcolor": "#E1E5ED",
         "showgrid": true,
         "tickfont": {
          "color": "#4D5663"
         },
         "title": {
          "font": {
           "color": "#4D5663"
          },
          "text": ""
         },
         "zerolinecolor": "#E1E5ED"
        },
        "yaxis": {
         "gridcolor": "#E1E5ED",
         "showgrid": true,
         "tickfont": {
          "color": "#4D5663"
         },
         "title": {
          "font": {
           "color": "#4D5663"
          },
          "text": "total_cases_per_million"
         },
         "zerolinecolor": "#E1E5ED"
        }
       }
      },
      "text/html": [
       "<div>\n",
       "        \n",
       "        \n",
       "            <div id=\"49c17733-c8f0-4e27-84c4-27fbb195b1bd\" class=\"plotly-graph-div\" style=\"height:525px; width:100%;\"></div>\n",
       "            <script type=\"text/javascript\">\n",
       "                require([\"plotly\"], function(Plotly) {\n",
       "                    window.PLOTLYENV=window.PLOTLYENV || {};\n",
       "                    window.PLOTLYENV.BASE_URL='https://plot.ly';\n",
       "                    \n",
       "                if (document.getElementById(\"49c17733-c8f0-4e27-84c4-27fbb195b1bd\")) {\n",
       "                    Plotly.newPlot(\n",
       "                        '49c17733-c8f0-4e27-84c4-27fbb195b1bd',\n",
       "                        [{\"marker\": {\"color\": \"rgba(255, 153, 51, 0.6)\", \"line\": {\"color\": \"rgba(255, 153, 51, 1.0)\", \"width\": 1}}, \"name\": \"total_cases_per_million\", \"orientation\": \"v\", \"text\": \"\", \"type\": \"bar\", \"x\": [\"Turkey\", \"Ukraine\", \"Bulgaria\", \"Czech Republic\", \"Croatia\", \"Cyprus\", \"Poland\", \"Lebanon\", \"Finland\", \"Slovenia\", \"Greece\", \"Slovakia\", \"Hungary\", \"Japan\", \"Uruguay\", \"Cuba\", \"Papua New Guinea\"], \"y\": [3001, 2204, 2111, 1942, 1723, 1581, 1548, 1515, 1403, 1199, 737, 553, 517, 462, 429, 307, 40]}],\n",
       "                        {\"barmode\": \"stack\", \"legend\": {\"bgcolor\": \"#F5F6F9\", \"font\": {\"color\": \"#4D5663\"}, \"traceorder\": \"normal\"}, \"paper_bgcolor\": \"#F5F6F9\", \"plot_bgcolor\": \"#F5F6F9\", \"template\": {\"data\": {\"bar\": [{\"error_x\": {\"color\": \"#2a3f5f\"}, \"error_y\": {\"color\": \"#2a3f5f\"}, \"marker\": {\"line\": {\"color\": \"#E5ECF6\", \"width\": 0.5}}, \"type\": \"bar\"}], \"barpolar\": [{\"marker\": {\"line\": {\"color\": \"#E5ECF6\", \"width\": 0.5}}, \"type\": \"barpolar\"}], \"carpet\": [{\"aaxis\": {\"endlinecolor\": \"#2a3f5f\", \"gridcolor\": \"white\", \"linecolor\": \"white\", \"minorgridcolor\": \"white\", \"startlinecolor\": \"#2a3f5f\"}, \"baxis\": {\"endlinecolor\": \"#2a3f5f\", \"gridcolor\": \"white\", \"linecolor\": \"white\", \"minorgridcolor\": \"white\", \"startlinecolor\": \"#2a3f5f\"}, \"type\": \"carpet\"}], \"choropleth\": [{\"colorbar\": {\"outlinewidth\": 0, \"ticks\": \"\"}, \"type\": \"choropleth\"}], \"contour\": [{\"colorbar\": {\"outlinewidth\": 0, \"ticks\": \"\"}, \"colorscale\": [[0.0, \"#0d0887\"], [0.1111111111111111, \"#46039f\"], [0.2222222222222222, \"#7201a8\"], [0.3333333333333333, \"#9c179e\"], [0.4444444444444444, \"#bd3786\"], [0.5555555555555556, \"#d8576b\"], [0.6666666666666666, \"#ed7953\"], [0.7777777777777778, \"#fb9f3a\"], [0.8888888888888888, \"#fdca26\"], [1.0, \"#f0f921\"]], \"type\": \"contour\"}], \"contourcarpet\": [{\"colorbar\": {\"outlinewidth\": 0, \"ticks\": \"\"}, \"type\": \"contourcarpet\"}], \"heatmap\": [{\"colorbar\": {\"outlinewidth\": 0, \"ticks\": \"\"}, \"colorscale\": [[0.0, \"#0d0887\"], [0.1111111111111111, \"#46039f\"], [0.2222222222222222, \"#7201a8\"], [0.3333333333333333, \"#9c179e\"], [0.4444444444444444, \"#bd3786\"], [0.5555555555555556, \"#d8576b\"], [0.6666666666666666, \"#ed7953\"], [0.7777777777777778, \"#fb9f3a\"], [0.8888888888888888, \"#fdca26\"], [1.0, \"#f0f921\"]], \"type\": \"heatmap\"}], \"heatmapgl\": [{\"colorbar\": {\"outlinewidth\": 0, \"ticks\": \"\"}, \"colorscale\": [[0.0, \"#0d0887\"], [0.1111111111111111, \"#46039f\"], [0.2222222222222222, \"#7201a8\"], [0.3333333333333333, \"#9c179e\"], [0.4444444444444444, \"#bd3786\"], [0.5555555555555556, \"#d8576b\"], [0.6666666666666666, \"#ed7953\"], [0.7777777777777778, \"#fb9f3a\"], [0.8888888888888888, \"#fdca26\"], [1.0, \"#f0f921\"]], \"type\": \"heatmapgl\"}], \"histogram\": [{\"marker\": {\"colorbar\": {\"outlinewidth\": 0, \"ticks\": \"\"}}, \"type\": \"histogram\"}], \"histogram2d\": [{\"colorbar\": {\"outlinewidth\": 0, \"ticks\": \"\"}, \"colorscale\": [[0.0, \"#0d0887\"], [0.1111111111111111, \"#46039f\"], [0.2222222222222222, \"#7201a8\"], [0.3333333333333333, \"#9c179e\"], [0.4444444444444444, \"#bd3786\"], [0.5555555555555556, \"#d8576b\"], [0.6666666666666666, \"#ed7953\"], [0.7777777777777778, \"#fb9f3a\"], [0.8888888888888888, \"#fdca26\"], [1.0, \"#f0f921\"]], \"type\": \"histogram2d\"}], \"histogram2dcontour\": [{\"colorbar\": {\"outlinewidth\": 0, \"ticks\": \"\"}, \"colorscale\": [[0.0, \"#0d0887\"], [0.1111111111111111, \"#46039f\"], [0.2222222222222222, \"#7201a8\"], [0.3333333333333333, \"#9c179e\"], [0.4444444444444444, \"#bd3786\"], [0.5555555555555556, \"#d8576b\"], [0.6666666666666666, \"#ed7953\"], [0.7777777777777778, \"#fb9f3a\"], [0.8888888888888888, \"#fdca26\"], [1.0, \"#f0f921\"]], \"type\": \"histogram2dcontour\"}], \"mesh3d\": [{\"colorbar\": {\"outlinewidth\": 0, \"ticks\": \"\"}, \"type\": \"mesh3d\"}], \"parcoords\": [{\"line\": {\"colorbar\": {\"outlinewidth\": 0, \"ticks\": \"\"}}, \"type\": \"parcoords\"}], \"pie\": [{\"automargin\": true, \"type\": \"pie\"}], \"scatter\": [{\"marker\": {\"colorbar\": {\"outlinewidth\": 0, \"ticks\": \"\"}}, \"type\": \"scatter\"}], \"scatter3d\": [{\"line\": {\"colorbar\": {\"outlinewidth\": 0, \"ticks\": \"\"}}, \"marker\": {\"colorbar\": {\"outlinewidth\": 0, \"ticks\": \"\"}}, \"type\": \"scatter3d\"}], \"scattercarpet\": [{\"marker\": {\"colorbar\": {\"outlinewidth\": 0, \"ticks\": \"\"}}, \"type\": \"scattercarpet\"}], \"scattergeo\": [{\"marker\": {\"colorbar\": {\"outlinewidth\": 0, \"ticks\": \"\"}}, \"type\": \"scattergeo\"}], \"scattergl\": [{\"marker\": {\"colorbar\": {\"outlinewidth\": 0, \"ticks\": \"\"}}, \"type\": \"scattergl\"}], \"scattermapbox\": [{\"marker\": {\"colorbar\": {\"outlinewidth\": 0, \"ticks\": \"\"}}, \"type\": \"scattermapbox\"}], \"scatterpolar\": [{\"marker\": {\"colorbar\": {\"outlinewidth\": 0, \"ticks\": \"\"}}, \"type\": \"scatterpolar\"}], \"scatterpolargl\": [{\"marker\": {\"colorbar\": {\"outlinewidth\": 0, \"ticks\": \"\"}}, \"type\": \"scatterpolargl\"}], \"scatterternary\": [{\"marker\": {\"colorbar\": {\"outlinewidth\": 0, \"ticks\": \"\"}}, \"type\": \"scatterternary\"}], \"surface\": [{\"colorbar\": {\"outlinewidth\": 0, \"ticks\": \"\"}, \"colorscale\": [[0.0, \"#0d0887\"], [0.1111111111111111, \"#46039f\"], [0.2222222222222222, \"#7201a8\"], [0.3333333333333333, \"#9c179e\"], [0.4444444444444444, \"#bd3786\"], [0.5555555555555556, \"#d8576b\"], [0.6666666666666666, \"#ed7953\"], [0.7777777777777778, \"#fb9f3a\"], [0.8888888888888888, \"#fdca26\"], [1.0, \"#f0f921\"]], \"type\": \"surface\"}], \"table\": [{\"cells\": {\"fill\": {\"color\": \"#EBF0F8\"}, \"line\": {\"color\": \"white\"}}, \"header\": {\"fill\": {\"color\": \"#C8D4E3\"}, \"line\": {\"color\": \"white\"}}, \"type\": \"table\"}]}, \"layout\": {\"annotationdefaults\": {\"arrowcolor\": \"#2a3f5f\", \"arrowhead\": 0, \"arrowwidth\": 1}, \"coloraxis\": {\"colorbar\": {\"outlinewidth\": 0, \"ticks\": \"\"}}, \"colorscale\": {\"diverging\": [[0, \"#8e0152\"], [0.1, \"#c51b7d\"], [0.2, \"#de77ae\"], [0.3, \"#f1b6da\"], [0.4, \"#fde0ef\"], [0.5, \"#f7f7f7\"], [0.6, \"#e6f5d0\"], [0.7, \"#b8e186\"], [0.8, \"#7fbc41\"], [0.9, \"#4d9221\"], [1, \"#276419\"]], \"sequential\": [[0.0, \"#0d0887\"], [0.1111111111111111, \"#46039f\"], [0.2222222222222222, \"#7201a8\"], [0.3333333333333333, \"#9c179e\"], [0.4444444444444444, \"#bd3786\"], [0.5555555555555556, \"#d8576b\"], [0.6666666666666666, \"#ed7953\"], [0.7777777777777778, \"#fb9f3a\"], [0.8888888888888888, \"#fdca26\"], [1.0, \"#f0f921\"]], \"sequentialminus\": [[0.0, \"#0d0887\"], [0.1111111111111111, \"#46039f\"], [0.2222222222222222, \"#7201a8\"], [0.3333333333333333, \"#9c179e\"], [0.4444444444444444, \"#bd3786\"], [0.5555555555555556, \"#d8576b\"], [0.6666666666666666, \"#ed7953\"], [0.7777777777777778, \"#fb9f3a\"], [0.8888888888888888, \"#fdca26\"], [1.0, \"#f0f921\"]]}, \"colorway\": [\"#636efa\", \"#EF553B\", \"#00cc96\", \"#ab63fa\", \"#FFA15A\", \"#19d3f3\", \"#FF6692\", \"#B6E880\", \"#FF97FF\", \"#FECB52\"], \"font\": {\"color\": \"#2a3f5f\"}, \"geo\": {\"bgcolor\": \"white\", \"lakecolor\": \"white\", \"landcolor\": \"#E5ECF6\", \"showlakes\": true, \"showland\": true, \"subunitcolor\": \"white\"}, \"hoverlabel\": {\"align\": \"left\"}, \"hovermode\": \"closest\", \"mapbox\": {\"style\": \"light\"}, \"paper_bgcolor\": \"white\", \"plot_bgcolor\": \"#E5ECF6\", \"polar\": {\"angularaxis\": {\"gridcolor\": \"white\", \"linecolor\": \"white\", \"ticks\": \"\"}, \"bgcolor\": \"#E5ECF6\", \"radialaxis\": {\"gridcolor\": \"white\", \"linecolor\": \"white\", \"ticks\": \"\"}}, \"scene\": {\"xaxis\": {\"backgroundcolor\": \"#E5ECF6\", \"gridcolor\": \"white\", \"gridwidth\": 2, \"linecolor\": \"white\", \"showbackground\": true, \"ticks\": \"\", \"zerolinecolor\": \"white\"}, \"yaxis\": {\"backgroundcolor\": \"#E5ECF6\", \"gridcolor\": \"white\", \"gridwidth\": 2, \"linecolor\": \"white\", \"showbackground\": true, \"ticks\": \"\", \"zerolinecolor\": \"white\"}, \"zaxis\": {\"backgroundcolor\": \"#E5ECF6\", \"gridcolor\": \"white\", \"gridwidth\": 2, \"linecolor\": \"white\", \"showbackground\": true, \"ticks\": \"\", \"zerolinecolor\": \"white\"}}, \"shapedefaults\": {\"line\": {\"color\": \"#2a3f5f\"}}, \"ternary\": {\"aaxis\": {\"gridcolor\": \"white\", \"linecolor\": \"white\", \"ticks\": \"\"}, \"baxis\": {\"gridcolor\": \"white\", \"linecolor\": \"white\", \"ticks\": \"\"}, \"bgcolor\": \"#E5ECF6\", \"caxis\": {\"gridcolor\": \"white\", \"linecolor\": \"white\", \"ticks\": \"\"}}, \"title\": {\"x\": 0.05}, \"xaxis\": {\"automargin\": true, \"gridcolor\": \"white\", \"linecolor\": \"white\", \"ticks\": \"\", \"title\": {\"standoff\": 15}, \"zerolinecolor\": \"white\", \"zerolinewidth\": 2}, \"yaxis\": {\"automargin\": true, \"gridcolor\": \"white\", \"linecolor\": \"white\", \"ticks\": \"\", \"title\": {\"standoff\": 15}, \"zerolinecolor\": \"white\", \"zerolinewidth\": 2}}}, \"title\": {\"font\": {\"color\": \"#4D5663\"}, \"text\": \"Countries with low covid deaths and high share of women who smoke with lack of testing data <br> or low testing level\"}, \"xaxis\": {\"gridcolor\": \"#E1E5ED\", \"showgrid\": true, \"tickfont\": {\"color\": \"#4D5663\"}, \"title\": {\"font\": {\"color\": \"#4D5663\"}, \"text\": \"\"}, \"zerolinecolor\": \"#E1E5ED\"}, \"yaxis\": {\"gridcolor\": \"#E1E5ED\", \"showgrid\": true, \"tickfont\": {\"color\": \"#4D5663\"}, \"title\": {\"font\": {\"color\": \"#4D5663\"}, \"text\": \"total_cases_per_million\"}, \"zerolinecolor\": \"#E1E5ED\"}},\n",
       "                        {\"showLink\": true, \"linkText\": \"Export to plot.ly\", \"plotlyServerURL\": \"https://plot.ly\", \"responsive\": true}\n",
       "                    ).then(function(){\n",
       "                            \n",
       "var gd = document.getElementById('49c17733-c8f0-4e27-84c4-27fbb195b1bd');\n",
       "var x = new MutationObserver(function (mutations, observer) {{\n",
       "        var display = window.getComputedStyle(gd).display;\n",
       "        if (!display || display === 'none') {{\n",
       "            console.log([gd, 'removed!']);\n",
       "            Plotly.purge(gd);\n",
       "            observer.disconnect();\n",
       "        }}\n",
       "}});\n",
       "\n",
       "// Listen for the removal of the full notebook cells\n",
       "var notebookContainer = gd.closest('#notebook-container');\n",
       "if (notebookContainer) {{\n",
       "    x.observe(notebookContainer, {childList: true});\n",
       "}}\n",
       "\n",
       "// Listen for the clearing of the current output cell\n",
       "var outputEl = gd.closest('.output');\n",
       "if (outputEl) {{\n",
       "    x.observe(outputEl, {childList: true});\n",
       "}}\n",
       "\n",
       "                        })\n",
       "                };\n",
       "                });\n",
       "            </script>\n",
       "        </div>"
      ]
     },
     "metadata": {},
     "output_type": "display_data"
    }
   ],
   "source": [
    "filter3=(survey['total_deaths_per_million']<survey['total_deaths_per_million'].mean()) & (survey['female_smokers']>survey['female_smokers'].mean()) & ((survey['total_tests_per_thousand'].isnull()==True) | (survey['total_tests_per_thousand']<survey['total_tests_per_thousand'].mean()))\n",
    "female_smokers_low_deaths_nan_low_tests=survey.loc[filter3, ['location', 'total_cases_per_million']]\n",
    "female_smokers_low_deaths_nan_low_tests.set_index('location', inplace=True)\n",
    "female_smokers_low_deaths_nan_low_tests=female_smokers_low_deaths_nan_low_tests.sort_values(ascending=False, by='total_cases_per_million')\n",
    "# build stacked bar to covid confirmation level of female_smokers_low_deaths_nan_low_tests countries\n",
    "female_smokers_low_deaths_nan_low_tests.astype(int).iplot(kind=\"bar\", barmode=\"stack\", yTitle='total_cases_per_million',\n",
    "                            title='Countries with low covid deaths and high share of women who smoke with lack of testing data <br> or low testing level')"
   ]
  },
  {
   "cell_type": "code",
   "execution_count": 23,
   "metadata": {},
   "outputs": [
    {
     "data": {
      "application/vnd.plotly.v1+json": {
       "config": {
        "linkText": "Export to plot.ly",
        "plotlyServerURL": "https://plot.ly",
        "showLink": true
       },
       "data": [
        {
         "marker": {
          "color": "rgba(255, 153, 51, 0.6)",
          "line": {
           "color": "rgba(255, 153, 51, 1.0)",
           "width": 1
          }
         },
         "name": "total_cases_per_million",
         "orientation": "v",
         "text": "",
         "type": "bar",
         "x": [
          "Israel",
          "Belarus",
          "Iceland",
          "Malta",
          "Turkey",
          "Austria",
          "Ukraine",
          "Bulgaria",
          "Czech Republic",
          "Norway",
          "Croatia",
          "Estonia",
          "Cyprus",
          "Poland",
          "Lebanon",
          "Finland",
          "Slovenia",
          "Australia",
          "Lithuania",
          "Greece",
          "Latvia",
          "Slovakia",
          "Hungary",
          "Japan",
          "Uruguay",
          "Cuba",
          "New Zealand",
          "Papua New Guinea"
         ],
         "y": [
          11318,
          7386,
          5963,
          3100,
          3001,
          2698,
          2204,
          2111,
          1942,
          1865,
          1723,
          1663,
          1581,
          1548,
          1515,
          1403,
          1199,
          940,
          916,
          737,
          703,
          553,
          517,
          462,
          429,
          307,
          270,
          40
         ]
        }
       ],
       "layout": {
        "barmode": "stack",
        "legend": {
         "bgcolor": "#F5F6F9",
         "font": {
          "color": "#4D5663"
         },
         "traceorder": "normal"
        },
        "paper_bgcolor": "#F5F6F9",
        "plot_bgcolor": "#F5F6F9",
        "template": {
         "data": {
          "bar": [
           {
            "error_x": {
             "color": "#2a3f5f"
            },
            "error_y": {
             "color": "#2a3f5f"
            },
            "marker": {
             "line": {
              "color": "#E5ECF6",
              "width": 0.5
             }
            },
            "type": "bar"
           }
          ],
          "barpolar": [
           {
            "marker": {
             "line": {
              "color": "#E5ECF6",
              "width": 0.5
             }
            },
            "type": "barpolar"
           }
          ],
          "carpet": [
           {
            "aaxis": {
             "endlinecolor": "#2a3f5f",
             "gridcolor": "white",
             "linecolor": "white",
             "minorgridcolor": "white",
             "startlinecolor": "#2a3f5f"
            },
            "baxis": {
             "endlinecolor": "#2a3f5f",
             "gridcolor": "white",
             "linecolor": "white",
             "minorgridcolor": "white",
             "startlinecolor": "#2a3f5f"
            },
            "type": "carpet"
           }
          ],
          "choropleth": [
           {
            "colorbar": {
             "outlinewidth": 0,
             "ticks": ""
            },
            "type": "choropleth"
           }
          ],
          "contour": [
           {
            "colorbar": {
             "outlinewidth": 0,
             "ticks": ""
            },
            "colorscale": [
             [
              0,
              "#0d0887"
             ],
             [
              0.1111111111111111,
              "#46039f"
             ],
             [
              0.2222222222222222,
              "#7201a8"
             ],
             [
              0.3333333333333333,
              "#9c179e"
             ],
             [
              0.4444444444444444,
              "#bd3786"
             ],
             [
              0.5555555555555556,
              "#d8576b"
             ],
             [
              0.6666666666666666,
              "#ed7953"
             ],
             [
              0.7777777777777778,
              "#fb9f3a"
             ],
             [
              0.8888888888888888,
              "#fdca26"
             ],
             [
              1,
              "#f0f921"
             ]
            ],
            "type": "contour"
           }
          ],
          "contourcarpet": [
           {
            "colorbar": {
             "outlinewidth": 0,
             "ticks": ""
            },
            "type": "contourcarpet"
           }
          ],
          "heatmap": [
           {
            "colorbar": {
             "outlinewidth": 0,
             "ticks": ""
            },
            "colorscale": [
             [
              0,
              "#0d0887"
             ],
             [
              0.1111111111111111,
              "#46039f"
             ],
             [
              0.2222222222222222,
              "#7201a8"
             ],
             [
              0.3333333333333333,
              "#9c179e"
             ],
             [
              0.4444444444444444,
              "#bd3786"
             ],
             [
              0.5555555555555556,
              "#d8576b"
             ],
             [
              0.6666666666666666,
              "#ed7953"
             ],
             [
              0.7777777777777778,
              "#fb9f3a"
             ],
             [
              0.8888888888888888,
              "#fdca26"
             ],
             [
              1,
              "#f0f921"
             ]
            ],
            "type": "heatmap"
           }
          ],
          "heatmapgl": [
           {
            "colorbar": {
             "outlinewidth": 0,
             "ticks": ""
            },
            "colorscale": [
             [
              0,
              "#0d0887"
             ],
             [
              0.1111111111111111,
              "#46039f"
             ],
             [
              0.2222222222222222,
              "#7201a8"
             ],
             [
              0.3333333333333333,
              "#9c179e"
             ],
             [
              0.4444444444444444,
              "#bd3786"
             ],
             [
              0.5555555555555556,
              "#d8576b"
             ],
             [
              0.6666666666666666,
              "#ed7953"
             ],
             [
              0.7777777777777778,
              "#fb9f3a"
             ],
             [
              0.8888888888888888,
              "#fdca26"
             ],
             [
              1,
              "#f0f921"
             ]
            ],
            "type": "heatmapgl"
           }
          ],
          "histogram": [
           {
            "marker": {
             "colorbar": {
              "outlinewidth": 0,
              "ticks": ""
             }
            },
            "type": "histogram"
           }
          ],
          "histogram2d": [
           {
            "colorbar": {
             "outlinewidth": 0,
             "ticks": ""
            },
            "colorscale": [
             [
              0,
              "#0d0887"
             ],
             [
              0.1111111111111111,
              "#46039f"
             ],
             [
              0.2222222222222222,
              "#7201a8"
             ],
             [
              0.3333333333333333,
              "#9c179e"
             ],
             [
              0.4444444444444444,
              "#bd3786"
             ],
             [
              0.5555555555555556,
              "#d8576b"
             ],
             [
              0.6666666666666666,
              "#ed7953"
             ],
             [
              0.7777777777777778,
              "#fb9f3a"
             ],
             [
              0.8888888888888888,
              "#fdca26"
             ],
             [
              1,
              "#f0f921"
             ]
            ],
            "type": "histogram2d"
           }
          ],
          "histogram2dcontour": [
           {
            "colorbar": {
             "outlinewidth": 0,
             "ticks": ""
            },
            "colorscale": [
             [
              0,
              "#0d0887"
             ],
             [
              0.1111111111111111,
              "#46039f"
             ],
             [
              0.2222222222222222,
              "#7201a8"
             ],
             [
              0.3333333333333333,
              "#9c179e"
             ],
             [
              0.4444444444444444,
              "#bd3786"
             ],
             [
              0.5555555555555556,
              "#d8576b"
             ],
             [
              0.6666666666666666,
              "#ed7953"
             ],
             [
              0.7777777777777778,
              "#fb9f3a"
             ],
             [
              0.8888888888888888,
              "#fdca26"
             ],
             [
              1,
              "#f0f921"
             ]
            ],
            "type": "histogram2dcontour"
           }
          ],
          "mesh3d": [
           {
            "colorbar": {
             "outlinewidth": 0,
             "ticks": ""
            },
            "type": "mesh3d"
           }
          ],
          "parcoords": [
           {
            "line": {
             "colorbar": {
              "outlinewidth": 0,
              "ticks": ""
             }
            },
            "type": "parcoords"
           }
          ],
          "pie": [
           {
            "automargin": true,
            "type": "pie"
           }
          ],
          "scatter": [
           {
            "marker": {
             "colorbar": {
              "outlinewidth": 0,
              "ticks": ""
             }
            },
            "type": "scatter"
           }
          ],
          "scatter3d": [
           {
            "line": {
             "colorbar": {
              "outlinewidth": 0,
              "ticks": ""
             }
            },
            "marker": {
             "colorbar": {
              "outlinewidth": 0,
              "ticks": ""
             }
            },
            "type": "scatter3d"
           }
          ],
          "scattercarpet": [
           {
            "marker": {
             "colorbar": {
              "outlinewidth": 0,
              "ticks": ""
             }
            },
            "type": "scattercarpet"
           }
          ],
          "scattergeo": [
           {
            "marker": {
             "colorbar": {
              "outlinewidth": 0,
              "ticks": ""
             }
            },
            "type": "scattergeo"
           }
          ],
          "scattergl": [
           {
            "marker": {
             "colorbar": {
              "outlinewidth": 0,
              "ticks": ""
             }
            },
            "type": "scattergl"
           }
          ],
          "scattermapbox": [
           {
            "marker": {
             "colorbar": {
              "outlinewidth": 0,
              "ticks": ""
             }
            },
            "type": "scattermapbox"
           }
          ],
          "scatterpolar": [
           {
            "marker": {
             "colorbar": {
              "outlinewidth": 0,
              "ticks": ""
             }
            },
            "type": "scatterpolar"
           }
          ],
          "scatterpolargl": [
           {
            "marker": {
             "colorbar": {
              "outlinewidth": 0,
              "ticks": ""
             }
            },
            "type": "scatterpolargl"
           }
          ],
          "scatterternary": [
           {
            "marker": {
             "colorbar": {
              "outlinewidth": 0,
              "ticks": ""
             }
            },
            "type": "scatterternary"
           }
          ],
          "surface": [
           {
            "colorbar": {
             "outlinewidth": 0,
             "ticks": ""
            },
            "colorscale": [
             [
              0,
              "#0d0887"
             ],
             [
              0.1111111111111111,
              "#46039f"
             ],
             [
              0.2222222222222222,
              "#7201a8"
             ],
             [
              0.3333333333333333,
              "#9c179e"
             ],
             [
              0.4444444444444444,
              "#bd3786"
             ],
             [
              0.5555555555555556,
              "#d8576b"
             ],
             [
              0.6666666666666666,
              "#ed7953"
             ],
             [
              0.7777777777777778,
              "#fb9f3a"
             ],
             [
              0.8888888888888888,
              "#fdca26"
             ],
             [
              1,
              "#f0f921"
             ]
            ],
            "type": "surface"
           }
          ],
          "table": [
           {
            "cells": {
             "fill": {
              "color": "#EBF0F8"
             },
             "line": {
              "color": "white"
             }
            },
            "header": {
             "fill": {
              "color": "#C8D4E3"
             },
             "line": {
              "color": "white"
             }
            },
            "type": "table"
           }
          ]
         },
         "layout": {
          "annotationdefaults": {
           "arrowcolor": "#2a3f5f",
           "arrowhead": 0,
           "arrowwidth": 1
          },
          "coloraxis": {
           "colorbar": {
            "outlinewidth": 0,
            "ticks": ""
           }
          },
          "colorscale": {
           "diverging": [
            [
             0,
             "#8e0152"
            ],
            [
             0.1,
             "#c51b7d"
            ],
            [
             0.2,
             "#de77ae"
            ],
            [
             0.3,
             "#f1b6da"
            ],
            [
             0.4,
             "#fde0ef"
            ],
            [
             0.5,
             "#f7f7f7"
            ],
            [
             0.6,
             "#e6f5d0"
            ],
            [
             0.7,
             "#b8e186"
            ],
            [
             0.8,
             "#7fbc41"
            ],
            [
             0.9,
             "#4d9221"
            ],
            [
             1,
             "#276419"
            ]
           ],
           "sequential": [
            [
             0,
             "#0d0887"
            ],
            [
             0.1111111111111111,
             "#46039f"
            ],
            [
             0.2222222222222222,
             "#7201a8"
            ],
            [
             0.3333333333333333,
             "#9c179e"
            ],
            [
             0.4444444444444444,
             "#bd3786"
            ],
            [
             0.5555555555555556,
             "#d8576b"
            ],
            [
             0.6666666666666666,
             "#ed7953"
            ],
            [
             0.7777777777777778,
             "#fb9f3a"
            ],
            [
             0.8888888888888888,
             "#fdca26"
            ],
            [
             1,
             "#f0f921"
            ]
           ],
           "sequentialminus": [
            [
             0,
             "#0d0887"
            ],
            [
             0.1111111111111111,
             "#46039f"
            ],
            [
             0.2222222222222222,
             "#7201a8"
            ],
            [
             0.3333333333333333,
             "#9c179e"
            ],
            [
             0.4444444444444444,
             "#bd3786"
            ],
            [
             0.5555555555555556,
             "#d8576b"
            ],
            [
             0.6666666666666666,
             "#ed7953"
            ],
            [
             0.7777777777777778,
             "#fb9f3a"
            ],
            [
             0.8888888888888888,
             "#fdca26"
            ],
            [
             1,
             "#f0f921"
            ]
           ]
          },
          "colorway": [
           "#636efa",
           "#EF553B",
           "#00cc96",
           "#ab63fa",
           "#FFA15A",
           "#19d3f3",
           "#FF6692",
           "#B6E880",
           "#FF97FF",
           "#FECB52"
          ],
          "font": {
           "color": "#2a3f5f"
          },
          "geo": {
           "bgcolor": "white",
           "lakecolor": "white",
           "landcolor": "#E5ECF6",
           "showlakes": true,
           "showland": true,
           "subunitcolor": "white"
          },
          "hoverlabel": {
           "align": "left"
          },
          "hovermode": "closest",
          "mapbox": {
           "style": "light"
          },
          "paper_bgcolor": "white",
          "plot_bgcolor": "#E5ECF6",
          "polar": {
           "angularaxis": {
            "gridcolor": "white",
            "linecolor": "white",
            "ticks": ""
           },
           "bgcolor": "#E5ECF6",
           "radialaxis": {
            "gridcolor": "white",
            "linecolor": "white",
            "ticks": ""
           }
          },
          "scene": {
           "xaxis": {
            "backgroundcolor": "#E5ECF6",
            "gridcolor": "white",
            "gridwidth": 2,
            "linecolor": "white",
            "showbackground": true,
            "ticks": "",
            "zerolinecolor": "white"
           },
           "yaxis": {
            "backgroundcolor": "#E5ECF6",
            "gridcolor": "white",
            "gridwidth": 2,
            "linecolor": "white",
            "showbackground": true,
            "ticks": "",
            "zerolinecolor": "white"
           },
           "zaxis": {
            "backgroundcolor": "#E5ECF6",
            "gridcolor": "white",
            "gridwidth": 2,
            "linecolor": "white",
            "showbackground": true,
            "ticks": "",
            "zerolinecolor": "white"
           }
          },
          "shapedefaults": {
           "line": {
            "color": "#2a3f5f"
           }
          },
          "ternary": {
           "aaxis": {
            "gridcolor": "white",
            "linecolor": "white",
            "ticks": ""
           },
           "baxis": {
            "gridcolor": "white",
            "linecolor": "white",
            "ticks": ""
           },
           "bgcolor": "#E5ECF6",
           "caxis": {
            "gridcolor": "white",
            "linecolor": "white",
            "ticks": ""
           }
          },
          "title": {
           "x": 0.05
          },
          "xaxis": {
           "automargin": true,
           "gridcolor": "white",
           "linecolor": "white",
           "ticks": "",
           "title": {
            "standoff": 15
           },
           "zerolinecolor": "white",
           "zerolinewidth": 2
          },
          "yaxis": {
           "automargin": true,
           "gridcolor": "white",
           "linecolor": "white",
           "ticks": "",
           "title": {
            "standoff": 15
           },
           "zerolinecolor": "white",
           "zerolinewidth": 2
          }
         }
        },
        "title": {
         "font": {
          "color": "#4D5663"
         },
         "text": "All countries with low covid deaths and high share of women who smoke"
        },
        "xaxis": {
         "gridcolor": "#E1E5ED",
         "showgrid": true,
         "tickfont": {
          "color": "#4D5663"
         },
         "title": {
          "font": {
           "color": "#4D5663"
          },
          "text": ""
         },
         "zerolinecolor": "#E1E5ED"
        },
        "yaxis": {
         "gridcolor": "#E1E5ED",
         "showgrid": true,
         "tickfont": {
          "color": "#4D5663"
         },
         "title": {
          "font": {
           "color": "#4D5663"
          },
          "text": "total_cases_per_million"
         },
         "zerolinecolor": "#E1E5ED"
        }
       }
      },
      "text/html": [
       "<div>\n",
       "        \n",
       "        \n",
       "            <div id=\"af46a0bc-e53a-49e2-979c-19c41f8cbe09\" class=\"plotly-graph-div\" style=\"height:525px; width:100%;\"></div>\n",
       "            <script type=\"text/javascript\">\n",
       "                require([\"plotly\"], function(Plotly) {\n",
       "                    window.PLOTLYENV=window.PLOTLYENV || {};\n",
       "                    window.PLOTLYENV.BASE_URL='https://plot.ly';\n",
       "                    \n",
       "                if (document.getElementById(\"af46a0bc-e53a-49e2-979c-19c41f8cbe09\")) {\n",
       "                    Plotly.newPlot(\n",
       "                        'af46a0bc-e53a-49e2-979c-19c41f8cbe09',\n",
       "                        [{\"marker\": {\"color\": \"rgba(255, 153, 51, 0.6)\", \"line\": {\"color\": \"rgba(255, 153, 51, 1.0)\", \"width\": 1}}, \"name\": \"total_cases_per_million\", \"orientation\": \"v\", \"text\": \"\", \"type\": \"bar\", \"x\": [\"Israel\", \"Belarus\", \"Iceland\", \"Malta\", \"Turkey\", \"Austria\", \"Ukraine\", \"Bulgaria\", \"Czech Republic\", \"Norway\", \"Croatia\", \"Estonia\", \"Cyprus\", \"Poland\", \"Lebanon\", \"Finland\", \"Slovenia\", \"Australia\", \"Lithuania\", \"Greece\", \"Latvia\", \"Slovakia\", \"Hungary\", \"Japan\", \"Uruguay\", \"Cuba\", \"New Zealand\", \"Papua New Guinea\"], \"y\": [11318, 7386, 5963, 3100, 3001, 2698, 2204, 2111, 1942, 1865, 1723, 1663, 1581, 1548, 1515, 1403, 1199, 940, 916, 737, 703, 553, 517, 462, 429, 307, 270, 40]}],\n",
       "                        {\"barmode\": \"stack\", \"legend\": {\"bgcolor\": \"#F5F6F9\", \"font\": {\"color\": \"#4D5663\"}, \"traceorder\": \"normal\"}, \"paper_bgcolor\": \"#F5F6F9\", \"plot_bgcolor\": \"#F5F6F9\", \"template\": {\"data\": {\"bar\": [{\"error_x\": {\"color\": \"#2a3f5f\"}, \"error_y\": {\"color\": \"#2a3f5f\"}, \"marker\": {\"line\": {\"color\": \"#E5ECF6\", \"width\": 0.5}}, \"type\": \"bar\"}], \"barpolar\": [{\"marker\": {\"line\": {\"color\": \"#E5ECF6\", \"width\": 0.5}}, \"type\": \"barpolar\"}], \"carpet\": [{\"aaxis\": {\"endlinecolor\": \"#2a3f5f\", \"gridcolor\": \"white\", \"linecolor\": \"white\", \"minorgridcolor\": \"white\", \"startlinecolor\": \"#2a3f5f\"}, \"baxis\": {\"endlinecolor\": \"#2a3f5f\", \"gridcolor\": \"white\", \"linecolor\": \"white\", \"minorgridcolor\": \"white\", \"startlinecolor\": \"#2a3f5f\"}, \"type\": \"carpet\"}], \"choropleth\": [{\"colorbar\": {\"outlinewidth\": 0, \"ticks\": \"\"}, \"type\": \"choropleth\"}], \"contour\": [{\"colorbar\": {\"outlinewidth\": 0, \"ticks\": \"\"}, \"colorscale\": [[0.0, \"#0d0887\"], [0.1111111111111111, \"#46039f\"], [0.2222222222222222, \"#7201a8\"], [0.3333333333333333, \"#9c179e\"], [0.4444444444444444, \"#bd3786\"], [0.5555555555555556, \"#d8576b\"], [0.6666666666666666, \"#ed7953\"], [0.7777777777777778, \"#fb9f3a\"], [0.8888888888888888, \"#fdca26\"], [1.0, \"#f0f921\"]], \"type\": \"contour\"}], \"contourcarpet\": [{\"colorbar\": {\"outlinewidth\": 0, \"ticks\": \"\"}, \"type\": \"contourcarpet\"}], \"heatmap\": [{\"colorbar\": {\"outlinewidth\": 0, \"ticks\": \"\"}, \"colorscale\": [[0.0, \"#0d0887\"], [0.1111111111111111, \"#46039f\"], [0.2222222222222222, \"#7201a8\"], [0.3333333333333333, \"#9c179e\"], [0.4444444444444444, \"#bd3786\"], [0.5555555555555556, \"#d8576b\"], [0.6666666666666666, \"#ed7953\"], [0.7777777777777778, \"#fb9f3a\"], [0.8888888888888888, \"#fdca26\"], [1.0, \"#f0f921\"]], \"type\": \"heatmap\"}], \"heatmapgl\": [{\"colorbar\": {\"outlinewidth\": 0, \"ticks\": \"\"}, \"colorscale\": [[0.0, \"#0d0887\"], [0.1111111111111111, \"#46039f\"], [0.2222222222222222, \"#7201a8\"], [0.3333333333333333, \"#9c179e\"], [0.4444444444444444, \"#bd3786\"], [0.5555555555555556, \"#d8576b\"], [0.6666666666666666, \"#ed7953\"], [0.7777777777777778, \"#fb9f3a\"], [0.8888888888888888, \"#fdca26\"], [1.0, \"#f0f921\"]], \"type\": \"heatmapgl\"}], \"histogram\": [{\"marker\": {\"colorbar\": {\"outlinewidth\": 0, \"ticks\": \"\"}}, \"type\": \"histogram\"}], \"histogram2d\": [{\"colorbar\": {\"outlinewidth\": 0, \"ticks\": \"\"}, \"colorscale\": [[0.0, \"#0d0887\"], [0.1111111111111111, \"#46039f\"], [0.2222222222222222, \"#7201a8\"], [0.3333333333333333, \"#9c179e\"], [0.4444444444444444, \"#bd3786\"], [0.5555555555555556, \"#d8576b\"], [0.6666666666666666, \"#ed7953\"], [0.7777777777777778, \"#fb9f3a\"], [0.8888888888888888, \"#fdca26\"], [1.0, \"#f0f921\"]], \"type\": \"histogram2d\"}], \"histogram2dcontour\": [{\"colorbar\": {\"outlinewidth\": 0, \"ticks\": \"\"}, \"colorscale\": [[0.0, \"#0d0887\"], [0.1111111111111111, \"#46039f\"], [0.2222222222222222, \"#7201a8\"], [0.3333333333333333, \"#9c179e\"], [0.4444444444444444, \"#bd3786\"], [0.5555555555555556, \"#d8576b\"], [0.6666666666666666, \"#ed7953\"], [0.7777777777777778, \"#fb9f3a\"], [0.8888888888888888, \"#fdca26\"], [1.0, \"#f0f921\"]], \"type\": \"histogram2dcontour\"}], \"mesh3d\": [{\"colorbar\": {\"outlinewidth\": 0, \"ticks\": \"\"}, \"type\": \"mesh3d\"}], \"parcoords\": [{\"line\": {\"colorbar\": {\"outlinewidth\": 0, \"ticks\": \"\"}}, \"type\": \"parcoords\"}], \"pie\": [{\"automargin\": true, \"type\": \"pie\"}], \"scatter\": [{\"marker\": {\"colorbar\": {\"outlinewidth\": 0, \"ticks\": \"\"}}, \"type\": \"scatter\"}], \"scatter3d\": [{\"line\": {\"colorbar\": {\"outlinewidth\": 0, \"ticks\": \"\"}}, \"marker\": {\"colorbar\": {\"outlinewidth\": 0, \"ticks\": \"\"}}, \"type\": \"scatter3d\"}], \"scattercarpet\": [{\"marker\": {\"colorbar\": {\"outlinewidth\": 0, \"ticks\": \"\"}}, \"type\": \"scattercarpet\"}], \"scattergeo\": [{\"marker\": {\"colorbar\": {\"outlinewidth\": 0, \"ticks\": \"\"}}, \"type\": \"scattergeo\"}], \"scattergl\": [{\"marker\": {\"colorbar\": {\"outlinewidth\": 0, \"ticks\": \"\"}}, \"type\": \"scattergl\"}], \"scattermapbox\": [{\"marker\": {\"colorbar\": {\"outlinewidth\": 0, \"ticks\": \"\"}}, \"type\": \"scattermapbox\"}], \"scatterpolar\": [{\"marker\": {\"colorbar\": {\"outlinewidth\": 0, \"ticks\": \"\"}}, \"type\": \"scatterpolar\"}], \"scatterpolargl\": [{\"marker\": {\"colorbar\": {\"outlinewidth\": 0, \"ticks\": \"\"}}, \"type\": \"scatterpolargl\"}], \"scatterternary\": [{\"marker\": {\"colorbar\": {\"outlinewidth\": 0, \"ticks\": \"\"}}, \"type\": \"scatterternary\"}], \"surface\": [{\"colorbar\": {\"outlinewidth\": 0, \"ticks\": \"\"}, \"colorscale\": [[0.0, \"#0d0887\"], [0.1111111111111111, \"#46039f\"], [0.2222222222222222, \"#7201a8\"], [0.3333333333333333, \"#9c179e\"], [0.4444444444444444, \"#bd3786\"], [0.5555555555555556, \"#d8576b\"], [0.6666666666666666, \"#ed7953\"], [0.7777777777777778, \"#fb9f3a\"], [0.8888888888888888, \"#fdca26\"], [1.0, \"#f0f921\"]], \"type\": \"surface\"}], \"table\": [{\"cells\": {\"fill\": {\"color\": \"#EBF0F8\"}, \"line\": {\"color\": \"white\"}}, \"header\": {\"fill\": {\"color\": \"#C8D4E3\"}, \"line\": {\"color\": \"white\"}}, \"type\": \"table\"}]}, \"layout\": {\"annotationdefaults\": {\"arrowcolor\": \"#2a3f5f\", \"arrowhead\": 0, \"arrowwidth\": 1}, \"coloraxis\": {\"colorbar\": {\"outlinewidth\": 0, \"ticks\": \"\"}}, \"colorscale\": {\"diverging\": [[0, \"#8e0152\"], [0.1, \"#c51b7d\"], [0.2, \"#de77ae\"], [0.3, \"#f1b6da\"], [0.4, \"#fde0ef\"], [0.5, \"#f7f7f7\"], [0.6, \"#e6f5d0\"], [0.7, \"#b8e186\"], [0.8, \"#7fbc41\"], [0.9, \"#4d9221\"], [1, \"#276419\"]], \"sequential\": [[0.0, \"#0d0887\"], [0.1111111111111111, \"#46039f\"], [0.2222222222222222, \"#7201a8\"], [0.3333333333333333, \"#9c179e\"], [0.4444444444444444, \"#bd3786\"], [0.5555555555555556, \"#d8576b\"], [0.6666666666666666, \"#ed7953\"], [0.7777777777777778, \"#fb9f3a\"], [0.8888888888888888, \"#fdca26\"], [1.0, \"#f0f921\"]], \"sequentialminus\": [[0.0, \"#0d0887\"], [0.1111111111111111, \"#46039f\"], [0.2222222222222222, \"#7201a8\"], [0.3333333333333333, \"#9c179e\"], [0.4444444444444444, \"#bd3786\"], [0.5555555555555556, \"#d8576b\"], [0.6666666666666666, \"#ed7953\"], [0.7777777777777778, \"#fb9f3a\"], [0.8888888888888888, \"#fdca26\"], [1.0, \"#f0f921\"]]}, \"colorway\": [\"#636efa\", \"#EF553B\", \"#00cc96\", \"#ab63fa\", \"#FFA15A\", \"#19d3f3\", \"#FF6692\", \"#B6E880\", \"#FF97FF\", \"#FECB52\"], \"font\": {\"color\": \"#2a3f5f\"}, \"geo\": {\"bgcolor\": \"white\", \"lakecolor\": \"white\", \"landcolor\": \"#E5ECF6\", \"showlakes\": true, \"showland\": true, \"subunitcolor\": \"white\"}, \"hoverlabel\": {\"align\": \"left\"}, \"hovermode\": \"closest\", \"mapbox\": {\"style\": \"light\"}, \"paper_bgcolor\": \"white\", \"plot_bgcolor\": \"#E5ECF6\", \"polar\": {\"angularaxis\": {\"gridcolor\": \"white\", \"linecolor\": \"white\", \"ticks\": \"\"}, \"bgcolor\": \"#E5ECF6\", \"radialaxis\": {\"gridcolor\": \"white\", \"linecolor\": \"white\", \"ticks\": \"\"}}, \"scene\": {\"xaxis\": {\"backgroundcolor\": \"#E5ECF6\", \"gridcolor\": \"white\", \"gridwidth\": 2, \"linecolor\": \"white\", \"showbackground\": true, \"ticks\": \"\", \"zerolinecolor\": \"white\"}, \"yaxis\": {\"backgroundcolor\": \"#E5ECF6\", \"gridcolor\": \"white\", \"gridwidth\": 2, \"linecolor\": \"white\", \"showbackground\": true, \"ticks\": \"\", \"zerolinecolor\": \"white\"}, \"zaxis\": {\"backgroundcolor\": \"#E5ECF6\", \"gridcolor\": \"white\", \"gridwidth\": 2, \"linecolor\": \"white\", \"showbackground\": true, \"ticks\": \"\", \"zerolinecolor\": \"white\"}}, \"shapedefaults\": {\"line\": {\"color\": \"#2a3f5f\"}}, \"ternary\": {\"aaxis\": {\"gridcolor\": \"white\", \"linecolor\": \"white\", \"ticks\": \"\"}, \"baxis\": {\"gridcolor\": \"white\", \"linecolor\": \"white\", \"ticks\": \"\"}, \"bgcolor\": \"#E5ECF6\", \"caxis\": {\"gridcolor\": \"white\", \"linecolor\": \"white\", \"ticks\": \"\"}}, \"title\": {\"x\": 0.05}, \"xaxis\": {\"automargin\": true, \"gridcolor\": \"white\", \"linecolor\": \"white\", \"ticks\": \"\", \"title\": {\"standoff\": 15}, \"zerolinecolor\": \"white\", \"zerolinewidth\": 2}, \"yaxis\": {\"automargin\": true, \"gridcolor\": \"white\", \"linecolor\": \"white\", \"ticks\": \"\", \"title\": {\"standoff\": 15}, \"zerolinecolor\": \"white\", \"zerolinewidth\": 2}}}, \"title\": {\"font\": {\"color\": \"#4D5663\"}, \"text\": \"All countries with low covid deaths and high share of women who smoke\"}, \"xaxis\": {\"gridcolor\": \"#E1E5ED\", \"showgrid\": true, \"tickfont\": {\"color\": \"#4D5663\"}, \"title\": {\"font\": {\"color\": \"#4D5663\"}, \"text\": \"\"}, \"zerolinecolor\": \"#E1E5ED\"}, \"yaxis\": {\"gridcolor\": \"#E1E5ED\", \"showgrid\": true, \"tickfont\": {\"color\": \"#4D5663\"}, \"title\": {\"font\": {\"color\": \"#4D5663\"}, \"text\": \"total_cases_per_million\"}, \"zerolinecolor\": \"#E1E5ED\"}},\n",
       "                        {\"showLink\": true, \"linkText\": \"Export to plot.ly\", \"plotlyServerURL\": \"https://plot.ly\", \"responsive\": true}\n",
       "                    ).then(function(){\n",
       "                            \n",
       "var gd = document.getElementById('af46a0bc-e53a-49e2-979c-19c41f8cbe09');\n",
       "var x = new MutationObserver(function (mutations, observer) {{\n",
       "        var display = window.getComputedStyle(gd).display;\n",
       "        if (!display || display === 'none') {{\n",
       "            console.log([gd, 'removed!']);\n",
       "            Plotly.purge(gd);\n",
       "            observer.disconnect();\n",
       "        }}\n",
       "}});\n",
       "\n",
       "// Listen for the removal of the full notebook cells\n",
       "var notebookContainer = gd.closest('#notebook-container');\n",
       "if (notebookContainer) {{\n",
       "    x.observe(notebookContainer, {childList: true});\n",
       "}}\n",
       "\n",
       "// Listen for the clearing of the current output cell\n",
       "var outputEl = gd.closest('.output');\n",
       "if (outputEl) {{\n",
       "    x.observe(outputEl, {childList: true});\n",
       "}}\n",
       "\n",
       "                        })\n",
       "                };\n",
       "                });\n",
       "            </script>\n",
       "        </div>"
      ]
     },
     "metadata": {},
     "output_type": "display_data"
    }
   ],
   "source": [
    "filter4=(survey['total_deaths_per_million']<survey['total_deaths_per_million'].mean()) & (survey['female_smokers']>survey['female_smokers'].mean())\n",
    "female_smokers_low_deaths=survey.loc[filter4, ['location', 'total_cases_per_million']]\n",
    "female_smokers_low_deaths.set_index('location', inplace=True)\n",
    "female_smokers_low_deaths=female_smokers_low_deaths.sort_values(ascending=False, by='total_cases_per_million')\n",
    "# build stacked bar to covid confirmation level of rich_with_high_tests countries\n",
    "female_smokers_low_deaths.astype(int).iplot(kind=\"bar\", barmode=\"stack\", yTitle='total_cases_per_million',\n",
    "                            title='All countries with low covid deaths and high share of women who smoke')"
   ]
  },
  {
   "cell_type": "code",
   "execution_count": 24,
   "metadata": {},
   "outputs": [
    {
     "data": {
      "application/vnd.plotly.v1+json": {
       "config": {
        "linkText": "Export to plot.ly",
        "plotlyServerURL": "https://plot.ly",
        "showLink": true
       },
       "data": [
        {
         "marker": {
          "color": "rgba(255, 153, 51, 0.6)",
          "line": {
           "color": "rgba(255, 153, 51, 1.0)",
           "width": 1
          }
         },
         "name": "total_cases_per_million",
         "orientation": "v",
         "text": "",
         "type": "bar",
         "x": [
          "Israel",
          "Belarus",
          "Iceland"
         ],
         "y": [
          11318,
          7386,
          5963
         ]
        }
       ],
       "layout": {
        "barmode": "stack",
        "legend": {
         "bgcolor": "#F5F6F9",
         "font": {
          "color": "#4D5663"
         },
         "traceorder": "normal"
        },
        "paper_bgcolor": "#F5F6F9",
        "plot_bgcolor": "#F5F6F9",
        "template": {
         "data": {
          "bar": [
           {
            "error_x": {
             "color": "#2a3f5f"
            },
            "error_y": {
             "color": "#2a3f5f"
            },
            "marker": {
             "line": {
              "color": "#E5ECF6",
              "width": 0.5
             }
            },
            "type": "bar"
           }
          ],
          "barpolar": [
           {
            "marker": {
             "line": {
              "color": "#E5ECF6",
              "width": 0.5
             }
            },
            "type": "barpolar"
           }
          ],
          "carpet": [
           {
            "aaxis": {
             "endlinecolor": "#2a3f5f",
             "gridcolor": "white",
             "linecolor": "white",
             "minorgridcolor": "white",
             "startlinecolor": "#2a3f5f"
            },
            "baxis": {
             "endlinecolor": "#2a3f5f",
             "gridcolor": "white",
             "linecolor": "white",
             "minorgridcolor": "white",
             "startlinecolor": "#2a3f5f"
            },
            "type": "carpet"
           }
          ],
          "choropleth": [
           {
            "colorbar": {
             "outlinewidth": 0,
             "ticks": ""
            },
            "type": "choropleth"
           }
          ],
          "contour": [
           {
            "colorbar": {
             "outlinewidth": 0,
             "ticks": ""
            },
            "colorscale": [
             [
              0,
              "#0d0887"
             ],
             [
              0.1111111111111111,
              "#46039f"
             ],
             [
              0.2222222222222222,
              "#7201a8"
             ],
             [
              0.3333333333333333,
              "#9c179e"
             ],
             [
              0.4444444444444444,
              "#bd3786"
             ],
             [
              0.5555555555555556,
              "#d8576b"
             ],
             [
              0.6666666666666666,
              "#ed7953"
             ],
             [
              0.7777777777777778,
              "#fb9f3a"
             ],
             [
              0.8888888888888888,
              "#fdca26"
             ],
             [
              1,
              "#f0f921"
             ]
            ],
            "type": "contour"
           }
          ],
          "contourcarpet": [
           {
            "colorbar": {
             "outlinewidth": 0,
             "ticks": ""
            },
            "type": "contourcarpet"
           }
          ],
          "heatmap": [
           {
            "colorbar": {
             "outlinewidth": 0,
             "ticks": ""
            },
            "colorscale": [
             [
              0,
              "#0d0887"
             ],
             [
              0.1111111111111111,
              "#46039f"
             ],
             [
              0.2222222222222222,
              "#7201a8"
             ],
             [
              0.3333333333333333,
              "#9c179e"
             ],
             [
              0.4444444444444444,
              "#bd3786"
             ],
             [
              0.5555555555555556,
              "#d8576b"
             ],
             [
              0.6666666666666666,
              "#ed7953"
             ],
             [
              0.7777777777777778,
              "#fb9f3a"
             ],
             [
              0.8888888888888888,
              "#fdca26"
             ],
             [
              1,
              "#f0f921"
             ]
            ],
            "type": "heatmap"
           }
          ],
          "heatmapgl": [
           {
            "colorbar": {
             "outlinewidth": 0,
             "ticks": ""
            },
            "colorscale": [
             [
              0,
              "#0d0887"
             ],
             [
              0.1111111111111111,
              "#46039f"
             ],
             [
              0.2222222222222222,
              "#7201a8"
             ],
             [
              0.3333333333333333,
              "#9c179e"
             ],
             [
              0.4444444444444444,
              "#bd3786"
             ],
             [
              0.5555555555555556,
              "#d8576b"
             ],
             [
              0.6666666666666666,
              "#ed7953"
             ],
             [
              0.7777777777777778,
              "#fb9f3a"
             ],
             [
              0.8888888888888888,
              "#fdca26"
             ],
             [
              1,
              "#f0f921"
             ]
            ],
            "type": "heatmapgl"
           }
          ],
          "histogram": [
           {
            "marker": {
             "colorbar": {
              "outlinewidth": 0,
              "ticks": ""
             }
            },
            "type": "histogram"
           }
          ],
          "histogram2d": [
           {
            "colorbar": {
             "outlinewidth": 0,
             "ticks": ""
            },
            "colorscale": [
             [
              0,
              "#0d0887"
             ],
             [
              0.1111111111111111,
              "#46039f"
             ],
             [
              0.2222222222222222,
              "#7201a8"
             ],
             [
              0.3333333333333333,
              "#9c179e"
             ],
             [
              0.4444444444444444,
              "#bd3786"
             ],
             [
              0.5555555555555556,
              "#d8576b"
             ],
             [
              0.6666666666666666,
              "#ed7953"
             ],
             [
              0.7777777777777778,
              "#fb9f3a"
             ],
             [
              0.8888888888888888,
              "#fdca26"
             ],
             [
              1,
              "#f0f921"
             ]
            ],
            "type": "histogram2d"
           }
          ],
          "histogram2dcontour": [
           {
            "colorbar": {
             "outlinewidth": 0,
             "ticks": ""
            },
            "colorscale": [
             [
              0,
              "#0d0887"
             ],
             [
              0.1111111111111111,
              "#46039f"
             ],
             [
              0.2222222222222222,
              "#7201a8"
             ],
             [
              0.3333333333333333,
              "#9c179e"
             ],
             [
              0.4444444444444444,
              "#bd3786"
             ],
             [
              0.5555555555555556,
              "#d8576b"
             ],
             [
              0.6666666666666666,
              "#ed7953"
             ],
             [
              0.7777777777777778,
              "#fb9f3a"
             ],
             [
              0.8888888888888888,
              "#fdca26"
             ],
             [
              1,
              "#f0f921"
             ]
            ],
            "type": "histogram2dcontour"
           }
          ],
          "mesh3d": [
           {
            "colorbar": {
             "outlinewidth": 0,
             "ticks": ""
            },
            "type": "mesh3d"
           }
          ],
          "parcoords": [
           {
            "line": {
             "colorbar": {
              "outlinewidth": 0,
              "ticks": ""
             }
            },
            "type": "parcoords"
           }
          ],
          "pie": [
           {
            "automargin": true,
            "type": "pie"
           }
          ],
          "scatter": [
           {
            "marker": {
             "colorbar": {
              "outlinewidth": 0,
              "ticks": ""
             }
            },
            "type": "scatter"
           }
          ],
          "scatter3d": [
           {
            "line": {
             "colorbar": {
              "outlinewidth": 0,
              "ticks": ""
             }
            },
            "marker": {
             "colorbar": {
              "outlinewidth": 0,
              "ticks": ""
             }
            },
            "type": "scatter3d"
           }
          ],
          "scattercarpet": [
           {
            "marker": {
             "colorbar": {
              "outlinewidth": 0,
              "ticks": ""
             }
            },
            "type": "scattercarpet"
           }
          ],
          "scattergeo": [
           {
            "marker": {
             "colorbar": {
              "outlinewidth": 0,
              "ticks": ""
             }
            },
            "type": "scattergeo"
           }
          ],
          "scattergl": [
           {
            "marker": {
             "colorbar": {
              "outlinewidth": 0,
              "ticks": ""
             }
            },
            "type": "scattergl"
           }
          ],
          "scattermapbox": [
           {
            "marker": {
             "colorbar": {
              "outlinewidth": 0,
              "ticks": ""
             }
            },
            "type": "scattermapbox"
           }
          ],
          "scatterpolar": [
           {
            "marker": {
             "colorbar": {
              "outlinewidth": 0,
              "ticks": ""
             }
            },
            "type": "scatterpolar"
           }
          ],
          "scatterpolargl": [
           {
            "marker": {
             "colorbar": {
              "outlinewidth": 0,
              "ticks": ""
             }
            },
            "type": "scatterpolargl"
           }
          ],
          "scatterternary": [
           {
            "marker": {
             "colorbar": {
              "outlinewidth": 0,
              "ticks": ""
             }
            },
            "type": "scatterternary"
           }
          ],
          "surface": [
           {
            "colorbar": {
             "outlinewidth": 0,
             "ticks": ""
            },
            "colorscale": [
             [
              0,
              "#0d0887"
             ],
             [
              0.1111111111111111,
              "#46039f"
             ],
             [
              0.2222222222222222,
              "#7201a8"
             ],
             [
              0.3333333333333333,
              "#9c179e"
             ],
             [
              0.4444444444444444,
              "#bd3786"
             ],
             [
              0.5555555555555556,
              "#d8576b"
             ],
             [
              0.6666666666666666,
              "#ed7953"
             ],
             [
              0.7777777777777778,
              "#fb9f3a"
             ],
             [
              0.8888888888888888,
              "#fdca26"
             ],
             [
              1,
              "#f0f921"
             ]
            ],
            "type": "surface"
           }
          ],
          "table": [
           {
            "cells": {
             "fill": {
              "color": "#EBF0F8"
             },
             "line": {
              "color": "white"
             }
            },
            "header": {
             "fill": {
              "color": "#C8D4E3"
             },
             "line": {
              "color": "white"
             }
            },
            "type": "table"
           }
          ]
         },
         "layout": {
          "annotationdefaults": {
           "arrowcolor": "#2a3f5f",
           "arrowhead": 0,
           "arrowwidth": 1
          },
          "coloraxis": {
           "colorbar": {
            "outlinewidth": 0,
            "ticks": ""
           }
          },
          "colorscale": {
           "diverging": [
            [
             0,
             "#8e0152"
            ],
            [
             0.1,
             "#c51b7d"
            ],
            [
             0.2,
             "#de77ae"
            ],
            [
             0.3,
             "#f1b6da"
            ],
            [
             0.4,
             "#fde0ef"
            ],
            [
             0.5,
             "#f7f7f7"
            ],
            [
             0.6,
             "#e6f5d0"
            ],
            [
             0.7,
             "#b8e186"
            ],
            [
             0.8,
             "#7fbc41"
            ],
            [
             0.9,
             "#4d9221"
            ],
            [
             1,
             "#276419"
            ]
           ],
           "sequential": [
            [
             0,
             "#0d0887"
            ],
            [
             0.1111111111111111,
             "#46039f"
            ],
            [
             0.2222222222222222,
             "#7201a8"
            ],
            [
             0.3333333333333333,
             "#9c179e"
            ],
            [
             0.4444444444444444,
             "#bd3786"
            ],
            [
             0.5555555555555556,
             "#d8576b"
            ],
            [
             0.6666666666666666,
             "#ed7953"
            ],
            [
             0.7777777777777778,
             "#fb9f3a"
            ],
            [
             0.8888888888888888,
             "#fdca26"
            ],
            [
             1,
             "#f0f921"
            ]
           ],
           "sequentialminus": [
            [
             0,
             "#0d0887"
            ],
            [
             0.1111111111111111,
             "#46039f"
            ],
            [
             0.2222222222222222,
             "#7201a8"
            ],
            [
             0.3333333333333333,
             "#9c179e"
            ],
            [
             0.4444444444444444,
             "#bd3786"
            ],
            [
             0.5555555555555556,
             "#d8576b"
            ],
            [
             0.6666666666666666,
             "#ed7953"
            ],
            [
             0.7777777777777778,
             "#fb9f3a"
            ],
            [
             0.8888888888888888,
             "#fdca26"
            ],
            [
             1,
             "#f0f921"
            ]
           ]
          },
          "colorway": [
           "#636efa",
           "#EF553B",
           "#00cc96",
           "#ab63fa",
           "#FFA15A",
           "#19d3f3",
           "#FF6692",
           "#B6E880",
           "#FF97FF",
           "#FECB52"
          ],
          "font": {
           "color": "#2a3f5f"
          },
          "geo": {
           "bgcolor": "white",
           "lakecolor": "white",
           "landcolor": "#E5ECF6",
           "showlakes": true,
           "showland": true,
           "subunitcolor": "white"
          },
          "hoverlabel": {
           "align": "left"
          },
          "hovermode": "closest",
          "mapbox": {
           "style": "light"
          },
          "paper_bgcolor": "white",
          "plot_bgcolor": "#E5ECF6",
          "polar": {
           "angularaxis": {
            "gridcolor": "white",
            "linecolor": "white",
            "ticks": ""
           },
           "bgcolor": "#E5ECF6",
           "radialaxis": {
            "gridcolor": "white",
            "linecolor": "white",
            "ticks": ""
           }
          },
          "scene": {
           "xaxis": {
            "backgroundcolor": "#E5ECF6",
            "gridcolor": "white",
            "gridwidth": 2,
            "linecolor": "white",
            "showbackground": true,
            "ticks": "",
            "zerolinecolor": "white"
           },
           "yaxis": {
            "backgroundcolor": "#E5ECF6",
            "gridcolor": "white",
            "gridwidth": 2,
            "linecolor": "white",
            "showbackground": true,
            "ticks": "",
            "zerolinecolor": "white"
           },
           "zaxis": {
            "backgroundcolor": "#E5ECF6",
            "gridcolor": "white",
            "gridwidth": 2,
            "linecolor": "white",
            "showbackground": true,
            "ticks": "",
            "zerolinecolor": "white"
           }
          },
          "shapedefaults": {
           "line": {
            "color": "#2a3f5f"
           }
          },
          "ternary": {
           "aaxis": {
            "gridcolor": "white",
            "linecolor": "white",
            "ticks": ""
           },
           "baxis": {
            "gridcolor": "white",
            "linecolor": "white",
            "ticks": ""
           },
           "bgcolor": "#E5ECF6",
           "caxis": {
            "gridcolor": "white",
            "linecolor": "white",
            "ticks": ""
           }
          },
          "title": {
           "x": 0.05
          },
          "xaxis": {
           "automargin": true,
           "gridcolor": "white",
           "linecolor": "white",
           "ticks": "",
           "title": {
            "standoff": 15
           },
           "zerolinecolor": "white",
           "zerolinewidth": 2
          },
          "yaxis": {
           "automargin": true,
           "gridcolor": "white",
           "linecolor": "white",
           "ticks": "",
           "title": {
            "standoff": 15
           },
           "zerolinecolor": "white",
           "zerolinewidth": 2
          }
         }
        },
        "title": {
         "font": {
          "color": "#4D5663"
         },
         "text": "Countries with low covid deaths and high share of women who smoke with high covid testing <br> and confirmation level"
        },
        "xaxis": {
         "gridcolor": "#E1E5ED",
         "showgrid": true,
         "tickfont": {
          "color": "#4D5663"
         },
         "title": {
          "font": {
           "color": "#4D5663"
          },
          "text": ""
         },
         "zerolinecolor": "#E1E5ED"
        },
        "yaxis": {
         "gridcolor": "#E1E5ED",
         "showgrid": true,
         "tickfont": {
          "color": "#4D5663"
         },
         "title": {
          "font": {
           "color": "#4D5663"
          },
          "text": "total_cases_per_million"
         },
         "zerolinecolor": "#E1E5ED"
        }
       }
      },
      "text/html": [
       "<div>\n",
       "        \n",
       "        \n",
       "            <div id=\"1f7b0536-d266-4b80-ba11-32f10c1414c4\" class=\"plotly-graph-div\" style=\"height:525px; width:100%;\"></div>\n",
       "            <script type=\"text/javascript\">\n",
       "                require([\"plotly\"], function(Plotly) {\n",
       "                    window.PLOTLYENV=window.PLOTLYENV || {};\n",
       "                    window.PLOTLYENV.BASE_URL='https://plot.ly';\n",
       "                    \n",
       "                if (document.getElementById(\"1f7b0536-d266-4b80-ba11-32f10c1414c4\")) {\n",
       "                    Plotly.newPlot(\n",
       "                        '1f7b0536-d266-4b80-ba11-32f10c1414c4',\n",
       "                        [{\"marker\": {\"color\": \"rgba(255, 153, 51, 0.6)\", \"line\": {\"color\": \"rgba(255, 153, 51, 1.0)\", \"width\": 1}}, \"name\": \"total_cases_per_million\", \"orientation\": \"v\", \"text\": \"\", \"type\": \"bar\", \"x\": [\"Israel\", \"Belarus\", \"Iceland\"], \"y\": [11318, 7386, 5963]}],\n",
       "                        {\"barmode\": \"stack\", \"legend\": {\"bgcolor\": \"#F5F6F9\", \"font\": {\"color\": \"#4D5663\"}, \"traceorder\": \"normal\"}, \"paper_bgcolor\": \"#F5F6F9\", \"plot_bgcolor\": \"#F5F6F9\", \"template\": {\"data\": {\"bar\": [{\"error_x\": {\"color\": \"#2a3f5f\"}, \"error_y\": {\"color\": \"#2a3f5f\"}, \"marker\": {\"line\": {\"color\": \"#E5ECF6\", \"width\": 0.5}}, \"type\": \"bar\"}], \"barpolar\": [{\"marker\": {\"line\": {\"color\": \"#E5ECF6\", \"width\": 0.5}}, \"type\": \"barpolar\"}], \"carpet\": [{\"aaxis\": {\"endlinecolor\": \"#2a3f5f\", \"gridcolor\": \"white\", \"linecolor\": \"white\", \"minorgridcolor\": \"white\", \"startlinecolor\": \"#2a3f5f\"}, \"baxis\": {\"endlinecolor\": \"#2a3f5f\", \"gridcolor\": \"white\", \"linecolor\": \"white\", \"minorgridcolor\": \"white\", \"startlinecolor\": \"#2a3f5f\"}, \"type\": \"carpet\"}], \"choropleth\": [{\"colorbar\": {\"outlinewidth\": 0, \"ticks\": \"\"}, \"type\": \"choropleth\"}], \"contour\": [{\"colorbar\": {\"outlinewidth\": 0, \"ticks\": \"\"}, \"colorscale\": [[0.0, \"#0d0887\"], [0.1111111111111111, \"#46039f\"], [0.2222222222222222, \"#7201a8\"], [0.3333333333333333, \"#9c179e\"], [0.4444444444444444, \"#bd3786\"], [0.5555555555555556, \"#d8576b\"], [0.6666666666666666, \"#ed7953\"], [0.7777777777777778, \"#fb9f3a\"], [0.8888888888888888, \"#fdca26\"], [1.0, \"#f0f921\"]], \"type\": \"contour\"}], \"contourcarpet\": [{\"colorbar\": {\"outlinewidth\": 0, \"ticks\": \"\"}, \"type\": \"contourcarpet\"}], \"heatmap\": [{\"colorbar\": {\"outlinewidth\": 0, \"ticks\": \"\"}, \"colorscale\": [[0.0, \"#0d0887\"], [0.1111111111111111, \"#46039f\"], [0.2222222222222222, \"#7201a8\"], [0.3333333333333333, \"#9c179e\"], [0.4444444444444444, \"#bd3786\"], [0.5555555555555556, \"#d8576b\"], [0.6666666666666666, \"#ed7953\"], [0.7777777777777778, \"#fb9f3a\"], [0.8888888888888888, \"#fdca26\"], [1.0, \"#f0f921\"]], \"type\": \"heatmap\"}], \"heatmapgl\": [{\"colorbar\": {\"outlinewidth\": 0, \"ticks\": \"\"}, \"colorscale\": [[0.0, \"#0d0887\"], [0.1111111111111111, \"#46039f\"], [0.2222222222222222, \"#7201a8\"], [0.3333333333333333, \"#9c179e\"], [0.4444444444444444, \"#bd3786\"], [0.5555555555555556, \"#d8576b\"], [0.6666666666666666, \"#ed7953\"], [0.7777777777777778, \"#fb9f3a\"], [0.8888888888888888, \"#fdca26\"], [1.0, \"#f0f921\"]], \"type\": \"heatmapgl\"}], \"histogram\": [{\"marker\": {\"colorbar\": {\"outlinewidth\": 0, \"ticks\": \"\"}}, \"type\": \"histogram\"}], \"histogram2d\": [{\"colorbar\": {\"outlinewidth\": 0, \"ticks\": \"\"}, \"colorscale\": [[0.0, \"#0d0887\"], [0.1111111111111111, \"#46039f\"], [0.2222222222222222, \"#7201a8\"], [0.3333333333333333, \"#9c179e\"], [0.4444444444444444, \"#bd3786\"], [0.5555555555555556, \"#d8576b\"], [0.6666666666666666, \"#ed7953\"], [0.7777777777777778, \"#fb9f3a\"], [0.8888888888888888, \"#fdca26\"], [1.0, \"#f0f921\"]], \"type\": \"histogram2d\"}], \"histogram2dcontour\": [{\"colorbar\": {\"outlinewidth\": 0, \"ticks\": \"\"}, \"colorscale\": [[0.0, \"#0d0887\"], [0.1111111111111111, \"#46039f\"], [0.2222222222222222, \"#7201a8\"], [0.3333333333333333, \"#9c179e\"], [0.4444444444444444, \"#bd3786\"], [0.5555555555555556, \"#d8576b\"], [0.6666666666666666, \"#ed7953\"], [0.7777777777777778, \"#fb9f3a\"], [0.8888888888888888, \"#fdca26\"], [1.0, \"#f0f921\"]], \"type\": \"histogram2dcontour\"}], \"mesh3d\": [{\"colorbar\": {\"outlinewidth\": 0, \"ticks\": \"\"}, \"type\": \"mesh3d\"}], \"parcoords\": [{\"line\": {\"colorbar\": {\"outlinewidth\": 0, \"ticks\": \"\"}}, \"type\": \"parcoords\"}], \"pie\": [{\"automargin\": true, \"type\": \"pie\"}], \"scatter\": [{\"marker\": {\"colorbar\": {\"outlinewidth\": 0, \"ticks\": \"\"}}, \"type\": \"scatter\"}], \"scatter3d\": [{\"line\": {\"colorbar\": {\"outlinewidth\": 0, \"ticks\": \"\"}}, \"marker\": {\"colorbar\": {\"outlinewidth\": 0, \"ticks\": \"\"}}, \"type\": \"scatter3d\"}], \"scattercarpet\": [{\"marker\": {\"colorbar\": {\"outlinewidth\": 0, \"ticks\": \"\"}}, \"type\": \"scattercarpet\"}], \"scattergeo\": [{\"marker\": {\"colorbar\": {\"outlinewidth\": 0, \"ticks\": \"\"}}, \"type\": \"scattergeo\"}], \"scattergl\": [{\"marker\": {\"colorbar\": {\"outlinewidth\": 0, \"ticks\": \"\"}}, \"type\": \"scattergl\"}], \"scattermapbox\": [{\"marker\": {\"colorbar\": {\"outlinewidth\": 0, \"ticks\": \"\"}}, \"type\": \"scattermapbox\"}], \"scatterpolar\": [{\"marker\": {\"colorbar\": {\"outlinewidth\": 0, \"ticks\": \"\"}}, \"type\": \"scatterpolar\"}], \"scatterpolargl\": [{\"marker\": {\"colorbar\": {\"outlinewidth\": 0, \"ticks\": \"\"}}, \"type\": \"scatterpolargl\"}], \"scatterternary\": [{\"marker\": {\"colorbar\": {\"outlinewidth\": 0, \"ticks\": \"\"}}, \"type\": \"scatterternary\"}], \"surface\": [{\"colorbar\": {\"outlinewidth\": 0, \"ticks\": \"\"}, \"colorscale\": [[0.0, \"#0d0887\"], [0.1111111111111111, \"#46039f\"], [0.2222222222222222, \"#7201a8\"], [0.3333333333333333, \"#9c179e\"], [0.4444444444444444, \"#bd3786\"], [0.5555555555555556, \"#d8576b\"], [0.6666666666666666, \"#ed7953\"], [0.7777777777777778, \"#fb9f3a\"], [0.8888888888888888, \"#fdca26\"], [1.0, \"#f0f921\"]], \"type\": \"surface\"}], \"table\": [{\"cells\": {\"fill\": {\"color\": \"#EBF0F8\"}, \"line\": {\"color\": \"white\"}}, \"header\": {\"fill\": {\"color\": \"#C8D4E3\"}, \"line\": {\"color\": \"white\"}}, \"type\": \"table\"}]}, \"layout\": {\"annotationdefaults\": {\"arrowcolor\": \"#2a3f5f\", \"arrowhead\": 0, \"arrowwidth\": 1}, \"coloraxis\": {\"colorbar\": {\"outlinewidth\": 0, \"ticks\": \"\"}}, \"colorscale\": {\"diverging\": [[0, \"#8e0152\"], [0.1, \"#c51b7d\"], [0.2, \"#de77ae\"], [0.3, \"#f1b6da\"], [0.4, \"#fde0ef\"], [0.5, \"#f7f7f7\"], [0.6, \"#e6f5d0\"], [0.7, \"#b8e186\"], [0.8, \"#7fbc41\"], [0.9, \"#4d9221\"], [1, \"#276419\"]], \"sequential\": [[0.0, \"#0d0887\"], [0.1111111111111111, \"#46039f\"], [0.2222222222222222, \"#7201a8\"], [0.3333333333333333, \"#9c179e\"], [0.4444444444444444, \"#bd3786\"], [0.5555555555555556, \"#d8576b\"], [0.6666666666666666, \"#ed7953\"], [0.7777777777777778, \"#fb9f3a\"], [0.8888888888888888, \"#fdca26\"], [1.0, \"#f0f921\"]], \"sequentialminus\": [[0.0, \"#0d0887\"], [0.1111111111111111, \"#46039f\"], [0.2222222222222222, \"#7201a8\"], [0.3333333333333333, \"#9c179e\"], [0.4444444444444444, \"#bd3786\"], [0.5555555555555556, \"#d8576b\"], [0.6666666666666666, \"#ed7953\"], [0.7777777777777778, \"#fb9f3a\"], [0.8888888888888888, \"#fdca26\"], [1.0, \"#f0f921\"]]}, \"colorway\": [\"#636efa\", \"#EF553B\", \"#00cc96\", \"#ab63fa\", \"#FFA15A\", \"#19d3f3\", \"#FF6692\", \"#B6E880\", \"#FF97FF\", \"#FECB52\"], \"font\": {\"color\": \"#2a3f5f\"}, \"geo\": {\"bgcolor\": \"white\", \"lakecolor\": \"white\", \"landcolor\": \"#E5ECF6\", \"showlakes\": true, \"showland\": true, \"subunitcolor\": \"white\"}, \"hoverlabel\": {\"align\": \"left\"}, \"hovermode\": \"closest\", \"mapbox\": {\"style\": \"light\"}, \"paper_bgcolor\": \"white\", \"plot_bgcolor\": \"#E5ECF6\", \"polar\": {\"angularaxis\": {\"gridcolor\": \"white\", \"linecolor\": \"white\", \"ticks\": \"\"}, \"bgcolor\": \"#E5ECF6\", \"radialaxis\": {\"gridcolor\": \"white\", \"linecolor\": \"white\", \"ticks\": \"\"}}, \"scene\": {\"xaxis\": {\"backgroundcolor\": \"#E5ECF6\", \"gridcolor\": \"white\", \"gridwidth\": 2, \"linecolor\": \"white\", \"showbackground\": true, \"ticks\": \"\", \"zerolinecolor\": \"white\"}, \"yaxis\": {\"backgroundcolor\": \"#E5ECF6\", \"gridcolor\": \"white\", \"gridwidth\": 2, \"linecolor\": \"white\", \"showbackground\": true, \"ticks\": \"\", \"zerolinecolor\": \"white\"}, \"zaxis\": {\"backgroundcolor\": \"#E5ECF6\", \"gridcolor\": \"white\", \"gridwidth\": 2, \"linecolor\": \"white\", \"showbackground\": true, \"ticks\": \"\", \"zerolinecolor\": \"white\"}}, \"shapedefaults\": {\"line\": {\"color\": \"#2a3f5f\"}}, \"ternary\": {\"aaxis\": {\"gridcolor\": \"white\", \"linecolor\": \"white\", \"ticks\": \"\"}, \"baxis\": {\"gridcolor\": \"white\", \"linecolor\": \"white\", \"ticks\": \"\"}, \"bgcolor\": \"#E5ECF6\", \"caxis\": {\"gridcolor\": \"white\", \"linecolor\": \"white\", \"ticks\": \"\"}}, \"title\": {\"x\": 0.05}, \"xaxis\": {\"automargin\": true, \"gridcolor\": \"white\", \"linecolor\": \"white\", \"ticks\": \"\", \"title\": {\"standoff\": 15}, \"zerolinecolor\": \"white\", \"zerolinewidth\": 2}, \"yaxis\": {\"automargin\": true, \"gridcolor\": \"white\", \"linecolor\": \"white\", \"ticks\": \"\", \"title\": {\"standoff\": 15}, \"zerolinecolor\": \"white\", \"zerolinewidth\": 2}}}, \"title\": {\"font\": {\"color\": \"#4D5663\"}, \"text\": \"Countries with low covid deaths and high share of women who smoke with high covid testing <br> and confirmation level\"}, \"xaxis\": {\"gridcolor\": \"#E1E5ED\", \"showgrid\": true, \"tickfont\": {\"color\": \"#4D5663\"}, \"title\": {\"font\": {\"color\": \"#4D5663\"}, \"text\": \"\"}, \"zerolinecolor\": \"#E1E5ED\"}, \"yaxis\": {\"gridcolor\": \"#E1E5ED\", \"showgrid\": true, \"tickfont\": {\"color\": \"#4D5663\"}, \"title\": {\"font\": {\"color\": \"#4D5663\"}, \"text\": \"total_cases_per_million\"}, \"zerolinecolor\": \"#E1E5ED\"}},\n",
       "                        {\"showLink\": true, \"linkText\": \"Export to plot.ly\", \"plotlyServerURL\": \"https://plot.ly\", \"responsive\": true}\n",
       "                    ).then(function(){\n",
       "                            \n",
       "var gd = document.getElementById('1f7b0536-d266-4b80-ba11-32f10c1414c4');\n",
       "var x = new MutationObserver(function (mutations, observer) {{\n",
       "        var display = window.getComputedStyle(gd).display;\n",
       "        if (!display || display === 'none') {{\n",
       "            console.log([gd, 'removed!']);\n",
       "            Plotly.purge(gd);\n",
       "            observer.disconnect();\n",
       "        }}\n",
       "}});\n",
       "\n",
       "// Listen for the removal of the full notebook cells\n",
       "var notebookContainer = gd.closest('#notebook-container');\n",
       "if (notebookContainer) {{\n",
       "    x.observe(notebookContainer, {childList: true});\n",
       "}}\n",
       "\n",
       "// Listen for the clearing of the current output cell\n",
       "var outputEl = gd.closest('.output');\n",
       "if (outputEl) {{\n",
       "    x.observe(outputEl, {childList: true});\n",
       "}}\n",
       "\n",
       "                        })\n",
       "                };\n",
       "                });\n",
       "            </script>\n",
       "        </div>"
      ]
     },
     "metadata": {},
     "output_type": "display_data"
    }
   ],
   "source": [
    "filter5=(survey['total_deaths_per_million']<survey['total_deaths_per_million'].mean()) & (survey['female_smokers']>survey['female_smokers'].mean()) & (survey['total_tests_per_thousand']>survey['total_tests_per_thousand'].mean()) & (survey['total_cases_per_million']>survey['total_cases_per_million'].mean())\n",
    "female_smokers_low_deaths_high_tests_cases=survey.loc[filter5, ['location', 'total_cases_per_million']]\n",
    "female_smokers_low_deaths_high_tests_cases.set_index('location', inplace=True)\n",
    "female_smokers_low_deaths_high_tests_cases=female_smokers_low_deaths_high_tests_cases.sort_values(ascending=False, by='total_cases_per_million')\n",
    "# build stacked bar to covid confirmation level of female_smokers_low_deaths_nan_low_tests countries\n",
    "female_smokers_low_deaths_high_tests_cases.astype(int).iplot(kind=\"bar\", barmode=\"stack\", yTitle='total_cases_per_million',\n",
    "                            title='Countries with low covid deaths and high share of women who smoke with high covid testing <br> and confirmation level')"
   ]
  },
  {
   "cell_type": "markdown",
   "metadata": {},
   "source": [
    "- We can notice that 65% of all countries with low covid deaths and high share of women who smoke have missing or low covid testing level that can caused low deaths level attributed to COVID-19.\n",
    "- Based on European countries with high testing level we can say that high share of female smoking may rekated with increaseing deaths attributed to COVID-19 but there is no enough testings to get accurate stats.\n",
    "- We can find out that countries with low covid deaths and high share of women who smoke which have high covid testing and confirmation level are the same who haa also high share of old population - it may be useful to find out about their covid prevention policy."
   ]
  },
  {
   "cell_type": "markdown",
   "metadata": {},
   "source": [
    "# Plotting survey correlations: cardiovascular disease do not contribute to covid deaths level."
   ]
  },
  {
   "cell_type": "code",
   "execution_count": 26,
   "metadata": {},
   "outputs": [
    {
     "data": {
      "application/vnd.plotly.v1+json": {
       "config": {
        "linkText": "Export to plot.ly",
        "plotlyServerURL": "https://plot.ly",
        "showLink": true
       },
       "data": [
        {
         "marker": {
          "color": "rgba(255, 153, 51, 1.0)",
          "line": {
           "width": 1.3
          },
          "opacity": 0.8,
          "size": 12,
          "symbol": "circle"
         },
         "mode": "markers",
         "name": "North America",
         "text": [
          "Aruba",
          "Anguilla",
          "Antigua and Barbuda",
          "Bonaire Sint Eustatius and Saba",
          "Bahamas",
          "Belize",
          "Bermuda",
          "Barbados",
          "Canada",
          "Costa Rica",
          "Cuba",
          "Curacao",
          "Cayman Islands",
          "Dominica",
          "Dominican Republic",
          "Grenada",
          "Greenland",
          "Guatemala",
          "Honduras",
          "Haiti",
          "Jamaica",
          "Saint Kitts and Nevis",
          "Saint Lucia",
          "Mexico",
          "Montserrat",
          "Nicaragua",
          "Panama",
          "Puerto Rico",
          "El Salvador",
          "Sint Maarten (Dutch part)",
          "Turks and Caicos Islands",
          "Trinidad and Tobago",
          "Saint Vincent and the Grenadines",
          "British Virgin Islands",
          "United States Virgin Islands"
         ],
         "textfont": {
          "color": "#4D5663"
         },
         "type": "scatter",
         "x": [
          null,
          null,
          191.511,
          null,
          235.954,
          176.957,
          139.547,
          170.05,
          105.59899999999999,
          137.97299999999998,
          190.968,
          null,
          null,
          227.37599999999998,
          266.653,
          243.96400000000003,
          199.94099999999997,
          155.898,
          240.208,
          430.548,
          206.537,
          null,
          204.62,
          152.783,
          null,
          137.016,
          128.346,
          108.094,
          167.295,
          null,
          null,
          228.467,
          252.675,
          null,
          273.67
         ],
         "y": [
          46.831,
          0,
          30.635,
          0,
          55.943999999999996,
          12.575,
          144.525,
          24.359,
          239.75799999999998,
          63.013999999999996,
          7.769,
          6.093999999999999,
          15.216,
          0,
          138.368,
          0,
          0,
          137.701,
          162.349,
          17.189,
          4.728,
          0,
          0,
          453.57800000000003,
          200.04,
          20.077,
          423.42900000000003,
          124.439,
          98.671,
          396.43699999999995,
          51.656000000000006,
          8.575,
          0,
          33.071999999999996,
          86.18799999999999
         ]
        },
        {
         "marker": {
          "color": "rgba(55, 128, 191, 1.0)",
          "line": {
           "width": 1.3
          },
          "opacity": 0.8,
          "size": 12,
          "symbol": "circle"
         },
         "mode": "markers",
         "name": "Asia",
         "text": [
          "Afghanistan",
          "United Arab Emirates",
          "Armenia",
          "Azerbaijan",
          "Bangladesh",
          "Bahrain",
          "Brunei",
          "Bhutan",
          "China",
          "Georgia",
          "Indonesia",
          "India",
          "Iran",
          "Iraq",
          "Israel",
          "Jordan",
          "Japan",
          "Kazakhstan",
          "Kyrgyzstan",
          "Cambodia",
          "South Korea",
          "Kuwait",
          "Laos",
          "Lebanon",
          "Sri Lanka",
          "Maldives",
          "Myanmar",
          "Mongolia",
          "Malaysia",
          "Nepal",
          "Oman",
          "Pakistan",
          "Philippines",
          "Palestine",
          "Qatar",
          "Saudi Arabia",
          "Singapore",
          "Syria",
          "Thailand",
          "Tajikistan",
          "Timor",
          "Turkey",
          "Taiwan",
          "Uzbekistan",
          "Vietnam",
          "Yemen"
         ],
         "textfont": {
          "color": "#4D5663"
         },
         "type": "scatter",
         "x": [
          597.029,
          317.84,
          341.01,
          559.812,
          298.003,
          151.689,
          201.285,
          217.06599999999997,
          261.899,
          496.218,
          342.86400000000003,
          282.28,
          270.308,
          218.612,
          93.32,
          208.257,
          79.37,
          466.792,
          436.36199999999997,
          270.892,
          85.99799999999999,
          132.235,
          368.111,
          266.591,
          197.093,
          164.905,
          202.104,
          460.043,
          260.942,
          260.797,
          266.342,
          423.031,
          370.43699999999995,
          265.91,
          176.69,
          259.538,
          92.243,
          376.264,
          109.861,
          427.69800000000004,
          335.346,
          171.285,
          103.95700000000001,
          724.4169999999999,
          245.465,
          495.00300000000004
         ],
         "y": [
          35.527,
          37.107,
          281.112,
          50.3,
          22.958000000000002,
          102.845,
          6.857,
          0,
          3.27,
          4.262,
          23.201,
          39.033,
          237.782,
          152.178,
          90,
          1.078,
          9.045,
          87.98100000000001,
          229.607,
          0,
          5.9879999999999995,
          118.72,
          0,
          15.97,
          0.514,
          44.4,
          0.11,
          0,
          3.862,
          4.119,
          118.08200000000001,
          28.109,
          25.506,
          24.895,
          66.98899999999999,
          100.70700000000001,
          4.615,
          4.457,
          0.831,
          6.815,
          0,
          71.604,
          0.294,
          7.47,
          0.257,
          18.072
         ]
        },
        {
         "marker": {
          "color": "rgba(50, 171, 96, 1.0)",
          "line": {
           "width": 1.3
          },
          "opacity": 0.8,
          "size": 12,
          "symbol": "circle"
         },
         "mode": "markers",
         "name": "Africa",
         "text": [
          "Angola",
          "Burundi",
          "Benin",
          "Burkina Faso",
          "Botswana",
          "Central African Republic",
          "Cote d'Ivoire",
          "Cameroon",
          "Democratic Republic of Congo",
          "Congo",
          "Comoros",
          "Cape Verde",
          "Djibouti",
          "Algeria",
          "Egypt",
          "Eritrea",
          "Western Sahara",
          "Ethiopia",
          "Gabon",
          "Ghana",
          "Guinea",
          "Gambia",
          "Guinea-Bissau",
          "Equatorial Guinea",
          "Kenya",
          "Liberia",
          "Libya",
          "Lesotho",
          "Morocco",
          "Madagascar",
          "Mali",
          "Mozambique",
          "Mauritania",
          "Mauritius",
          "Malawi",
          "Namibia",
          "Niger",
          "Nigeria",
          "Rwanda",
          "Sudan",
          "Senegal",
          "Sierra Leone",
          "Somalia",
          "South Sudan",
          "Sao Tome and Principe",
          "Swaziland",
          "Seychelles",
          "Chad",
          "Togo",
          "Tunisia",
          "Tanzania",
          "Uganda",
          "South Africa",
          "Zambia",
          "Zimbabwe"
         ],
         "textfont": {
          "color": "#4D5663"
         },
         "type": "scatter",
         "x": [
          276.045,
          293.068,
          235.84799999999998,
          269.048,
          237.372,
          435.727,
          303.74,
          244.66099999999997,
          318.949,
          344.094,
          261.51599999999996,
          182.21900000000002,
          258.03700000000003,
          278.36400000000003,
          525.432,
          311.11,
          null,
          182.63400000000001,
          259.967,
          298.245,
          336.717,
          331.43,
          382.474,
          202.812,
          218.637,
          272.509,
          341.86199999999997,
          405.126,
          419.14599999999996,
          405.994,
          268.024,
          329.94199999999995,
          232.347,
          224.644,
          227.34900000000002,
          243.81099999999998,
          238.33900000000003,
          181.013,
          191.375,
          431.38800000000003,
          241.21900000000002,
          325.721,
          365.769,
          280.775,
          270.113,
          333.436,
          242.648,
          280.995,
          280.033,
          318.991,
          217.28799999999998,
          213.333,
          200.38,
          234.49900000000002,
          307.846
         ],
         "y": [
          2.738,
          0.084,
          3.217,
          2.6310000000000002,
          1.276,
          12.63,
          4.208,
          15.294,
          2.736,
          13.954,
          8.05,
          64.75,
          59.716,
          31.971999999999998,
          50.784,
          0,
          1.6740000000000002,
          5.218999999999999,
          23.811999999999998,
          8.238999999999999,
          4.0360000000000005,
          31.862,
          16.768,
          59.16,
          9.41,
          16.213,
          23.866999999999997,
          14.004000000000001,
          20.13,
          6.247999999999999,
          6.172999999999999,
          0.608,
          33.981,
          7.8629999999999995,
          8.573,
          15.349,
          2.85,
          4.7780000000000005,
          0.772,
          18.427,
          15.409,
          8.65,
          5.852,
          4.199,
          68.443,
          68.094,
          0,
          4.627,
          3.261,
          5.077,
          0.35200000000000004,
          0.32799999999999996,
          209.463,
          14.632,
          10.092
         ]
        },
        {
         "marker": {
          "color": "rgba(128, 0, 128, 1.0)",
          "line": {
           "width": 1.3
          },
          "opacity": 0.8,
          "size": 12,
          "symbol": "circle"
         },
         "mode": "markers",
         "name": "Europe",
         "text": [
          "Albania",
          "Andorra",
          "Austria",
          "Belgium",
          "Bulgaria",
          "Bosnia and Herzegovina",
          "Belarus",
          "Switzerland",
          "Cyprus",
          "Czech Republic",
          "Germany",
          "Denmark",
          "Estonia",
          "Finland",
          "France",
          "Faeroe Islands",
          "United Kingdom",
          "Guernsey",
          "Gibraltar",
          "Greece",
          "Croatia",
          "Hungary",
          "Isle of Man",
          "Ireland",
          "Iceland",
          "Italy",
          "Jersey",
          "Liechtenstein",
          "Lithuania",
          "Luxembourg",
          "Latvia",
          "Monaco",
          "Moldova",
          "Macedonia",
          "Malta",
          "Montenegro",
          "Netherlands",
          "Norway",
          "Poland",
          "Portugal",
          "Romania",
          "San Marino",
          "Serbia",
          "Slovakia",
          "Slovenia",
          "Sweden",
          "Ukraine",
          "Vatican",
          "Kosovo"
         ],
         "textfont": {
          "color": "#4D5663"
         },
         "type": "scatter",
         "x": [
          304.195,
          109.135,
          145.183,
          114.898,
          424.68800000000005,
          329.635,
          443.129,
          99.73899999999999,
          141.171,
          227.485,
          156.139,
          114.76700000000001,
          255.56900000000002,
          153.507,
          86.06,
          null,
          122.137,
          null,
          null,
          175.695,
          253.782,
          278.296,
          null,
          126.459,
          117.992,
          113.15100000000001,
          null,
          null,
          342.98900000000003,
          128.275,
          350.06,
          null,
          408.50199999999995,
          322.688,
          168.71099999999998,
          387.305,
          109.361,
          114.316,
          227.331,
          127.84200000000001,
          370.94599999999997,
          null,
          439.415,
          287.959,
          153.493,
          133.982,
          539.849,
          null,
          null
         ],
         "y": [
          81.312,
          685.951,
          80.942,
          860.1669999999999,
          74.693,
          154.535,
          65.825,
          198.507,
          23.975,
          37.725,
          110.439,
          107.213,
          47.492,
          60.281000000000006,
          466.774,
          0,
          609.802,
          193.87900000000002,
          0,
          22.546,
          40.923,
          63.041000000000004,
          282.247,
          359.472,
          29.304000000000002,
          585.692,
          316.603,
          26.221,
          29.754,
          198.09099999999998,
          17.495,
          101.926,
          226.576,
          263.994,
          20.383,
          127.376,
          360.20099999999996,
          48.328,
          50.54600000000001,
          175.155,
          161.454,
          1237.5510000000002,
          100.52,
          6.044,
          60.126999999999995,
          574.497,
          49.023999999999994,
          0,
          201.783
         ]
        },
        {
         "marker": {
          "color": "rgba(219, 64, 82, 1.0)",
          "line": {
           "width": 1.3
          },
          "opacity": 0.8,
          "size": 12,
          "symbol": "circle"
         },
         "mode": "markers",
         "name": "South America",
         "text": [
          "Argentina",
          "Bolivia",
          "Brazil",
          "Chile",
          "Colombia",
          "Ecuador",
          "Falkland Islands",
          "Guyana",
          "Peru",
          "Paraguay",
          "Suriname",
          "Uruguay",
          "Venezuela"
         ],
         "textfont": {
          "color": "#4D5663"
         },
         "type": "scatter",
         "x": [
          191.032,
          204.299,
          177.96099999999998,
          127.993,
          124.24,
          140.44799999999998,
          null,
          373.159,
          85.755,
          199.128,
          258.314,
          160.708,
          204.85
         ],
         "y": [
          135.278,
          362.631,
          522.677,
          553.352,
          314.035,
          348.352,
          0,
          34.327,
          813.846,
          23.133000000000003,
          92.051,
          11.515,
          10.655999999999999
         ]
        },
        {
         "marker": {
          "color": "rgba(0, 128, 128, 1.0)",
          "line": {
           "width": 1.3
          },
          "opacity": 0.8,
          "size": 12,
          "symbol": "circle"
         },
         "mode": "markers",
         "name": "Oceania",
         "text": [
          "Australia",
          "Fiji",
          "Guam",
          "Northern Mariana Islands",
          "New Caledonia",
          "New Zealand",
          "Papua New Guinea",
          "French Polynesia"
         ],
         "textfont": {
          "color": "#4D5663"
         },
         "type": "scatter",
         "x": [
          107.791,
          412.82,
          310.496,
          194.99400000000003,
          null,
          128.797,
          561.494,
          null
         ],
         "y": [
          17.647000000000002,
          1.1159999999999999,
          29.624000000000002,
          34.748000000000005,
          0,
          4.562,
          0.335,
          0
         ]
        },
        {
         "marker": {
          "color": "rgba(255, 255, 51, 1.0)",
          "line": {
           "width": 1.3
          },
          "opacity": 0.8,
          "size": 12,
          "symbol": "circle"
         },
         "mode": "markers",
         "name": "Russia",
         "text": [
          "Russia"
         ],
         "textfont": {
          "color": "#4D5663"
         },
         "type": "scatter",
         "x": [
          431.29699999999997
         ],
         "y": [
          109.56299999999999
         ]
        },
        {
         "marker": {
          "color": "rgba(128, 128, 0, 1.0)",
          "line": {
           "width": 1.3
          },
          "opacity": 0.8,
          "size": 12,
          "symbol": "circle"
         },
         "mode": "markers",
         "name": "USA",
         "text": [
          "United States"
         ],
         "textfont": {
          "color": "#4D5663"
         },
         "type": "scatter",
         "x": [
          151.089
         ],
         "y": [
          523.189
         ]
        },
        {
         "marker": {
          "color": "rgba(251, 128, 114, 1.0)",
          "line": {
           "width": 1.3
          },
          "opacity": 0.8,
          "size": 12,
          "symbol": "circle"
         },
         "mode": "markers",
         "name": "nan",
         "text": [],
         "textfont": {
          "color": "#4D5663"
         },
         "type": "scatter",
         "x": [],
         "y": []
        }
       ],
       "layout": {
        "legend": {
         "bgcolor": "#F5F6F9",
         "font": {
          "color": "#4D5663"
         }
        },
        "paper_bgcolor": "#F5F6F9",
        "plot_bgcolor": "#F5F6F9",
        "shapes": [
         {
          "line": {
           "color": "#000000",
           "dash": "dash",
           "width": 1
          },
          "type": "line",
          "x0": 0,
          "x1": 1,
          "xref": "paper",
          "y0": 94.55678468899518,
          "y1": 94.55678468899518,
          "yref": "y"
         },
         {
          "line": {
           "color": "#000000",
           "dash": "dash",
           "width": 1
          },
          "type": "line",
          "x0": 256.8945729729729,
          "x1": 256.8945729729729,
          "xref": "x",
          "y0": 0,
          "y1": 1,
          "yref": "paper"
         }
        ],
        "title": "Death rate from cardiovascular disease vs. Total deaths per million <br> dashed lines: average of entire dataset",
        "titlefont": {
         "color": "#4D5663"
        },
        "xaxis": {
         "gridcolor": "#E1E5ED",
         "showgrid": true,
         "tickfont": {
          "color": "#4D5663"
         },
         "title": "Death rate from cardiovascular disease",
         "titlefont": {
          "color": "#4D5663"
         },
         "zerolinecolor": "#E1E5ED"
        },
        "yaxis": {
         "gridcolor": "#E1E5ED",
         "showgrid": true,
         "tickfont": {
          "color": "#4D5663"
         },
         "title": "Total deaths per million",
         "titlefont": {
          "color": "#4D5663"
         },
         "zerolinecolor": "#E1E5ED"
        }
       }
      },
      "text/html": [
       "<div>\n",
       "        \n",
       "        \n",
       "            <div id=\"84583ef7-9f33-42ad-87a5-6e0ffabeb954\" class=\"plotly-graph-div\" style=\"height:525px; width:100%;\"></div>\n",
       "            <script type=\"text/javascript\">\n",
       "                require([\"plotly\"], function(Plotly) {\n",
       "                    window.PLOTLYENV=window.PLOTLYENV || {};\n",
       "                    window.PLOTLYENV.BASE_URL='https://plot.ly';\n",
       "                    \n",
       "                if (document.getElementById(\"84583ef7-9f33-42ad-87a5-6e0ffabeb954\")) {\n",
       "                    Plotly.newPlot(\n",
       "                        '84583ef7-9f33-42ad-87a5-6e0ffabeb954',\n",
       "                        [{\"marker\": {\"color\": \"rgba(255, 153, 51, 1.0)\", \"line\": {\"width\": 1.3}, \"opacity\": 0.8, \"size\": 12, \"symbol\": \"circle\"}, \"mode\": \"markers\", \"name\": \"North America\", \"text\": [\"Aruba\", \"Anguilla\", \"Antigua and Barbuda\", \"Bonaire Sint Eustatius and Saba\", \"Bahamas\", \"Belize\", \"Bermuda\", \"Barbados\", \"Canada\", \"Costa Rica\", \"Cuba\", \"Curacao\", \"Cayman Islands\", \"Dominica\", \"Dominican Republic\", \"Grenada\", \"Greenland\", \"Guatemala\", \"Honduras\", \"Haiti\", \"Jamaica\", \"Saint Kitts and Nevis\", \"Saint Lucia\", \"Mexico\", \"Montserrat\", \"Nicaragua\", \"Panama\", \"Puerto Rico\", \"El Salvador\", \"Sint Maarten (Dutch part)\", \"Turks and Caicos Islands\", \"Trinidad and Tobago\", \"Saint Vincent and the Grenadines\", \"British Virgin Islands\", \"United States Virgin Islands\"], \"textfont\": {\"color\": \"#4D5663\"}, \"type\": \"scatter\", \"x\": [null, null, 191.511, null, 235.954, 176.957, 139.547, 170.05, 105.59899999999999, 137.97299999999998, 190.968, null, null, 227.37599999999998, 266.653, 243.96400000000003, 199.94099999999997, 155.898, 240.208, 430.548, 206.537, null, 204.62, 152.783, null, 137.016, 128.346, 108.094, 167.295, null, null, 228.467, 252.675, null, 273.67], \"y\": [46.831, 0.0, 30.635, 0.0, 55.943999999999996, 12.575, 144.525, 24.359, 239.75799999999998, 63.013999999999996, 7.769, 6.093999999999999, 15.216, 0.0, 138.368, 0.0, 0.0, 137.701, 162.349, 17.189, 4.728, 0.0, 0.0, 453.57800000000003, 200.04, 20.077, 423.42900000000003, 124.439, 98.671, 396.43699999999995, 51.656000000000006, 8.575, 0.0, 33.071999999999996, 86.18799999999999]}, {\"marker\": {\"color\": \"rgba(55, 128, 191, 1.0)\", \"line\": {\"width\": 1.3}, \"opacity\": 0.8, \"size\": 12, \"symbol\": \"circle\"}, \"mode\": \"markers\", \"name\": \"Asia\", \"text\": [\"Afghanistan\", \"United Arab Emirates\", \"Armenia\", \"Azerbaijan\", \"Bangladesh\", \"Bahrain\", \"Brunei\", \"Bhutan\", \"China\", \"Georgia\", \"Indonesia\", \"India\", \"Iran\", \"Iraq\", \"Israel\", \"Jordan\", \"Japan\", \"Kazakhstan\", \"Kyrgyzstan\", \"Cambodia\", \"South Korea\", \"Kuwait\", \"Laos\", \"Lebanon\", \"Sri Lanka\", \"Maldives\", \"Myanmar\", \"Mongolia\", \"Malaysia\", \"Nepal\", \"Oman\", \"Pakistan\", \"Philippines\", \"Palestine\", \"Qatar\", \"Saudi Arabia\", \"Singapore\", \"Syria\", \"Thailand\", \"Tajikistan\", \"Timor\", \"Turkey\", \"Taiwan\", \"Uzbekistan\", \"Vietnam\", \"Yemen\"], \"textfont\": {\"color\": \"#4D5663\"}, \"type\": \"scatter\", \"x\": [597.029, 317.84, 341.01, 559.812, 298.003, 151.689, 201.285, 217.06599999999997, 261.899, 496.218, 342.86400000000003, 282.28, 270.308, 218.612, 93.32, 208.257, 79.37, 466.792, 436.36199999999997, 270.892, 85.99799999999999, 132.235, 368.111, 266.591, 197.093, 164.905, 202.104, 460.043, 260.942, 260.797, 266.342, 423.031, 370.43699999999995, 265.91, 176.69, 259.538, 92.243, 376.264, 109.861, 427.69800000000004, 335.346, 171.285, 103.95700000000001, 724.4169999999999, 245.465, 495.00300000000004], \"y\": [35.527, 37.107, 281.112, 50.3, 22.958000000000002, 102.845, 6.857, 0.0, 3.27, 4.262, 23.201, 39.033, 237.782, 152.178, 90.0, 1.078, 9.045, 87.98100000000001, 229.607, 0.0, 5.9879999999999995, 118.72, 0.0, 15.97, 0.514, 44.4, 0.11, 0.0, 3.862, 4.119, 118.08200000000001, 28.109, 25.506, 24.895, 66.98899999999999, 100.70700000000001, 4.615, 4.457, 0.831, 6.815, 0.0, 71.604, 0.294, 7.47, 0.257, 18.072]}, {\"marker\": {\"color\": \"rgba(50, 171, 96, 1.0)\", \"line\": {\"width\": 1.3}, \"opacity\": 0.8, \"size\": 12, \"symbol\": \"circle\"}, \"mode\": \"markers\", \"name\": \"Africa\", \"text\": [\"Angola\", \"Burundi\", \"Benin\", \"Burkina Faso\", \"Botswana\", \"Central African Republic\", \"Cote d'Ivoire\", \"Cameroon\", \"Democratic Republic of Congo\", \"Congo\", \"Comoros\", \"Cape Verde\", \"Djibouti\", \"Algeria\", \"Egypt\", \"Eritrea\", \"Western Sahara\", \"Ethiopia\", \"Gabon\", \"Ghana\", \"Guinea\", \"Gambia\", \"Guinea-Bissau\", \"Equatorial Guinea\", \"Kenya\", \"Liberia\", \"Libya\", \"Lesotho\", \"Morocco\", \"Madagascar\", \"Mali\", \"Mozambique\", \"Mauritania\", \"Mauritius\", \"Malawi\", \"Namibia\", \"Niger\", \"Nigeria\", \"Rwanda\", \"Sudan\", \"Senegal\", \"Sierra Leone\", \"Somalia\", \"South Sudan\", \"Sao Tome and Principe\", \"Swaziland\", \"Seychelles\", \"Chad\", \"Togo\", \"Tunisia\", \"Tanzania\", \"Uganda\", \"South Africa\", \"Zambia\", \"Zimbabwe\"], \"textfont\": {\"color\": \"#4D5663\"}, \"type\": \"scatter\", \"x\": [276.045, 293.068, 235.84799999999998, 269.048, 237.372, 435.727, 303.74, 244.66099999999997, 318.949, 344.094, 261.51599999999996, 182.21900000000002, 258.03700000000003, 278.36400000000003, 525.432, 311.11, null, 182.63400000000001, 259.967, 298.245, 336.717, 331.43, 382.474, 202.812, 218.637, 272.509, 341.86199999999997, 405.126, 419.14599999999996, 405.994, 268.024, 329.94199999999995, 232.347, 224.644, 227.34900000000002, 243.81099999999998, 238.33900000000003, 181.013, 191.375, 431.38800000000003, 241.21900000000002, 325.721, 365.769, 280.775, 270.113, 333.436, 242.648, 280.995, 280.033, 318.991, 217.28799999999998, 213.333, 200.38, 234.49900000000002, 307.846], \"y\": [2.738, 0.084, 3.217, 2.6310000000000002, 1.276, 12.63, 4.208, 15.294, 2.736, 13.954, 8.05, 64.75, 59.716, 31.971999999999998, 50.784, 0.0, 1.6740000000000002, 5.218999999999999, 23.811999999999998, 8.238999999999999, 4.0360000000000005, 31.862, 16.768, 59.16, 9.41, 16.213, 23.866999999999997, 14.004000000000001, 20.13, 6.247999999999999, 6.172999999999999, 0.608, 33.981, 7.8629999999999995, 8.573, 15.349, 2.85, 4.7780000000000005, 0.772, 18.427, 15.409, 8.65, 5.852, 4.199, 68.443, 68.094, 0.0, 4.627, 3.261, 5.077, 0.35200000000000004, 0.32799999999999996, 209.463, 14.632, 10.092]}, {\"marker\": {\"color\": \"rgba(128, 0, 128, 1.0)\", \"line\": {\"width\": 1.3}, \"opacity\": 0.8, \"size\": 12, \"symbol\": \"circle\"}, \"mode\": \"markers\", \"name\": \"Europe\", \"text\": [\"Albania\", \"Andorra\", \"Austria\", \"Belgium\", \"Bulgaria\", \"Bosnia and Herzegovina\", \"Belarus\", \"Switzerland\", \"Cyprus\", \"Czech Republic\", \"Germany\", \"Denmark\", \"Estonia\", \"Finland\", \"France\", \"Faeroe Islands\", \"United Kingdom\", \"Guernsey\", \"Gibraltar\", \"Greece\", \"Croatia\", \"Hungary\", \"Isle of Man\", \"Ireland\", \"Iceland\", \"Italy\", \"Jersey\", \"Liechtenstein\", \"Lithuania\", \"Luxembourg\", \"Latvia\", \"Monaco\", \"Moldova\", \"Macedonia\", \"Malta\", \"Montenegro\", \"Netherlands\", \"Norway\", \"Poland\", \"Portugal\", \"Romania\", \"San Marino\", \"Serbia\", \"Slovakia\", \"Slovenia\", \"Sweden\", \"Ukraine\", \"Vatican\", \"Kosovo\"], \"textfont\": {\"color\": \"#4D5663\"}, \"type\": \"scatter\", \"x\": [304.195, 109.135, 145.183, 114.898, 424.68800000000005, 329.635, 443.129, 99.73899999999999, 141.171, 227.485, 156.139, 114.76700000000001, 255.56900000000002, 153.507, 86.06, null, 122.137, null, null, 175.695, 253.782, 278.296, null, 126.459, 117.992, 113.15100000000001, null, null, 342.98900000000003, 128.275, 350.06, null, 408.50199999999995, 322.688, 168.71099999999998, 387.305, 109.361, 114.316, 227.331, 127.84200000000001, 370.94599999999997, null, 439.415, 287.959, 153.493, 133.982, 539.849, null, null], \"y\": [81.312, 685.951, 80.942, 860.1669999999999, 74.693, 154.535, 65.825, 198.507, 23.975, 37.725, 110.439, 107.213, 47.492, 60.281000000000006, 466.774, 0.0, 609.802, 193.87900000000002, 0.0, 22.546, 40.923, 63.041000000000004, 282.247, 359.472, 29.304000000000002, 585.692, 316.603, 26.221, 29.754, 198.09099999999998, 17.495, 101.926, 226.576, 263.994, 20.383, 127.376, 360.20099999999996, 48.328, 50.54600000000001, 175.155, 161.454, 1237.5510000000002, 100.52, 6.044, 60.126999999999995, 574.497, 49.023999999999994, 0.0, 201.783]}, {\"marker\": {\"color\": \"rgba(219, 64, 82, 1.0)\", \"line\": {\"width\": 1.3}, \"opacity\": 0.8, \"size\": 12, \"symbol\": \"circle\"}, \"mode\": \"markers\", \"name\": \"South America\", \"text\": [\"Argentina\", \"Bolivia\", \"Brazil\", \"Chile\", \"Colombia\", \"Ecuador\", \"Falkland Islands\", \"Guyana\", \"Peru\", \"Paraguay\", \"Suriname\", \"Uruguay\", \"Venezuela\"], \"textfont\": {\"color\": \"#4D5663\"}, \"type\": \"scatter\", \"x\": [191.032, 204.299, 177.96099999999998, 127.993, 124.24, 140.44799999999998, null, 373.159, 85.755, 199.128, 258.314, 160.708, 204.85], \"y\": [135.278, 362.631, 522.677, 553.352, 314.035, 348.352, 0.0, 34.327, 813.846, 23.133000000000003, 92.051, 11.515, 10.655999999999999]}, {\"marker\": {\"color\": \"rgba(0, 128, 128, 1.0)\", \"line\": {\"width\": 1.3}, \"opacity\": 0.8, \"size\": 12, \"symbol\": \"circle\"}, \"mode\": \"markers\", \"name\": \"Oceania\", \"text\": [\"Australia\", \"Fiji\", \"Guam\", \"Northern Mariana Islands\", \"New Caledonia\", \"New Zealand\", \"Papua New Guinea\", \"French Polynesia\"], \"textfont\": {\"color\": \"#4D5663\"}, \"type\": \"scatter\", \"x\": [107.791, 412.82, 310.496, 194.99400000000003, null, 128.797, 561.494, null], \"y\": [17.647000000000002, 1.1159999999999999, 29.624000000000002, 34.748000000000005, 0.0, 4.562, 0.335, 0.0]}, {\"marker\": {\"color\": \"rgba(255, 255, 51, 1.0)\", \"line\": {\"width\": 1.3}, \"opacity\": 0.8, \"size\": 12, \"symbol\": \"circle\"}, \"mode\": \"markers\", \"name\": \"Russia\", \"text\": [\"Russia\"], \"textfont\": {\"color\": \"#4D5663\"}, \"type\": \"scatter\", \"x\": [431.29699999999997], \"y\": [109.56299999999999]}, {\"marker\": {\"color\": \"rgba(128, 128, 0, 1.0)\", \"line\": {\"width\": 1.3}, \"opacity\": 0.8, \"size\": 12, \"symbol\": \"circle\"}, \"mode\": \"markers\", \"name\": \"USA\", \"text\": [\"United States\"], \"textfont\": {\"color\": \"#4D5663\"}, \"type\": \"scatter\", \"x\": [151.089], \"y\": [523.189]}, {\"marker\": {\"color\": \"rgba(251, 128, 114, 1.0)\", \"line\": {\"width\": 1.3}, \"opacity\": 0.8, \"size\": 12, \"symbol\": \"circle\"}, \"mode\": \"markers\", \"name\": \"nan\", \"text\": [], \"textfont\": {\"color\": \"#4D5663\"}, \"type\": \"scatter\", \"x\": [], \"y\": []}],\n",
       "                        {\"legend\": {\"bgcolor\": \"#F5F6F9\", \"font\": {\"color\": \"#4D5663\"}}, \"paper_bgcolor\": \"#F5F6F9\", \"plot_bgcolor\": \"#F5F6F9\", \"shapes\": [{\"line\": {\"color\": \"#000000\", \"dash\": \"dash\", \"width\": 1}, \"type\": \"line\", \"x0\": 0, \"x1\": 1, \"xref\": \"paper\", \"y0\": 94.55678468899518, \"y1\": 94.55678468899518, \"yref\": \"y\"}, {\"line\": {\"color\": \"#000000\", \"dash\": \"dash\", \"width\": 1}, \"type\": \"line\", \"x0\": 256.8945729729729, \"x1\": 256.8945729729729, \"xref\": \"x\", \"y0\": 0, \"y1\": 1, \"yref\": \"paper\"}], \"title\": \"Death rate from cardiovascular disease vs. Total deaths per million <br> dashed lines: average of entire dataset\", \"titlefont\": {\"color\": \"#4D5663\"}, \"xaxis\": {\"gridcolor\": \"#E1E5ED\", \"showgrid\": true, \"tickfont\": {\"color\": \"#4D5663\"}, \"title\": \"Death rate from cardiovascular disease\", \"titlefont\": {\"color\": \"#4D5663\"}, \"zerolinecolor\": \"#E1E5ED\"}, \"yaxis\": {\"gridcolor\": \"#E1E5ED\", \"showgrid\": true, \"tickfont\": {\"color\": \"#4D5663\"}, \"title\": \"Total deaths per million\", \"titlefont\": {\"color\": \"#4D5663\"}, \"zerolinecolor\": \"#E1E5ED\"}},\n",
       "                        {\"showLink\": true, \"linkText\": \"Export to plot.ly\", \"plotlyServerURL\": \"https://plot.ly\", \"responsive\": true}\n",
       "                    ).then(function(){\n",
       "                            \n",
       "var gd = document.getElementById('84583ef7-9f33-42ad-87a5-6e0ffabeb954');\n",
       "var x = new MutationObserver(function (mutations, observer) {{\n",
       "        var display = window.getComputedStyle(gd).display;\n",
       "        if (!display || display === 'none') {{\n",
       "            console.log([gd, 'removed!']);\n",
       "            Plotly.purge(gd);\n",
       "            observer.disconnect();\n",
       "        }}\n",
       "}});\n",
       "\n",
       "// Listen for the removal of the full notebook cells\n",
       "var notebookContainer = gd.closest('#notebook-container');\n",
       "if (notebookContainer) {{\n",
       "    x.observe(notebookContainer, {childList: true});\n",
       "}}\n",
       "\n",
       "// Listen for the clearing of the current output cell\n",
       "var outputEl = gd.closest('.output');\n",
       "if (outputEl) {{\n",
       "    x.observe(outputEl, {childList: true});\n",
       "}}\n",
       "\n",
       "                        })\n",
       "                };\n",
       "                });\n",
       "            </script>\n",
       "        </div>"
      ]
     },
     "metadata": {},
     "output_type": "display_data"
    },
    {
     "name": "stdout",
     "output_type": "stream",
     "text": [
      "Recommendation: choose option to 'show closest data point on hover' in top right corner\n"
     ]
    }
   ],
   "source": [
    "with warnings.catch_warnings(): # to catch warning about np.module in Python 3.8.2.\n",
    "    warnings.filterwarnings(\"ignore\",category=FutureWarning)\n",
    "    survey.iplot(\n",
    "        x='cardiovasc_death_rate',\n",
    "        y='total_deaths_per_million',\n",
    "        categories='continent',\n",
    "        text=\"location\",\n",
    "        vline= {\"x\":survey[\"cardiovasc_death_rate\"].mean(),\n",
    "                \"color\":\"#000000\",\n",
    "                \"dash\": \"dash\"\n",
    "               },\n",
    "        hline={\"y\":survey[\"total_deaths_per_million\"].mean(),\n",
    "               \"color\":\"#000000\",\n",
    "               \"dash\": \"dash\"\n",
    "              },\n",
    "        xTitle='Death rate from cardiovascular disease',\n",
    "        yTitle='Total deaths per million',\n",
    "        title='Death rate from cardiovascular disease vs. Total deaths per million <br> dashed lines: average of entire dataset'\n",
    "    )\n",
    "print(\"Recommendation: choose option to 'show closest data point on hover' in top right corner\")"
   ]
  },
  {
   "cell_type": "markdown",
   "metadata": {},
   "source": [
    "Unexpectedly we can see that cardiovascular disease are negatively correlated with total deaths attributed to COVID-19 but one again it can be related with lack or low covid testing level."
   ]
  }
 ],
 "metadata": {
  "kernelspec": {
   "display_name": "Python 3",
   "language": "python",
   "name": "python3"
  },
  "language_info": {
   "codemirror_mode": {
    "name": "ipython",
    "version": 3
   },
   "file_extension": ".py",
   "mimetype": "text/x-python",
   "name": "python",
   "nbconvert_exporter": "python",
   "pygments_lexer": "ipython3",
   "version": "3.7.4"
  }
 },
 "nbformat": 4,
 "nbformat_minor": 2
}
